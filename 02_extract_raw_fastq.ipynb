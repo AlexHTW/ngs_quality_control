{
 "cells": [
  {
   "cell_type": "code",
   "execution_count": 1,
   "id": "324b7f9e",
   "metadata": {},
   "outputs": [],
   "source": [
    "import os\n",
    "import numpy as np\n",
    "import pyfastx\n",
    "import matplotlib.pyplot as plt\n",
    "import pandas as pd\n",
    "\n",
    "#https://biopython.org/docs/1.75/api/Bio.SeqIO.QualityIO.html\n",
    "#http://biopython.org/DIST/docs/tutorial/Tutorial.html#sec79\n",
    "# https://biopython.org/wiki/Split_large_file\n",
    "# https://pypi.org/project/pyfastx/\n",
    "# https://jakevdp.github.io/PythonDataScienceHandbook/01.07-timing-and-profiling.html\n",
    "\n",
    "\n",
    "#examples:\n",
    "# 69kB training_data/Sau/ugly/MS/180727-18-5425-18-01680_S8_L001_R1_001.fastq.gz\n",
    "# 52MB training_data/Sau/ugly/MS/200204_20-00746_19-03927_S9_L000_R2_001.fastq.gz\n",
    "# 250MB training_data/Sau/ugly/MS/200327_20-04029_20-00557_S26_L000_R2_001.fastq.gz\n",
    "# 1.5GB training_data/Sau/ugly/MS/181002-18-6992-776-18_S2_L001_R2_001.fastq.gz"
   ]
  },
  {
   "cell_type": "markdown",
   "id": "d2c83156",
   "metadata": {},
   "source": [
    "#### convert ascii quality with offset of 33 to phred score"
   ]
  },
  {
   "cell_type": "code",
   "execution_count": 2,
   "id": "1983fdc8",
   "metadata": {},
   "outputs": [],
   "source": [
    "def phred_score(quality):\n",
    "    return ord(quality)-33"
   ]
  },
  {
   "cell_type": "markdown",
   "id": "f53cffcd",
   "metadata": {},
   "source": [
    "#### extract quality means and base contents per position"
   ]
  },
  {
   "cell_type": "code",
   "execution_count": 3,
   "id": "a21b1e6a",
   "metadata": {},
   "outputs": [],
   "source": [
    "def extract_fastq_positions(path, max_len_estim=1000):\n",
    "    phred_sum = max_len_estim*[0] # sum all qualities per position, initialize with enough space for max_len\n",
    "    counts = max_len_estim*[0] # count occurences of each position\n",
    "    base_content = {'G': max_len_estim*[0], #count occurences of each base per position\n",
    "                    'C': max_len_estim*[0],\n",
    "                    'A': max_len_estim*[0], \n",
    "                    'T': max_len_estim*[0],\n",
    "                    'N': max_len_estim*[0]}\n",
    "    # fill lists with values from fastq file\n",
    "    for name, seq, qual in pyfastx.Fastq(path, build_index=False):\n",
    "        for i in range(len(seq)):\n",
    "            phred_sum[i] += phred_score(qual[i])\n",
    "            counts[i] += 1\n",
    "            base_content[seq[i]][i] += 1\n",
    "    \n",
    "    phred_sum = np.array(phred_sum)\n",
    "    counts = np.array(counts)\n",
    "    max_len = np.min(np.where(counts==0)) #find index of first 0 value as maximum length of sequences\n",
    "    phred_sum = phred_sum[0:max_len]\n",
    "    counts = counts[0:max_len]\n",
    "    means = phred_sum/counts\n",
    "    \n",
    "    # convert the lists in base_content to np.arrays to perform calculations\n",
    "    for key in base_content:\n",
    "        base_content[key] = np.array(base_content[key])\n",
    "    max_len = np.min(np.where(base_content['G']==0)) #find index of first 0 value as maximum length of sequences\n",
    "    for key in base_content:\n",
    "        base_content[key] = base_content[key][0:max_len] #remove unused positions\n",
    "    #sum all occurences to calculate percentages\n",
    "    sums = (base_content['G'] + base_content['C'] + base_content['T'] +\n",
    "            base_content['A'] + base_content['N'])\n",
    "    ncontent_total = base_content['N'].sum()/sums.sum()\n",
    "    for key in base_content:\n",
    "        base_content[key] = base_content[key]/sums\n",
    "    \n",
    "    return means, base_content, ncontent_total"
   ]
  },
  {
   "cell_type": "markdown",
   "id": "4f07dbae",
   "metadata": {},
   "source": [
    "#### import fastq files from directories and extract positional data"
   ]
  },
  {
   "cell_type": "code",
   "execution_count": 4,
   "id": "0bddc7bc",
   "metadata": {},
   "outputs": [],
   "source": [
    "#from datetime import datetime #remove\n",
    "\n",
    "def import_reads(rootdir):\n",
    "    filenames = []\n",
    "    all_phred_means = []\n",
    "    all_base_content = []\n",
    "    all_n_content = []\n",
    "    for root, dirs, files in os.walk(rootdir):\n",
    "        for name in files:\n",
    "            filepath = root + os.sep + name\n",
    "            if filepath.endswith(\".fastq.gz\"):\n",
    "                phred_means, base_content, n_content = extract_fastq_positions(filepath)\n",
    "                all_phred_means.append(phred_means)\n",
    "                all_base_content.append(base_content)\n",
    "                all_n_content.append(n_content)\n",
    "                filenames.append(name.replace(\".fastq.gz\", \"\"))\n",
    "                #print(\"finished \" + filepath + \" \" + str(datetime.now(tz=None)))\n",
    "    \n",
    "    fastq_positions = pd.DataFrame(all_base_content, columns=['G', 'C', 'A', 'T', 'N'])\n",
    "    fastq_positions['filename']= filenames\n",
    "    fastq_positions['phred_means'] = all_phred_means\n",
    "    fastq_positions['n_content'] = all_n_content\n",
    "    \n",
    "    return fastq_positions"
   ]
  },
  {
   "cell_type": "code",
   "execution_count": 5,
   "id": "9ac52770",
   "metadata": {},
   "outputs": [
    {
     "name": "stdout",
     "output_type": "stream",
     "text": [
      "0 finished training_data/Sau/ugly/MS/200327_20-04028_20-00328_S25_L000_R1_001.fastq.gz 2022-03-18 17:56:34.735101\n",
      "1 finished training_data/Sau/ugly/MS/200709_20-07968_20-00891_S21_L000_R1_001.fastq.gz 2022-03-18 17:57:03.841202\n",
      "2 finished training_data/Sau/ugly/MS/181002-18-6992-776-18_S2_L001_R2_001.fastq.gz 2022-03-18 18:05:30.328279\n",
      "3 finished training_data/Sau/ugly/MS/200327_20-04029_20-00557_S26_L000_R1_001.fastq.gz 2022-03-18 18:07:11.067387\n",
      "4 finished training_data/Sau/ugly/MS/200204_20-00744_19-03870_S7_L000_R2_001.fastq.gz 2022-03-18 18:07:47.029821\n",
      "5 finished training_data/Sau/ugly/MS/200709_20-07969_20-00894_S22_L000_R1_001.fastq.gz 2022-03-18 18:08:15.246733\n",
      "6 finished training_data/Sau/ugly/MS/200204_20-00746_19-03927_S9_L000_R2_001.fastq.gz 2022-03-18 18:08:31.547322\n",
      "7 finished training_data/Sau/ugly/MS/200204_20-00744_19-03870_S7_L000_R1_001.fastq.gz 2022-03-18 18:09:07.842854\n",
      "8 finished training_data/Sau/ugly/MS/200709_20-07969_20-00894_S22_L000_R2_001.fastq.gz 2022-03-18 18:09:36.068242\n",
      "9 finished training_data/Sau/ugly/MS/181002-18-6991-775-18_S1_L001_R2_001.fastq.gz 2022-03-18 18:17:47.606167\n",
      "10 finished training_data/Sau/ugly/MS/200327_20-04029_20-00557_S26_L000_R2_001.fastq.gz 2022-03-18 18:19:29.065013\n",
      "11 finished training_data/Sau/ugly/MS/200327_20-04028_20-00328_S25_L000_R2_001.fastq.gz 2022-03-18 18:21:21.297025\n",
      "12 finished training_data/Sau/ugly/MS/181002-18-6992-776-18_S2_L001_R1_001.fastq.gz 2022-03-18 18:29:06.898910\n",
      "13 finished training_data/Sau/ugly/MS/181002-18-6991-775-18_S1_L001_R1_001.fastq.gz 2022-03-18 18:37:08.340775\n",
      "14 finished training_data/Sau/ugly/MS/200204_20-00746_19-03927_S9_L000_R1_001.fastq.gz 2022-03-18 18:37:24.426552\n",
      "15 finished training_data/Sau/ugly/MS/200709_20-07968_20-00891_S21_L000_R2_001.fastq.gz 2022-03-18 18:37:51.284895\n",
      "16 finished training_data/Sau/ugly/MS/180727-18-5425-18-01680_S8_L001_R2_001.fastq.gz 2022-03-18 18:37:51.310635\n",
      "17 finished training_data/Sau/ugly/MS/180727-18-5425-18-01680_S8_L001_R1_001.fastq.gz 2022-03-18 18:37:51.335775\n",
      "18 finished training_data/Sau/ugly/HS/200429_20-04570_18-00012_S110_L000_R2_001.fastq.gz 2022-03-18 18:41:37.748978\n",
      "19 finished training_data/Sau/ugly/HS/200429_20-04570_18-00012_S110_L000_R1_001.fastq.gz 2022-03-18 18:45:24.407290\n",
      "20 finished training_data/Sau/ugly/HS/200429_20-04571_18-00266_S111_L000_R2_001.fastq.gz 2022-03-18 18:49:10.448946\n",
      "21 finished training_data/Sau/ugly/HS/200429_20-04569_14-01734_S109_L000_R1_001.fastq.gz 2022-03-18 18:52:59.787766\n",
      "22 finished training_data/Sau/ugly/HS/200429_20-04571_18-00266_S111_L000_R1_001.fastq.gz 2022-03-18 18:56:46.755590\n",
      "23 finished training_data/Sau/ugly/HS/200429_20-04569_14-01734_S109_L000_R2_001.fastq.gz 2022-03-18 19:00:36.341028\n",
      "24 finished training_data/Sau/good/MS/180731-18-5418-18-01582_S30_L001_R1_001.fastq.gz 2022-03-18 19:01:15.439104\n",
      "25 finished training_data/Sau/good/MS/19122019-1222519-01706-1_S17_L000_R2_001.fastq.gz 2022-03-18 19:02:00.018417\n",
      "26 finished training_data/Sau/good/MS/180731-18-5418-18-01582_S30_L001_R2_001.fastq.gz 2022-03-18 19:02:38.622131\n",
      "27 finished training_data/Sau/good/MS/19122019-1222619-01714_S18_L000_R1_001.fastq.gz 2022-03-18 19:03:48.745865\n",
      "28 finished training_data/Sau/good/MS/19122019-1221319-03752_S5_L000_R1_001.fastq.gz 2022-03-18 19:04:49.288707\n",
      "29 finished training_data/Sau/good/MS/19122019-1221319-03752_S5_L000_R2_001.fastq.gz 2022-03-18 19:05:49.855478\n",
      "30 finished training_data/Sau/good/MS/19122019-1221219-03747_S4_L000_R2_001.fastq.gz 2022-03-18 19:06:51.727813\n",
      "31 finished training_data/Sau/good/MS/191029_19-09875_19-02352_S13_L000_R1_001.fastq.gz 2022-03-18 19:07:33.423734\n",
      "32 finished training_data/Sau/good/MS/19122019-1221219-03747_S4_L000_R1_001.fastq.gz 2022-03-18 19:08:35.165747\n",
      "33 finished training_data/Sau/good/MS/191029_19-09875_19-02352_S13_L000_R2_001.fastq.gz 2022-03-18 19:09:17.231728\n",
      "34 finished training_data/Sau/good/MS/200608_20-06056_20-00940-2_S26_L000_R2_001.fastq.gz 2022-03-18 19:10:29.517103\n",
      "35 finished training_data/Sau/good/MS/180731-18-5425-18-01680_S32_L001_R2_001.fastq.gz 2022-03-18 19:11:46.915074\n",
      "36 finished training_data/Sau/good/MS/19122019-1221419-03765_S6_L000_R2_001.fastq.gz 2022-03-18 19:12:44.310160\n",
      "37 finished training_data/Sau/good/MS/19122019-1222419-01686_S16_L000_R1_001.fastq.gz 2022-03-18 19:13:33.594994\n",
      "38 finished training_data/Sau/good/MS/19122019-1222519-01706-1_S17_L000_R1_001.fastq.gz 2022-03-18 19:14:17.837399\n",
      "39 finished training_data/Sau/good/MS/200608_20-06056_20-00940-2_S26_L000_R1_001.fastq.gz 2022-03-18 19:15:29.730858\n",
      "40 finished training_data/Sau/good/MS/19122019-1221419-03765_S6_L000_R1_001.fastq.gz 2022-03-18 19:16:26.025183\n",
      "41 finished training_data/Sau/good/MS/180731-18-5425-18-01680_S32_L001_R1_001.fastq.gz 2022-03-18 19:17:42.932327\n",
      "42 finished training_data/Sau/good/MS/19122019-1222619-01714_S18_L000_R2_001.fastq.gz 2022-03-18 19:18:53.099857\n",
      "43 finished training_data/Sau/good/MS/19122019-1222419-01686_S16_L000_R2_001.fastq.gz 2022-03-18 19:19:42.468382\n",
      "44 finished training_data/Sau/good/NX/200707_20-07786_19-03247_S8_L000_R2_001.fastq.gz 2022-03-18 19:20:39.354773\n",
      "45 finished training_data/Sau/good/NX/200707_20-07781_19-03198_S3_L000_R1_001.fastq.gz 2022-03-18 19:22:13.217734\n",
      "46 finished training_data/Sau/good/NX/200707_20-07783_19-03213_S5_L000_R1_001.fastq.gz 2022-03-18 19:23:52.443859\n",
      "47 finished training_data/Sau/good/NX/200707_20-07784_19-03223_S6_L000_R2_001.fastq.gz 2022-03-18 19:25:20.932121\n",
      "48 finished training_data/Sau/good/NX/200707_20-07783_19-03213_S5_L000_R2_001.fastq.gz 2022-03-18 19:26:59.781730\n",
      "49 finished training_data/Sau/good/NX/200707_20-07788_19-03265_S10_L000_R1_001.fastq.gz 2022-03-18 19:28:40.426434\n",
      "50 finished training_data/Sau/good/NX/200707_20-07785_19-03235_S7_L000_R1_001.fastq.gz 2022-03-18 19:30:17.807815\n",
      "51 finished training_data/Sau/good/NX/200707_20-07780_19-03192_S2_L000_R2_001.fastq.gz 2022-03-18 19:31:53.687354\n",
      "52 finished training_data/Sau/good/NX/200707_20-07780_19-03192_S2_L000_R1_001.fastq.gz 2022-03-18 19:33:30.084880\n",
      "53 finished training_data/Sau/good/NX/200707_20-07782_19-03205_S4_L000_R1_001.fastq.gz 2022-03-18 19:35:10.514727\n",
      "54 finished training_data/Sau/good/NX/200707_20-07781_19-03198_S3_L000_R2_001.fastq.gz 2022-03-18 19:36:47.372793\n",
      "55 finished training_data/Sau/good/NX/200707_20-07779_19-03190_S1_L000_R1_001.fastq.gz 2022-03-18 19:38:24.649484\n",
      "56 finished training_data/Sau/good/NX/200707_20-07782_19-03205_S4_L000_R2_001.fastq.gz 2022-03-18 19:40:04.288885\n",
      "57 finished training_data/Sau/good/NX/200707_20-07784_19-03223_S6_L000_R1_001.fastq.gz 2022-03-18 19:41:35.360764\n",
      "58 finished training_data/Sau/good/NX/200707_20-07785_19-03235_S7_L000_R2_001.fastq.gz 2022-03-18 19:43:14.575489\n",
      "59 finished training_data/Sau/good/NX/200707_20-07788_19-03265_S10_L000_R2_001.fastq.gz 2022-03-18 19:44:56.466684\n",
      "60 finished training_data/Sau/good/NX/200707_20-07786_19-03247_S8_L000_R1_001.fastq.gz 2022-03-18 19:45:54.744540\n",
      "61 finished training_data/Sau/good/NX/200707_20-07787_19-03254_S9_L000_R2_001.fastq.gz 2022-03-18 19:47:41.600053\n",
      "62 finished training_data/Sau/good/NX/200707_20-07787_19-03254_S9_L000_R1_001.fastq.gz 2022-03-18 19:49:28.190194\n",
      "63 finished training_data/Sau/good/NX/200707_20-07779_19-03190_S1_L000_R2_001.fastq.gz 2022-03-18 19:51:05.531289\n",
      "64 finished training_data/Sau/good/HS/191113_19-10418_19-02943-2_S177_L000_R2_001.fastq.gz 2022-03-18 19:52:24.716132\n",
      "65 finished training_data/Sau/good/HS/191113_19-10418_19-02943-2_S177_L000_R1_001.fastq.gz 2022-03-18 19:53:43.020342\n",
      "66 finished training_data/Sau/good/HS/191113_19-10423_19-02659_S182_L000_R2_001.fastq.gz 2022-03-18 19:55:01.846479\n",
      "67 finished training_data/Sau/good/HS/191113_19-10423_19-02659_S182_L000_R1_001.fastq.gz 2022-03-18 19:56:20.299156\n",
      "68 finished training_data/Sau/good/HS/191113_19-10420_19-02944-2_S179_L000_R1_001.fastq.gz 2022-03-18 19:57:41.769990\n",
      "69 finished training_data/Sau/good/HS/191113_19-10419_19-02944-1_S178_L000_R2_001.fastq.gz 2022-03-18 19:58:46.162118\n",
      "70 finished training_data/Sau/good/HS/191113_19-10416_19-02942_S175_L000_R2_001.fastq.gz 2022-03-18 20:00:40.545877\n",
      "71 finished training_data/Sau/good/HS/191113_19-10420_19-02944-2_S179_L000_R2_001.fastq.gz 2022-03-18 20:02:02.592136\n"
     ]
    },
    {
     "name": "stdout",
     "output_type": "stream",
     "text": [
      "72 finished training_data/Sau/good/HS/191113_19-10416_19-02942_S175_L000_R1_001.fastq.gz 2022-03-18 20:03:57.755252\n",
      "73 finished training_data/Sau/good/HS/191113_19-10417_19-02943-1_S176_L000_R2_001.fastq.gz 2022-03-18 20:05:25.676859\n",
      "74 finished training_data/Sau/good/HS/191113_19-10419_19-02944-1_S178_L000_R1_001.fastq.gz 2022-03-18 20:06:30.697855\n",
      "75 finished training_data/Sau/good/HS/191113_19-10422_19-02946_S181_L000_R1_001.fastq.gz 2022-03-18 20:07:34.560688\n",
      "76 finished training_data/Sau/good/HS/191113_19-10422_19-02946_S181_L000_R2_001.fastq.gz 2022-03-18 20:08:38.787032\n",
      "77 finished training_data/Sau/good/HS/191113_19-10417_19-02943-1_S176_L000_R1_001.fastq.gz 2022-03-18 20:10:06.720761\n",
      "78 finished training_data/Ecoli/ugly/MS/190917-19-08343-NRZ-52602_S15_L001_R1_001.fastq.gz 2022-03-18 20:10:06.792300\n",
      "79 finished training_data/Ecoli/ugly/MS/190917-19-08343-NRZ-52602_S15_L001_R2_001.fastq.gz 2022-03-18 20:10:06.863227\n",
      "80 finished training_data/Ecoli/ugly/MS/190917-19-08319-NRZ-51013_S24_L001_R1_001.fastq.gz 2022-03-18 20:11:12.527534\n",
      "81 finished training_data/Ecoli/ugly/MS/190917-19-08315-NRZ-50698_S20_L001_R2_001.fastq.gz 2022-03-18 20:11:41.120338\n",
      "82 finished training_data/Ecoli/ugly/MS/190917-19-08305-NRZ-49821_S10_L001_R1_001.fastq.gz 2022-03-18 20:12:41.876686\n",
      "83 finished training_data/Ecoli/ugly/MS/190917-19-08319-NRZ-51013_S24_L001_R2_001.fastq.gz 2022-03-18 20:13:46.977890\n",
      "84 finished training_data/Ecoli/ugly/MS/190917-19-08305-NRZ-49821_S10_L001_R2_001.fastq.gz 2022-03-18 20:14:48.212999\n",
      "85 finished training_data/Ecoli/ugly/MS/190917-19-08335-NRZ-51847_S7_L001_R1_001.fastq.gz 2022-03-18 20:14:49.577013\n",
      "86 finished training_data/Ecoli/ugly/MS/190917-19-08315-NRZ-50698_S20_L001_R1_001.fastq.gz 2022-03-18 20:15:18.469305\n",
      "87 finished training_data/Ecoli/ugly/MS/190917-19-08335-NRZ-51847_S7_L001_R2_001.fastq.gz 2022-03-18 20:15:19.847611\n",
      "88 finished training_data/Ecoli/ugly/HS/200323_20-03976_NRZ-56864_S73_L000_R2_001.fastq.gz 2022-03-18 20:16:06.137611\n",
      "89 finished training_data/Ecoli/ugly/HS/200323_20-03976_NRZ-56864_S73_L000_R1_001.fastq.gz 2022-03-18 20:16:51.757999\n",
      "90 finished training_data/Ecoli/ugly/HS/200323_20-03948_NRZ-55702_S45_L000_R1_001.fastq.gz 2022-03-18 20:18:00.438519\n",
      "91 finished training_data/Ecoli/ugly/HS/200323_20-03962_NRZ-56387_S59_L000_R2_001.fastq.gz 2022-03-18 20:18:51.473422\n",
      "92 finished training_data/Ecoli/ugly/HS/200323_20-03962_NRZ-56387_S59_L000_R1_001.fastq.gz 2022-03-18 20:19:41.947835\n",
      "93 finished training_data/Ecoli/ugly/HS/200323_20-03948_NRZ-55702_S45_L000_R2_001.fastq.gz 2022-03-18 20:20:51.708406\n",
      "94 finished training_data/Ecoli/good/HS/190925_19-08244_634-17_S189_L000_R2_001.fastq.gz 2022-03-18 20:22:14.416978\n",
      "95 finished training_data/Ecoli/good/HS/190925_19-08244_634-17_S189_L000_R1_001.fastq.gz 2022-03-18 20:23:35.658340\n",
      "96 finished training_data/Efcm/ugly/MS/180525-18-3596-UW18716_S1_L001_R1_001.fastq.gz 2022-03-18 20:24:37.735788\n",
      "97 finished training_data/Efcm/ugly/MS/180525-18-3598-UW18720_S3_L001_R2_001.fastq.gz 2022-03-18 20:25:44.617316\n",
      "98 finished training_data/Efcm/ugly/MS/191203_19-10906_UW20549_S1_L000_R2_001.fastq.gz 2022-03-18 20:26:14.218942\n",
      "99 finished training_data/Efcm/ugly/MS/191025_19-09747_UW_12546_S21_L000_R2_001.fastq.gz 2022-03-18 20:26:15.184413\n",
      "100 finished training_data/Efcm/ugly/MS/180525-18-3598-UW18720_S3_L001_R1_001.fastq.gz 2022-03-18 20:27:21.688441\n",
      "101 finished training_data/Efcm/ugly/MS/200529_20-05916_UW21180_S28_L000_R2_001.fastq.gz 2022-03-18 20:27:43.646155\n",
      "102 finished training_data/Efcm/ugly/MS/191203_19-10907_UW20550_S2_L000_R1_001.fastq.gz 2022-03-18 20:28:16.782748\n",
      "103 finished training_data/Efcm/ugly/MS/180525-18-3597-UW18717_S2_L001_R1_001.fastq.gz 2022-03-18 20:29:26.124459\n",
      "104 finished training_data/Efcm/ugly/MS/200114_19-12442_UW20574_S29_L000_R1_001.fastq.gz 2022-03-18 20:29:45.417753\n",
      "105 finished training_data/Efcm/ugly/MS/180525-18-3596-UW18716_S1_L001_R2_001.fastq.gz 2022-03-18 20:30:47.616374\n",
      "106 finished training_data/Efcm/ugly/MS/200114_19-12442_UW20574_S29_L000_R2_001.fastq.gz 2022-03-18 20:31:07.199474\n",
      "107 finished training_data/Efcm/ugly/MS/191203_19-10906_UW20549_S1_L000_R1_001.fastq.gz 2022-03-18 20:31:36.969959\n",
      "108 finished training_data/Efcm/ugly/MS/200529_20-05916_UW21180_S28_L000_R1_001.fastq.gz 2022-03-18 20:31:59.040216\n",
      "109 finished training_data/Efcm/ugly/MS/180525-18-3597-UW18717_S2_L001_R2_001.fastq.gz 2022-03-18 20:33:09.283798\n",
      "110 finished training_data/Efcm/ugly/MS/191203_19-10907_UW20550_S2_L000_R2_001.fastq.gz 2022-03-18 20:33:42.905019\n",
      "111 finished training_data/Efcm/ugly/MS/191025_19-09747_UW_12546_S21_L000_R1_001.fastq.gz 2022-03-18 20:33:43.882194\n",
      "112 finished training_data/Efcm/ugly/NX/200713_20-07479_UW21049_S144_L000_R1_001.fastq.gz 2022-03-18 20:33:55.987389\n",
      "113 finished training_data/Efcm/ugly/NX/200226_20-01561_UW20709_S89_L000_R2_001.fastq.gz 2022-03-18 20:33:56.264327\n",
      "114 finished training_data/Efcm/ugly/NX/200713_20-07471_UW21041_S136_L000_R1_001.fastq.gz 2022-03-18 20:34:08.299426\n",
      "115 finished training_data/Efcm/ugly/NX/200226_20-01561_UW20709_S89_L000_R1_001.fastq.gz 2022-03-18 20:34:08.573681\n",
      "116 finished training_data/Efcm/ugly/NX/200713_20-07487_UW21057_S152_L000_R1_001.fastq.gz 2022-03-18 20:34:28.984260\n",
      "117 finished training_data/Efcm/ugly/NX/200713_20-07487_UW21057_S152_L000_R2_001.fastq.gz 2022-03-18 20:34:49.443660\n",
      "118 finished training_data/Efcm/ugly/NX/200713_20-07471_UW21041_S136_L000_R2_001.fastq.gz 2022-03-18 20:35:01.588070\n",
      "119 finished training_data/Efcm/ugly/NX/200713_20-07479_UW21049_S144_L000_R2_001.fastq.gz 2022-03-18 20:35:13.744281\n",
      "120 finished training_data/Efcm/ugly/HS/19101_19-09083_UW20384_S182_L000_R1_001.fastq.gz 2022-03-18 20:36:38.129324\n",
      "121 finished training_data/Efcm/ugly/HS/191016_19-09461_UW20417_S103_L002_R2_001.fastq.gz 2022-03-18 20:39:10.598272\n",
      "122 finished training_data/Efcm/ugly/HS/19101_19-09081_UW20382_S180_L000_R1_001.fastq.gz 2022-03-18 20:41:33.792579\n",
      "123 finished training_data/Efcm/ugly/HS/19101_19-09082_UW20383_S181_L000_R1_001.fastq.gz 2022-03-18 20:43:19.295953\n",
      "124 finished training_data/Efcm/ugly/HS/191016_19-09462_UW20426_S104_L002_R2_001.fastq.gz 2022-03-18 20:45:27.215364\n",
      "125 finished training_data/Efcm/ugly/HS/19101_19-09083_UW20384_S182_L000_R2_001.fastq.gz 2022-03-18 20:46:50.859296\n",
      "126 finished training_data/Efcm/ugly/HS/191016_19-09462_UW20426_S104_L002_R1_001.fastq.gz 2022-03-18 20:48:59.343603\n",
      "127 finished training_data/Efcm/ugly/HS/191016_19-09461_UW20417_S103_L002_R1_001.fastq.gz 2022-03-18 20:51:31.032014\n",
      "128 finished training_data/Efcm/ugly/HS/19101_19-09081_UW20382_S180_L000_R2_001.fastq.gz 2022-03-18 20:53:53.971144\n",
      "129 finished training_data/Efcm/ugly/HS/19101_19-09082_UW20383_S181_L000_R2_001.fastq.gz 2022-03-18 20:55:39.603225\n",
      "130 finished training_data/Efcm/good/MS/190318-19-01846-UW19617_S8_L001_R1_001.fastq.gz 2022-03-18 20:56:25.127417\n",
      "131 finished training_data/Efcm/good/MS/190315-19-01869-UW19731_S4_L001_R2_001.fastq.gz 2022-03-18 20:57:04.381519\n",
      "132 finished training_data/Efcm/good/MS/190318-19-01845-UW19616_S7_L001_R1_001.fastq.gz 2022-03-18 20:58:15.590357\n",
      "133 finished training_data/Efcm/good/MS/190315-19-01868-UW19730_S3_L001_R2_001.fastq.gz 2022-03-18 20:59:20.112300\n",
      "134 finished training_data/Efcm/good/MS/190318-19-01845-UW19616_S7_L001_R2_001.fastq.gz 2022-03-18 21:00:32.106516\n",
      "135 finished training_data/Efcm/good/MS/190318-19-01847-UW19618_S9_L001_R2_001.fastq.gz 2022-03-18 21:01:33.656821\n",
      "136 finished training_data/Efcm/good/MS/190315-19-01869-UW19731_S4_L001_R1_001.fastq.gz 2022-03-18 21:02:13.194689\n",
      "137 finished training_data/Efcm/good/MS/190315-19-01866-UW19725_S1_L001_R2_001.fastq.gz 2022-03-18 21:03:05.837216\n",
      "138 finished training_data/Efcm/good/MS/190318-19-01847-UW19618_S9_L001_R1_001.fastq.gz 2022-03-18 21:04:06.285841\n",
      "139 finished training_data/Efcm/good/MS/190315-19-01867-UW19729_S2_L001_R1_001.fastq.gz 2022-03-18 21:04:58.177038\n",
      "140 finished training_data/Efcm/good/MS/190318-19-01844-UW19607_S6_L001_R2_001.fastq.gz 2022-03-18 21:05:43.947602\n",
      "141 finished training_data/Efcm/good/MS/190315-19-01866-UW19725_S1_L001_R1_001.fastq.gz 2022-03-18 21:06:36.765193\n",
      "142 finished training_data/Efcm/good/MS/190315-19-01868-UW19730_S3_L001_R1_001.fastq.gz 2022-03-18 21:07:41.025791\n"
     ]
    },
    {
     "name": "stdout",
     "output_type": "stream",
     "text": [
      "143 finished training_data/Efcm/good/MS/190318-19-01844-UW19607_S6_L001_R1_001.fastq.gz 2022-03-18 21:08:26.291369\n",
      "144 finished training_data/Efcm/good/MS/190315-19-01867-UW19729_S2_L001_R2_001.fastq.gz 2022-03-18 21:09:17.809503\n",
      "145 finished training_data/Efcm/good/MS/190318-19-01846-UW19617_S8_L001_R2_001.fastq.gz 2022-03-18 21:10:03.536090\n",
      "146 finished training_data/Efcm/good/NX/200117_20-00173_UW20644_S52_L000_R1_001.fastq.gz 2022-03-18 21:12:05.278187\n",
      "147 finished training_data/Efcm/good/NX/200117_20-00170_UW20641_S49_L000_R1_001.fastq.gz 2022-03-18 21:13:48.440135\n",
      "148 finished training_data/Efcm/good/NX/200117_20-00169_UW20640_S48_L000_R1_001.fastq.gz 2022-03-18 21:14:44.279198\n",
      "149 finished training_data/Efcm/good/NX/200211_20-00763_20495_S43_L000_R1_001.fastq.gz 2022-03-18 21:16:41.103695\n",
      "150 finished training_data/Efcm/good/NX/200211_20-00762_20488_S42_L000_R1_001.fastq.gz 2022-03-18 21:18:25.579169\n",
      "151 finished training_data/Efcm/good/NX/200117_20-00172_UW20643_S51_L000_R1_001.fastq.gz 2022-03-18 21:20:18.836252\n",
      "152 finished training_data/Efcm/good/NX/200211_20-00761_20487_S41_L000_R2_001.fastq.gz 2022-03-18 21:21:36.128050\n",
      "153 finished training_data/Efcm/good/NX/200211_20-00761_20487_S41_L000_R1_001.fastq.gz 2022-03-18 21:22:53.456104\n",
      "154 finished training_data/Efcm/good/NX/191204_19-10736_UW20531_S10_L000_R2_001.fastq.gz 2022-03-18 21:24:16.689626\n",
      "155 finished training_data/Efcm/good/NX/200117_20-00171_UW20642_S50_L000_R2_001.fastq.gz 2022-03-18 21:26:10.749127\n",
      "156 finished training_data/Efcm/good/NX/191204_19-10735_UW20461_S9_L000_R2_001.fastq.gz 2022-03-18 21:27:35.858886\n",
      "157 finished training_data/Efcm/good/NX/200117_20-00172_UW20643_S51_L000_R2_001.fastq.gz 2022-03-18 21:29:28.965633\n",
      "158 finished training_data/Efcm/good/NX/200211_20-00760_20481_S40_L000_R2_001.fastq.gz 2022-03-18 21:30:52.211163\n",
      "159 finished training_data/Efcm/good/NX/200211_20-00759_20459_S39_L000_R1_001.fastq.gz 2022-03-18 21:32:07.818924\n",
      "160 finished training_data/Efcm/good/NX/191204_19-10736_UW20531_S10_L000_R1_001.fastq.gz 2022-03-18 21:33:30.938564\n",
      "161 finished training_data/Efcm/good/NX/200117_20-00171_UW20642_S50_L000_R1_001.fastq.gz 2022-03-18 21:35:25.003605\n",
      "162 finished training_data/Efcm/good/NX/200211_20-00763_20495_S43_L000_R2_001.fastq.gz 2022-03-18 21:37:21.335350\n",
      "163 finished training_data/Efcm/good/NX/200211_20-00759_20459_S39_L000_R2_001.fastq.gz 2022-03-18 21:38:37.016424\n",
      "164 finished training_data/Efcm/good/NX/191204_19-10734_UW20027_S8_L000_R1_001.fastq.gz 2022-03-18 21:39:53.176659\n",
      "165 finished training_data/Efcm/good/NX/200211_20-00762_20488_S42_L000_R2_001.fastq.gz 2022-03-18 21:41:37.858664\n",
      "166 finished training_data/Efcm/good/NX/200211_20-00760_20481_S40_L000_R1_001.fastq.gz 2022-03-18 21:43:00.774289\n",
      "167 finished training_data/Efcm/good/NX/191204_19-10735_UW20461_S9_L000_R1_001.fastq.gz 2022-03-18 21:44:26.240947\n",
      "168 finished training_data/Efcm/good/NX/191204_19-10734_UW20027_S8_L000_R2_001.fastq.gz 2022-03-18 21:45:42.470964\n",
      "169 finished training_data/Efcm/good/NX/200117_20-00169_UW20640_S48_L000_R2_001.fastq.gz 2022-03-18 21:46:38.333894\n",
      "170 finished training_data/Efcm/good/NX/200117_20-00173_UW20644_S52_L000_R2_001.fastq.gz 2022-03-18 21:48:39.525889\n",
      "171 finished training_data/Efcm/good/NX/200117_20-00170_UW20641_S49_L000_R2_001.fastq.gz 2022-03-18 21:50:21.430019\n",
      "172 finished training_data/Efcm/good/HS/191113_19-10152_20476_S134_L000_R2_001.fastq.gz 2022-03-18 21:51:51.034343\n",
      "173 finished training_data/Efcm/good/HS/191113_19-10149_20473_S131_L000_R2_001.fastq.gz 2022-03-18 21:54:23.874143\n",
      "174 finished training_data/Efcm/good/HS/191113_19-10150_20474_S132_L000_R2_001.fastq.gz 2022-03-18 21:56:23.114371\n",
      "175 finished training_data/Efcm/good/HS/191113_19-10151_20475_S133_L000_R1_001.fastq.gz 2022-03-18 21:57:47.322075\n",
      "176 finished training_data/Efcm/good/HS/191113_19-10153_20477_S135_L000_R2_001.fastq.gz 2022-03-18 21:58:36.350000\n",
      "177 finished training_data/Efcm/good/HS/191113_19-10151_20475_S133_L000_R2_001.fastq.gz 2022-03-18 22:00:00.550870\n",
      "178 finished training_data/Efcm/good/HS/191113_19-10150_20474_S132_L000_R1_001.fastq.gz 2022-03-18 22:01:59.672709\n",
      "179 finished training_data/Efcm/good/HS/191113_19-10152_20476_S134_L000_R1_001.fastq.gz 2022-03-18 22:03:29.139791\n",
      "180 finished training_data/Efcm/good/HS/191113_19-10154_20478_S136_L000_R1_001.fastq.gz 2022-03-18 22:05:31.163444\n",
      "181 finished training_data/Efcm/good/HS/191113_19-10149_20473_S131_L000_R1_001.fastq.gz 2022-03-18 22:08:03.602125\n",
      "182 finished training_data/Efcm/good/HS/191113_19-10154_20478_S136_L000_R2_001.fastq.gz 2022-03-18 22:10:06.271016\n",
      "183 finished training_data/Efcm/good/HS/191113_19-10153_20477_S135_L000_R1_001.fastq.gz 2022-03-18 22:10:55.175668\n"
     ]
    }
   ],
   "source": [
    "# runtime ~4hrs for 184 files\n",
    "position_data = import_reads('training_data')"
   ]
  },
  {
   "cell_type": "markdown",
   "id": "6b7d5172",
   "metadata": {},
   "source": [
    "#### export dataset"
   ]
  },
  {
   "cell_type": "code",
   "execution_count": 6,
   "id": "0fbccdaf",
   "metadata": {},
   "outputs": [],
   "source": [
    "position_data.to_json('exported_datasets/from_fastq_raw.json')"
   ]
  },
  {
   "cell_type": "markdown",
   "id": "b6fbf39d",
   "metadata": {},
   "source": [
    "#### Stuff for feature engineering, can be deleted after implemented in the other notebooks"
   ]
  },
  {
   "cell_type": "code",
   "execution_count": 50,
   "id": "1fb2148c",
   "metadata": {},
   "outputs": [],
   "source": [
    "def plot_acgt(index):\n",
    "    plt.plot(bases[index]['G'])\n",
    "    plt.plot(bases[index]['C'])\n",
    "    plt.plot(bases[index]['T'])\n",
    "    plt.plot(bases[index]['A'])"
   ]
  },
  {
   "cell_type": "code",
   "execution_count": 51,
   "id": "2a1d6bc2",
   "metadata": {},
   "outputs": [
    {
     "data": {
      "image/png": "[encoded data removed]",
      "text/plain": [
       "<Figure size 432x288 with 1 Axes>"
      ]
     },
     "metadata": {
      "needs_background": "light"
     },
     "output_type": "display_data"
    }
   ],
   "source": [
    "plot_acgt(183)"
   ]
  },
  {
   "cell_type": "code",
   "execution_count": 105,
   "id": "75ab70aa",
   "metadata": {},
   "outputs": [
    {
     "data": {
      "text/plain": [
       "[<matplotlib.lines.Line2D at 0x7f6d43ee2610>]"
      ]
     },
     "execution_count": 105,
     "metadata": {},
     "output_type": "execute_result"
    },
    {
     "data": {
      "image/png": "[encoded data removed]",
      "text/plain": [
       "<Figure size 432x288 with 1 Axes>"
      ]
     },
     "metadata": {
      "needs_background": "light"
     },
     "output_type": "display_data"
    }
   ],
   "source": [
    "plt.plot(fastq_raw['phred_means'][88])"
   ]
  },
  {
   "cell_type": "markdown",
   "id": "9d0f0535",
   "metadata": {},
   "source": [
    "G content differences"
   ]
  },
  {
   "cell_type": "code",
   "execution_count": 342,
   "id": "35649597",
   "metadata": {},
   "outputs": [],
   "source": [
    "g = np.ediff1d(fastq_raw['G'][1])\n",
    "c = np.ediff1d(fastq_raw['C'][1])\n",
    "t = np.ediff1d(fastq_raw['T'][1]) \n",
    "a = np.ediff1d(fastq_raw['A'][1])"
   ]
  },
  {
   "cell_type": "code",
   "execution_count": 343,
   "id": "b395d580",
   "metadata": {},
   "outputs": [],
   "source": [
    "g = np.absolute(g)\n",
    "c = np.absolute(c)\n",
    "t = np.absolute(t)\n",
    "a = np.absolute(a)"
   ]
  },
  {
   "cell_type": "code",
   "execution_count": 344,
   "id": "f1408c56",
   "metadata": {},
   "outputs": [
    {
     "data": {
      "text/plain": [
       "[<matplotlib.lines.Line2D at 0x7f6d40cc2df0>]"
      ]
     },
     "execution_count": 344,
     "metadata": {},
     "output_type": "execute_result"
    },
    {
     "data": {
      "image/png": "[encoded data removed]",
      "text/plain": [
       "<Figure size 432x288 with 1 Axes>"
      ]
     },
     "metadata": {
      "needs_background": "light"
     },
     "output_type": "display_data"
    }
   ],
   "source": [
    "sums = g+c+t+a\n",
    "plt.plot(sums)"
   ]
  },
  {
   "cell_type": "code",
   "execution_count": 345,
   "id": "b84faa98",
   "metadata": {},
   "outputs": [
    {
     "data": {
      "text/plain": [
       "0.08163089142334412"
      ]
     },
     "execution_count": 345,
     "metadata": {},
     "output_type": "execute_result"
    }
   ],
   "source": [
    "g.std() + c.std() + t.std() + a.std()"
   ]
  },
  {
   "cell_type": "code",
   "execution_count": 339,
   "id": "2a21c0be",
   "metadata": {},
   "outputs": [
    {
     "data": {
      "text/plain": [
       "0.08492146656329563"
      ]
     },
     "execution_count": 339,
     "metadata": {},
     "output_type": "execute_result"
    }
   ],
   "source": [
    "g.std() + c.std() + t.std() + a.std()"
   ]
  },
  {
   "cell_type": "code",
   "execution_count": 346,
   "id": "f830216c",
   "metadata": {},
   "outputs": [
    {
     "data": {
      "text/plain": [
       "0.06774930621425881"
      ]
     },
     "execution_count": 346,
     "metadata": {},
     "output_type": "execute_result"
    }
   ],
   "source": [
    "sums.std()"
   ]
  },
  {
   "cell_type": "code",
   "execution_count": 347,
   "id": "a14db740",
   "metadata": {},
   "outputs": [
    {
     "data": {
      "text/plain": [
       "0.023441879782546395"
      ]
     },
     "execution_count": 347,
     "metadata": {},
     "output_type": "execute_result"
    }
   ],
   "source": [
    "sums.mean()"
   ]
  },
  {
   "cell_type": "code",
   "execution_count": 358,
   "id": "65c898f1",
   "metadata": {},
   "outputs": [
    {
     "data": {
      "text/plain": [
       "38231"
      ]
     },
     "execution_count": 358,
     "metadata": {},
     "output_type": "execute_result"
    }
   ],
   "source": [
    "fastq_raw['n_count'][6].sum()"
   ]
  },
  {
   "cell_type": "markdown",
   "id": "5140d56a",
   "metadata": {},
   "source": [
    "Exploring Feature Engineering"
   ]
  },
  {
   "cell_type": "code",
   "execution_count": 260,
   "id": "25c026ac",
   "metadata": {},
   "outputs": [
    {
     "name": "stdout",
     "output_type": "stream",
     "text": [
      "20.49924379251646 2.677058836051526 0 1\n"
     ]
    },
    {
     "data": {
      "image/png": "[encoded data removed]",
      "text/plain": [
       "<Figure size 432x288 with 2 Axes>"
      ]
     },
     "metadata": {
      "needs_background": "light"
     },
     "output_type": "display_data"
    }
   ],
   "source": [
    "from scipy.stats import beta\n",
    "\n",
    "quality_means = quality_mean/40\n",
    "\n",
    "a, b, loc, scale  = beta.fit(quality_means, floc=0, fscale=1)#/38, floc=0, fscale=1)\n",
    "print(a, b, loc, scale)\n",
    "x = np.linspace(0, 1, 50)\n",
    "\n",
    "pdf = beta.pdf(x, a, b, loc, scale)\n",
    "\n",
    "fig, ax1 = plt.subplots()\n",
    "ax1.plot(x, pdf, \"r-\")#, x, y2, \"r--\", x, y3, \"g--\")\n",
    "ax2 = ax1.twinx()\n",
    "ax2.hist(quality_means, alpha=0.75, color='green', bins=40)\n",
    "fig.tight_layout()\n",
    "plt.show()"
   ]
  },
  {
   "cell_type": "code",
   "execution_count": 259,
   "id": "01d9b2b6",
   "metadata": {},
   "outputs": [
    {
     "name": "stdout",
     "output_type": "stream",
     "text": [
      "3.571349205422848 1.1457908124416498 0 1\n"
     ]
    },
    {
     "data": {
      "image/png": "[encoded data removed]",
      "text/plain": [
       "<Figure size 432x288 with 2 Axes>"
      ]
     },
     "metadata": {
      "needs_background": "light"
     },
     "output_type": "display_data"
    }
   ],
   "source": [
    "from scipy.stats import beta\n",
    "\n",
    "quality_means = quality_10_percentile/40\n",
    "\n",
    "a, b, loc, scale  = beta.fit(quality_means, floc=0, fscale=1)#/38, floc=0, fscale=1)\n",
    "print(a, b, loc, scale)\n",
    "x = np.linspace(0, 1, 50)\n",
    "\n",
    "pdf = beta.pdf(x, a, b, loc, scale)\n",
    "\n",
    "fig, ax1 = plt.subplots()\n",
    "ax1.plot(x, pdf, \"r-\")#, x, y2, \"r--\", x, y3, \"g--\")\n",
    "ax2 = ax1.twinx()\n",
    "ax2.hist(quality_means, alpha=0.75, color='green', bins=40)\n",
    "fig.tight_layout()\n",
    "plt.show()"
   ]
  }
 ],
 "metadata": {
  "kernelspec": {
   "display_name": "Python 3 (ipykernel)",
   "language": "python",
   "name": "python3"
  },
  "language_info": {
   "codemirror_mode": {
    "name": "ipython",
    "version": 3
   },
   "file_extension": ".py",
   "mimetype": "text/x-python",
   "name": "python",
   "nbconvert_exporter": "python",
   "pygments_lexer": "ipython3",
   "version": "3.9.7"
  }
 },
 "nbformat": 4,
 "nbformat_minor": 5
}

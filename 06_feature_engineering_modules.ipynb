{
 "cells": [
  {
   "cell_type": "markdown",
   "id": "7885d391",
   "metadata": {},
   "source": [
    "# Feature Engineering of Modules Data"
   ]
  },
  {
   "cell_type": "code",
   "execution_count": 1,
   "id": "77252783",
   "metadata": {},
   "outputs": [],
   "source": [
    "import numpy as np\n",
    "import pandas as pd"
   ]
  },
  {
   "cell_type": "code",
   "execution_count": 2,
   "id": "98066f5d",
   "metadata": {},
   "outputs": [],
   "source": [
    "ngs_reads = pd.read_json('exported_datasets/prepared_dataset.json')"
   ]
  },
  {
   "cell_type": "markdown",
   "id": "f797a26c",
   "metadata": {},
   "source": [
    "After exporting/importing to json, dataformat of columns including dataframes is lost, restore to dfs:"
   ]
  },
  {
   "cell_type": "code",
   "execution_count": 3,
   "id": "229729c1",
   "metadata": {
    "scrolled": true
   },
   "outputs": [
    {
     "name": "stdout",
     "output_type": "stream",
     "text": [
      "Per base sequence quality converted to DF\n",
      "Per tile sequence quality converted to DF\n",
      "Per sequence quality scores converted to DF\n",
      "Per base sequence content converted to DF\n",
      "Per sequence GC content converted to DF\n",
      "Per base N content converted to DF\n",
      "Sequence Length Distribution converted to DF\n",
      "Sequence Duplication Levels converted to DF\n",
      "Overrepresented sequences converted to DF\n",
      "Adapter Content converted to DF\n"
     ]
    }
   ],
   "source": [
    "for category in ngs_reads:\n",
    "    if type(ngs_reads[category][0]) is dict:\n",
    "        ngs_reads[category] = ngs_reads[category].apply(pd.DataFrame)\n",
    "        print(category, 'converted to DF')"
   ]
  },
  {
   "cell_type": "markdown",
   "id": "e892b6f0",
   "metadata": {},
   "source": [
    "#### Show example data"
   ]
  },
  {
   "cell_type": "code",
   "execution_count": 4,
   "id": "c5b7f63b",
   "metadata": {},
   "outputs": [
    {
     "data": {
      "text/html": [
       "<div>\n",
       "<style scoped>\n",
       "    .dataframe tbody tr th:only-of-type {\n",
       "        vertical-align: middle;\n",
       "    }\n",
       "\n",
       "    .dataframe tbody tr th {\n",
       "        vertical-align: top;\n",
       "    }\n",
       "\n",
       "    .dataframe thead th {\n",
       "        text-align: right;\n",
       "    }\n",
       "</style>\n",
       "<table border=\"1\" class=\"dataframe\">\n",
       "  <thead>\n",
       "    <tr style=\"text-align: right;\">\n",
       "      <th></th>\n",
       "      <th>Per base sequence quality</th>\n",
       "      <th>Per tile sequence quality</th>\n",
       "      <th>Per sequence quality scores</th>\n",
       "      <th>Per base sequence content</th>\n",
       "      <th>Per sequence GC content</th>\n",
       "      <th>Per base N content</th>\n",
       "      <th>Sequence Length Distribution</th>\n",
       "      <th>Sequence Duplication Levels</th>\n",
       "      <th>Overrepresented sequences</th>\n",
       "      <th>Adapter Content</th>\n",
       "      <th>...</th>\n",
       "      <th>module_1_status</th>\n",
       "      <th>module_2_status</th>\n",
       "      <th>module_3_status</th>\n",
       "      <th>module_4_status</th>\n",
       "      <th>module_5_status</th>\n",
       "      <th>module_6_status</th>\n",
       "      <th>module_7_status</th>\n",
       "      <th>module_8_status</th>\n",
       "      <th>module_9_status</th>\n",
       "      <th>module_10_status</th>\n",
       "    </tr>\n",
       "  </thead>\n",
       "  <tbody>\n",
       "    <tr>\n",
       "      <th>0</th>\n",
       "      <td>Base       Mean  Median  Lower Quartile...</td>\n",
       "      <td>Tile     Base      Mean\n",
       "0     1101      ...</td>\n",
       "      <td>Quality     Count\n",
       "0         2       3.0\n",
       "1 ...</td>\n",
       "      <td>Base          G          A          T  ...</td>\n",
       "      <td>GC Content  Count\n",
       "0             0   3.00\n",
       "...</td>\n",
       "      <td>Base   N-Count\n",
       "0         1  0.479607\n",
       "1 ...</td>\n",
       "      <td>Length    Count\n",
       "0     30-39   4192.0\n",
       "1   ...</td>\n",
       "      <td>Duplication Level  Percentage of deduplicat...</td>\n",
       "      <td>Empty DataFrame\n",
       "Columns: []\n",
       "Index: []</td>\n",
       "      <td>Position  Illumina Universal Adapter  Illum...</td>\n",
       "      <td>...</td>\n",
       "      <td>0</td>\n",
       "      <td>2</td>\n",
       "      <td>2</td>\n",
       "      <td>0</td>\n",
       "      <td>2</td>\n",
       "      <td>2</td>\n",
       "      <td>1</td>\n",
       "      <td>2</td>\n",
       "      <td>2</td>\n",
       "      <td>2</td>\n",
       "    </tr>\n",
       "    <tr>\n",
       "      <th>1</th>\n",
       "      <td>Base       Mean  Median  Lower Quartile...</td>\n",
       "      <td>Tile     Base      Mean\n",
       "0     1101      ...</td>\n",
       "      <td>Quality    Count\n",
       "0        13      2.0\n",
       "1   ...</td>\n",
       "      <td>Base          G          A          T  ...</td>\n",
       "      <td>GC Content  Count\n",
       "0             0    0.0\n",
       "...</td>\n",
       "      <td>Base   N-Count\n",
       "0         1  0.009071\n",
       "1 ...</td>\n",
       "      <td>Length    Count\n",
       "0     30-39    189.0\n",
       "1   ...</td>\n",
       "      <td>Duplication Level  Percentage of deduplicat...</td>\n",
       "      <td>Empty DataFrame\n",
       "Columns: []\n",
       "Index: []</td>\n",
       "      <td>Position  Illumina Universal Adapter  Illum...</td>\n",
       "      <td>...</td>\n",
       "      <td>2</td>\n",
       "      <td>1</td>\n",
       "      <td>2</td>\n",
       "      <td>0</td>\n",
       "      <td>2</td>\n",
       "      <td>2</td>\n",
       "      <td>1</td>\n",
       "      <td>2</td>\n",
       "      <td>2</td>\n",
       "      <td>2</td>\n",
       "    </tr>\n",
       "    <tr>\n",
       "      <th>2</th>\n",
       "      <td>Base       Mean  Median  Lower Quartile...</td>\n",
       "      <td>Tile     Base      Mean\n",
       "0     1101      ...</td>\n",
       "      <td>Quality      Count\n",
       "0         2     1668.0\n",
       "...</td>\n",
       "      <td>Base          G          A          T  ...</td>\n",
       "      <td>GC Content   Count\n",
       "0             0  1668....</td>\n",
       "      <td>Base   N-Count\n",
       "0         1  0.029292\n",
       "1 ...</td>\n",
       "      <td>Length      Count\n",
       "0     30-39     4566.0\n",
       "...</td>\n",
       "      <td>Duplication Level  Percentage of deduplicat...</td>\n",
       "      <td>Empty DataFrame\n",
       "Columns: []\n",
       "Index: []</td>\n",
       "      <td>Position  Illumina Universal Adapter  Illum...</td>\n",
       "      <td>...</td>\n",
       "      <td>0</td>\n",
       "      <td>1</td>\n",
       "      <td>2</td>\n",
       "      <td>0</td>\n",
       "      <td>1</td>\n",
       "      <td>2</td>\n",
       "      <td>1</td>\n",
       "      <td>1</td>\n",
       "      <td>2</td>\n",
       "      <td>2</td>\n",
       "    </tr>\n",
       "    <tr>\n",
       "      <th>3</th>\n",
       "      <td>Base       Mean  Median  Lower Quartile...</td>\n",
       "      <td>Tile     Base      Mean\n",
       "0     1101      ...</td>\n",
       "      <td>Quality      Count\n",
       "0        12        2.0\n",
       "...</td>\n",
       "      <td>Base          G          A          T  ...</td>\n",
       "      <td>GC Content  Count\n",
       "0             0    0.0\n",
       "...</td>\n",
       "      <td>Base  N-Count\n",
       "0         1      0.0\n",
       "1   ...</td>\n",
       "      <td>Length     Count\n",
       "0     30-39    8954.0\n",
       "1 ...</td>\n",
       "      <td>Duplication Level  Percentage of deduplicat...</td>\n",
       "      <td>Empty DataFrame\n",
       "Columns: []\n",
       "Index: []</td>\n",
       "      <td>Position  Illumina Universal Adapter  Illum...</td>\n",
       "      <td>...</td>\n",
       "      <td>2</td>\n",
       "      <td>2</td>\n",
       "      <td>2</td>\n",
       "      <td>0</td>\n",
       "      <td>2</td>\n",
       "      <td>2</td>\n",
       "      <td>1</td>\n",
       "      <td>1</td>\n",
       "      <td>2</td>\n",
       "      <td>2</td>\n",
       "    </tr>\n",
       "    <tr>\n",
       "      <th>4</th>\n",
       "      <td>Base       Mean  Median  Lower Quartile...</td>\n",
       "      <td>Tile     Base       Mean\n",
       "0     1102     ...</td>\n",
       "      <td>Quality  Count\n",
       "0        15    3.0\n",
       "1       ...</td>\n",
       "      <td>Base          G          A          T  ...</td>\n",
       "      <td>GC Content  Count\n",
       "0             0    0.0\n",
       "...</td>\n",
       "      <td>Base  N-Count\n",
       "0         1      0.0\n",
       "1   ...</td>\n",
       "      <td>Length  Count\n",
       "0     65-69    1.0\n",
       "1     70...</td>\n",
       "      <td>Duplication Level  Percentage of deduplicat...</td>\n",
       "      <td>...</td>\n",
       "      <td>Position  Illumina Universal Adapter  Illum...</td>\n",
       "      <td>...</td>\n",
       "      <td>0</td>\n",
       "      <td>0</td>\n",
       "      <td>2</td>\n",
       "      <td>0</td>\n",
       "      <td>0</td>\n",
       "      <td>2</td>\n",
       "      <td>1</td>\n",
       "      <td>2</td>\n",
       "      <td>1</td>\n",
       "      <td>2</td>\n",
       "    </tr>\n",
       "  </tbody>\n",
       "</table>\n",
       "<p>5 rows × 28 columns</p>\n",
       "</div>"
      ],
      "text/plain": [
       "                           Per base sequence quality  \\\n",
       "0         Base       Mean  Median  Lower Quartile...   \n",
       "1         Base       Mean  Median  Lower Quartile...   \n",
       "2         Base       Mean  Median  Lower Quartile...   \n",
       "3         Base       Mean  Median  Lower Quartile...   \n",
       "4         Base       Mean  Median  Lower Quartile...   \n",
       "\n",
       "                           Per tile sequence quality  \\\n",
       "0        Tile     Base      Mean\n",
       "0     1101      ...   \n",
       "1        Tile     Base      Mean\n",
       "0     1101      ...   \n",
       "2        Tile     Base      Mean\n",
       "0     1101      ...   \n",
       "3        Tile     Base      Mean\n",
       "0     1101      ...   \n",
       "4        Tile     Base       Mean\n",
       "0     1102     ...   \n",
       "\n",
       "                         Per sequence quality scores  \\\n",
       "0      Quality     Count\n",
       "0         2       3.0\n",
       "1 ...   \n",
       "1      Quality    Count\n",
       "0        13      2.0\n",
       "1   ...   \n",
       "2      Quality      Count\n",
       "0         2     1668.0\n",
       "...   \n",
       "3      Quality      Count\n",
       "0        12        2.0\n",
       "...   \n",
       "4      Quality  Count\n",
       "0        15    3.0\n",
       "1       ...   \n",
       "\n",
       "                           Per base sequence content  \\\n",
       "0         Base          G          A          T  ...   \n",
       "1         Base          G          A          T  ...   \n",
       "2         Base          G          A          T  ...   \n",
       "3         Base          G          A          T  ...   \n",
       "4         Base          G          A          T  ...   \n",
       "\n",
       "                             Per sequence GC content  \\\n",
       "0       GC Content  Count\n",
       "0             0   3.00\n",
       "...   \n",
       "1       GC Content  Count\n",
       "0             0    0.0\n",
       "...   \n",
       "2       GC Content   Count\n",
       "0             0  1668....   \n",
       "3       GC Content  Count\n",
       "0             0    0.0\n",
       "...   \n",
       "4       GC Content  Count\n",
       "0             0    0.0\n",
       "...   \n",
       "\n",
       "                                  Per base N content  \\\n",
       "0         Base   N-Count\n",
       "0         1  0.479607\n",
       "1 ...   \n",
       "1         Base   N-Count\n",
       "0         1  0.009071\n",
       "1 ...   \n",
       "2         Base   N-Count\n",
       "0         1  0.029292\n",
       "1 ...   \n",
       "3         Base  N-Count\n",
       "0         1      0.0\n",
       "1   ...   \n",
       "4         Base  N-Count\n",
       "0         1      0.0\n",
       "1   ...   \n",
       "\n",
       "                        Sequence Length Distribution  \\\n",
       "0       Length    Count\n",
       "0     30-39   4192.0\n",
       "1   ...   \n",
       "1       Length    Count\n",
       "0     30-39    189.0\n",
       "1   ...   \n",
       "2       Length      Count\n",
       "0     30-39     4566.0\n",
       "...   \n",
       "3       Length     Count\n",
       "0     30-39    8954.0\n",
       "1 ...   \n",
       "4       Length  Count\n",
       "0     65-69    1.0\n",
       "1     70...   \n",
       "\n",
       "                         Sequence Duplication Levels  \\\n",
       "0     Duplication Level  Percentage of deduplicat...   \n",
       "1     Duplication Level  Percentage of deduplicat...   \n",
       "2     Duplication Level  Percentage of deduplicat...   \n",
       "3     Duplication Level  Percentage of deduplicat...   \n",
       "4     Duplication Level  Percentage of deduplicat...   \n",
       "\n",
       "                           Overrepresented sequences  \\\n",
       "0              Empty DataFrame\n",
       "Columns: []\n",
       "Index: []   \n",
       "1              Empty DataFrame\n",
       "Columns: []\n",
       "Index: []   \n",
       "2              Empty DataFrame\n",
       "Columns: []\n",
       "Index: []   \n",
       "3              Empty DataFrame\n",
       "Columns: []\n",
       "Index: []   \n",
       "4                                                ...   \n",
       "\n",
       "                                     Adapter Content  ... module_1_status  \\\n",
       "0     Position  Illumina Universal Adapter  Illum...  ...               0   \n",
       "1     Position  Illumina Universal Adapter  Illum...  ...               2   \n",
       "2     Position  Illumina Universal Adapter  Illum...  ...               0   \n",
       "3     Position  Illumina Universal Adapter  Illum...  ...               2   \n",
       "4     Position  Illumina Universal Adapter  Illum...  ...               0   \n",
       "\n",
       "  module_2_status  module_3_status  module_4_status  module_5_status  \\\n",
       "0               2                2                0                2   \n",
       "1               1                2                0                2   \n",
       "2               1                2                0                1   \n",
       "3               2                2                0                2   \n",
       "4               0                2                0                0   \n",
       "\n",
       "   module_6_status  module_7_status  module_8_status  module_9_status  \\\n",
       "0                2                1                2                2   \n",
       "1                2                1                2                2   \n",
       "2                2                1                1                2   \n",
       "3                2                1                1                2   \n",
       "4                2                1                2                1   \n",
       "\n",
       "   module_10_status  \n",
       "0                 2  \n",
       "1                 2  \n",
       "2                 2  \n",
       "3                 2  \n",
       "4                 2  \n",
       "\n",
       "[5 rows x 28 columns]"
      ]
     },
     "execution_count": 4,
     "metadata": {},
     "output_type": "execute_result"
    }
   ],
   "source": [
    "ngs_reads.head()"
   ]
  },
  {
   "cell_type": "markdown",
   "id": "3a63ad5a",
   "metadata": {},
   "source": [
    "### Module 2 - Per tile sequence quality\n",
    "\n",
    "[Documentation:](https://www.bioinformatics.babraham.ac.uk/projects/fastqc/Help/3%20Analysis%20Modules/12%20Per%20Tile%20Sequence%20Quality.html)\n",
    ">  This graph will only appear in your analysis results if you're using an Illumina library which retains its original sequence identifiers. Encoded in these is the flowcell tile from which each read came. The graph allows you to look at the quality scores from each tile across all of your bases to see if there was a loss in quality associated with only one part of the flowcell.  \n",
    "The plot shows the deviation from the average quality for each tile. The colours are on a cold to hot scale, with cold colours being positions where the quality was at or above the average for that base in the run, and hotter colours indicate that a tile had worse qualities than other tiles for that base. In the example below you can see that certain tiles show consistently poor quality. A good plot should be blue all over.\n",
    "\n",
    "![Example Per tile sequence quality](https://www.bioinformatics.babraham.ac.uk/projects/fastqc/Help/3%20Analysis%20Modules/per_tile_quality.png)  "
   ]
  },
  {
   "cell_type": "markdown",
   "id": "6fea21c3",
   "metadata": {},
   "source": [
    "Distribution of means, average grouped by tiles - information loss of each base value."
   ]
  },
  {
   "cell_type": "markdown",
   "id": "679caba8",
   "metadata": {},
   "source": [
    "#### Extract features for module 2 based on averages grouped by tiles (with weighting)"
   ]
  },
  {
   "cell_type": "code",
   "execution_count": 5,
   "id": "630a1a6d",
   "metadata": {},
   "outputs": [
    {
     "data": {
      "text/html": [
       "<div>\n",
       "<style scoped>\n",
       "    .dataframe tbody tr th:only-of-type {\n",
       "        vertical-align: middle;\n",
       "    }\n",
       "\n",
       "    .dataframe tbody tr th {\n",
       "        vertical-align: top;\n",
       "    }\n",
       "\n",
       "    .dataframe thead th {\n",
       "        text-align: right;\n",
       "    }\n",
       "</style>\n",
       "<table border=\"1\" class=\"dataframe\">\n",
       "  <thead>\n",
       "    <tr style=\"text-align: right;\">\n",
       "      <th></th>\n",
       "      <th>Tile</th>\n",
       "      <th>Base</th>\n",
       "      <th>Mean</th>\n",
       "    </tr>\n",
       "  </thead>\n",
       "  <tbody>\n",
       "    <tr>\n",
       "      <th>0</th>\n",
       "      <td>1101</td>\n",
       "      <td>1</td>\n",
       "      <td>0.030195</td>\n",
       "    </tr>\n",
       "    <tr>\n",
       "      <th>1</th>\n",
       "      <td>1101</td>\n",
       "      <td>2</td>\n",
       "      <td>-0.063217</td>\n",
       "    </tr>\n",
       "    <tr>\n",
       "      <th>2</th>\n",
       "      <td>1101</td>\n",
       "      <td>3</td>\n",
       "      <td>-0.013447</td>\n",
       "    </tr>\n",
       "    <tr>\n",
       "      <th>3</th>\n",
       "      <td>1101</td>\n",
       "      <td>4</td>\n",
       "      <td>0.033154</td>\n",
       "    </tr>\n",
       "    <tr>\n",
       "      <th>4</th>\n",
       "      <td>1101</td>\n",
       "      <td>5</td>\n",
       "      <td>0.003146</td>\n",
       "    </tr>\n",
       "    <tr>\n",
       "      <th>...</th>\n",
       "      <td>...</td>\n",
       "      <td>...</td>\n",
       "      <td>...</td>\n",
       "    </tr>\n",
       "    <tr>\n",
       "      <th>2579</th>\n",
       "      <td>2119</td>\n",
       "      <td>280-284</td>\n",
       "      <td>-0.172432</td>\n",
       "    </tr>\n",
       "    <tr>\n",
       "      <th>2580</th>\n",
       "      <td>2119</td>\n",
       "      <td>285-289</td>\n",
       "      <td>-1.815671</td>\n",
       "    </tr>\n",
       "    <tr>\n",
       "      <th>2581</th>\n",
       "      <td>2119</td>\n",
       "      <td>290-294</td>\n",
       "      <td>0.908856</td>\n",
       "    </tr>\n",
       "    <tr>\n",
       "      <th>2582</th>\n",
       "      <td>2119</td>\n",
       "      <td>295-299</td>\n",
       "      <td>0.152131</td>\n",
       "    </tr>\n",
       "    <tr>\n",
       "      <th>2583</th>\n",
       "      <td>2119</td>\n",
       "      <td>300-301</td>\n",
       "      <td>1.562598</td>\n",
       "    </tr>\n",
       "  </tbody>\n",
       "</table>\n",
       "<p>2584 rows × 3 columns</p>\n",
       "</div>"
      ],
      "text/plain": [
       "      Tile     Base      Mean\n",
       "0     1101        1  0.030195\n",
       "1     1101        2 -0.063217\n",
       "2     1101        3 -0.013447\n",
       "3     1101        4  0.033154\n",
       "4     1101        5  0.003146\n",
       "...    ...      ...       ...\n",
       "2579  2119  280-284 -0.172432\n",
       "2580  2119  285-289 -1.815671\n",
       "2581  2119  290-294  0.908856\n",
       "2582  2119  295-299  0.152131\n",
       "2583  2119  300-301  1.562598\n",
       "\n",
       "[2584 rows x 3 columns]"
      ]
     },
     "execution_count": 5,
     "metadata": {},
     "output_type": "execute_result"
    }
   ],
   "source": [
    "# the bases for each tile are grouped inconsistently - the first 9 bases are always ungrouped,\n",
    "# the following bases are grouped in 5, the last bases are grouped until the end (<5)\n",
    "# example:\n",
    "ngs_reads['Per tile sequence quality'][0]\n",
    "# to calculate the correct mean, weights have to be added to enable calculating the weighted average per tile"
   ]
  },
  {
   "cell_type": "code",
   "execution_count": 6,
   "id": "6981e429",
   "metadata": {},
   "outputs": [],
   "source": [
    "def add_weights_tiles(row):\n",
    "    bases = [int(d) for d in str(row['Base']).split('-')]\n",
    "    if len(bases) == 1:\n",
    "        return 1\n",
    "    elif len(bases) == 2:\n",
    "        return bases[1]-bases[0]+1"
   ]
  },
  {
   "cell_type": "code",
   "execution_count": 7,
   "id": "08cc1fb9",
   "metadata": {},
   "outputs": [],
   "source": [
    "def means_per_tile(dataframe):\n",
    "    module_2 = dataframe['Per tile sequence quality'] #.copy() - if column weight shouldn't be added to original\n",
    "    module_2[\"weight\"] = module_2.apply(add_weights_tiles, axis=1)\n",
    "    weighted_avg = module_2.groupby('Tile').apply(lambda x: np.average(x['Mean'], weights=x['weight']))\n",
    "\n",
    "    std = np.std(weighted_avg)\n",
    "    sum_negatives = np.sum(weighted_avg[weighted_avg <0])\n",
    "    #sum_positives = np.sum(weighted_avg[weighted_avg >= 0])\n",
    "    #mean_negatives = np.mean((weighted_avg[weighted_avg < 0]), axis=0)\n",
    "    #mean_positives = np.mean((weighted_avg[weighted_avg >= 0]), axis=0)\n",
    "    #mean = np.mean(weighted_avg)\n",
    "    return std, sum_negatives, weighted_avg #, sum_positives, mean_negatives, mean_positives, std, mean\n",
    "\n",
    "    # tested features show very similar behaviour: std and neg/pos mean have the same characteristics\n",
    "    # sum_positive and sum_negative mirror each other, mean and sum of all always very close to 0 (why?)\n",
    "    # leaving sum_negatives in for now, any other characteristics?\n",
    "    # returning completed weighted averages for data exploration"
   ]
  },
  {
   "cell_type": "code",
   "execution_count": 8,
   "id": "778f1c13",
   "metadata": {},
   "outputs": [],
   "source": [
    "#ngs_reads[['module_2_std', 'module_2_sum_pos', 'module_2_mean_neg', 'module_2_mean_pos', 'module_2_std', 'module_2_mean'\n",
    "#          ]] = ngs_reads.apply(create_means_df, axis=1, result_type='expand')"
   ]
  },
  {
   "cell_type": "code",
   "execution_count": 9,
   "id": "41e8b341",
   "metadata": {},
   "outputs": [],
   "source": [
    "ngs_reads[['module_2_std', 'module_2_sum_neg', 'module_2_weighted_avgs'\n",
    "          ]] = ngs_reads.apply(means_per_tile, axis=1, result_type='expand')"
   ]
  },
  {
   "cell_type": "code",
   "execution_count": 10,
   "id": "b961f491",
   "metadata": {},
   "outputs": [
    {
     "data": {
      "text/plain": [
       "<AxesSubplot:>"
      ]
     },
     "execution_count": 10,
     "metadata": {},
     "output_type": "execute_result"
    },
    {
     "data": {
      "image/png": "[encoded data removed]",
      "text/plain": [
       "<Figure size 432x288 with 1 Axes>"
      ]
     },
     "metadata": {
      "needs_background": "light"
     },
     "output_type": "display_data"
    }
   ],
   "source": [
    "ngs_reads['module_2_std'].plot(kind='bar')"
   ]
  },
  {
   "cell_type": "code",
   "execution_count": 11,
   "id": "3283ebf0",
   "metadata": {},
   "outputs": [
    {
     "data": {
      "text/plain": [
       "<AxesSubplot:>"
      ]
     },
     "execution_count": 11,
     "metadata": {},
     "output_type": "execute_result"
    },
    {
     "data": {
      "image/png": "[encoded data removed]",
      "text/plain": [
       "<Figure size 432x288 with 1 Axes>"
      ]
     },
     "metadata": {
      "needs_background": "light"
     },
     "output_type": "display_data"
    }
   ],
   "source": [
    "ngs_reads['module_2_sum_neg'].plot(kind='bar')"
   ]
  },
  {
   "cell_type": "markdown",
   "id": "38ee23b6",
   "metadata": {},
   "source": [
    "#### Weighted averages examples"
   ]
  },
  {
   "cell_type": "code",
   "execution_count": 12,
   "id": "e428b449",
   "metadata": {},
   "outputs": [
    {
     "data": {
      "text/plain": [
       "<AxesSubplot:xlabel='Tile'>"
      ]
     },
     "execution_count": 12,
     "metadata": {},
     "output_type": "execute_result"
    },
    {
     "data": {
      "image/png": "[encoded data removed]",
      "text/plain": [
       "<Figure size 432x288 with 1 Axes>"
      ]
     },
     "metadata": {
      "needs_background": "light"
     },
     "output_type": "display_data"
    }
   ],
   "source": [
    "ngs_reads['module_2_weighted_avgs'][0].plot(kind='bar')"
   ]
  },
  {
   "cell_type": "code",
   "execution_count": 13,
   "id": "aea99b03",
   "metadata": {},
   "outputs": [
    {
     "data": {
      "text/plain": [
       "<AxesSubplot:xlabel='Tile'>"
      ]
     },
     "execution_count": 13,
     "metadata": {},
     "output_type": "execute_result"
    },
    {
     "data": {
      "image/png": "[encoded data removed]",
      "text/plain": [
       "<Figure size 432x288 with 1 Axes>"
      ]
     },
     "metadata": {
      "needs_background": "light"
     },
     "output_type": "display_data"
    }
   ],
   "source": [
    "ngs_reads['module_2_weighted_avgs'][4].plot(kind='bar')"
   ]
  },
  {
   "cell_type": "code",
   "execution_count": 14,
   "id": "a3a7a1c0",
   "metadata": {},
   "outputs": [
    {
     "data": {
      "text/plain": [
       "<AxesSubplot:ylabel='Frequency'>"
      ]
     },
     "execution_count": 14,
     "metadata": {},
     "output_type": "execute_result"
    },
    {
     "data": {
      "image/png": "[encoded data removed]",
      "text/plain": [
       "<Figure size 432x288 with 1 Axes>"
      ]
     },
     "metadata": {
      "needs_background": "light"
     },
     "output_type": "display_data"
    }
   ],
   "source": [
    "ngs_reads['module_2_weighted_avgs'][0].plot(kind='hist')"
   ]
  },
  {
   "cell_type": "code",
   "execution_count": 15,
   "id": "73a5c97d",
   "metadata": {},
   "outputs": [
    {
     "data": {
      "text/plain": [
       "<AxesSubplot:ylabel='Frequency'>"
      ]
     },
     "execution_count": 15,
     "metadata": {},
     "output_type": "execute_result"
    },
    {
     "data": {
      "image/png": "[encoded data removed]",
      "text/plain": [
       "<Figure size 432x288 with 1 Axes>"
      ]
     },
     "metadata": {
      "needs_background": "light"
     },
     "output_type": "display_data"
    }
   ],
   "source": [
    "ngs_reads['module_2_weighted_avgs'][4].plot(kind='hist')"
   ]
  },
  {
   "cell_type": "code",
   "execution_count": 16,
   "id": "9e45d4f7",
   "metadata": {},
   "outputs": [],
   "source": [
    "ngs_reads.drop(columns='module_2_weighted_avgs', inplace=True) #not a feature"
   ]
  }
 ],
 "metadata": {
  "kernelspec": {
   "display_name": "Python 3 (ipykernel)",
   "language": "python",
   "name": "python3"
  },
  "language_info": {
   "codemirror_mode": {
    "name": "ipython",
    "version": 3
   },
   "file_extension": ".py",
   "mimetype": "text/x-python",
   "name": "python",
   "nbconvert_exporter": "python",
   "pygments_lexer": "ipython3",
   "version": "3.9.7"
  }
 },
 "nbformat": 4,
 "nbformat_minor": 5
}

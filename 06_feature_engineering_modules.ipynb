{
 "cells": [
  {
   "cell_type": "markdown",
   "id": "7885d391",
   "metadata": {},
   "source": [
    "# Feature Engineering of Modules Data"
   ]
  },
  {
   "cell_type": "code",
   "execution_count": 1,
   "id": "77252783",
   "metadata": {},
   "outputs": [],
   "source": [
    "import numpy as np\n",
    "import pandas as pd"
   ]
  },
  {
   "cell_type": "code",
   "execution_count": 2,
   "id": "98066f5d",
   "metadata": {},
   "outputs": [],
   "source": [
    "ngs_reads = pd.read_json('exported_datasets/prepared_dataset.json')"
   ]
  },
  {
   "cell_type": "markdown",
   "id": "f797a26c",
   "metadata": {},
   "source": [
    "After exporting/importing to json, dataformat of columns including dataframes is lost, restore to dfs:"
   ]
  },
  {
   "cell_type": "code",
   "execution_count": 3,
   "id": "229729c1",
   "metadata": {
    "scrolled": true
   },
   "outputs": [
    {
     "name": "stdout",
     "output_type": "stream",
     "text": [
      "Per base sequence quality converted to DF\n",
      "Per tile sequence quality converted to DF\n",
      "Per sequence quality scores converted to DF\n",
      "Per base sequence content converted to DF\n",
      "Per sequence GC content converted to DF\n",
      "Per base N content converted to DF\n",
      "Sequence Length Distribution converted to DF\n",
      "Sequence Duplication Levels converted to DF\n",
      "Overrepresented sequences converted to DF\n",
      "Adapter Content converted to DF\n"
     ]
    }
   ],
   "source": [
    "for category in ngs_reads:\n",
    "    if type(ngs_reads[category][0]) is dict:\n",
    "        ngs_reads[category] = ngs_reads[category].apply(pd.DataFrame)\n",
    "        print(category, 'converted to DF')"
   ]
  },
  {
   "cell_type": "markdown",
   "id": "e892b6f0",
   "metadata": {},
   "source": [
    "#### Show example data"
   ]
  },
  {
   "cell_type": "code",
   "execution_count": 4,
   "id": "c5b7f63b",
   "metadata": {},
   "outputs": [
    {
     "data": {
      "text/html": [
       "<div>\n",
       "<style scoped>\n",
       "    .dataframe tbody tr th:only-of-type {\n",
       "        vertical-align: middle;\n",
       "    }\n",
       "\n",
       "    .dataframe tbody tr th {\n",
       "        vertical-align: top;\n",
       "    }\n",
       "\n",
       "    .dataframe thead th {\n",
       "        text-align: right;\n",
       "    }\n",
       "</style>\n",
       "<table border=\"1\" class=\"dataframe\">\n",
       "  <thead>\n",
       "    <tr style=\"text-align: right;\">\n",
       "      <th></th>\n",
       "      <th>Per base sequence quality</th>\n",
       "      <th>Per tile sequence quality</th>\n",
       "      <th>Per sequence quality scores</th>\n",
       "      <th>Per base sequence content</th>\n",
       "      <th>Per sequence GC content</th>\n",
       "      <th>Per base N content</th>\n",
       "      <th>Sequence Length Distribution</th>\n",
       "      <th>Sequence Duplication Levels</th>\n",
       "      <th>Overrepresented sequences</th>\n",
       "      <th>Adapter Content</th>\n",
       "      <th>...</th>\n",
       "      <th>module_1_status</th>\n",
       "      <th>module_2_status</th>\n",
       "      <th>module_3_status</th>\n",
       "      <th>module_4_status</th>\n",
       "      <th>module_5_status</th>\n",
       "      <th>module_6_status</th>\n",
       "      <th>module_7_status</th>\n",
       "      <th>module_8_status</th>\n",
       "      <th>module_9_status</th>\n",
       "      <th>module_10_status</th>\n",
       "    </tr>\n",
       "  </thead>\n",
       "  <tbody>\n",
       "    <tr>\n",
       "      <th>0</th>\n",
       "      <td>Base       Mean  Median  Lower Quartile...</td>\n",
       "      <td>Tile     Base      Mean\n",
       "0     1101      ...</td>\n",
       "      <td>Quality     Count\n",
       "0         2       3.0\n",
       "1 ...</td>\n",
       "      <td>Base          G          A          T  ...</td>\n",
       "      <td>GC Content  Count\n",
       "0             0   3.00\n",
       "...</td>\n",
       "      <td>Base   N-Count\n",
       "0         1  0.479607\n",
       "1 ...</td>\n",
       "      <td>Length    Count\n",
       "0     30-39   4192.0\n",
       "1   ...</td>\n",
       "      <td>Duplication Level  Percentage of deduplicat...</td>\n",
       "      <td>Empty DataFrame\n",
       "Columns: []\n",
       "Index: []</td>\n",
       "      <td>Position  Illumina Universal Adapter  Illum...</td>\n",
       "      <td>...</td>\n",
       "      <td>0</td>\n",
       "      <td>2</td>\n",
       "      <td>2</td>\n",
       "      <td>0</td>\n",
       "      <td>2</td>\n",
       "      <td>2</td>\n",
       "      <td>1</td>\n",
       "      <td>2</td>\n",
       "      <td>2</td>\n",
       "      <td>2</td>\n",
       "    </tr>\n",
       "    <tr>\n",
       "      <th>1</th>\n",
       "      <td>Base       Mean  Median  Lower Quartile...</td>\n",
       "      <td>Tile     Base      Mean\n",
       "0     1101      ...</td>\n",
       "      <td>Quality    Count\n",
       "0        13      2.0\n",
       "1   ...</td>\n",
       "      <td>Base          G          A          T  ...</td>\n",
       "      <td>GC Content  Count\n",
       "0             0    0.0\n",
       "...</td>\n",
       "      <td>Base   N-Count\n",
       "0         1  0.009071\n",
       "1 ...</td>\n",
       "      <td>Length    Count\n",
       "0     30-39    189.0\n",
       "1   ...</td>\n",
       "      <td>Duplication Level  Percentage of deduplicat...</td>\n",
       "      <td>Empty DataFrame\n",
       "Columns: []\n",
       "Index: []</td>\n",
       "      <td>Position  Illumina Universal Adapter  Illum...</td>\n",
       "      <td>...</td>\n",
       "      <td>2</td>\n",
       "      <td>1</td>\n",
       "      <td>2</td>\n",
       "      <td>0</td>\n",
       "      <td>2</td>\n",
       "      <td>2</td>\n",
       "      <td>1</td>\n",
       "      <td>2</td>\n",
       "      <td>2</td>\n",
       "      <td>2</td>\n",
       "    </tr>\n",
       "    <tr>\n",
       "      <th>2</th>\n",
       "      <td>Base       Mean  Median  Lower Quartile...</td>\n",
       "      <td>Tile     Base      Mean\n",
       "0     1101      ...</td>\n",
       "      <td>Quality      Count\n",
       "0         2     1668.0\n",
       "...</td>\n",
       "      <td>Base          G          A          T  ...</td>\n",
       "      <td>GC Content   Count\n",
       "0             0  1668....</td>\n",
       "      <td>Base   N-Count\n",
       "0         1  0.029292\n",
       "1 ...</td>\n",
       "      <td>Length      Count\n",
       "0     30-39     4566.0\n",
       "...</td>\n",
       "      <td>Duplication Level  Percentage of deduplicat...</td>\n",
       "      <td>Empty DataFrame\n",
       "Columns: []\n",
       "Index: []</td>\n",
       "      <td>Position  Illumina Universal Adapter  Illum...</td>\n",
       "      <td>...</td>\n",
       "      <td>0</td>\n",
       "      <td>1</td>\n",
       "      <td>2</td>\n",
       "      <td>0</td>\n",
       "      <td>1</td>\n",
       "      <td>2</td>\n",
       "      <td>1</td>\n",
       "      <td>1</td>\n",
       "      <td>2</td>\n",
       "      <td>2</td>\n",
       "    </tr>\n",
       "    <tr>\n",
       "      <th>3</th>\n",
       "      <td>Base       Mean  Median  Lower Quartile...</td>\n",
       "      <td>Tile     Base      Mean\n",
       "0     1101      ...</td>\n",
       "      <td>Quality      Count\n",
       "0        12        2.0\n",
       "...</td>\n",
       "      <td>Base          G          A          T  ...</td>\n",
       "      <td>GC Content  Count\n",
       "0             0    0.0\n",
       "...</td>\n",
       "      <td>Base  N-Count\n",
       "0         1      0.0\n",
       "1   ...</td>\n",
       "      <td>Length     Count\n",
       "0     30-39    8954.0\n",
       "1 ...</td>\n",
       "      <td>Duplication Level  Percentage of deduplicat...</td>\n",
       "      <td>Empty DataFrame\n",
       "Columns: []\n",
       "Index: []</td>\n",
       "      <td>Position  Illumina Universal Adapter  Illum...</td>\n",
       "      <td>...</td>\n",
       "      <td>2</td>\n",
       "      <td>2</td>\n",
       "      <td>2</td>\n",
       "      <td>0</td>\n",
       "      <td>2</td>\n",
       "      <td>2</td>\n",
       "      <td>1</td>\n",
       "      <td>1</td>\n",
       "      <td>2</td>\n",
       "      <td>2</td>\n",
       "    </tr>\n",
       "    <tr>\n",
       "      <th>4</th>\n",
       "      <td>Base       Mean  Median  Lower Quartile...</td>\n",
       "      <td>Tile     Base       Mean\n",
       "0     1102     ...</td>\n",
       "      <td>Quality  Count\n",
       "0        15    3.0\n",
       "1       ...</td>\n",
       "      <td>Base          G          A          T  ...</td>\n",
       "      <td>GC Content  Count\n",
       "0             0    0.0\n",
       "...</td>\n",
       "      <td>Base  N-Count\n",
       "0         1      0.0\n",
       "1   ...</td>\n",
       "      <td>Length  Count\n",
       "0     65-69    1.0\n",
       "1     70...</td>\n",
       "      <td>Duplication Level  Percentage of deduplicat...</td>\n",
       "      <td>...</td>\n",
       "      <td>Position  Illumina Universal Adapter  Illum...</td>\n",
       "      <td>...</td>\n",
       "      <td>0</td>\n",
       "      <td>0</td>\n",
       "      <td>2</td>\n",
       "      <td>0</td>\n",
       "      <td>0</td>\n",
       "      <td>2</td>\n",
       "      <td>1</td>\n",
       "      <td>2</td>\n",
       "      <td>1</td>\n",
       "      <td>2</td>\n",
       "    </tr>\n",
       "  </tbody>\n",
       "</table>\n",
       "<p>5 rows × 28 columns</p>\n",
       "</div>"
      ],
      "text/plain": [
       "                           Per base sequence quality  \\\n",
       "0         Base       Mean  Median  Lower Quartile...   \n",
       "1         Base       Mean  Median  Lower Quartile...   \n",
       "2         Base       Mean  Median  Lower Quartile...   \n",
       "3         Base       Mean  Median  Lower Quartile...   \n",
       "4         Base       Mean  Median  Lower Quartile...   \n",
       "\n",
       "                           Per tile sequence quality  \\\n",
       "0        Tile     Base      Mean\n",
       "0     1101      ...   \n",
       "1        Tile     Base      Mean\n",
       "0     1101      ...   \n",
       "2        Tile     Base      Mean\n",
       "0     1101      ...   \n",
       "3        Tile     Base      Mean\n",
       "0     1101      ...   \n",
       "4        Tile     Base       Mean\n",
       "0     1102     ...   \n",
       "\n",
       "                         Per sequence quality scores  \\\n",
       "0      Quality     Count\n",
       "0         2       3.0\n",
       "1 ...   \n",
       "1      Quality    Count\n",
       "0        13      2.0\n",
       "1   ...   \n",
       "2      Quality      Count\n",
       "0         2     1668.0\n",
       "...   \n",
       "3      Quality      Count\n",
       "0        12        2.0\n",
       "...   \n",
       "4      Quality  Count\n",
       "0        15    3.0\n",
       "1       ...   \n",
       "\n",
       "                           Per base sequence content  \\\n",
       "0         Base          G          A          T  ...   \n",
       "1         Base          G          A          T  ...   \n",
       "2         Base          G          A          T  ...   \n",
       "3         Base          G          A          T  ...   \n",
       "4         Base          G          A          T  ...   \n",
       "\n",
       "                             Per sequence GC content  \\\n",
       "0       GC Content  Count\n",
       "0             0   3.00\n",
       "...   \n",
       "1       GC Content  Count\n",
       "0             0    0.0\n",
       "...   \n",
       "2       GC Content   Count\n",
       "0             0  1668....   \n",
       "3       GC Content  Count\n",
       "0             0    0.0\n",
       "...   \n",
       "4       GC Content  Count\n",
       "0             0    0.0\n",
       "...   \n",
       "\n",
       "                                  Per base N content  \\\n",
       "0         Base   N-Count\n",
       "0         1  0.479607\n",
       "1 ...   \n",
       "1         Base   N-Count\n",
       "0         1  0.009071\n",
       "1 ...   \n",
       "2         Base   N-Count\n",
       "0         1  0.029292\n",
       "1 ...   \n",
       "3         Base  N-Count\n",
       "0         1      0.0\n",
       "1   ...   \n",
       "4         Base  N-Count\n",
       "0         1      0.0\n",
       "1   ...   \n",
       "\n",
       "                        Sequence Length Distribution  \\\n",
       "0       Length    Count\n",
       "0     30-39   4192.0\n",
       "1   ...   \n",
       "1       Length    Count\n",
       "0     30-39    189.0\n",
       "1   ...   \n",
       "2       Length      Count\n",
       "0     30-39     4566.0\n",
       "...   \n",
       "3       Length     Count\n",
       "0     30-39    8954.0\n",
       "1 ...   \n",
       "4       Length  Count\n",
       "0     65-69    1.0\n",
       "1     70...   \n",
       "\n",
       "                         Sequence Duplication Levels  \\\n",
       "0     Duplication Level  Percentage of deduplicat...   \n",
       "1     Duplication Level  Percentage of deduplicat...   \n",
       "2     Duplication Level  Percentage of deduplicat...   \n",
       "3     Duplication Level  Percentage of deduplicat...   \n",
       "4     Duplication Level  Percentage of deduplicat...   \n",
       "\n",
       "                           Overrepresented sequences  \\\n",
       "0              Empty DataFrame\n",
       "Columns: []\n",
       "Index: []   \n",
       "1              Empty DataFrame\n",
       "Columns: []\n",
       "Index: []   \n",
       "2              Empty DataFrame\n",
       "Columns: []\n",
       "Index: []   \n",
       "3              Empty DataFrame\n",
       "Columns: []\n",
       "Index: []   \n",
       "4                                                ...   \n",
       "\n",
       "                                     Adapter Content  ... module_1_status  \\\n",
       "0     Position  Illumina Universal Adapter  Illum...  ...               0   \n",
       "1     Position  Illumina Universal Adapter  Illum...  ...               2   \n",
       "2     Position  Illumina Universal Adapter  Illum...  ...               0   \n",
       "3     Position  Illumina Universal Adapter  Illum...  ...               2   \n",
       "4     Position  Illumina Universal Adapter  Illum...  ...               0   \n",
       "\n",
       "  module_2_status  module_3_status  module_4_status  module_5_status  \\\n",
       "0               2                2                0                2   \n",
       "1               1                2                0                2   \n",
       "2               1                2                0                1   \n",
       "3               2                2                0                2   \n",
       "4               0                2                0                0   \n",
       "\n",
       "   module_6_status  module_7_status  module_8_status  module_9_status  \\\n",
       "0                2                1                2                2   \n",
       "1                2                1                2                2   \n",
       "2                2                1                1                2   \n",
       "3                2                1                1                2   \n",
       "4                2                1                2                1   \n",
       "\n",
       "   module_10_status  \n",
       "0                 2  \n",
       "1                 2  \n",
       "2                 2  \n",
       "3                 2  \n",
       "4                 2  \n",
       "\n",
       "[5 rows x 28 columns]"
      ]
     },
     "execution_count": 4,
     "metadata": {},
     "output_type": "execute_result"
    }
   ],
   "source": [
    "ngs_reads.head()"
   ]
  },
  {
   "cell_type": "markdown",
   "id": "5bbb3bfa",
   "metadata": {},
   "source": [
    "### Module 1- Per base sequence quality\n",
    "\n",
    "[Documentation:](https://www.bioinformatics.babraham.ac.uk/projects/fastqc/Help/3%20Analysis%20Modules/2%20Per%20Base%20Sequence%20Quality.html)\n",
    "> This view shows an overview of the range of quality values across all bases at each position in the FastQ file.\n",
    " For each position a BoxWhisker type plot is drawn. The elements of the plot are as follows:\n",
    " > * The central red line is the median value\n",
    " > * The yellow box represents the inter-quartile range (25-75%)\n",
    " > * The upper and lower whiskers represent the 10% and 90% points\n",
    " > * The blue line represents the mean quality\n",
    "\n",
    "> The y-axis on the graph shows the quality scores. The higher the score the better the base call. The background of the graph divides the y axis into very good quality calls (green), calls of reasonable quality (orange), and calls of poor quality (red). The quality of calls on most platforms will degrade as the run progresses, so it is common to see base calls falling into the orange area towards the end of a read. \n",
    "It should be mentioned that there are number of different ways to encode a quality score in a FastQ file. FastQC attempts to automatically determine which encoding method was used, but in some very limited datasets it is possible that it will guess this incorrectly (ironically only when your data is universally very good!). The title of the graph will describe the encoding FastQC thinks your file used. \n",
    "Results from this module will not be displayed if your input is a BAM/SAM file in which quality scores have not been recorded. \n",
    "\n",
    "![Example Per base sequence quality](https://www.bioinformatics.babraham.ac.uk/projects/fastqc/Help/3%20Analysis%20Modules/per_base_quality.png)  "
   ]
  },
  {
   "cell_type": "code",
   "execution_count": 5,
   "id": "955d3e8d",
   "metadata": {},
   "outputs": [],
   "source": [
    "# Todo: Feature engineering"
   ]
  },
  {
   "cell_type": "markdown",
   "id": "3a63ad5a",
   "metadata": {},
   "source": [
    "### Module 2 - Per tile sequence quality\n",
    "\n",
    "[Documentation:](https://www.bioinformatics.babraham.ac.uk/projects/fastqc/Help/3%20Analysis%20Modules/12%20Per%20Tile%20Sequence%20Quality.html)\n",
    ">  This graph will only appear in your analysis results if you're using an Illumina library which retains its original sequence identifiers. Encoded in these is the flowcell tile from which each read came. The graph allows you to look at the quality scores from each tile across all of your bases to see if there was a loss in quality associated with only one part of the flowcell.  \n",
    "The plot shows the deviation from the average quality for each tile. The colours are on a cold to hot scale, with cold colours being positions where the quality was at or above the average for that base in the run, and hotter colours indicate that a tile had worse qualities than other tiles for that base. In the example below you can see that certain tiles show consistently poor quality. A good plot should be blue all over.\n",
    "\n",
    "![Example Per tile sequence quality](https://www.bioinformatics.babraham.ac.uk/projects/fastqc/Help/3%20Analysis%20Modules/per_tile_quality.png)  "
   ]
  },
  {
   "cell_type": "markdown",
   "id": "679caba8",
   "metadata": {},
   "source": [
    "#### Extract features for module 2 based on averages grouped by tiles (with weighting)"
   ]
  },
  {
   "cell_type": "code",
   "execution_count": 6,
   "id": "630a1a6d",
   "metadata": {},
   "outputs": [
    {
     "data": {
      "text/html": [
       "<div>\n",
       "<style scoped>\n",
       "    .dataframe tbody tr th:only-of-type {\n",
       "        vertical-align: middle;\n",
       "    }\n",
       "\n",
       "    .dataframe tbody tr th {\n",
       "        vertical-align: top;\n",
       "    }\n",
       "\n",
       "    .dataframe thead th {\n",
       "        text-align: right;\n",
       "    }\n",
       "</style>\n",
       "<table border=\"1\" class=\"dataframe\">\n",
       "  <thead>\n",
       "    <tr style=\"text-align: right;\">\n",
       "      <th></th>\n",
       "      <th>Tile</th>\n",
       "      <th>Base</th>\n",
       "      <th>Mean</th>\n",
       "    </tr>\n",
       "  </thead>\n",
       "  <tbody>\n",
       "    <tr>\n",
       "      <th>0</th>\n",
       "      <td>1101</td>\n",
       "      <td>1</td>\n",
       "      <td>0.030195</td>\n",
       "    </tr>\n",
       "    <tr>\n",
       "      <th>1</th>\n",
       "      <td>1101</td>\n",
       "      <td>2</td>\n",
       "      <td>-0.063217</td>\n",
       "    </tr>\n",
       "    <tr>\n",
       "      <th>2</th>\n",
       "      <td>1101</td>\n",
       "      <td>3</td>\n",
       "      <td>-0.013447</td>\n",
       "    </tr>\n",
       "    <tr>\n",
       "      <th>3</th>\n",
       "      <td>1101</td>\n",
       "      <td>4</td>\n",
       "      <td>0.033154</td>\n",
       "    </tr>\n",
       "    <tr>\n",
       "      <th>4</th>\n",
       "      <td>1101</td>\n",
       "      <td>5</td>\n",
       "      <td>0.003146</td>\n",
       "    </tr>\n",
       "    <tr>\n",
       "      <th>...</th>\n",
       "      <td>...</td>\n",
       "      <td>...</td>\n",
       "      <td>...</td>\n",
       "    </tr>\n",
       "    <tr>\n",
       "      <th>2579</th>\n",
       "      <td>2119</td>\n",
       "      <td>280-284</td>\n",
       "      <td>-0.172432</td>\n",
       "    </tr>\n",
       "    <tr>\n",
       "      <th>2580</th>\n",
       "      <td>2119</td>\n",
       "      <td>285-289</td>\n",
       "      <td>-1.815671</td>\n",
       "    </tr>\n",
       "    <tr>\n",
       "      <th>2581</th>\n",
       "      <td>2119</td>\n",
       "      <td>290-294</td>\n",
       "      <td>0.908856</td>\n",
       "    </tr>\n",
       "    <tr>\n",
       "      <th>2582</th>\n",
       "      <td>2119</td>\n",
       "      <td>295-299</td>\n",
       "      <td>0.152131</td>\n",
       "    </tr>\n",
       "    <tr>\n",
       "      <th>2583</th>\n",
       "      <td>2119</td>\n",
       "      <td>300-301</td>\n",
       "      <td>1.562598</td>\n",
       "    </tr>\n",
       "  </tbody>\n",
       "</table>\n",
       "<p>2584 rows × 3 columns</p>\n",
       "</div>"
      ],
      "text/plain": [
       "      Tile     Base      Mean\n",
       "0     1101        1  0.030195\n",
       "1     1101        2 -0.063217\n",
       "2     1101        3 -0.013447\n",
       "3     1101        4  0.033154\n",
       "4     1101        5  0.003146\n",
       "...    ...      ...       ...\n",
       "2579  2119  280-284 -0.172432\n",
       "2580  2119  285-289 -1.815671\n",
       "2581  2119  290-294  0.908856\n",
       "2582  2119  295-299  0.152131\n",
       "2583  2119  300-301  1.562598\n",
       "\n",
       "[2584 rows x 3 columns]"
      ]
     },
     "execution_count": 6,
     "metadata": {},
     "output_type": "execute_result"
    }
   ],
   "source": [
    "# the bases for each tile are grouped inconsistently - the first 9 bases are always ungrouped,\n",
    "# the following bases are grouped in 5, the last bases are grouped until the end (<5)\n",
    "# example:\n",
    "ngs_reads['Per tile sequence quality'][0]\n",
    "# to calculate the correct mean, weights have to be added to enable calculating the weighted average per tile"
   ]
  },
  {
   "cell_type": "code",
   "execution_count": 7,
   "id": "6981e429",
   "metadata": {},
   "outputs": [],
   "source": [
    "def add_weights_tiles(row):\n",
    "    bases = [int(d) for d in str(row['Base']).split('-')]\n",
    "    if len(bases) == 1:\n",
    "        return 1\n",
    "    elif len(bases) == 2:\n",
    "        return bases[1]-bases[0]+1"
   ]
  },
  {
   "cell_type": "code",
   "execution_count": 8,
   "id": "08cc1fb9",
   "metadata": {},
   "outputs": [],
   "source": [
    "def means_per_tile(dataframe):\n",
    "    module_2 = dataframe['Per tile sequence quality'] #.copy() - if column weight shouldn't be added to original\n",
    "    module_2[\"weight\"] = module_2.apply(add_weights_tiles, axis=1)\n",
    "    weighted_avg = module_2.groupby('Tile').apply(lambda x: np.average(x['Mean'], weights=x['weight']))\n",
    "\n",
    "    std = np.std(weighted_avg)\n",
    "    sum_negatives = np.sum(weighted_avg[weighted_avg <0])\n",
    "    #sum_positives = np.sum(weighted_avg[weighted_avg >= 0])\n",
    "    #mean_negatives = np.mean((weighted_avg[weighted_avg < 0]), axis=0)\n",
    "    #mean_positives = np.mean((weighted_avg[weighted_avg >= 0]), axis=0)\n",
    "    #mean = np.mean(weighted_avg)\n",
    "    return std, sum_negatives, weighted_avg #, sum_positives, mean_negatives, mean_positives, std, mean\n",
    "\n",
    "    # tested features show very similar behaviour: std and neg/pos mean have the same characteristics\n",
    "    # sum_positive and sum_negative mirror each other, mean and sum of all always very close to 0 (why?)\n",
    "    # leaving sum_negatives in for now, any other characteristics?\n",
    "    # returning completed weighted averages for data exploration"
   ]
  },
  {
   "cell_type": "code",
   "execution_count": 9,
   "id": "778f1c13",
   "metadata": {},
   "outputs": [],
   "source": [
    "#ngs_reads[['module_2_std', 'module_2_sum_pos', 'module_2_mean_neg', 'module_2_mean_pos', 'module_2_std', 'module_2_mean'\n",
    "#          ]] = ngs_reads.apply(create_means_df, axis=1, result_type='expand')"
   ]
  },
  {
   "cell_type": "code",
   "execution_count": 10,
   "id": "41e8b341",
   "metadata": {},
   "outputs": [],
   "source": [
    "ngs_reads[['module_2_std', 'module_2_sum_neg', 'module_2_weighted_avgs'\n",
    "          ]] = ngs_reads.apply(means_per_tile, axis=1, result_type='expand')"
   ]
  },
  {
   "cell_type": "code",
   "execution_count": 11,
   "id": "b961f491",
   "metadata": {},
   "outputs": [
    {
     "data": {
      "text/plain": [
       "<AxesSubplot:>"
      ]
     },
     "execution_count": 11,
     "metadata": {},
     "output_type": "execute_result"
    },
    {
     "data": {
      "image/png": "[encoded data removed]",
      "text/plain": [
       "<Figure size 432x288 with 1 Axes>"
      ]
     },
     "metadata": {
      "needs_background": "light"
     },
     "output_type": "display_data"
    }
   ],
   "source": [
    "ngs_reads['module_2_std'].plot(kind='bar')"
   ]
  },
  {
   "cell_type": "code",
   "execution_count": 12,
   "id": "3283ebf0",
   "metadata": {},
   "outputs": [
    {
     "data": {
      "text/plain": [
       "<AxesSubplot:>"
      ]
     },
     "execution_count": 12,
     "metadata": {},
     "output_type": "execute_result"
    },
    {
     "data": {
      "image/png": "[encoded data removed]",
      "text/plain": [
       "<Figure size 432x288 with 1 Axes>"
      ]
     },
     "metadata": {
      "needs_background": "light"
     },
     "output_type": "display_data"
    }
   ],
   "source": [
    "ngs_reads['module_2_sum_neg'].plot(kind='bar')"
   ]
  },
  {
   "cell_type": "markdown",
   "id": "38ee23b6",
   "metadata": {},
   "source": [
    "#### Weighted averages examples"
   ]
  },
  {
   "cell_type": "code",
   "execution_count": 13,
   "id": "e428b449",
   "metadata": {},
   "outputs": [
    {
     "data": {
      "text/plain": [
       "<AxesSubplot:xlabel='Tile'>"
      ]
     },
     "execution_count": 13,
     "metadata": {},
     "output_type": "execute_result"
    },
    {
     "data": {
      "image/png": "[encoded data removed]",
      "text/plain": [
       "<Figure size 432x288 with 1 Axes>"
      ]
     },
     "metadata": {
      "needs_background": "light"
     },
     "output_type": "display_data"
    }
   ],
   "source": [
    "ngs_reads['module_2_weighted_avgs'][0].plot(kind='bar')"
   ]
  },
  {
   "cell_type": "code",
   "execution_count": 14,
   "id": "aea99b03",
   "metadata": {},
   "outputs": [
    {
     "data": {
      "text/plain": [
       "<AxesSubplot:xlabel='Tile'>"
      ]
     },
     "execution_count": 14,
     "metadata": {},
     "output_type": "execute_result"
    },
    {
     "data": {
      "image/png": "[encoded data removed]",
      "text/plain": [
       "<Figure size 432x288 with 1 Axes>"
      ]
     },
     "metadata": {
      "needs_background": "light"
     },
     "output_type": "display_data"
    }
   ],
   "source": [
    "ngs_reads['module_2_weighted_avgs'][4].plot(kind='bar')"
   ]
  },
  {
   "cell_type": "code",
   "execution_count": 15,
   "id": "a3a7a1c0",
   "metadata": {},
   "outputs": [
    {
     "data": {
      "text/plain": [
       "<AxesSubplot:ylabel='Frequency'>"
      ]
     },
     "execution_count": 15,
     "metadata": {},
     "output_type": "execute_result"
    },
    {
     "data": {
      "image/png": "[encoded data removed]",
      "text/plain": [
       "<Figure size 432x288 with 1 Axes>"
      ]
     },
     "metadata": {
      "needs_background": "light"
     },
     "output_type": "display_data"
    }
   ],
   "source": [
    "ngs_reads['module_2_weighted_avgs'][0].plot(kind='hist')"
   ]
  },
  {
   "cell_type": "code",
   "execution_count": 16,
   "id": "73a5c97d",
   "metadata": {},
   "outputs": [
    {
     "data": {
      "text/plain": [
       "<AxesSubplot:ylabel='Frequency'>"
      ]
     },
     "execution_count": 16,
     "metadata": {},
     "output_type": "execute_result"
    },
    {
     "data": {
      "image/png": "[encoded data removed]",
      "text/plain": [
       "<Figure size 432x288 with 1 Axes>"
      ]
     },
     "metadata": {
      "needs_background": "light"
     },
     "output_type": "display_data"
    }
   ],
   "source": [
    "ngs_reads['module_2_weighted_avgs'][4].plot(kind='hist')"
   ]
  },
  {
   "cell_type": "code",
   "execution_count": 17,
   "id": "9e45d4f7",
   "metadata": {},
   "outputs": [],
   "source": [
    "ngs_reads.drop(columns='module_2_weighted_avgs', inplace=True) #not a feature\n",
    "ngs_reads.drop(columns='Per tile sequence quality', inplace=True) #drop original column after feature extraction"
   ]
  },
  {
   "cell_type": "markdown",
   "id": "b88d188c",
   "metadata": {},
   "source": [
    "### Module 3 - Per sequence quality scores\n",
    "[Documentation:](https://www.bioinformatics.babraham.ac.uk/projects/fastqc/Help/3%20Analysis%20Modules/3%20Per%20Sequence%20Quality%20Scores.html)\n",
    "> The per sequence quality score report allows you to see if a subset of your sequences have universally low quality values. It is often the case that a subset of sequences will have universally poor quality, often because they are poorly imaged (on the edge of the field of view etc), however these should represent only a small percentage of the total sequences.\n",
    " If a significant proportion of the sequences in a run have overall low quality then this could indicate some kind of systematic problem - possibly with just part of the run (for example one end of a flowcell).\n",
    "\n",
    "![Example Per sequence quality scores](https://www.bioinformatics.babraham.ac.uk/projects/fastqc/Help/3%20Analysis%20Modules/per_sequence_quality.png)  "
   ]
  },
  {
   "cell_type": "code",
   "execution_count": 18,
   "id": "21a562d2",
   "metadata": {},
   "outputs": [],
   "source": [
    "# Todo: Feature engineering"
   ]
  },
  {
   "cell_type": "markdown",
   "id": "5c47a561",
   "metadata": {},
   "source": [
    "### Module 4 - Per base sequence content\n",
    "[Documentation:](https://www.bioinformatics.babraham.ac.uk/projects/fastqc/Help/3%20Analysis%20Modules/4%20Per%20Base%20Sequence%20Content.html)\n",
    "> Per Base Sequence Content plots out the proportion of each base position in a file for which each of the four normal DNA bases has been called. \n",
    " In a random library you would expect that there would be little to no difference between the different bases of a sequence run, so the lines in this plot should run parallel with each other. The relative amount of each base should reflect the overall amount of these bases in your genome, but in any case they should not be hugely imbalanced from each other.\n",
    " It's worth noting that some types of library will always produce biased sequence composition, normally at the start of the read. Libraries produced by priming using random hexamers (including nearly all RNA-Seq libraries) and those which were fragmented using transposases inherit an intrinsic bias in the positions at which reads start. This bias does not concern an absolute sequence, but instead provides enrichement of a number of different K-mers at the 5' end of the reads. Whilst this is a true technical bias, it isn't something which can be corrected by trimming and in most cases doesn't seem to adversely affect the downstream analysis. It will however produce a warning or error in this module. \n",
    " \n",
    "![Example Per base sequence content](https://www.bioinformatics.babraham.ac.uk/projects/fastqc/Help/3%20Analysis%20Modules/per_base_sequence_content.png)  "
   ]
  },
  {
   "cell_type": "code",
   "execution_count": 19,
   "id": "20a2dd8e",
   "metadata": {},
   "outputs": [],
   "source": [
    "# Todo: Feature engineering"
   ]
  },
  {
   "cell_type": "markdown",
   "id": "d5394aad",
   "metadata": {},
   "source": [
    "### Module 5 - Per sequence GC content\n",
    "[Documentation:](https://www.bioinformatics.babraham.ac.uk/projects/fastqc/Help/3%20Analysis%20Modules/5%20Per%20Sequence%20GC%20Content.html)\n",
    "> This module measures the GC content across the whole length of each sequence in a file and compares it to a modelled normal distribution of GC content.  \n",
    "In a normal random library you would expect to see a roughly normal distribution of GC content where the central peak corresponds to the overall GC content of the underlying genome. Since we don't know the the GC content of the genome the modal GC content is calculated from the observed data and used to build a reference distribution.\n",
    "An unusually shaped distribution could indicate a contaminated library or some other kinds of biased subset. A normal distribution which is shifted indicates some systematic bias which is independent of base position. If there is a systematic bias which creates a shifted normal distribution then this won't be flagged as an error by the module since it doesn't know what your genome's GC content should be. \n",
    "\n",
    "![Example Per sequence GC content](https://www.bioinformatics.babraham.ac.uk/projects/fastqc/Help/3%20Analysis%20Modules/per_sequence_gc_content.png)  "
   ]
  },
  {
   "cell_type": "markdown",
   "id": "1e5eac3c",
   "metadata": {},
   "source": [
    "Due to similarity to Module 4 this module will be ignored for feature extraction."
   ]
  },
  {
   "cell_type": "code",
   "execution_count": 20,
   "id": "b02f3319",
   "metadata": {},
   "outputs": [],
   "source": [
    "ngs_reads.drop(columns='Per sequence GC content', inplace=True)"
   ]
  },
  {
   "cell_type": "markdown",
   "id": "6abbdf3e",
   "metadata": {},
   "source": [
    "### Module 6 - Per base N content\n",
    "[Documentation:](https://www.bioinformatics.babraham.ac.uk/projects/fastqc/Help/3%20Analysis%20Modules/6%20Per%20Base%20N%20Content.html)\n",
    ">  If a sequencer is unable to make a base call with sufficient confidence then it will normally substitute an N rather than a conventional base] call. \n",
    "This module plots out the percentage of base calls at each position for which an N was called. \n",
    "It's not unusual to see a very low proportion of Ns appearing in a sequence, especially nearer the end of a sequence. However, if this proportion rises above a few percent it suggests that the analysis pipeline was unable to interpret the data well enough to make valid base calls. \n",
    "\n",
    "![Example Per base N content](https://www.bioinformatics.babraham.ac.uk/projects/fastqc/Help/3%20Analysis%20Modules/per_base_n_content.png)  "
   ]
  },
  {
   "cell_type": "code",
   "execution_count": 21,
   "id": "0f151322",
   "metadata": {},
   "outputs": [],
   "source": [
    "# Todo: Feature engineering"
   ]
  },
  {
   "cell_type": "markdown",
   "id": "71e99dd9",
   "metadata": {},
   "source": [
    "### Module 7 - Sequence length distribution\n",
    "[Documentation:](https://www.bioinformatics.babraham.ac.uk/projects/fastqc/Help/3%20Analysis%20Modules/7%20Sequence%20Length%20Distribution.html)\n",
    ">   Some high throughput sequencers generate sequence fragments of uniform length, but others can contain reads of wildly varying lengths. Even within uniform length libraries some pipelines will trim sequences to remove poor quality base calls from the end. \n",
    "This module generates a graph showing the distribution of fragment sizes in the file which was analysed. \n",
    " In many cases this will produce a simple graph showing a peak only at one size, but for variable length FastQ files this will show the relative amounts of each different size of sequence fragment. \n",
    " \n",
    "![Example Sequence length distribution](https://www.bioinformatics.babraham.ac.uk/projects/fastqc/Help/3%20Analysis%20Modules/sequence_length_distribution.png)  "
   ]
  },
  {
   "cell_type": "code",
   "execution_count": 22,
   "id": "caebb328",
   "metadata": {},
   "outputs": [],
   "source": [
    "# Todo: Feature engineering"
   ]
  },
  {
   "cell_type": "markdown",
   "id": "45279d44",
   "metadata": {},
   "source": [
    "### Module 8 - Sequence duplication levels\n",
    "[Documentation:](https://www.bioinformatics.babraham.ac.uk/projects/fastqc/Help/3%20Analysis%20Modules/8%20Duplicate%20Sequences.html)\n",
    "> In a diverse library most sequences will occur only once in the final set. A low level of duplication may indicate a very high level of coverage of the target sequence, but a high level of duplication is more likely to indicate some kind of enrichment bias (eg PCR over amplification).  \n",
    " To cut down on the memory requirements for this module only sequences which first appear in the first 100,000 sequences in each file are analysed, but this should be enough to get a good impression for the duplication levels in the whole file. Each sequence is tracked to the end of the file to give a representative count of the overall duplication level.  \n",
    " To cut down on the amount of information in the final plot any sequences with more than 10 duplicates are placed into grouped bins to give a clear impression of the overall duplication level without having to show each individual duplication value.  \n",
    " Because the duplication detection requires an exact sequence match over the whole length of the sequence, any reads over 75bp in length are truncated to 50bp for the purposes of this analysis. Even so, longer reads are more likely to contain sequencing errors which will artificially increase the observed diversity and will tend to underrepresent highly duplicated sequences.  \n",
    "The plot shows the proportion of the library which is made up of sequences in each of the different duplication level bins. There are two lines on the plot. The blue line takes the full sequence set and shows how its duplication levels are distributed. In the red plot the sequences are de-duplicated and the proportions shown are the proportions of the deduplicated set which come from different duplication levels in the original data.  \n",
    "In a properly diverse library most sequences should fall into the far left of the plot in both the red and blue lines. A general level of enrichment, indicating broad oversequencing in the library will tend to flatten the lines, lowering the low end and generally raising other categories. More specific enrichments of subsets, or the presence of low complexity contaminants will tend to produce spikes towards the right of the plot. These high duplication peaks will most often appear in the blue trace as they make up a high proportion of the original library, but usually disappear in the red trace as they make up an insignificant proportion of the deduplicated set. If peaks persist in the blue trace then this suggests that there are a large number of different highly duplicated sequences which might indicate either a contaminant set or a very severe technical duplication.  \n",
    "The module also calculates an expected overall loss of sequence were the library to be deduplicated. This headline figure is shown at the top of the plot and gives a reasonable impression of the potential overall level of loss. \n",
    " \n",
    "![Example Sequence duplication levels](https://www.bioinformatics.babraham.ac.uk/projects/fastqc/Help/3%20Analysis%20Modules/duplication_levels.png)  "
   ]
  },
  {
   "cell_type": "code",
   "execution_count": 23,
   "id": "39872770",
   "metadata": {},
   "outputs": [],
   "source": [
    "# Todo: Feature engineering"
   ]
  },
  {
   "cell_type": "markdown",
   "id": "4da19b1e",
   "metadata": {},
   "source": [
    "### Module 9 - Overrepresented sequences\n",
    "[Documentation:](https://www.bioinformatics.babraham.ac.uk/projects/fastqc/Help/3%20Analysis%20Modules/9%20Overrepresented%20Sequences.html)\n",
    ">  A normal high-throughput library will contain a diverse set of sequences, with no individual sequence making up a tiny fraction of the whole. Finding that a single sequence is very overrepresented in the set either means that it is highly biologically significant, or indicates that the library is contaminated, or not as diverse as you expected.  \n",
    "This module lists all of the sequence which make up more than 0.1% of the total. To conserve memory only sequences which appear in the first 100,000 sequences are tracked to the end of the file. It is therefore possible that a sequence which is overrepresented but doesn't appear at the start of the file for some reason could be missed by this module.  \n",
    "For each overrepresented sequence the program will look for matches in a database of common contaminants and will report the best hit it finds. Hits must be at least 20bp in length and have no more than 1 mismatch. Finding a hit doesn't necessarily mean that this is the source of the contamination, but may point you in the right direction. It's also worth pointing out that many adapter sequences are very similar to each other so you may get a hit reported which isn't technically correct, but which has very similar sequence to the actual match.  \n",
    "Because the duplication detection requires an exact sequence match over the whole length of the sequence any reads over 75bp in length are truncated to 50bp for the purposes of this analysis. Even so, longer reads are more likely to contain sequencing errors which will artificially increase the observed diversity and will tend to underrepresent highly duplicated sequences.   "
   ]
  },
  {
   "cell_type": "code",
   "execution_count": 24,
   "id": "f4684d4a",
   "metadata": {
    "scrolled": false
   },
   "outputs": [
    {
     "data": {
      "text/html": [
       "<div>\n",
       "<style scoped>\n",
       "    .dataframe tbody tr th:only-of-type {\n",
       "        vertical-align: middle;\n",
       "    }\n",
       "\n",
       "    .dataframe tbody tr th {\n",
       "        vertical-align: top;\n",
       "    }\n",
       "\n",
       "    .dataframe thead th {\n",
       "        text-align: right;\n",
       "    }\n",
       "</style>\n",
       "<table border=\"1\" class=\"dataframe\">\n",
       "  <thead>\n",
       "    <tr style=\"text-align: right;\">\n",
       "      <th></th>\n",
       "      <th>Sequence</th>\n",
       "      <th>Count</th>\n",
       "      <th>Percentage</th>\n",
       "      <th>Possible Source</th>\n",
       "    </tr>\n",
       "  </thead>\n",
       "  <tbody>\n",
       "    <tr>\n",
       "      <th>0</th>\n",
       "      <td>GTTTTAAAAGTGTCAAAATTGAATGCAATTATCATGCATATGATTA...</td>\n",
       "      <td>1</td>\n",
       "      <td>0.299401</td>\n",
       "      <td>No Hit</td>\n",
       "    </tr>\n",
       "    <tr>\n",
       "      <th>1</th>\n",
       "      <td>GTATTAATAAATCCATAACCGCATGTTCTGCCACACTAACTGTATT...</td>\n",
       "      <td>1</td>\n",
       "      <td>0.299401</td>\n",
       "      <td>No Hit</td>\n",
       "    </tr>\n",
       "    <tr>\n",
       "      <th>2</th>\n",
       "      <td>GTTTTTCATCACTAAATACAACAAAGCGATCCCCAGCTTGTGGCAC...</td>\n",
       "      <td>1</td>\n",
       "      <td>0.299401</td>\n",
       "      <td>No Hit</td>\n",
       "    </tr>\n",
       "    <tr>\n",
       "      <th>3</th>\n",
       "      <td>GTCTATATCACTTTGACCGTTCATTTCAGTGTGAGAACTTTTATTT...</td>\n",
       "      <td>1</td>\n",
       "      <td>0.299401</td>\n",
       "      <td>No Hit</td>\n",
       "    </tr>\n",
       "    <tr>\n",
       "      <th>4</th>\n",
       "      <td>ATTTAACAATATATGTTATTTGTATATGACTTGTAAAATATCGTCA...</td>\n",
       "      <td>1</td>\n",
       "      <td>0.299401</td>\n",
       "      <td>No Hit</td>\n",
       "    </tr>\n",
       "    <tr>\n",
       "      <th>...</th>\n",
       "      <td>...</td>\n",
       "      <td>...</td>\n",
       "      <td>...</td>\n",
       "      <td>...</td>\n",
       "    </tr>\n",
       "    <tr>\n",
       "      <th>329</th>\n",
       "      <td>GTGATAGATCTTCTATCATATCTAAATCAAGCATATATGTTATATC...</td>\n",
       "      <td>1</td>\n",
       "      <td>0.299401</td>\n",
       "      <td>No Hit</td>\n",
       "    </tr>\n",
       "    <tr>\n",
       "      <th>330</th>\n",
       "      <td>CTTTAACAGTATCGTATGATACTAATTTAATTGGCAACTTTTTGTC...</td>\n",
       "      <td>1</td>\n",
       "      <td>0.299401</td>\n",
       "      <td>No Hit</td>\n",
       "    </tr>\n",
       "    <tr>\n",
       "      <th>331</th>\n",
       "      <td>GTTTAAACCTATGCGATAATGATCATACTTTTGAATCTCTGCCATG...</td>\n",
       "      <td>1</td>\n",
       "      <td>0.299401</td>\n",
       "      <td>No Hit</td>\n",
       "    </tr>\n",
       "    <tr>\n",
       "      <th>332</th>\n",
       "      <td>GCTAATACACCGTATGGCGTTAAACGTAAGACGAACGTCACAATCG...</td>\n",
       "      <td>1</td>\n",
       "      <td>0.299401</td>\n",
       "      <td>No Hit</td>\n",
       "    </tr>\n",
       "    <tr>\n",
       "      <th>333</th>\n",
       "      <td>GCATCTAAATCATCTGATGAAAATGTATCATCAACAACAAAATCAA...</td>\n",
       "      <td>1</td>\n",
       "      <td>0.299401</td>\n",
       "      <td>No Hit</td>\n",
       "    </tr>\n",
       "  </tbody>\n",
       "</table>\n",
       "<p>334 rows × 4 columns</p>\n",
       "</div>"
      ],
      "text/plain": [
       "                                              Sequence  Count  Percentage  \\\n",
       "0    GTTTTAAAAGTGTCAAAATTGAATGCAATTATCATGCATATGATTA...      1    0.299401   \n",
       "1    GTATTAATAAATCCATAACCGCATGTTCTGCCACACTAACTGTATT...      1    0.299401   \n",
       "2    GTTTTTCATCACTAAATACAACAAAGCGATCCCCAGCTTGTGGCAC...      1    0.299401   \n",
       "3    GTCTATATCACTTTGACCGTTCATTTCAGTGTGAGAACTTTTATTT...      1    0.299401   \n",
       "4    ATTTAACAATATATGTTATTTGTATATGACTTGTAAAATATCGTCA...      1    0.299401   \n",
       "..                                                 ...    ...         ...   \n",
       "329  GTGATAGATCTTCTATCATATCTAAATCAAGCATATATGTTATATC...      1    0.299401   \n",
       "330  CTTTAACAGTATCGTATGATACTAATTTAATTGGCAACTTTTTGTC...      1    0.299401   \n",
       "331  GTTTAAACCTATGCGATAATGATCATACTTTTGAATCTCTGCCATG...      1    0.299401   \n",
       "332  GCTAATACACCGTATGGCGTTAAACGTAAGACGAACGTCACAATCG...      1    0.299401   \n",
       "333  GCATCTAAATCATCTGATGAAAATGTATCATCAACAACAAAATCAA...      1    0.299401   \n",
       "\n",
       "    Possible Source  \n",
       "0            No Hit  \n",
       "1            No Hit  \n",
       "2            No Hit  \n",
       "3            No Hit  \n",
       "4            No Hit  \n",
       "..              ...  \n",
       "329          No Hit  \n",
       "330          No Hit  \n",
       "331          No Hit  \n",
       "332          No Hit  \n",
       "333          No Hit  \n",
       "\n",
       "[334 rows x 4 columns]"
      ]
     },
     "execution_count": 24,
     "metadata": {},
     "output_type": "execute_result"
    }
   ],
   "source": [
    "ngs_reads['Overrepresented sequences'][4]"
   ]
  },
  {
   "cell_type": "code",
   "execution_count": 25,
   "id": "4a5805b3",
   "metadata": {},
   "outputs": [],
   "source": [
    "def features_overrepresented_seq(row):\n",
    "    if row['Overrepresented sequences'].shape[0] == 0:\n",
    "        distinct_seq = 0\n",
    "        mean_perc = 0.0\n",
    "        count_sum = 0\n",
    "    else:\n",
    "        distinct_seq = row['Overrepresented sequences'].shape[0]\n",
    "        mean_perc = row['Overrepresented sequences']['Percentage'].mean()\n",
    "        count_sum = row['Overrepresented sequences']['Count'].sum()\n",
    "    return distinct_seq, mean_perc, count_sum"
   ]
  },
  {
   "cell_type": "code",
   "execution_count": 26,
   "id": "6810bca8",
   "metadata": {},
   "outputs": [],
   "source": [
    "ngs_reads[['module_9_distinct_seq', 'module_9_mean_perc', 'module_9_count_sum'\n",
    "          ]] = ngs_reads.apply(features_overrepresented_seq, axis=1, result_type='expand')"
   ]
  },
  {
   "cell_type": "code",
   "execution_count": 27,
   "id": "72bbe444",
   "metadata": {},
   "outputs": [
    {
     "data": {
      "text/plain": [
       "<AxesSubplot:>"
      ]
     },
     "execution_count": 27,
     "metadata": {},
     "output_type": "execute_result"
    },
    {
     "data": {
      "image/png": "[encoded data removed]",
      "text/plain": [
       "<Figure size 432x288 with 1 Axes>"
      ]
     },
     "metadata": {
      "needs_background": "light"
     },
     "output_type": "display_data"
    }
   ],
   "source": [
    "ngs_reads['module_9_distinct_seq'].plot(kind='bar')"
   ]
  },
  {
   "cell_type": "code",
   "execution_count": 28,
   "id": "7b569082",
   "metadata": {},
   "outputs": [
    {
     "data": {
      "text/plain": [
       "<AxesSubplot:>"
      ]
     },
     "execution_count": 28,
     "metadata": {},
     "output_type": "execute_result"
    },
    {
     "data": {
      "image/png": "[encoded data removed]",
      "text/plain": [
       "<Figure size 432x288 with 1 Axes>"
      ]
     },
     "metadata": {
      "needs_background": "light"
     },
     "output_type": "display_data"
    }
   ],
   "source": [
    "ngs_reads['module_9_mean_perc'].plot(kind='bar')"
   ]
  },
  {
   "cell_type": "code",
   "execution_count": 29,
   "id": "f4066600",
   "metadata": {},
   "outputs": [
    {
     "data": {
      "text/plain": [
       "<AxesSubplot:>"
      ]
     },
     "execution_count": 29,
     "metadata": {},
     "output_type": "execute_result"
    },
    {
     "data": {
      "image/png": "[encoded data removed]",
      "text/plain": [
       "<Figure size 432x288 with 1 Axes>"
      ]
     },
     "metadata": {
      "needs_background": "light"
     },
     "output_type": "display_data"
    }
   ],
   "source": [
    "ngs_reads['module_9_count_sum'].plot(kind='bar')"
   ]
  },
  {
   "cell_type": "markdown",
   "id": "20032688",
   "metadata": {},
   "source": [
    "### Module 10 - Adapter Content\n",
    "[Documentation:](https://www.bioinformatics.babraham.ac.uk/projects/fastqc/Help/3%20Analysis%20Modules/10%20Adapter%20Content.html)\n",
    "> The Kmer Content module will do a generic analysis of all of the Kmers in your library to find those which do not have even coverage through the length of your reads. This can find a number of different sources of bias in the library which can include the presence of read-through adapter sequences building up on the end of your sequences.  \n",
    "You can however find that the presence of any overrepresented sequences in your library (such as adapter dimers) will cause the Kmer plot to be dominated by the Kmers these sequences contain, and that it's not always easy to see if there are other biases present in which you might be interested.  \n",
    "One obvious class of sequences which you might want to analyse are adapter sequences. It is useful to know if your library contains a significant amount of adapter in order to be able to assess whether you need to adapter trim or not. Although the Kmer analysis can theoretically spot this kind of contamination it isn't always clear. This module therefore does a specific search for a set of separately defined Kmers and will give you a view of the total proportion of your library which contain these Kmers. A results trace will always be generated for all of the sequences present in the adapter config file so you can see the adapter content of your library, even if it's low.  \n",
    "The plot itself shows a cumulative percentage count of the proportion of your library which has seen each of the adapter sequences at each position. Once a sequence has been seen in a read it is counted as being present right through to the end of the read so the percentages you see will only increase as the read length goes on. "
   ]
  },
  {
   "cell_type": "markdown",
   "id": "f2844efd",
   "metadata": {},
   "source": [
    "Adapter Content will be ignored for feature engineering."
   ]
  },
  {
   "cell_type": "code",
   "execution_count": 30,
   "id": "c27f06e4",
   "metadata": {},
   "outputs": [],
   "source": [
    "ngs_reads.drop(columns='Adapter Content', inplace=True)"
   ]
  }
 ],
 "metadata": {
  "kernelspec": {
   "display_name": "Python 3 (ipykernel)",
   "language": "python",
   "name": "python3"
  },
  "language_info": {
   "codemirror_mode": {
    "name": "ipython",
    "version": 3
   },
   "file_extension": ".py",
   "mimetype": "text/x-python",
   "name": "python",
   "nbconvert_exporter": "python",
   "pygments_lexer": "ipython3",
   "version": "3.9.7"
  }
 },
 "nbformat": 4,
 "nbformat_minor": 5
}

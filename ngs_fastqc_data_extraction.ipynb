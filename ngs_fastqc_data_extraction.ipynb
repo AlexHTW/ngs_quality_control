{
 "cells": [
  {
   "cell_type": "markdown",
   "id": "solar-myrtle",
   "metadata": {},
   "source": [
    "# Machine Learning Evaluation of NGS Fastqc Results"
   ]
  },
  {
   "cell_type": "markdown",
   "id": "olympic-newcastle",
   "metadata": {},
   "source": [
    "## Import fastqc results into a dataframe"
   ]
  },
  {
   "cell_type": "markdown",
   "id": "contained-bullet",
   "metadata": {},
   "source": [
    "# Import fastqQCParser   \n",
    "https://pypi.org/project/fastqcparser/#description"
   ]
  },
  {
   "cell_type": "code",
   "execution_count": 1,
   "id": "duplicate-restoration",
   "metadata": {},
   "outputs": [],
   "source": [
    "from pprint import pprint\n",
    "from fastqcparser import FastQCParser"
   ]
  },
  {
   "cell_type": "code",
   "execution_count": 2,
   "id": "entire-metallic",
   "metadata": {},
   "outputs": [],
   "source": [
    "import pandas as pd\n",
    "import os"
   ]
  },
  {
   "cell_type": "code",
   "execution_count": 3,
   "id": "demographic-activation",
   "metadata": {},
   "outputs": [],
   "source": [
    "rootdir = 'training_data'"
   ]
  },
  {
   "cell_type": "code",
   "execution_count": 4,
   "id": "latter-landscape",
   "metadata": {},
   "outputs": [],
   "source": [
    "def import_reads(rootdir):\n",
    "    reads = []\n",
    "    for root, dirs, files in os.walk(rootdir):\n",
    "        for name in files:\n",
    "            filepath = root + os.sep + name\n",
    "            if filepath.endswith(\"fastqc_data.txt\"):\n",
    "                reads.append(FastQCParser(filepath))\n",
    "    return reads"
   ]
  },
  {
   "cell_type": "code",
   "execution_count": 5,
   "id": "horizontal-beauty",
   "metadata": {},
   "outputs": [],
   "source": [
    "reads = import_reads(rootdir)"
   ]
  },
  {
   "cell_type": "code",
   "execution_count": 6,
   "id": "streaming-clerk",
   "metadata": {},
   "outputs": [
    {
     "data": {
      "text/plain": [
       "184"
      ]
     },
     "execution_count": 6,
     "metadata": {},
     "output_type": "execute_result"
    }
   ],
   "source": [
    "len(reads)"
   ]
  },
  {
   "cell_type": "code",
   "execution_count": 7,
   "id": "personal-philadelphia",
   "metadata": {},
   "outputs": [
    {
     "name": "stdout",
     "output_type": "stream",
     "text": [
      "['Basic Statistics', 'Per base sequence quality', 'Per tile sequence quality', 'Per sequence quality scores', 'Per base sequence content', 'Per sequence GC content', 'Per base N content', 'Sequence Length Distribution', 'Sequence Duplication Levels', 'Overrepresented sequences', 'Adapter Content', 'Module Statuses', 'filename']\n"
     ]
    }
   ],
   "source": [
    "module_list = list(reads[0].modules.keys())\n",
    "# imported reads don't include the module 'Overrepresented sequences' \n",
    "# if there are none in the read, so we manually add the module to the list\n",
    "if(len(module_list) < 11):\n",
    "    module_list.insert(9, 'Overrepresented sequences')\n",
    "module_list.append('Module Statuses')\n",
    "module_list.append('filename')\n",
    "print(module_list)"
   ]
  },
  {
   "cell_type": "code",
   "execution_count": 8,
   "id": "finished-inventory",
   "metadata": {},
   "outputs": [],
   "source": [
    "def create_single_read_dataframe(result):\n",
    "    module_result = []\n",
    "    module_status = []\n",
    "    \n",
    "    for module in result.modules:\n",
    "        result_data = pd.DataFrame(result.modules[module]['data'])\n",
    "        result_data.columns = result.modules[module]['fieldnames']\n",
    "        module_status.append(result.modules[module]['status'])\n",
    "        module_result.append(result_data)\n",
    "    # imported reads don't include the module 'Overrepresented sequences' \n",
    "    # if there are none in the read, so we manually add the status list\n",
    "    # and an empty dataframe /is None better?\n",
    "    if len(module_status) < 11:\n",
    "        module_status.insert(9, 'pass')\n",
    "        module_result.insert(9, pd.DataFrame())\n",
    "    module_result.append(module_status)\n",
    "    module_result.append(module_result[0].Value[0].replace(\".fastq.gz\", \"\"))\n",
    "    #print(len(module_result), ' - ',  module_result[0].Value[0], '-', len(module_list) )\n",
    "    module_series = pd.Series(data=module_result, index=module_list)\n",
    "    single_read = module_series.to_frame().T#.set_index('filename')\n",
    "    return single_read"
   ]
  },
  {
   "cell_type": "code",
   "execution_count": 9,
   "id": "south-standard",
   "metadata": {},
   "outputs": [],
   "source": [
    "read_list = []\n",
    "for read in reads:\n",
    "    single_read = create_single_read_dataframe(read)\n",
    "    read_list.append(single_read)"
   ]
  },
  {
   "cell_type": "code",
   "execution_count": 10,
   "id": "7a93c331",
   "metadata": {},
   "outputs": [],
   "source": [
    "read_results = pd.concat(read_list)\n",
    "#read_results"
   ]
  },
  {
   "cell_type": "code",
   "execution_count": 11,
   "id": "ab8c2006",
   "metadata": {},
   "outputs": [],
   "source": [
    "pd.set_option('display.max_rows', 3)"
   ]
  },
  {
   "cell_type": "code",
   "execution_count": 12,
   "id": "377db19f",
   "metadata": {},
   "outputs": [],
   "source": [
    "metadata = pd.read_json('exported_datasets/metadata.json')"
   ]
  },
  {
   "cell_type": "code",
   "execution_count": 13,
   "id": "588ac840",
   "metadata": {},
   "outputs": [
    {
     "data": {
      "text/html": [
       "<div>\n",
       "<style scoped>\n",
       "    .dataframe tbody tr th:only-of-type {\n",
       "        vertical-align: middle;\n",
       "    }\n",
       "\n",
       "    .dataframe tbody tr th {\n",
       "        vertical-align: top;\n",
       "    }\n",
       "\n",
       "    .dataframe thead th {\n",
       "        text-align: right;\n",
       "    }\n",
       "</style>\n",
       "<table border=\"1\" class=\"dataframe\">\n",
       "  <thead>\n",
       "    <tr style=\"text-align: right;\">\n",
       "      <th></th>\n",
       "      <th>Basic Statistics</th>\n",
       "      <th>Per base sequence quality</th>\n",
       "      <th>Per tile sequence quality</th>\n",
       "      <th>Per sequence quality scores</th>\n",
       "      <th>Per base sequence content</th>\n",
       "      <th>Per sequence GC content</th>\n",
       "      <th>Per base N content</th>\n",
       "      <th>Sequence Length Distribution</th>\n",
       "      <th>Sequence Duplication Levels</th>\n",
       "      <th>Overrepresented sequences</th>\n",
       "      <th>Adapter Content</th>\n",
       "      <th>Module Statuses</th>\n",
       "      <th>organism</th>\n",
       "      <th>technology</th>\n",
       "      <th>read_number</th>\n",
       "      <th>evaluation</th>\n",
       "    </tr>\n",
       "    <tr>\n",
       "      <th>filename</th>\n",
       "      <th></th>\n",
       "      <th></th>\n",
       "      <th></th>\n",
       "      <th></th>\n",
       "      <th></th>\n",
       "      <th></th>\n",
       "      <th></th>\n",
       "      <th></th>\n",
       "      <th></th>\n",
       "      <th></th>\n",
       "      <th></th>\n",
       "      <th></th>\n",
       "      <th></th>\n",
       "      <th></th>\n",
       "      <th></th>\n",
       "      <th></th>\n",
       "    </tr>\n",
       "  </thead>\n",
       "  <tbody>\n",
       "    <tr>\n",
       "      <th>200709_20-07968_20-00891_S21_L000_R2_001</th>\n",
       "      <td>Measure                                  ...</td>\n",
       "      <td>Base       Mean  Median  Lower Quartile...</td>\n",
       "      <td>Tile     Base      Mean\n",
       "0     1101      ...</td>\n",
       "      <td>Quality     Count\n",
       "0         2       3.0\n",
       ".....</td>\n",
       "      <td>Base          G          A          T  ...</td>\n",
       "      <td>GC Content  Count\n",
       "0             0    3.0\n",
       "...</td>\n",
       "      <td>Base   N-Count\n",
       "0         1  0.479607\n",
       ".....</td>\n",
       "      <td>Length    Count\n",
       "0     30-39   4192.0\n",
       "..  ...</td>\n",
       "      <td>Duplication Level  Percentage of deduplicat...</td>\n",
       "      <td>Empty DataFrame\n",
       "Columns: []\n",
       "Index: []</td>\n",
       "      <td>Position  Illumina Universal Adapter  Illum...</td>\n",
       "      <td>[pass, fail, pass, pass, fail, pass, pass, war...</td>\n",
       "      <td>Sau</td>\n",
       "      <td>MS</td>\n",
       "      <td>2</td>\n",
       "      <td>ugly</td>\n",
       "    </tr>\n",
       "    <tr>\n",
       "      <th>...</th>\n",
       "      <td>...</td>\n",
       "      <td>...</td>\n",
       "      <td>...</td>\n",
       "      <td>...</td>\n",
       "      <td>...</td>\n",
       "      <td>...</td>\n",
       "      <td>...</td>\n",
       "      <td>...</td>\n",
       "      <td>...</td>\n",
       "      <td>...</td>\n",
       "      <td>...</td>\n",
       "      <td>...</td>\n",
       "      <td>...</td>\n",
       "      <td>...</td>\n",
       "      <td>...</td>\n",
       "      <td>...</td>\n",
       "    </tr>\n",
       "    <tr>\n",
       "      <th>191113_19-10151_20475_S133_L000_R1_001</th>\n",
       "      <td>Measure                                  ...</td>\n",
       "      <td>Base       Mean  Median  Lower Quartile...</td>\n",
       "      <td>Tile     Base      Mean\n",
       "0     1101      ...</td>\n",
       "      <td>Quality     Count\n",
       "0        16       2.0\n",
       ".....</td>\n",
       "      <td>Base          G          A          T  ...</td>\n",
       "      <td>GC Content  Count\n",
       "0             0    0.0\n",
       "...</td>\n",
       "      <td>Base   N-Count\n",
       "0         1  0.083286\n",
       ".....</td>\n",
       "      <td>Length     Count\n",
       "0     35-39    4284.0\n",
       ".....</td>\n",
       "      <td>Duplication Level  Percentage of deduplicat...</td>\n",
       "      <td>Empty DataFrame\n",
       "Columns: []\n",
       "Index: []</td>\n",
       "      <td>Position  Illumina Universal Adapter  Illum...</td>\n",
       "      <td>[pass, pass, pass, pass, fail, pass, pass, war...</td>\n",
       "      <td>Efcm</td>\n",
       "      <td>HS</td>\n",
       "      <td>1</td>\n",
       "      <td>good</td>\n",
       "    </tr>\n",
       "  </tbody>\n",
       "</table>\n",
       "<p>184 rows × 16 columns</p>\n",
       "</div>"
      ],
      "text/plain": [
       "                                                                           Basic Statistics  \\\n",
       "filename                                                                                      \n",
       "200709_20-07968_20-00891_S21_L000_R2_001       Measure                                  ...   \n",
       "...                                                                                     ...   \n",
       "191113_19-10151_20475_S133_L000_R1_001         Measure                                  ...   \n",
       "\n",
       "                                                                  Per base sequence quality  \\\n",
       "filename                                                                                      \n",
       "200709_20-07968_20-00891_S21_L000_R2_001         Base       Mean  Median  Lower Quartile...   \n",
       "...                                                                                     ...   \n",
       "191113_19-10151_20475_S133_L000_R1_001           Base       Mean  Median  Lower Quartile...   \n",
       "\n",
       "                                                                  Per tile sequence quality  \\\n",
       "filename                                                                                      \n",
       "200709_20-07968_20-00891_S21_L000_R2_001        Tile     Base      Mean\n",
       "0     1101      ...   \n",
       "...                                                                                     ...   \n",
       "191113_19-10151_20475_S133_L000_R1_001          Tile     Base      Mean\n",
       "0     1101      ...   \n",
       "\n",
       "                                                                Per sequence quality scores  \\\n",
       "filename                                                                                      \n",
       "200709_20-07968_20-00891_S21_L000_R2_001      Quality     Count\n",
       "0         2       3.0\n",
       ".....   \n",
       "...                                                                                     ...   \n",
       "191113_19-10151_20475_S133_L000_R1_001        Quality     Count\n",
       "0        16       2.0\n",
       ".....   \n",
       "\n",
       "                                                                  Per base sequence content  \\\n",
       "filename                                                                                      \n",
       "200709_20-07968_20-00891_S21_L000_R2_001         Base          G          A          T  ...   \n",
       "...                                                                                     ...   \n",
       "191113_19-10151_20475_S133_L000_R1_001           Base          G          A          T  ...   \n",
       "\n",
       "                                                                    Per sequence GC content  \\\n",
       "filename                                                                                      \n",
       "200709_20-07968_20-00891_S21_L000_R2_001       GC Content  Count\n",
       "0             0    3.0\n",
       "...   \n",
       "...                                                                                     ...   \n",
       "191113_19-10151_20475_S133_L000_R1_001         GC Content  Count\n",
       "0             0    0.0\n",
       "...   \n",
       "\n",
       "                                                                         Per base N content  \\\n",
       "filename                                                                                      \n",
       "200709_20-07968_20-00891_S21_L000_R2_001         Base   N-Count\n",
       "0         1  0.479607\n",
       ".....   \n",
       "...                                                                                     ...   \n",
       "191113_19-10151_20475_S133_L000_R1_001           Base   N-Count\n",
       "0         1  0.083286\n",
       ".....   \n",
       "\n",
       "                                                               Sequence Length Distribution  \\\n",
       "filename                                                                                      \n",
       "200709_20-07968_20-00891_S21_L000_R2_001       Length    Count\n",
       "0     30-39   4192.0\n",
       "..  ...   \n",
       "...                                                                                     ...   \n",
       "191113_19-10151_20475_S133_L000_R1_001         Length     Count\n",
       "0     35-39    4284.0\n",
       ".....   \n",
       "\n",
       "                                                                Sequence Duplication Levels  \\\n",
       "filename                                                                                      \n",
       "200709_20-07968_20-00891_S21_L000_R2_001     Duplication Level  Percentage of deduplicat...   \n",
       "...                                                                                     ...   \n",
       "191113_19-10151_20475_S133_L000_R1_001       Duplication Level  Percentage of deduplicat...   \n",
       "\n",
       "                                                      Overrepresented sequences  \\\n",
       "filename                                                                          \n",
       "200709_20-07968_20-00891_S21_L000_R2_001  Empty DataFrame\n",
       "Columns: []\n",
       "Index: []   \n",
       "...                                                                         ...   \n",
       "191113_19-10151_20475_S133_L000_R1_001    Empty DataFrame\n",
       "Columns: []\n",
       "Index: []   \n",
       "\n",
       "                                                                            Adapter Content  \\\n",
       "filename                                                                                      \n",
       "200709_20-07968_20-00891_S21_L000_R2_001     Position  Illumina Universal Adapter  Illum...   \n",
       "...                                                                                     ...   \n",
       "191113_19-10151_20475_S133_L000_R1_001       Position  Illumina Universal Adapter  Illum...   \n",
       "\n",
       "                                                                            Module Statuses  \\\n",
       "filename                                                                                      \n",
       "200709_20-07968_20-00891_S21_L000_R2_001  [pass, fail, pass, pass, fail, pass, pass, war...   \n",
       "...                                                                                     ...   \n",
       "191113_19-10151_20475_S133_L000_R1_001    [pass, pass, pass, pass, fail, pass, pass, war...   \n",
       "\n",
       "                                         organism technology  read_number  \\\n",
       "filename                                                                    \n",
       "200709_20-07968_20-00891_S21_L000_R2_001      Sau         MS            2   \n",
       "...                                           ...        ...          ...   \n",
       "191113_19-10151_20475_S133_L000_R1_001       Efcm         HS            1   \n",
       "\n",
       "                                         evaluation  \n",
       "filename                                             \n",
       "200709_20-07968_20-00891_S21_L000_R2_001       ugly  \n",
       "...                                             ...  \n",
       "191113_19-10151_20475_S133_L000_R1_001         good  \n",
       "\n",
       "[184 rows x 16 columns]"
      ]
     },
     "execution_count": 13,
     "metadata": {},
     "output_type": "execute_result"
    }
   ],
   "source": [
    "complete_reads = pd.merge(read_results, metadata, on='filename', how='inner').set_index('filename')\n",
    "complete_reads"
   ]
  },
  {
   "cell_type": "code",
   "execution_count": 14,
   "id": "dbee2953",
   "metadata": {},
   "outputs": [
    {
     "name": "stdout",
     "output_type": "stream",
     "text": [
      "exported complete dataset\n"
     ]
    }
   ],
   "source": [
    "print('exported complete dataset')\n",
    "complete_reads.to_json('exported_datasets/complete_set.json')"
   ]
  }
 ],
 "metadata": {
  "kernelspec": {
   "display_name": "Python 3 (ipykernel)",
   "language": "python",
   "name": "python3"
  },
  "language_info": {
   "codemirror_mode": {
    "name": "ipython",
    "version": 3
   },
   "file_extension": ".py",
   "mimetype": "text/x-python",
   "name": "python",
   "nbconvert_exporter": "python",
   "pygments_lexer": "ipython3",
   "version": "3.9.7"
  }
 },
 "nbformat": 4,
 "nbformat_minor": 5
}

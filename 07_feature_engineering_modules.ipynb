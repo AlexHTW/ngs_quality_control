{
 "cells": [
  {
   "cell_type": "markdown",
   "id": "7885d391",
   "metadata": {},
   "source": [
    "# Feature Engineering of Modules Data"
   ]
  },
  {
   "cell_type": "code",
   "execution_count": 1,
   "id": "77252783",
   "metadata": {},
   "outputs": [],
   "source": [
    "import numpy as np\n",
    "import pandas as pd\n",
    "from scipy.stats import beta\n",
    "from scipy.optimize import curve_fit\n",
    "from scipy.special import gamma\n",
    "import matplotlib.pyplot as plt"
   ]
  },
  {
   "cell_type": "code",
   "execution_count": 2,
   "id": "98066f5d",
   "metadata": {},
   "outputs": [],
   "source": [
    "ngs_reads = pd.read_json('exported_datasets/prepared_dataset.json')"
   ]
  },
  {
   "cell_type": "markdown",
   "id": "f797a26c",
   "metadata": {},
   "source": [
    "After exporting/importing to json, dataformat of columns including dataframes is lost, restore to dfs:"
   ]
  },
  {
   "cell_type": "code",
   "execution_count": 3,
   "id": "229729c1",
   "metadata": {
    "scrolled": true
   },
   "outputs": [
    {
     "name": "stdout",
     "output_type": "stream",
     "text": [
      "Per base sequence quality converted to DF\n",
      "Per tile sequence quality converted to DF\n",
      "Per sequence quality scores converted to DF\n",
      "Per base sequence content converted to DF\n",
      "Per sequence GC content converted to DF\n",
      "Per base N content converted to DF\n",
      "Sequence Length Distribution converted to DF\n",
      "Sequence Duplication Levels converted to DF\n",
      "Overrepresented sequences converted to DF\n",
      "Adapter Content converted to DF\n"
     ]
    }
   ],
   "source": [
    "for category in ngs_reads:\n",
    "    if type(ngs_reads[category][0]) is dict:\n",
    "        ngs_reads[category] = ngs_reads[category].apply(pd.DataFrame)\n",
    "        print(category, 'converted to DF')"
   ]
  },
  {
   "cell_type": "markdown",
   "id": "e892b6f0",
   "metadata": {},
   "source": [
    "#### Show example data"
   ]
  },
  {
   "cell_type": "code",
   "execution_count": 4,
   "id": "c5b7f63b",
   "metadata": {},
   "outputs": [
    {
     "data": {
      "text/html": [
       "<div>\n",
       "<style scoped>\n",
       "    .dataframe tbody tr th:only-of-type {\n",
       "        vertical-align: middle;\n",
       "    }\n",
       "\n",
       "    .dataframe tbody tr th {\n",
       "        vertical-align: top;\n",
       "    }\n",
       "\n",
       "    .dataframe thead th {\n",
       "        text-align: right;\n",
       "    }\n",
       "</style>\n",
       "<table border=\"1\" class=\"dataframe\">\n",
       "  <thead>\n",
       "    <tr style=\"text-align: right;\">\n",
       "      <th></th>\n",
       "      <th>Per base sequence quality</th>\n",
       "      <th>Per tile sequence quality</th>\n",
       "      <th>Per sequence quality scores</th>\n",
       "      <th>Per base sequence content</th>\n",
       "      <th>Per sequence GC content</th>\n",
       "      <th>Per base N content</th>\n",
       "      <th>Sequence Length Distribution</th>\n",
       "      <th>Sequence Duplication Levels</th>\n",
       "      <th>Overrepresented sequences</th>\n",
       "      <th>Adapter Content</th>\n",
       "      <th>...</th>\n",
       "      <th>module_1_status</th>\n",
       "      <th>module_2_status</th>\n",
       "      <th>module_3_status</th>\n",
       "      <th>module_4_status</th>\n",
       "      <th>module_5_status</th>\n",
       "      <th>module_6_status</th>\n",
       "      <th>module_7_status</th>\n",
       "      <th>module_8_status</th>\n",
       "      <th>module_9_status</th>\n",
       "      <th>module_10_status</th>\n",
       "    </tr>\n",
       "  </thead>\n",
       "  <tbody>\n",
       "    <tr>\n",
       "      <th>0</th>\n",
       "      <td>Base       Mean  Median  Lower Quartile...</td>\n",
       "      <td>Tile     Base      Mean\n",
       "0     1101      ...</td>\n",
       "      <td>Quality     Count\n",
       "0         2       3.0\n",
       "1 ...</td>\n",
       "      <td>Base          G          A          T  ...</td>\n",
       "      <td>GC Content  Count\n",
       "0             0   3.00\n",
       "...</td>\n",
       "      <td>Base   N-Count\n",
       "0         1  0.479607\n",
       "1 ...</td>\n",
       "      <td>Length    Count\n",
       "0     30-39   4192.0\n",
       "1   ...</td>\n",
       "      <td>Duplication Level  Percentage of deduplicat...</td>\n",
       "      <td>Empty DataFrame\n",
       "Columns: []\n",
       "Index: []</td>\n",
       "      <td>Position  Illumina Universal Adapter  Illum...</td>\n",
       "      <td>...</td>\n",
       "      <td>0</td>\n",
       "      <td>2</td>\n",
       "      <td>2</td>\n",
       "      <td>0</td>\n",
       "      <td>2</td>\n",
       "      <td>2</td>\n",
       "      <td>1</td>\n",
       "      <td>2</td>\n",
       "      <td>2</td>\n",
       "      <td>2</td>\n",
       "    </tr>\n",
       "    <tr>\n",
       "      <th>1</th>\n",
       "      <td>Base       Mean  Median  Lower Quartile...</td>\n",
       "      <td>Tile     Base      Mean\n",
       "0     1101      ...</td>\n",
       "      <td>Quality    Count\n",
       "0        13      2.0\n",
       "1   ...</td>\n",
       "      <td>Base          G          A          T  ...</td>\n",
       "      <td>GC Content  Count\n",
       "0             0    0.0\n",
       "...</td>\n",
       "      <td>Base   N-Count\n",
       "0         1  0.009071\n",
       "1 ...</td>\n",
       "      <td>Length    Count\n",
       "0     30-39    189.0\n",
       "1   ...</td>\n",
       "      <td>Duplication Level  Percentage of deduplicat...</td>\n",
       "      <td>Empty DataFrame\n",
       "Columns: []\n",
       "Index: []</td>\n",
       "      <td>Position  Illumina Universal Adapter  Illum...</td>\n",
       "      <td>...</td>\n",
       "      <td>2</td>\n",
       "      <td>1</td>\n",
       "      <td>2</td>\n",
       "      <td>0</td>\n",
       "      <td>2</td>\n",
       "      <td>2</td>\n",
       "      <td>1</td>\n",
       "      <td>2</td>\n",
       "      <td>2</td>\n",
       "      <td>2</td>\n",
       "    </tr>\n",
       "    <tr>\n",
       "      <th>2</th>\n",
       "      <td>Base       Mean  Median  Lower Quartile...</td>\n",
       "      <td>Tile     Base      Mean\n",
       "0     1101      ...</td>\n",
       "      <td>Quality      Count\n",
       "0         2     1668.0\n",
       "...</td>\n",
       "      <td>Base          G          A          T  ...</td>\n",
       "      <td>GC Content   Count\n",
       "0             0  1668....</td>\n",
       "      <td>Base   N-Count\n",
       "0         1  0.029292\n",
       "1 ...</td>\n",
       "      <td>Length      Count\n",
       "0     30-39     4566.0\n",
       "...</td>\n",
       "      <td>Duplication Level  Percentage of deduplicat...</td>\n",
       "      <td>Empty DataFrame\n",
       "Columns: []\n",
       "Index: []</td>\n",
       "      <td>Position  Illumina Universal Adapter  Illum...</td>\n",
       "      <td>...</td>\n",
       "      <td>0</td>\n",
       "      <td>1</td>\n",
       "      <td>2</td>\n",
       "      <td>0</td>\n",
       "      <td>1</td>\n",
       "      <td>2</td>\n",
       "      <td>1</td>\n",
       "      <td>1</td>\n",
       "      <td>2</td>\n",
       "      <td>2</td>\n",
       "    </tr>\n",
       "    <tr>\n",
       "      <th>3</th>\n",
       "      <td>Base       Mean  Median  Lower Quartile...</td>\n",
       "      <td>Tile     Base      Mean\n",
       "0     1101      ...</td>\n",
       "      <td>Quality      Count\n",
       "0        12        2.0\n",
       "...</td>\n",
       "      <td>Base          G          A          T  ...</td>\n",
       "      <td>GC Content  Count\n",
       "0             0    0.0\n",
       "...</td>\n",
       "      <td>Base  N-Count\n",
       "0         1      0.0\n",
       "1   ...</td>\n",
       "      <td>Length     Count\n",
       "0     30-39    8954.0\n",
       "1 ...</td>\n",
       "      <td>Duplication Level  Percentage of deduplicat...</td>\n",
       "      <td>Empty DataFrame\n",
       "Columns: []\n",
       "Index: []</td>\n",
       "      <td>Position  Illumina Universal Adapter  Illum...</td>\n",
       "      <td>...</td>\n",
       "      <td>2</td>\n",
       "      <td>2</td>\n",
       "      <td>2</td>\n",
       "      <td>0</td>\n",
       "      <td>2</td>\n",
       "      <td>2</td>\n",
       "      <td>1</td>\n",
       "      <td>1</td>\n",
       "      <td>2</td>\n",
       "      <td>2</td>\n",
       "    </tr>\n",
       "    <tr>\n",
       "      <th>4</th>\n",
       "      <td>Base       Mean  Median  Lower Quartile...</td>\n",
       "      <td>Tile     Base       Mean\n",
       "0     1102     ...</td>\n",
       "      <td>Quality  Count\n",
       "0        15    3.0\n",
       "1       ...</td>\n",
       "      <td>Base          G          A          T  ...</td>\n",
       "      <td>GC Content  Count\n",
       "0             0    0.0\n",
       "...</td>\n",
       "      <td>Base  N-Count\n",
       "0         1      0.0\n",
       "1   ...</td>\n",
       "      <td>Length  Count\n",
       "0     65-69    1.0\n",
       "1     70...</td>\n",
       "      <td>Duplication Level  Percentage of deduplicat...</td>\n",
       "      <td>...</td>\n",
       "      <td>Position  Illumina Universal Adapter  Illum...</td>\n",
       "      <td>...</td>\n",
       "      <td>0</td>\n",
       "      <td>0</td>\n",
       "      <td>2</td>\n",
       "      <td>0</td>\n",
       "      <td>0</td>\n",
       "      <td>2</td>\n",
       "      <td>1</td>\n",
       "      <td>2</td>\n",
       "      <td>1</td>\n",
       "      <td>2</td>\n",
       "    </tr>\n",
       "    <tr>\n",
       "      <th>...</th>\n",
       "      <td>...</td>\n",
       "      <td>...</td>\n",
       "      <td>...</td>\n",
       "      <td>...</td>\n",
       "      <td>...</td>\n",
       "      <td>...</td>\n",
       "      <td>...</td>\n",
       "      <td>...</td>\n",
       "      <td>...</td>\n",
       "      <td>...</td>\n",
       "      <td>...</td>\n",
       "      <td>...</td>\n",
       "      <td>...</td>\n",
       "      <td>...</td>\n",
       "      <td>...</td>\n",
       "      <td>...</td>\n",
       "      <td>...</td>\n",
       "      <td>...</td>\n",
       "      <td>...</td>\n",
       "      <td>...</td>\n",
       "      <td>...</td>\n",
       "    </tr>\n",
       "    <tr>\n",
       "      <th>179</th>\n",
       "      <td>Base       Mean  Median  Lower Quartile...</td>\n",
       "      <td>Tile     Base      Mean\n",
       "0     1101      ...</td>\n",
       "      <td>Quality     Count\n",
       "0        15       1.0\n",
       "1 ...</td>\n",
       "      <td>Base          G          A          T  ...</td>\n",
       "      <td>GC Content  Count\n",
       "0             0    0.0\n",
       "...</td>\n",
       "      <td>Base   N-Count\n",
       "0         1  0.080016\n",
       "1 ...</td>\n",
       "      <td>Length     Count\n",
       "0     35-39    4455.0\n",
       "1 ...</td>\n",
       "      <td>Duplication Level  Percentage of deduplicat...</td>\n",
       "      <td>Se...</td>\n",
       "      <td>Position  Illumina Universal Adapter  Illum...</td>\n",
       "      <td>...</td>\n",
       "      <td>2</td>\n",
       "      <td>2</td>\n",
       "      <td>2</td>\n",
       "      <td>0</td>\n",
       "      <td>2</td>\n",
       "      <td>2</td>\n",
       "      <td>1</td>\n",
       "      <td>0</td>\n",
       "      <td>1</td>\n",
       "      <td>2</td>\n",
       "    </tr>\n",
       "    <tr>\n",
       "      <th>180</th>\n",
       "      <td>Base       Mean  Median  Lower Quartile...</td>\n",
       "      <td>Tile     Base      Mean\n",
       "0     1101      ...</td>\n",
       "      <td>Quality     Count\n",
       "0         2       1.0\n",
       "1 ...</td>\n",
       "      <td>Base          G          A          T  ...</td>\n",
       "      <td>GC Content      Count\n",
       "0             0   3...</td>\n",
       "      <td>Base   N-Count\n",
       "0         1  0.000708\n",
       "1 ...</td>\n",
       "      <td>Length     Count\n",
       "0     35-39    5799.0\n",
       "1 ...</td>\n",
       "      <td>Duplication Level  Percentage of deduplicat...</td>\n",
       "      <td>Empty DataFrame\n",
       "Columns: []\n",
       "Index: []</td>\n",
       "      <td>Position  Illumina Universal Adapter  Illum...</td>\n",
       "      <td>...</td>\n",
       "      <td>2</td>\n",
       "      <td>2</td>\n",
       "      <td>2</td>\n",
       "      <td>0</td>\n",
       "      <td>2</td>\n",
       "      <td>2</td>\n",
       "      <td>1</td>\n",
       "      <td>0</td>\n",
       "      <td>2</td>\n",
       "      <td>2</td>\n",
       "    </tr>\n",
       "    <tr>\n",
       "      <th>181</th>\n",
       "      <td>Base       Mean  Median  Lower Quartile...</td>\n",
       "      <td>Tile     Base      Mean\n",
       "0     1101      ...</td>\n",
       "      <td>Quality     Count\n",
       "0        16       2.0\n",
       "1 ...</td>\n",
       "      <td>Base          G          A          T  ...</td>\n",
       "      <td>GC Content  Count\n",
       "0             0    0.0\n",
       "...</td>\n",
       "      <td>Base   N-Count\n",
       "0         1  0.080888\n",
       "1 ...</td>\n",
       "      <td>Length     Count\n",
       "0     35-39    1949.0\n",
       "1 ...</td>\n",
       "      <td>Duplication Level  Percentage of deduplicat...</td>\n",
       "      <td>Se...</td>\n",
       "      <td>Position  Illumina Universal Adapter  Illum...</td>\n",
       "      <td>...</td>\n",
       "      <td>2</td>\n",
       "      <td>2</td>\n",
       "      <td>2</td>\n",
       "      <td>0</td>\n",
       "      <td>2</td>\n",
       "      <td>2</td>\n",
       "      <td>1</td>\n",
       "      <td>0</td>\n",
       "      <td>1</td>\n",
       "      <td>2</td>\n",
       "    </tr>\n",
       "    <tr>\n",
       "      <th>182</th>\n",
       "      <td>Base       Mean  Median  Lower Quartile...</td>\n",
       "      <td>Tile     Base      Mean\n",
       "0     1101      ...</td>\n",
       "      <td>Quality     Count\n",
       "0         2       1.0\n",
       "1 ...</td>\n",
       "      <td>Base          G          A          T  ...</td>\n",
       "      <td>GC Content      Count\n",
       "0             0   0...</td>\n",
       "      <td>Base   N-Count\n",
       "0         1  0.000365\n",
       "1 ...</td>\n",
       "      <td>Length     Count\n",
       "0     35-39    4278.0\n",
       "1 ...</td>\n",
       "      <td>Duplication Level  Percentage of deduplicat...</td>\n",
       "      <td>Empty DataFrame\n",
       "Columns: []\n",
       "Index: []</td>\n",
       "      <td>Position  Illumina Universal Adapter  Illum...</td>\n",
       "      <td>...</td>\n",
       "      <td>2</td>\n",
       "      <td>2</td>\n",
       "      <td>2</td>\n",
       "      <td>0</td>\n",
       "      <td>2</td>\n",
       "      <td>2</td>\n",
       "      <td>1</td>\n",
       "      <td>0</td>\n",
       "      <td>2</td>\n",
       "      <td>2</td>\n",
       "    </tr>\n",
       "    <tr>\n",
       "      <th>183</th>\n",
       "      <td>Base       Mean  Median  Lower Quartile...</td>\n",
       "      <td>Tile     Base      Mean\n",
       "0     1101      ...</td>\n",
       "      <td>Quality     Count\n",
       "0        16       2.0\n",
       "1 ...</td>\n",
       "      <td>Base          G          A          T  ...</td>\n",
       "      <td>GC Content  Count\n",
       "0             0    0.0\n",
       "...</td>\n",
       "      <td>Base   N-Count\n",
       "0         1  0.083286\n",
       "1 ...</td>\n",
       "      <td>Length     Count\n",
       "0     35-39    4284.0\n",
       "1 ...</td>\n",
       "      <td>Duplication Level  Percentage of deduplicat...</td>\n",
       "      <td>Empty DataFrame\n",
       "Columns: []\n",
       "Index: []</td>\n",
       "      <td>Position  Illumina Universal Adapter  Illum...</td>\n",
       "      <td>...</td>\n",
       "      <td>2</td>\n",
       "      <td>2</td>\n",
       "      <td>2</td>\n",
       "      <td>0</td>\n",
       "      <td>2</td>\n",
       "      <td>2</td>\n",
       "      <td>1</td>\n",
       "      <td>0</td>\n",
       "      <td>2</td>\n",
       "      <td>2</td>\n",
       "    </tr>\n",
       "  </tbody>\n",
       "</table>\n",
       "<p>184 rows × 28 columns</p>\n",
       "</div>"
      ],
      "text/plain": [
       "                             Per base sequence quality  \\\n",
       "0           Base       Mean  Median  Lower Quartile...   \n",
       "1           Base       Mean  Median  Lower Quartile...   \n",
       "2           Base       Mean  Median  Lower Quartile...   \n",
       "3           Base       Mean  Median  Lower Quartile...   \n",
       "4           Base       Mean  Median  Lower Quartile...   \n",
       "..                                                 ...   \n",
       "179         Base       Mean  Median  Lower Quartile...   \n",
       "180         Base       Mean  Median  Lower Quartile...   \n",
       "181         Base       Mean  Median  Lower Quartile...   \n",
       "182         Base       Mean  Median  Lower Quartile...   \n",
       "183         Base       Mean  Median  Lower Quartile...   \n",
       "\n",
       "                             Per tile sequence quality  \\\n",
       "0          Tile     Base      Mean\n",
       "0     1101      ...   \n",
       "1          Tile     Base      Mean\n",
       "0     1101      ...   \n",
       "2          Tile     Base      Mean\n",
       "0     1101      ...   \n",
       "3          Tile     Base      Mean\n",
       "0     1101      ...   \n",
       "4          Tile     Base       Mean\n",
       "0     1102     ...   \n",
       "..                                                 ...   \n",
       "179        Tile     Base      Mean\n",
       "0     1101      ...   \n",
       "180        Tile     Base      Mean\n",
       "0     1101      ...   \n",
       "181        Tile     Base      Mean\n",
       "0     1101      ...   \n",
       "182        Tile     Base      Mean\n",
       "0     1101      ...   \n",
       "183        Tile     Base      Mean\n",
       "0     1101      ...   \n",
       "\n",
       "                           Per sequence quality scores  \\\n",
       "0        Quality     Count\n",
       "0         2       3.0\n",
       "1 ...   \n",
       "1        Quality    Count\n",
       "0        13      2.0\n",
       "1   ...   \n",
       "2        Quality      Count\n",
       "0         2     1668.0\n",
       "...   \n",
       "3        Quality      Count\n",
       "0        12        2.0\n",
       "...   \n",
       "4        Quality  Count\n",
       "0        15    3.0\n",
       "1       ...   \n",
       "..                                                 ...   \n",
       "179      Quality     Count\n",
       "0        15       1.0\n",
       "1 ...   \n",
       "180      Quality     Count\n",
       "0         2       1.0\n",
       "1 ...   \n",
       "181      Quality     Count\n",
       "0        16       2.0\n",
       "1 ...   \n",
       "182      Quality     Count\n",
       "0         2       1.0\n",
       "1 ...   \n",
       "183      Quality     Count\n",
       "0        16       2.0\n",
       "1 ...   \n",
       "\n",
       "                             Per base sequence content  \\\n",
       "0           Base          G          A          T  ...   \n",
       "1           Base          G          A          T  ...   \n",
       "2           Base          G          A          T  ...   \n",
       "3           Base          G          A          T  ...   \n",
       "4           Base          G          A          T  ...   \n",
       "..                                                 ...   \n",
       "179         Base          G          A          T  ...   \n",
       "180         Base          G          A          T  ...   \n",
       "181         Base          G          A          T  ...   \n",
       "182         Base          G          A          T  ...   \n",
       "183         Base          G          A          T  ...   \n",
       "\n",
       "                               Per sequence GC content  \\\n",
       "0         GC Content  Count\n",
       "0             0   3.00\n",
       "...   \n",
       "1         GC Content  Count\n",
       "0             0    0.0\n",
       "...   \n",
       "2         GC Content   Count\n",
       "0             0  1668....   \n",
       "3         GC Content  Count\n",
       "0             0    0.0\n",
       "...   \n",
       "4         GC Content  Count\n",
       "0             0    0.0\n",
       "...   \n",
       "..                                                 ...   \n",
       "179       GC Content  Count\n",
       "0             0    0.0\n",
       "...   \n",
       "180       GC Content      Count\n",
       "0             0   3...   \n",
       "181       GC Content  Count\n",
       "0             0    0.0\n",
       "...   \n",
       "182       GC Content      Count\n",
       "0             0   0...   \n",
       "183       GC Content  Count\n",
       "0             0    0.0\n",
       "...   \n",
       "\n",
       "                                    Per base N content  \\\n",
       "0           Base   N-Count\n",
       "0         1  0.479607\n",
       "1 ...   \n",
       "1           Base   N-Count\n",
       "0         1  0.009071\n",
       "1 ...   \n",
       "2           Base   N-Count\n",
       "0         1  0.029292\n",
       "1 ...   \n",
       "3           Base  N-Count\n",
       "0         1      0.0\n",
       "1   ...   \n",
       "4           Base  N-Count\n",
       "0         1      0.0\n",
       "1   ...   \n",
       "..                                                 ...   \n",
       "179         Base   N-Count\n",
       "0         1  0.080016\n",
       "1 ...   \n",
       "180         Base   N-Count\n",
       "0         1  0.000708\n",
       "1 ...   \n",
       "181         Base   N-Count\n",
       "0         1  0.080888\n",
       "1 ...   \n",
       "182         Base   N-Count\n",
       "0         1  0.000365\n",
       "1 ...   \n",
       "183         Base   N-Count\n",
       "0         1  0.083286\n",
       "1 ...   \n",
       "\n",
       "                          Sequence Length Distribution  \\\n",
       "0         Length    Count\n",
       "0     30-39   4192.0\n",
       "1   ...   \n",
       "1         Length    Count\n",
       "0     30-39    189.0\n",
       "1   ...   \n",
       "2         Length      Count\n",
       "0     30-39     4566.0\n",
       "...   \n",
       "3         Length     Count\n",
       "0     30-39    8954.0\n",
       "1 ...   \n",
       "4         Length  Count\n",
       "0     65-69    1.0\n",
       "1     70...   \n",
       "..                                                 ...   \n",
       "179       Length     Count\n",
       "0     35-39    4455.0\n",
       "1 ...   \n",
       "180       Length     Count\n",
       "0     35-39    5799.0\n",
       "1 ...   \n",
       "181       Length     Count\n",
       "0     35-39    1949.0\n",
       "1 ...   \n",
       "182       Length     Count\n",
       "0     35-39    4278.0\n",
       "1 ...   \n",
       "183       Length     Count\n",
       "0     35-39    4284.0\n",
       "1 ...   \n",
       "\n",
       "                           Sequence Duplication Levels  \\\n",
       "0       Duplication Level  Percentage of deduplicat...   \n",
       "1       Duplication Level  Percentage of deduplicat...   \n",
       "2       Duplication Level  Percentage of deduplicat...   \n",
       "3       Duplication Level  Percentage of deduplicat...   \n",
       "4       Duplication Level  Percentage of deduplicat...   \n",
       "..                                                 ...   \n",
       "179     Duplication Level  Percentage of deduplicat...   \n",
       "180     Duplication Level  Percentage of deduplicat...   \n",
       "181     Duplication Level  Percentage of deduplicat...   \n",
       "182     Duplication Level  Percentage of deduplicat...   \n",
       "183     Duplication Level  Percentage of deduplicat...   \n",
       "\n",
       "                             Overrepresented sequences  \\\n",
       "0                Empty DataFrame\n",
       "Columns: []\n",
       "Index: []   \n",
       "1                Empty DataFrame\n",
       "Columns: []\n",
       "Index: []   \n",
       "2                Empty DataFrame\n",
       "Columns: []\n",
       "Index: []   \n",
       "3                Empty DataFrame\n",
       "Columns: []\n",
       "Index: []   \n",
       "4                                                  ...   \n",
       "..                                                 ...   \n",
       "179                                              Se...   \n",
       "180              Empty DataFrame\n",
       "Columns: []\n",
       "Index: []   \n",
       "181                                              Se...   \n",
       "182              Empty DataFrame\n",
       "Columns: []\n",
       "Index: []   \n",
       "183              Empty DataFrame\n",
       "Columns: []\n",
       "Index: []   \n",
       "\n",
       "                                       Adapter Content  ... module_1_status  \\\n",
       "0       Position  Illumina Universal Adapter  Illum...  ...               0   \n",
       "1       Position  Illumina Universal Adapter  Illum...  ...               2   \n",
       "2       Position  Illumina Universal Adapter  Illum...  ...               0   \n",
       "3       Position  Illumina Universal Adapter  Illum...  ...               2   \n",
       "4       Position  Illumina Universal Adapter  Illum...  ...               0   \n",
       "..                                                 ...  ...             ...   \n",
       "179     Position  Illumina Universal Adapter  Illum...  ...               2   \n",
       "180     Position  Illumina Universal Adapter  Illum...  ...               2   \n",
       "181     Position  Illumina Universal Adapter  Illum...  ...               2   \n",
       "182     Position  Illumina Universal Adapter  Illum...  ...               2   \n",
       "183     Position  Illumina Universal Adapter  Illum...  ...               2   \n",
       "\n",
       "    module_2_status  module_3_status  module_4_status  module_5_status  \\\n",
       "0                 2                2                0                2   \n",
       "1                 1                2                0                2   \n",
       "2                 1                2                0                1   \n",
       "3                 2                2                0                2   \n",
       "4                 0                2                0                0   \n",
       "..              ...              ...              ...              ...   \n",
       "179               2                2                0                2   \n",
       "180               2                2                0                2   \n",
       "181               2                2                0                2   \n",
       "182               2                2                0                2   \n",
       "183               2                2                0                2   \n",
       "\n",
       "     module_6_status  module_7_status  module_8_status  module_9_status  \\\n",
       "0                  2                1                2                2   \n",
       "1                  2                1                2                2   \n",
       "2                  2                1                1                2   \n",
       "3                  2                1                1                2   \n",
       "4                  2                1                2                1   \n",
       "..               ...              ...              ...              ...   \n",
       "179                2                1                0                1   \n",
       "180                2                1                0                2   \n",
       "181                2                1                0                1   \n",
       "182                2                1                0                2   \n",
       "183                2                1                0                2   \n",
       "\n",
       "     module_10_status  \n",
       "0                   2  \n",
       "1                   2  \n",
       "2                   2  \n",
       "3                   2  \n",
       "4                   2  \n",
       "..                ...  \n",
       "179                 2  \n",
       "180                 2  \n",
       "181                 2  \n",
       "182                 2  \n",
       "183                 2  \n",
       "\n",
       "[184 rows x 28 columns]"
      ]
     },
     "execution_count": 4,
     "metadata": {},
     "output_type": "execute_result"
    }
   ],
   "source": [
    "ngs_reads"
   ]
  },
  {
   "cell_type": "markdown",
   "id": "d4875509",
   "metadata": {},
   "source": [
    "### Module 1- Per base sequence quality\n",
    "\n",
    "[Documentation:](https://www.bioinformatics.babraham.ac.uk/projects/fastqc/Help/3%20Analysis%20Modules/2%20Per%20Base%20Sequence%20Quality.html)\n",
    "> This view shows an overview of the range of quality values across all bases at each position in the FastQ file.\n",
    " For each position a BoxWhisker type plot is drawn. The elements of the plot are as follows:\n",
    " > * The central red line is the median value\n",
    " > * The yellow box represents the inter-quartile range (25-75%)\n",
    " > * The upper and lower whiskers represent the 10% and 90% points\n",
    " > * The blue line represents the mean quality\n",
    "\n",
    "> The y-axis on the graph shows the quality scores. The higher the score the better the base call. The background of the graph divides the y axis into very good quality calls (green), calls of reasonable quality (orange), and calls of poor quality (red). The quality of calls on most platforms will degrade as the run progresses, so it is common to see base calls falling into the orange area towards the end of a read. \n",
    "It should be mentioned that there are number of different ways to encode a quality score in a FastQ file. FastQC attempts to automatically determine which encoding method was used, but in some very limited datasets it is possible that it will guess this incorrectly (ironically only when your data is universally very good!). The title of the graph will describe the encoding FastQC thinks your file used. \n",
    "Results from this module will not be displayed if your input is a BAM/SAM file in which quality scores have not been recorded. \n",
    "\n",
    "![Example Per base sequence quality](https://www.bioinformatics.babraham.ac.uk/projects/fastqc/Help/3%20Analysis%20Modules/per_base_quality.png)  "
   ]
  },
  {
   "cell_type": "code",
   "execution_count": 5,
   "id": "c791e062",
   "metadata": {},
   "outputs": [],
   "source": [
    "# Todo: Feature engineering"
   ]
  },
  {
   "cell_type": "code",
   "execution_count": 6,
   "id": "a1d44e3d",
   "metadata": {},
   "outputs": [],
   "source": [
    "#drop original column after feature extraction\n",
    "ngs_reads.drop(columns='Per base sequence quality', inplace=True)"
   ]
  },
  {
   "cell_type": "markdown",
   "id": "3a63ad5a",
   "metadata": {},
   "source": [
    "### Module 2 - Per tile sequence quality\n",
    "\n",
    "[Documentation:](https://www.bioinformatics.babraham.ac.uk/projects/fastqc/Help/3%20Analysis%20Modules/12%20Per%20Tile%20Sequence%20Quality.html)\n",
    ">  This graph will only appear in your analysis results if you're using an Illumina library which retains its original sequence identifiers. Encoded in these is the flowcell tile from which each read came. The graph allows you to look at the quality scores from each tile across all of your bases to see if there was a loss in quality associated with only one part of the flowcell.  \n",
    "The plot shows the deviation from the average quality for each tile. The colours are on a cold to hot scale, with cold colours being positions where the quality was at or above the average for that base in the run, and hotter colours indicate that a tile had worse qualities than other tiles for that base. In the example below you can see that certain tiles show consistently poor quality. A good plot should be blue all over.\n",
    "\n",
    "![Example Per tile sequence quality](https://www.bioinformatics.babraham.ac.uk/projects/fastqc/Help/3%20Analysis%20Modules/per_tile_quality.png)  "
   ]
  },
  {
   "cell_type": "markdown",
   "id": "679caba8",
   "metadata": {},
   "source": [
    "#### Extract features for module 2 based on averages grouped by tiles (with weighting)"
   ]
  },
  {
   "cell_type": "code",
   "execution_count": 7,
   "id": "630a1a6d",
   "metadata": {},
   "outputs": [
    {
     "data": {
      "text/html": [
       "<div>\n",
       "<style scoped>\n",
       "    .dataframe tbody tr th:only-of-type {\n",
       "        vertical-align: middle;\n",
       "    }\n",
       "\n",
       "    .dataframe tbody tr th {\n",
       "        vertical-align: top;\n",
       "    }\n",
       "\n",
       "    .dataframe thead th {\n",
       "        text-align: right;\n",
       "    }\n",
       "</style>\n",
       "<table border=\"1\" class=\"dataframe\">\n",
       "  <thead>\n",
       "    <tr style=\"text-align: right;\">\n",
       "      <th></th>\n",
       "      <th>Tile</th>\n",
       "      <th>Base</th>\n",
       "      <th>Mean</th>\n",
       "    </tr>\n",
       "  </thead>\n",
       "  <tbody>\n",
       "    <tr>\n",
       "      <th>0</th>\n",
       "      <td>1101</td>\n",
       "      <td>1</td>\n",
       "      <td>0.030195</td>\n",
       "    </tr>\n",
       "    <tr>\n",
       "      <th>1</th>\n",
       "      <td>1101</td>\n",
       "      <td>2</td>\n",
       "      <td>-0.063217</td>\n",
       "    </tr>\n",
       "    <tr>\n",
       "      <th>2</th>\n",
       "      <td>1101</td>\n",
       "      <td>3</td>\n",
       "      <td>-0.013447</td>\n",
       "    </tr>\n",
       "    <tr>\n",
       "      <th>3</th>\n",
       "      <td>1101</td>\n",
       "      <td>4</td>\n",
       "      <td>0.033154</td>\n",
       "    </tr>\n",
       "    <tr>\n",
       "      <th>4</th>\n",
       "      <td>1101</td>\n",
       "      <td>5</td>\n",
       "      <td>0.003146</td>\n",
       "    </tr>\n",
       "    <tr>\n",
       "      <th>...</th>\n",
       "      <td>...</td>\n",
       "      <td>...</td>\n",
       "      <td>...</td>\n",
       "    </tr>\n",
       "    <tr>\n",
       "      <th>2579</th>\n",
       "      <td>2119</td>\n",
       "      <td>280-284</td>\n",
       "      <td>-0.172432</td>\n",
       "    </tr>\n",
       "    <tr>\n",
       "      <th>2580</th>\n",
       "      <td>2119</td>\n",
       "      <td>285-289</td>\n",
       "      <td>-1.815671</td>\n",
       "    </tr>\n",
       "    <tr>\n",
       "      <th>2581</th>\n",
       "      <td>2119</td>\n",
       "      <td>290-294</td>\n",
       "      <td>0.908856</td>\n",
       "    </tr>\n",
       "    <tr>\n",
       "      <th>2582</th>\n",
       "      <td>2119</td>\n",
       "      <td>295-299</td>\n",
       "      <td>0.152131</td>\n",
       "    </tr>\n",
       "    <tr>\n",
       "      <th>2583</th>\n",
       "      <td>2119</td>\n",
       "      <td>300-301</td>\n",
       "      <td>1.562598</td>\n",
       "    </tr>\n",
       "  </tbody>\n",
       "</table>\n",
       "<p>2584 rows × 3 columns</p>\n",
       "</div>"
      ],
      "text/plain": [
       "      Tile     Base      Mean\n",
       "0     1101        1  0.030195\n",
       "1     1101        2 -0.063217\n",
       "2     1101        3 -0.013447\n",
       "3     1101        4  0.033154\n",
       "4     1101        5  0.003146\n",
       "...    ...      ...       ...\n",
       "2579  2119  280-284 -0.172432\n",
       "2580  2119  285-289 -1.815671\n",
       "2581  2119  290-294  0.908856\n",
       "2582  2119  295-299  0.152131\n",
       "2583  2119  300-301  1.562598\n",
       "\n",
       "[2584 rows x 3 columns]"
      ]
     },
     "execution_count": 7,
     "metadata": {},
     "output_type": "execute_result"
    }
   ],
   "source": [
    "# the bases for each tile are grouped inconsistently - the first 9 bases are always ungrouped,\n",
    "# the following bases are grouped in 5, the last bases are grouped until the end (<5)\n",
    "# example:\n",
    "ngs_reads['Per tile sequence quality'][0]\n",
    "# to calculate the correct mean, weights have to be added to enable calculating the weighted average per tile"
   ]
  },
  {
   "cell_type": "code",
   "execution_count": 8,
   "id": "6981e429",
   "metadata": {},
   "outputs": [],
   "source": [
    "def add_weights_tiles(row):\n",
    "    bases = [int(d) for d in str(row['Base']).split('-')]\n",
    "    if len(bases) == 1:\n",
    "        return 1\n",
    "    elif len(bases) == 2:\n",
    "        return bases[1]-bases[0]+1"
   ]
  },
  {
   "cell_type": "code",
   "execution_count": 9,
   "id": "08cc1fb9",
   "metadata": {},
   "outputs": [],
   "source": [
    "def means_per_tile(row):\n",
    "    module_2 = row['Per tile sequence quality'].copy()\n",
    "    module_2[\"weight\"] = module_2.apply(add_weights_tiles, axis=1)\n",
    "    weighted_avg = module_2.groupby('Tile').apply(lambda x: np.average(x['Mean'], weights=x['weight']))\n",
    "\n",
    "    \n",
    "    std_neg = np.std(weighted_avg[weighted_avg < 0])\n",
    "    std_pos = np.std(weighted_avg[weighted_avg >= 0])\n",
    "    #mean_neg = np.mean((weighted_avg[weighted_avg < 0]), axis=0)\n",
    "    #mean_pos = np.mean((weighted_avg[weighted_avg >= 0]), axis=0)\n",
    "    \n",
    "    #bimodal seperation - https://en.wikipedia.org/wiki/Multimodal_distribution#Bimodal_separation\n",
    "    #bimodal_s = (mean_pos - mean_neg)/(2*(std_pos + std_neg))\n",
    "\n",
    "    sum_negatives = np.sum(weighted_avg[weighted_avg <0])\n",
    "    sum_positives = np.sum(weighted_avg[weighted_avg >= 0])\n",
    "    a = (sum_positives - np.abs(sum_negatives))/sum_positives\n",
    "    #mean_negatives = np.mean((weighted_avg[weighted_avg < 0]), axis=0)\n",
    "    #mean_positives = np.mean((weighted_avg[weighted_avg >= 0]), axis=0)\n",
    "    #mean = np.mean(weighted_avg)\n",
    "    return std_neg, std_pos, a, weighted_avg #, sum_positives, mean_negatives, mean_positives, std, mean\n",
    "\n",
    "    # tested features show very similar behaviour: std and neg/pos mean have the same characteristics\n",
    "    # sum_positive and sum_negative mirror each other, mean and sum of all always very close to 0 (why?)\n",
    "    # leaving sum_negatives in for now, any other characteristics?\n",
    "    # returning completed weighted averages for data exploration"
   ]
  },
  {
   "cell_type": "code",
   "execution_count": 10,
   "id": "91edd897",
   "metadata": {},
   "outputs": [],
   "source": [
    "#ngs_reads[['module_2_std', 'module_2_sum_pos', 'module_2_mean_neg', 'module_2_mean_pos', 'module_2_std', 'module_2_mean'\n",
    "#          ]] = ngs_reads.apply(create_means_df, axis=1, result_type='expand')"
   ]
  },
  {
   "cell_type": "code",
   "execution_count": 11,
   "id": "41e8b341",
   "metadata": {},
   "outputs": [],
   "source": [
    "ngs_reads[['module_2_std_neg', 'module_2_std_pos', 'module_2_a', 'module_2_weighted_avgs'\n",
    "          ]] = ngs_reads.apply(means_per_tile, axis=1, result_type='expand')"
   ]
  },
  {
   "cell_type": "code",
   "execution_count": 12,
   "id": "b961f491",
   "metadata": {},
   "outputs": [
    {
     "data": {
      "text/plain": [
       "<AxesSubplot:>"
      ]
     },
     "execution_count": 12,
     "metadata": {},
     "output_type": "execute_result"
    },
    {
     "data": {
      "image/png": "[encoded data removed]",
      "text/plain": [
       "<Figure size 432x288 with 1 Axes>"
      ]
     },
     "metadata": {
      "needs_background": "light"
     },
     "output_type": "display_data"
    }
   ],
   "source": [
    "ngs_reads['module_2_a'].plot(kind='bar')"
   ]
  },
  {
   "cell_type": "code",
   "execution_count": 13,
   "id": "70017a94",
   "metadata": {},
   "outputs": [
    {
     "data": {
      "text/plain": [
       "<AxesSubplot:>"
      ]
     },
     "execution_count": 13,
     "metadata": {},
     "output_type": "execute_result"
    },
    {
     "data": {
      "image/png": "[encoded data removed]",
      "text/plain": [
       "<Figure size 432x288 with 1 Axes>"
      ]
     },
     "metadata": {
      "needs_background": "light"
     },
     "output_type": "display_data"
    }
   ],
   "source": [
    "ngs_reads['module_2_std_pos'].plot(kind='bar')"
   ]
  },
  {
   "cell_type": "code",
   "execution_count": 14,
   "id": "3283ebf0",
   "metadata": {},
   "outputs": [],
   "source": [
    "#ngs_reads['module_2_sum_neg'].plot(kind='bar')"
   ]
  },
  {
   "cell_type": "markdown",
   "id": "38ee23b6",
   "metadata": {},
   "source": [
    "#### Weighted averages examples"
   ]
  },
  {
   "cell_type": "code",
   "execution_count": 15,
   "id": "e428b449",
   "metadata": {},
   "outputs": [
    {
     "data": {
      "text/plain": [
       "<AxesSubplot:xlabel='Tile'>"
      ]
     },
     "execution_count": 15,
     "metadata": {},
     "output_type": "execute_result"
    },
    {
     "data": {
      "image/png": "[encoded data removed]",
      "text/plain": [
       "<Figure size 432x288 with 1 Axes>"
      ]
     },
     "metadata": {
      "needs_background": "light"
     },
     "output_type": "display_data"
    }
   ],
   "source": [
    "ngs_reads['module_2_weighted_avgs'][0].plot(kind='bar')"
   ]
  },
  {
   "cell_type": "code",
   "execution_count": 16,
   "id": "aea99b03",
   "metadata": {},
   "outputs": [
    {
     "data": {
      "text/plain": [
       "<AxesSubplot:xlabel='Tile'>"
      ]
     },
     "execution_count": 16,
     "metadata": {},
     "output_type": "execute_result"
    },
    {
     "data": {
      "image/png": "[encoded data removed]",
      "text/plain": [
       "<Figure size 432x288 with 1 Axes>"
      ]
     },
     "metadata": {
      "needs_background": "light"
     },
     "output_type": "display_data"
    }
   ],
   "source": [
    "ngs_reads['module_2_weighted_avgs'][4].plot(kind='bar')"
   ]
  },
  {
   "cell_type": "code",
   "execution_count": 17,
   "id": "a3a7a1c0",
   "metadata": {},
   "outputs": [
    {
     "data": {
      "text/plain": [
       "<AxesSubplot:ylabel='Frequency'>"
      ]
     },
     "execution_count": 17,
     "metadata": {},
     "output_type": "execute_result"
    },
    {
     "data": {
      "image/png": "[encoded data removed]",
      "text/plain": [
       "<Figure size 432x288 with 1 Axes>"
      ]
     },
     "metadata": {
      "needs_background": "light"
     },
     "output_type": "display_data"
    }
   ],
   "source": [
    "ngs_reads['module_2_weighted_avgs'][0].plot(kind='hist')"
   ]
  },
  {
   "cell_type": "code",
   "execution_count": 18,
   "id": "73a5c97d",
   "metadata": {},
   "outputs": [
    {
     "data": {
      "text/plain": [
       "<AxesSubplot:ylabel='Frequency'>"
      ]
     },
     "execution_count": 18,
     "metadata": {},
     "output_type": "execute_result"
    },
    {
     "data": {
      "image/png": "[encoded data removed]",
      "text/plain": [
       "<Figure size 432x288 with 1 Axes>"
      ]
     },
     "metadata": {
      "needs_background": "light"
     },
     "output_type": "display_data"
    }
   ],
   "source": [
    "ngs_reads['module_2_weighted_avgs'][4].plot(kind='hist')"
   ]
  },
  {
   "cell_type": "code",
   "execution_count": 19,
   "id": "9e45d4f7",
   "metadata": {},
   "outputs": [],
   "source": [
    "ngs_reads.drop(columns='module_2_weighted_avgs', inplace=True) # not a feature\n",
    "ngs_reads.drop(columns='Per tile sequence quality', inplace=True) # drop original column after feature extraction"
   ]
  },
  {
   "cell_type": "markdown",
   "id": "8bc8d5ee",
   "metadata": {},
   "source": [
    "### Module 3 - Per sequence quality scores\n",
    "[Documentation:](https://www.bioinformatics.babraham.ac.uk/projects/fastqc/Help/3%20Analysis%20Modules/3%20Per%20Sequence%20Quality%20Scores.html)\n",
    "> The per sequence quality score report allows you to see if a subset of your sequences have universally low quality values. It is often the case that a subset of sequences will have universally poor quality, often because they are poorly imaged (on the edge of the field of view etc), however these should represent only a small percentage of the total sequences.\n",
    " If a significant proportion of the sequences in a run have overall low quality then this could indicate some kind of systematic problem - possibly with just part of the run (for example one end of a flowcell).\n",
    "\n",
    "![Example Per sequence quality scores](https://www.bioinformatics.babraham.ac.uk/projects/fastqc/Help/3%20Analysis%20Modules/per_sequence_quality.png)  "
   ]
  },
  {
   "cell_type": "code",
   "execution_count": 20,
   "id": "7b4e01d6",
   "metadata": {},
   "outputs": [
    {
     "data": {
      "text/plain": [
       "<AxesSubplot:>"
      ]
     },
     "execution_count": 20,
     "metadata": {},
     "output_type": "execute_result"
    },
    {
     "data": {
      "image/png": "[encoded data removed]",
      "text/plain": [
       "<Figure size 432x288 with 1 Axes>"
      ]
     },
     "metadata": {
      "needs_background": "light"
     },
     "output_type": "display_data"
    }
   ],
   "source": [
    "ngs_reads['Per sequence quality scores'][9]['Count'].plot()"
   ]
  },
  {
   "cell_type": "markdown",
   "id": "bd17f036",
   "metadata": {},
   "source": [
    "Option A using beta.fit"
   ]
  },
  {
   "cell_type": "code",
   "execution_count": 21,
   "id": "e396c96b",
   "metadata": {},
   "outputs": [
    {
     "name": "stdout",
     "output_type": "stream",
     "text": [
      "20.269345696086283 1.8839927354576904\n"
     ]
    },
    {
     "data": {
      "image/png": "[encoded data removed]",
      "text/plain": [
       "<Figure size 432x288 with 2 Axes>"
      ]
     },
     "metadata": {
      "needs_background": "light"
     },
     "output_type": "display_data"
    }
   ],
   "source": [
    "table = ngs_reads['Per sequence quality scores'][1].copy()\n",
    "x = table['Quality']\n",
    "x = x/(x.iloc[-1]+1)\n",
    "y = table['Count']\n",
    "\n",
    "dataset=[]\n",
    "for i in range(len(x)):\n",
    "    for j in range(int(y[i])):\n",
    "        dataset.append(x[i])\n",
    "\n",
    "data_a = np.array(dataset)\n",
    "\n",
    "a, b, loc, scale  = beta.fit(data_a, floc=0, fscale=1)\n",
    "print(a, b)\n",
    "\n",
    "pdf = beta.pdf(x, a, b)\n",
    "\n",
    "fig, ax1 = plt.subplots()\n",
    "ax1.plot(x, pdf, \"r-\")#, x, y2, \"r--\", x, y3, \"g--\")\n",
    "ax2 = ax1.twinx()\n",
    "ax2.hist(data_a, alpha=0.75, color='green', bins=len(table))\n",
    "fig.tight_layout()\n",
    "plt.show()"
   ]
  },
  {
   "cell_type": "markdown",
   "id": "de93cdbf",
   "metadata": {},
   "source": [
    "Option B using curve_fit"
   ]
  },
  {
   "cell_type": "code",
   "execution_count": 22,
   "id": "6c610cc2",
   "metadata": {},
   "outputs": [],
   "source": [
    "def beta_fit(x, a, b):\n",
    "        y = (gamma(a+b)*x**(a-1)*(1-x)**(b-1))/(gamma(a)*gamma(b))\n",
    "        return y"
   ]
  },
  {
   "cell_type": "code",
   "execution_count": 23,
   "id": "fcace1e3",
   "metadata": {},
   "outputs": [
    {
     "name": "stdout",
     "output_type": "stream",
     "text": [
      "165.93848476319724 5.605281745567998\n"
     ]
    },
    {
     "data": {
      "image/png": "[encoded data removed]",
      "text/plain": [
       "<Figure size 432x288 with 2 Axes>"
      ]
     },
     "metadata": {
      "needs_background": "light"
     },
     "output_type": "display_data"
    }
   ],
   "source": [
    "table = ngs_reads['Per sequence quality scores'][1].copy()\n",
    "x = table['Quality']\n",
    "x = x/(x.iloc[-1]+1)\n",
    "y = table['Count']\n",
    "\n",
    "a_b, covariance = curve_fit(beta_fit, x, y, maxfev=10000) #, p0=[1.44, 6.93])\n",
    "\n",
    "print(a_b[0], a_b[1])\n",
    "\n",
    "fig, ax1 = plt.subplots()\n",
    "ax1.plot(x, beta_fit(x, *a_b), \"r-\")#, x, y2, \"r--\", x, y3, \"g--\")\n",
    "ax2 = ax1.twinx()\n",
    "ax2.plot(x, y, \"g--\")\n",
    "fig.tight_layout()\n",
    "plt.show()"
   ]
  },
  {
   "cell_type": "code",
   "execution_count": 24,
   "id": "2fd7dd89",
   "metadata": {},
   "outputs": [],
   "source": [
    "def per_sequence_quality_scores(row):\n",
    "    table = row['Per sequence quality scores'].copy()\n",
    "    x = table['Quality']\n",
    "    x = x/(x.iloc[-1]+1)\n",
    "    y = table['Count']\n",
    "\n",
    "    a_b, covariance = curve_fit(beta_fit, x, y, maxfev=10000)\n",
    "    data_a = np.array(dataset)\n",
    "\n",
    "    return a_b[0], a_b[1]"
   ]
  },
  {
   "cell_type": "raw",
   "id": "3fae9eb8",
   "metadata": {},
   "source": [
    "def per_sequence_quality_scores(row):\n",
    "    table = row['Per sequence quality scores'].copy()\n",
    "    x = table['Quality']\n",
    "    x = x/(x.iloc[-1]+1)\n",
    "    y = table['Count']\n",
    "\n",
    "    dataset=[]\n",
    "    for i in range(len(x)):\n",
    "        for j in range(int(y[i])):\n",
    "            dataset.append(x[i])\n",
    "\n",
    "    data_a = np.array(dataset)\n",
    "\n",
    "    a, b, loc, scale  = beta.fit(data_a, floc=0, fscale=1)\n",
    "\n",
    "    return a, b"
   ]
  },
  {
   "cell_type": "code",
   "execution_count": 25,
   "id": "fe3484df",
   "metadata": {},
   "outputs": [],
   "source": [
    "ngs_reads[['module_3_alpha', 'module_3_beta'\n",
    "          ]] = ngs_reads.apply(per_sequence_quality_scores, axis=1, result_type='expand')"
   ]
  },
  {
   "cell_type": "code",
   "execution_count": 26,
   "id": "29e61093",
   "metadata": {},
   "outputs": [
    {
     "data": {
      "text/plain": [
       "<AxesSubplot:>"
      ]
     },
     "execution_count": 26,
     "metadata": {},
     "output_type": "execute_result"
    },
    {
     "data": {
      "image/png": "[encoded data removed]",
      "text/plain": [
       "<Figure size 432x288 with 1 Axes>"
      ]
     },
     "metadata": {
      "needs_background": "light"
     },
     "output_type": "display_data"
    }
   ],
   "source": [
    "ngs_reads['module_3_alpha'].plot(kind='bar')"
   ]
  },
  {
   "cell_type": "code",
   "execution_count": 27,
   "id": "aefbd02b",
   "metadata": {},
   "outputs": [
    {
     "data": {
      "text/plain": [
       "<AxesSubplot:>"
      ]
     },
     "execution_count": 27,
     "metadata": {},
     "output_type": "execute_result"
    },
    {
     "data": {
      "image/png": "[encoded data removed]",
      "text/plain": [
       "<Figure size 432x288 with 1 Axes>"
      ]
     },
     "metadata": {
      "needs_background": "light"
     },
     "output_type": "display_data"
    }
   ],
   "source": [
    "ngs_reads['module_3_beta'].plot(kind='bar')"
   ]
  },
  {
   "cell_type": "code",
   "execution_count": 28,
   "id": "d667efc1",
   "metadata": {},
   "outputs": [],
   "source": [
    "#drop original column after feature extraction\n",
    "ngs_reads.drop(columns='Per sequence quality scores', inplace=True)"
   ]
  },
  {
   "cell_type": "markdown",
   "id": "836a67e1",
   "metadata": {},
   "source": [
    "### Module 4 - Per base sequence content\n",
    "[Documentation:](https://www.bioinformatics.babraham.ac.uk/projects/fastqc/Help/3%20Analysis%20Modules/4%20Per%20Base%20Sequence%20Content.html)\n",
    "> Per Base Sequence Content plots out the proportion of each base position in a file for which each of the four normal DNA bases has been called. \n",
    " In a random library you would expect that there would be little to no difference between the different bases of a sequence run, so the lines in this plot should run parallel with each other. The relative amount of each base should reflect the overall amount of these bases in your genome, but in any case they should not be hugely imbalanced from each other.\n",
    " It's worth noting that some types of library will always produce biased sequence composition, normally at the start of the read. Libraries produced by priming using random hexamers (including nearly all RNA-Seq libraries) and those which were fragmented using transposases inherit an intrinsic bias in the positions at which reads start. This bias does not concern an absolute sequence, but instead provides enrichement of a number of different K-mers at the 5' end of the reads. Whilst this is a true technical bias, it isn't something which can be corrected by trimming and in most cases doesn't seem to adversely affect the downstream analysis. It will however produce a warning or error in this module. \n",
    " \n",
    "![Example Per base sequence content](https://www.bioinformatics.babraham.ac.uk/projects/fastqc/Help/3%20Analysis%20Modules/per_base_sequence_content.png)  "
   ]
  },
  {
   "cell_type": "code",
   "execution_count": 29,
   "id": "3851b101",
   "metadata": {},
   "outputs": [],
   "source": [
    "# Todo: Feature engineering"
   ]
  },
  {
   "cell_type": "code",
   "execution_count": 30,
   "id": "1676a36a",
   "metadata": {},
   "outputs": [],
   "source": [
    "#drop original column after feature extraction\n",
    "ngs_reads.drop(columns='Per base sequence content', inplace=True)"
   ]
  },
  {
   "cell_type": "markdown",
   "id": "e0fddfca",
   "metadata": {},
   "source": [
    "### Module 5 - Per sequence GC content\n",
    "[Documentation:](https://www.bioinformatics.babraham.ac.uk/projects/fastqc/Help/3%20Analysis%20Modules/5%20Per%20Sequence%20GC%20Content.html)\n",
    "> This module measures the GC content across the whole length of each sequence in a file and compares it to a modelled normal distribution of GC content.  \n",
    "In a normal random library you would expect to see a roughly normal distribution of GC content where the central peak corresponds to the overall GC content of the underlying genome. Since we don't know the the GC content of the genome the modal GC content is calculated from the observed data and used to build a reference distribution.\n",
    "An unusually shaped distribution could indicate a contaminated library or some other kinds of biased subset. A normal distribution which is shifted indicates some systematic bias which is independent of base position. If there is a systematic bias which creates a shifted normal distribution then this won't be flagged as an error by the module since it doesn't know what your genome's GC content should be. \n",
    "\n",
    "![Example Per sequence GC content](https://www.bioinformatics.babraham.ac.uk/projects/fastqc/Help/3%20Analysis%20Modules/per_sequence_gc_content.png)  "
   ]
  },
  {
   "cell_type": "markdown",
   "id": "20b7cde9",
   "metadata": {},
   "source": [
    "Due to similarity to Module 4 this module will be ignored for feature extraction."
   ]
  },
  {
   "cell_type": "code",
   "execution_count": 31,
   "id": "d74a6e68",
   "metadata": {},
   "outputs": [],
   "source": [
    "ngs_reads.drop(columns='Per sequence GC content', inplace=True)"
   ]
  },
  {
   "cell_type": "markdown",
   "id": "39b62967",
   "metadata": {},
   "source": [
    "### Module 6 - Per base N content\n",
    "[Documentation:](https://www.bioinformatics.babraham.ac.uk/projects/fastqc/Help/3%20Analysis%20Modules/6%20Per%20Base%20N%20Content.html)\n",
    ">  If a sequencer is unable to make a base call with sufficient confidence then it will normally substitute an N rather than a conventional base call. \n",
    "This module plots out the percentage of base calls at each position for which an N was called. \n",
    "It's not unusual to see a very low proportion of Ns appearing in a sequence, especially nearer the end of a sequence. However, if this proportion rises above a few percent it suggests that the analysis pipeline was unable to interpret the data well enough to make valid base calls. \n",
    "\n",
    "![Example Per base N content](https://www.bioinformatics.babraham.ac.uk/projects/fastqc/Help/3%20Analysis%20Modules/per_base_n_content.png)  "
   ]
  },
  {
   "cell_type": "code",
   "execution_count": 32,
   "id": "da52a349",
   "metadata": {},
   "outputs": [
    {
     "data": {
      "text/html": [
       "<div>\n",
       "<style scoped>\n",
       "    .dataframe tbody tr th:only-of-type {\n",
       "        vertical-align: middle;\n",
       "    }\n",
       "\n",
       "    .dataframe tbody tr th {\n",
       "        vertical-align: top;\n",
       "    }\n",
       "\n",
       "    .dataframe thead th {\n",
       "        text-align: right;\n",
       "    }\n",
       "</style>\n",
       "<table border=\"1\" class=\"dataframe\">\n",
       "  <thead>\n",
       "    <tr style=\"text-align: right;\">\n",
       "      <th></th>\n",
       "      <th>Base</th>\n",
       "      <th>N-Count</th>\n",
       "    </tr>\n",
       "  </thead>\n",
       "  <tbody>\n",
       "    <tr>\n",
       "      <th>0</th>\n",
       "      <td>1</td>\n",
       "      <td>0.479607</td>\n",
       "    </tr>\n",
       "    <tr>\n",
       "      <th>1</th>\n",
       "      <td>2</td>\n",
       "      <td>0.027948</td>\n",
       "    </tr>\n",
       "    <tr>\n",
       "      <th>2</th>\n",
       "      <td>3</td>\n",
       "      <td>0.015831</td>\n",
       "    </tr>\n",
       "    <tr>\n",
       "      <th>3</th>\n",
       "      <td>4</td>\n",
       "      <td>0.008795</td>\n",
       "    </tr>\n",
       "    <tr>\n",
       "      <th>4</th>\n",
       "      <td>5</td>\n",
       "      <td>0.008208</td>\n",
       "    </tr>\n",
       "    <tr>\n",
       "      <th>...</th>\n",
       "      <td>...</td>\n",
       "      <td>...</td>\n",
       "    </tr>\n",
       "    <tr>\n",
       "      <th>63</th>\n",
       "      <td>280-284</td>\n",
       "      <td>0.075072</td>\n",
       "    </tr>\n",
       "    <tr>\n",
       "      <th>64</th>\n",
       "      <td>285-289</td>\n",
       "      <td>0.060851</td>\n",
       "    </tr>\n",
       "    <tr>\n",
       "      <th>65</th>\n",
       "      <td>290-294</td>\n",
       "      <td>0.000000</td>\n",
       "    </tr>\n",
       "    <tr>\n",
       "      <th>66</th>\n",
       "      <td>295-299</td>\n",
       "      <td>0.322535</td>\n",
       "    </tr>\n",
       "    <tr>\n",
       "      <th>67</th>\n",
       "      <td>300-301</td>\n",
       "      <td>0.395047</td>\n",
       "    </tr>\n",
       "  </tbody>\n",
       "</table>\n",
       "<p>68 rows × 2 columns</p>\n",
       "</div>"
      ],
      "text/plain": [
       "       Base   N-Count\n",
       "0         1  0.479607\n",
       "1         2  0.027948\n",
       "2         3  0.015831\n",
       "3         4  0.008795\n",
       "4         5  0.008208\n",
       "..      ...       ...\n",
       "63  280-284  0.075072\n",
       "64  285-289  0.060851\n",
       "65  290-294  0.000000\n",
       "66  295-299  0.322535\n",
       "67  300-301  0.395047\n",
       "\n",
       "[68 rows x 2 columns]"
      ]
     },
     "execution_count": 32,
     "metadata": {},
     "output_type": "execute_result"
    }
   ],
   "source": [
    "ngs_reads['Per base N content'][0] # is N-count summed or averaged for group?"
   ]
  },
  {
   "cell_type": "code",
   "execution_count": 33,
   "id": "abaef340",
   "metadata": {},
   "outputs": [
    {
     "data": {
      "text/plain": [
       "<AxesSubplot:>"
      ]
     },
     "execution_count": 33,
     "metadata": {},
     "output_type": "execute_result"
    },
    {
     "data": {
      "image/png": "[encoded data removed]",
      "text/plain": [
       "<Figure size 432x288 with 1 Axes>"
      ]
     },
     "metadata": {
      "needs_background": "light"
     },
     "output_type": "display_data"
    }
   ],
   "source": [
    "ngs_reads['Per base N content'][0].plot()"
   ]
  },
  {
   "cell_type": "code",
   "execution_count": 34,
   "id": "5162818d",
   "metadata": {},
   "outputs": [
    {
     "data": {
      "text/plain": [
       "<AxesSubplot:>"
      ]
     },
     "execution_count": 34,
     "metadata": {},
     "output_type": "execute_result"
    },
    {
     "data": {
      "image/png": "[encoded data removed]",
      "text/plain": [
       "<Figure size 432x288 with 1 Axes>"
      ]
     },
     "metadata": {
      "needs_background": "light"
     },
     "output_type": "display_data"
    }
   ],
   "source": [
    "ngs_reads['Per base N content'][71].plot()"
   ]
  },
  {
   "cell_type": "code",
   "execution_count": 35,
   "id": "69498799",
   "metadata": {},
   "outputs": [],
   "source": [
    "def sum_ncount(row):\n",
    "    return row['Per base N content']['N-Count'].sum()"
   ]
  },
  {
   "cell_type": "code",
   "execution_count": 36,
   "id": "bd7f1fab",
   "metadata": {},
   "outputs": [],
   "source": [
    "ngs_reads['module_6_ncount'] = ngs_reads.apply(sum_ncount, axis=1)"
   ]
  },
  {
   "cell_type": "code",
   "execution_count": 37,
   "id": "63d8582b",
   "metadata": {},
   "outputs": [
    {
     "data": {
      "text/plain": [
       "<AxesSubplot:>"
      ]
     },
     "execution_count": 37,
     "metadata": {},
     "output_type": "execute_result"
    },
    {
     "data": {
      "image/png": "[encoded data removed]",
      "text/plain": [
       "<Figure size 432x288 with 1 Axes>"
      ]
     },
     "metadata": {
      "needs_background": "light"
     },
     "output_type": "display_data"
    }
   ],
   "source": [
    "ngs_reads['module_6_ncount'].plot(kind='bar')"
   ]
  },
  {
   "cell_type": "code",
   "execution_count": 38,
   "id": "9fced33d",
   "metadata": {},
   "outputs": [
    {
     "data": {
      "text/plain": [
       "<AxesSubplot:>"
      ]
     },
     "execution_count": 38,
     "metadata": {},
     "output_type": "execute_result"
    },
    {
     "data": {
      "image/png": "[encoded data removed]",
      "text/plain": [
       "<Figure size 432x288 with 1 Axes>"
      ]
     },
     "metadata": {
      "needs_background": "light"
     },
     "output_type": "display_data"
    }
   ],
   "source": [
    "ngs_reads['module_6_ncount'].hist(bins=20)"
   ]
  },
  {
   "cell_type": "code",
   "execution_count": 39,
   "id": "898acd11",
   "metadata": {},
   "outputs": [],
   "source": [
    "#drop original column after feature extraction\n",
    "ngs_reads.drop(columns='Per base N content', inplace=True)"
   ]
  },
  {
   "cell_type": "markdown",
   "id": "fce92f8a",
   "metadata": {},
   "source": [
    "### Module 7 - Sequence length distribution\n",
    "[Documentation:](https://www.bioinformatics.babraham.ac.uk/projects/fastqc/Help/3%20Analysis%20Modules/7%20Sequence%20Length%20Distribution.html)\n",
    ">   Some high throughput sequencers generate sequence fragments of uniform length, but others can contain reads of wildly varying lengths. Even within uniform length libraries some pipelines will trim sequences to remove poor quality base calls from the end. \n",
    "This module generates a graph showing the distribution of fragment sizes in the file which was analysed. \n",
    " In many cases this will produce a simple graph showing a peak only at one size, but for variable length FastQ files this will show the relative amounts of each different size of sequence fragment. \n",
    " \n",
    "![Example Sequence length distribution](https://www.bioinformatics.babraham.ac.uk/projects/fastqc/Help/3%20Analysis%20Modules/sequence_length_distribution.png)  "
   ]
  },
  {
   "cell_type": "markdown",
   "id": "8fa10cf2",
   "metadata": {},
   "source": [
    "#### Examples:"
   ]
  },
  {
   "cell_type": "code",
   "execution_count": 40,
   "id": "1c812ec7",
   "metadata": {},
   "outputs": [
    {
     "data": {
      "text/plain": [
       "<AxesSubplot:>"
      ]
     },
     "execution_count": 40,
     "metadata": {},
     "output_type": "execute_result"
    },
    {
     "data": {
      "image/png": "[encoded data removed]",
      "text/plain": [
       "<Figure size 432x288 with 1 Axes>"
      ]
     },
     "metadata": {
      "needs_background": "light"
     },
     "output_type": "display_data"
    }
   ],
   "source": [
    "ngs_reads['Sequence Length Distribution'][0].plot()"
   ]
  },
  {
   "cell_type": "code",
   "execution_count": 41,
   "id": "4f3892fd",
   "metadata": {},
   "outputs": [
    {
     "data": {
      "text/plain": [
       "<AxesSubplot:>"
      ]
     },
     "execution_count": 41,
     "metadata": {},
     "output_type": "execute_result"
    },
    {
     "data": {
      "image/png": "[encoded data removed]",
      "text/plain": [
       "<Figure size 432x288 with 1 Axes>"
      ]
     },
     "metadata": {
      "needs_background": "light"
     },
     "output_type": "display_data"
    }
   ],
   "source": [
    "ngs_reads['Sequence Length Distribution'][42].plot()"
   ]
  },
  {
   "cell_type": "code",
   "execution_count": 42,
   "id": "1aae439f",
   "metadata": {},
   "outputs": [
    {
     "data": {
      "text/html": [
       "<div>\n",
       "<style scoped>\n",
       "    .dataframe tbody tr th:only-of-type {\n",
       "        vertical-align: middle;\n",
       "    }\n",
       "\n",
       "    .dataframe tbody tr th {\n",
       "        vertical-align: top;\n",
       "    }\n",
       "\n",
       "    .dataframe thead th {\n",
       "        text-align: right;\n",
       "    }\n",
       "</style>\n",
       "<table border=\"1\" class=\"dataframe\">\n",
       "  <thead>\n",
       "    <tr style=\"text-align: right;\">\n",
       "      <th></th>\n",
       "      <th>Length</th>\n",
       "      <th>Count</th>\n",
       "    </tr>\n",
       "  </thead>\n",
       "  <tbody>\n",
       "    <tr>\n",
       "      <th>0</th>\n",
       "      <td>30-39</td>\n",
       "      <td>4192.0</td>\n",
       "    </tr>\n",
       "    <tr>\n",
       "      <th>1</th>\n",
       "      <td>40-49</td>\n",
       "      <td>9763.0</td>\n",
       "    </tr>\n",
       "    <tr>\n",
       "      <th>2</th>\n",
       "      <td>50-59</td>\n",
       "      <td>12611.0</td>\n",
       "    </tr>\n",
       "    <tr>\n",
       "      <th>3</th>\n",
       "      <td>60-69</td>\n",
       "      <td>14726.0</td>\n",
       "    </tr>\n",
       "    <tr>\n",
       "      <th>4</th>\n",
       "      <td>70-79</td>\n",
       "      <td>17135.0</td>\n",
       "    </tr>\n",
       "    <tr>\n",
       "      <th>5</th>\n",
       "      <td>80-89</td>\n",
       "      <td>19612.0</td>\n",
       "    </tr>\n",
       "    <tr>\n",
       "      <th>6</th>\n",
       "      <td>90-99</td>\n",
       "      <td>21429.0</td>\n",
       "    </tr>\n",
       "    <tr>\n",
       "      <th>7</th>\n",
       "      <td>100-109</td>\n",
       "      <td>23278.0</td>\n",
       "    </tr>\n",
       "    <tr>\n",
       "      <th>8</th>\n",
       "      <td>110-119</td>\n",
       "      <td>24146.0</td>\n",
       "    </tr>\n",
       "    <tr>\n",
       "      <th>9</th>\n",
       "      <td>120-129</td>\n",
       "      <td>24394.0</td>\n",
       "    </tr>\n",
       "    <tr>\n",
       "      <th>10</th>\n",
       "      <td>130-139</td>\n",
       "      <td>24376.0</td>\n",
       "    </tr>\n",
       "    <tr>\n",
       "      <th>11</th>\n",
       "      <td>140-149</td>\n",
       "      <td>23713.0</td>\n",
       "    </tr>\n",
       "    <tr>\n",
       "      <th>12</th>\n",
       "      <td>150-159</td>\n",
       "      <td>23376.0</td>\n",
       "    </tr>\n",
       "    <tr>\n",
       "      <th>13</th>\n",
       "      <td>160-169</td>\n",
       "      <td>21844.0</td>\n",
       "    </tr>\n",
       "    <tr>\n",
       "      <th>14</th>\n",
       "      <td>170-179</td>\n",
       "      <td>20707.0</td>\n",
       "    </tr>\n",
       "    <tr>\n",
       "      <th>15</th>\n",
       "      <td>180-189</td>\n",
       "      <td>19556.0</td>\n",
       "    </tr>\n",
       "    <tr>\n",
       "      <th>16</th>\n",
       "      <td>190-199</td>\n",
       "      <td>17978.0</td>\n",
       "    </tr>\n",
       "    <tr>\n",
       "      <th>17</th>\n",
       "      <td>200-209</td>\n",
       "      <td>16894.0</td>\n",
       "    </tr>\n",
       "    <tr>\n",
       "      <th>18</th>\n",
       "      <td>210-219</td>\n",
       "      <td>15423.0</td>\n",
       "    </tr>\n",
       "    <tr>\n",
       "      <th>19</th>\n",
       "      <td>220-229</td>\n",
       "      <td>14167.0</td>\n",
       "    </tr>\n",
       "    <tr>\n",
       "      <th>20</th>\n",
       "      <td>230-239</td>\n",
       "      <td>12684.0</td>\n",
       "    </tr>\n",
       "    <tr>\n",
       "      <th>21</th>\n",
       "      <td>240-249</td>\n",
       "      <td>11542.0</td>\n",
       "    </tr>\n",
       "    <tr>\n",
       "      <th>22</th>\n",
       "      <td>250-259</td>\n",
       "      <td>9890.0</td>\n",
       "    </tr>\n",
       "    <tr>\n",
       "      <th>23</th>\n",
       "      <td>260-269</td>\n",
       "      <td>8316.0</td>\n",
       "    </tr>\n",
       "    <tr>\n",
       "      <th>24</th>\n",
       "      <td>270-279</td>\n",
       "      <td>6848.0</td>\n",
       "    </tr>\n",
       "    <tr>\n",
       "      <th>25</th>\n",
       "      <td>280-289</td>\n",
       "      <td>5738.0</td>\n",
       "    </tr>\n",
       "    <tr>\n",
       "      <th>26</th>\n",
       "      <td>290-299</td>\n",
       "      <td>10490.0</td>\n",
       "    </tr>\n",
       "    <tr>\n",
       "      <th>27</th>\n",
       "      <td>300-302</td>\n",
       "      <td>76841.0</td>\n",
       "    </tr>\n",
       "  </tbody>\n",
       "</table>\n",
       "</div>"
      ],
      "text/plain": [
       "     Length    Count\n",
       "0     30-39   4192.0\n",
       "1     40-49   9763.0\n",
       "2     50-59  12611.0\n",
       "3     60-69  14726.0\n",
       "4     70-79  17135.0\n",
       "5     80-89  19612.0\n",
       "6     90-99  21429.0\n",
       "7   100-109  23278.0\n",
       "8   110-119  24146.0\n",
       "9   120-129  24394.0\n",
       "10  130-139  24376.0\n",
       "11  140-149  23713.0\n",
       "12  150-159  23376.0\n",
       "13  160-169  21844.0\n",
       "14  170-179  20707.0\n",
       "15  180-189  19556.0\n",
       "16  190-199  17978.0\n",
       "17  200-209  16894.0\n",
       "18  210-219  15423.0\n",
       "19  220-229  14167.0\n",
       "20  230-239  12684.0\n",
       "21  240-249  11542.0\n",
       "22  250-259   9890.0\n",
       "23  260-269   8316.0\n",
       "24  270-279   6848.0\n",
       "25  280-289   5738.0\n",
       "26  290-299  10490.0\n",
       "27  300-302  76841.0"
      ]
     },
     "execution_count": 42,
     "metadata": {},
     "output_type": "execute_result"
    }
   ],
   "source": [
    "ngs_reads['Sequence Length Distribution'][0]"
   ]
  },
  {
   "cell_type": "code",
   "execution_count": 43,
   "id": "663b6889",
   "metadata": {},
   "outputs": [
    {
     "data": {
      "text/html": [
       "<div>\n",
       "<style scoped>\n",
       "    .dataframe tbody tr th:only-of-type {\n",
       "        vertical-align: middle;\n",
       "    }\n",
       "\n",
       "    .dataframe tbody tr th {\n",
       "        vertical-align: top;\n",
       "    }\n",
       "\n",
       "    .dataframe thead th {\n",
       "        text-align: right;\n",
       "    }\n",
       "</style>\n",
       "<table border=\"1\" class=\"dataframe\">\n",
       "  <thead>\n",
       "    <tr style=\"text-align: right;\">\n",
       "      <th></th>\n",
       "      <th>Length</th>\n",
       "      <th>Count</th>\n",
       "    </tr>\n",
       "  </thead>\n",
       "  <tbody>\n",
       "    <tr>\n",
       "      <th>0</th>\n",
       "      <td>251</td>\n",
       "      <td>1681956.0</td>\n",
       "    </tr>\n",
       "  </tbody>\n",
       "</table>\n",
       "</div>"
      ],
      "text/plain": [
       "   Length      Count\n",
       "0     251  1681956.0"
      ]
     },
     "execution_count": 43,
     "metadata": {},
     "output_type": "execute_result"
    }
   ],
   "source": [
    "#some distributions with only one value:\n",
    "ngs_reads['Sequence Length Distribution'][125]"
   ]
  },
  {
   "cell_type": "code",
   "execution_count": 44,
   "id": "fc4e1ed5",
   "metadata": {},
   "outputs": [],
   "source": [
    "# all plots\n",
    "#for index, row in ngs_reads.iterrows():\n",
    "#    row['Sequence Length Distribution'].plot(kind=\"line\")"
   ]
  },
  {
   "cell_type": "markdown",
   "id": "07bf081e",
   "metadata": {},
   "source": [
    "#### Apply fitting to complete dataset"
   ]
  },
  {
   "cell_type": "markdown",
   "id": "35f062f8",
   "metadata": {},
   "source": [
    "##### Option A: using curve_fit, utilizes own beta_fit function to model the distribution of the data\n",
    "\n",
    "Advantages:\n",
    "* no \"flattening\" (what is the correct term?) of distribution table necessary, can be used as is\n",
    "* no hardcoding of a and b for any tables necessary\n",
    "* possible add a gaussian function to the fitting to capture distributions of some tables better (e.g. 0, 6), but would lead to more features\n",
    "\n",
    "Issues: \n",
    "* all a values are between 169 and 171, could make sense to subtract 169 from all results to use as ML Feature but of course the distribution curves would look completely wrong then\n",
    "* curve_fit can't find a fit for tables with only one row (e.g. 97, 125): workaround with imputing\n"
   ]
  },
  {
   "cell_type": "code",
   "execution_count": 45,
   "id": "86ba5313",
   "metadata": {},
   "outputs": [],
   "source": [
    "def sequence_length_distribution_curvefit(row):\n",
    "\n",
    "    table = row['Sequence Length Distribution'].copy()\n",
    "    \n",
    "    #impute values for tables with only one value (changes original table in dataset)\n",
    "    if len(table) < 2:\n",
    "        table.loc[1] = [table['Length'][0]-1, 0.0]\n",
    "        table.loc[2] = table.iloc[0]\n",
    "        table.iloc[0] = [39, 0.0]\n",
    "        table.reset_index(drop=True, inplace=True) # not necessary, just to be safe\n",
    "\n",
    "    x = table['Length'].astype(str).str.split(\"-\").str[-1].astype(float).astype(int)\n",
    "    x = x/(x.iloc[-1]+1) #+1 because highest x_value has to be lower than 1 \n",
    "\n",
    "    y = table['Count']\n",
    "\n",
    "\n",
    "    a_b, covariance = curve_fit(beta_fit, x, y, maxfev=10000) \n",
    "    \n",
    "    return a_b[0], a_b[1]"
   ]
  },
  {
   "cell_type": "markdown",
   "id": "31f9a484",
   "metadata": {},
   "source": [
    "##### Option B: using beta.fit\n",
    "\n",
    "Advantages:\n",
    "* data imputation for tables with 1 row not needed\n",
    "\n",
    "Issues:\n",
    "* beta.fit needs \"flattened\" data, not the distribution data\n",
    "* extreme a, b results for tables with one row (e^36+), some don't converge at all (eg. 79) - workaround: hardcoding a, b values for those with high values (for all other tables a is between 1 and 18 and b betweend 0 and 1 so 25 and 1.5 would already be high enough to distinguish from the rest)\n",
    "* slower"
   ]
  },
  {
   "cell_type": "code",
   "execution_count": 46,
   "id": "55140702",
   "metadata": {},
   "outputs": [],
   "source": [
    "def sequence_length_distribution_betafit(row):\n",
    "    table = row['Sequence Length Distribution']\n",
    "    \n",
    "    x = table['Length'].astype(str).str.split(\"-\").str[-1].astype(float).astype(int)\n",
    "    x = x/(x.iloc[-1]+1) #+1 because highest x_value has to be lower than scale, alternative: fscale=0.0001 or x/max(x)+1\n",
    "    y = table['Count']\n",
    "\n",
    "    dataset=[]\n",
    "    for i in range(len(x)):\n",
    "        for j in range(int(y[i])):\n",
    "            dataset.append(x[i])\n",
    "\n",
    "    data_a = np.array(dataset)\n",
    "\n",
    "    #table with only one length result in huge a,b values (e^36+), some don't converge at all (eg. 79)\n",
    "    #workaround assigns them large values without fitting\n",
    "    if len(table)==1:\n",
    "        a = b = 25 #all fitted distributions are between 1 and 18 for a and\n",
    "        b = 1.5 # 0 and 1 for b, fixed values maybe not ideal and should be adjusted for different datasets\n",
    "    else: \n",
    "        a, b, loc, scale  = beta.fit(data_a, floc=0, fscale=1)\n",
    "\n",
    "    return a, b"
   ]
  },
  {
   "cell_type": "markdown",
   "id": "8cb3e348",
   "metadata": {},
   "source": [
    "For now, adding both methods to the dataset and check for differences in the classification"
   ]
  },
  {
   "cell_type": "code",
   "execution_count": 47,
   "id": "3d45dc81",
   "metadata": {},
   "outputs": [
    {
     "name": "stderr",
     "output_type": "stream",
     "text": [
      "/home/alex/.local/lib/python3.9/site-packages/scipy/optimize/minpack.py:833: OptimizeWarning: Covariance of the parameters could not be estimated\n",
      "  warnings.warn('Covariance of the parameters could not be estimated',\n"
     ]
    }
   ],
   "source": [
    "ngs_reads[['module_7_alpha', 'module_7_beta'\n",
    "          ]] = ngs_reads.apply(sequence_length_distribution_curvefit, axis=1, result_type='expand')"
   ]
  },
  {
   "cell_type": "raw",
   "id": "cc7bace9",
   "metadata": {},
   "source": [
    "ngs_reads[['module_7_alpha_betafit', 'module_7_beta_betafit'\n",
    "          ]] = ngs_reads.apply(sequence_length_distribution_betafit, axis=1, result_type='expand')"
   ]
  },
  {
   "cell_type": "markdown",
   "id": "fbe882ed",
   "metadata": {},
   "source": [
    "#### Example Visualizations"
   ]
  },
  {
   "cell_type": "markdown",
   "id": "e3cf9bd0",
   "metadata": {},
   "source": [
    "Option A using curve_fit"
   ]
  },
  {
   "cell_type": "code",
   "execution_count": 48,
   "id": "26dcbaee",
   "metadata": {},
   "outputs": [
    {
     "name": "stdout",
     "output_type": "stream",
     "text": [
      "[169.96763351   1.6139185 ]\n"
     ]
    },
    {
     "data": {
      "image/png": "[encoded data removed]",
      "text/plain": [
       "<Figure size 432x288 with 2 Axes>"
      ]
     },
     "metadata": {
      "needs_background": "light"
     },
     "output_type": "display_data"
    }
   ],
   "source": [
    "# alternative so the distribution table can be used directly \n",
    "# alpha values always very high compared to beta.fit\n",
    "\n",
    "table = ngs_reads['Sequence Length Distribution'][58].copy() \n",
    "\n",
    "if len(table) < 2: # eg. 97, 125\n",
    "    table.loc[1] = [table['Length'][0]-1, 0.0]\n",
    "    table.loc[2] = table.iloc[0]\n",
    "    table.iloc[0] = [39, 0.0]\n",
    "    table.reset_index(drop=True, inplace=True)\n",
    "    \n",
    "x = table['Length'].astype(str).str.split(\"-\").str[-1].astype(float).astype(int)\n",
    "x = x/(x.iloc[-1]+1) #+1 because x has to be <1\n",
    "\n",
    "y = table['Count']\n",
    "\n",
    "\n",
    "a_b, covariance = curve_fit(beta_fit, x, y, maxfev=10000) #, p0=[1.9684620603925647, 0.332246101706947])\n",
    "print(a_b)\n",
    "\n",
    "fig, ax1 = plt.subplots()\n",
    "ax1.plot(x, beta_fit(x, *a_b), \"r-\")#, x, y2, \"r--\", x, y3, \"g--\")\n",
    "ax2 = ax1.twinx()\n",
    "ax2.plot(x, y, \"g--\")\n",
    "fig.tight_layout()\n",
    "plt.show()"
   ]
  },
  {
   "cell_type": "markdown",
   "id": "f089805e",
   "metadata": {},
   "source": [
    "Option B using beta.fit"
   ]
  },
  {
   "cell_type": "code",
   "execution_count": 49,
   "id": "703561c0",
   "metadata": {},
   "outputs": [
    {
     "name": "stdout",
     "output_type": "stream",
     "text": [
      "7.8495123864016 0.4169862180853716\n"
     ]
    },
    {
     "data": {
      "image/png": "[encoded data removed]",
      "text/plain": [
       "<Figure size 432x288 with 2 Axes>"
      ]
     },
     "metadata": {
      "needs_background": "light"
     },
     "output_type": "display_data"
    }
   ],
   "source": [
    "# fit with beta.fit by \"flattening\" the original table\n",
    "table = ngs_reads['Sequence Length Distribution'][58] #97, 125\n",
    "#table = table[table.Count>0.0]\n",
    "\n",
    "\n",
    "x = table['Length'].astype(str).str.split(\"-\").str[-1].astype(float).astype(int)\n",
    "x = x/(x.iloc[-1]+1) #+1 because highest x_value has to be lower than scale, alternative: fscale=0.0001 or x/max(x)+1\n",
    "y = table['Count']\n",
    "\n",
    "dataset=[]\n",
    "for i in range(len(x)):\n",
    "    for j in range(int(y[i])):\n",
    "        dataset.append(x[i])\n",
    "\n",
    "data_a = np.array(dataset)\n",
    "\n",
    "if len(table)==1:\n",
    "    a = b = 5\n",
    "else: \n",
    "    a, b, loc, scale = beta.fit(data_a, floc=0, fscale=1)\n",
    "    \n",
    "print(a, b)\n",
    "\n",
    "pdf = beta.pdf(x, a, b)\n",
    "\n",
    "fig, ax1 = plt.subplots()\n",
    "ax1.plot(x, pdf, \"r-\")#, x, y2, \"r--\", x, y3, \"g--\")\n",
    "ax2 = ax1.twinx()\n",
    "ax2.hist(data_a, alpha=0.75, color='green', bins=len(table))\n",
    "fig.tight_layout()\n",
    "plt.show()"
   ]
  },
  {
   "cell_type": "markdown",
   "id": "4aa6db76",
   "metadata": {},
   "source": [
    "#### Resulting Features"
   ]
  },
  {
   "cell_type": "code",
   "execution_count": 50,
   "id": "e37b3169",
   "metadata": {},
   "outputs": [
    {
     "data": {
      "text/plain": [
       "<AxesSubplot:>"
      ]
     },
     "execution_count": 50,
     "metadata": {},
     "output_type": "execute_result"
    },
    {
     "data": {
      "image/png": "[encoded data removed]",
      "text/plain": [
       "<Figure size 432x288 with 1 Axes>"
      ]
     },
     "metadata": {
      "needs_background": "light"
     },
     "output_type": "display_data"
    }
   ],
   "source": [
    "(ngs_reads['module_7_alpha']-169).plot(kind='bar')"
   ]
  },
  {
   "cell_type": "code",
   "execution_count": 51,
   "id": "b50ccf35",
   "metadata": {},
   "outputs": [
    {
     "data": {
      "text/plain": [
       "<AxesSubplot:>"
      ]
     },
     "execution_count": 51,
     "metadata": {},
     "output_type": "execute_result"
    },
    {
     "data": {
      "image/png": "[encoded data removed]",
      "text/plain": [
       "<Figure size 432x288 with 1 Axes>"
      ]
     },
     "metadata": {
      "needs_background": "light"
     },
     "output_type": "display_data"
    }
   ],
   "source": [
    "ngs_reads['module_7_beta'].plot(kind='bar')"
   ]
  },
  {
   "cell_type": "code",
   "execution_count": 52,
   "id": "02a8fe70",
   "metadata": {},
   "outputs": [
    {
     "data": {
      "text/plain": [
       "<AxesSubplot:>"
      ]
     },
     "execution_count": 52,
     "metadata": {},
     "output_type": "execute_result"
    },
    {
     "data": {
      "image/png": "[encoded data removed]",
      "text/plain": [
       "<Figure size 432x288 with 1 Axes>"
      ]
     },
     "metadata": {
      "needs_background": "light"
     },
     "output_type": "display_data"
    }
   ],
   "source": [
    "ngs_reads['module_7_beta'].plot(kind='bar')"
   ]
  },
  {
   "cell_type": "code",
   "execution_count": 53,
   "id": "aff3d289",
   "metadata": {},
   "outputs": [],
   "source": [
    "#drop original column after feature extraction\n",
    "ngs_reads.drop(columns='Sequence Length Distribution', inplace=True)"
   ]
  },
  {
   "cell_type": "markdown",
   "id": "c9b8336f",
   "metadata": {},
   "source": [
    "### Module 8 - Sequence duplication levels\n",
    "[Documentation:](https://www.bioinformatics.babraham.ac.uk/projects/fastqc/Help/3%20Analysis%20Modules/8%20Duplicate%20Sequences.html)\n",
    "> In a diverse library most sequences will occur only once in the final set. A low level of duplication may indicate a very high level of coverage of the target sequence, but a high level of duplication is more likely to indicate some kind of enrichment bias (eg PCR over amplification).  \n",
    " To cut down on the memory requirements for this module only sequences which first appear in the first 100,000 sequences in each file are analysed, but this should be enough to get a good impression for the duplication levels in the whole file. Each sequence is tracked to the end of the file to give a representative count of the overall duplication level.  \n",
    " To cut down on the amount of information in the final plot any sequences with more than 10 duplicates are placed into grouped bins to give a clear impression of the overall duplication level without having to show each individual duplication value.  \n",
    " Because the duplication detection requires an exact sequence match over the whole length of the sequence, any reads over 75bp in length are truncated to 50bp for the purposes of this analysis. Even so, longer reads are more likely to contain sequencing errors which will artificially increase the observed diversity and will tend to underrepresent highly duplicated sequences.  \n",
    "The plot shows the proportion of the library which is made up of sequences in each of the different duplication level bins. There are two lines on the plot. The blue line takes the full sequence set and shows how its duplication levels are distributed. In the red plot the sequences are de-duplicated and the proportions shown are the proportions of the deduplicated set which come from different duplication levels in the original data.  \n",
    "In a properly diverse library most sequences should fall into the far left of the plot in both the red and blue lines. A general level of enrichment, indicating broad oversequencing in the library will tend to flatten the lines, lowering the low end and generally raising other categories. More specific enrichments of subsets, or the presence of low complexity contaminants will tend to produce spikes towards the right of the plot. These high duplication peaks will most often appear in the blue trace as they make up a high proportion of the original library, but usually disappear in the red trace as they make up an insignificant proportion of the deduplicated set. If peaks persist in the blue trace then this suggests that there are a large number of different highly duplicated sequences which might indicate either a contaminant set or a very severe technical duplication.  \n",
    "The module also calculates an expected overall loss of sequence were the library to be deduplicated. This headline figure is shown at the top of the plot and gives a reasonable impression of the potential overall level of loss. \n",
    " \n",
    "![Example Sequence duplication levels](https://www.bioinformatics.babraham.ac.uk/projects/fastqc/Help/3%20Analysis%20Modules/duplication_levels.png)  "
   ]
  },
  {
   "cell_type": "markdown",
   "id": "e589e602",
   "metadata": {},
   "source": [
    "#### Examples"
   ]
  },
  {
   "cell_type": "code",
   "execution_count": 54,
   "id": "594ce113",
   "metadata": {},
   "outputs": [
    {
     "data": {
      "text/html": [
       "<div>\n",
       "<style scoped>\n",
       "    .dataframe tbody tr th:only-of-type {\n",
       "        vertical-align: middle;\n",
       "    }\n",
       "\n",
       "    .dataframe tbody tr th {\n",
       "        vertical-align: top;\n",
       "    }\n",
       "\n",
       "    .dataframe thead th {\n",
       "        text-align: right;\n",
       "    }\n",
       "</style>\n",
       "<table border=\"1\" class=\"dataframe\">\n",
       "  <thead>\n",
       "    <tr style=\"text-align: right;\">\n",
       "      <th></th>\n",
       "      <th>Duplication Level</th>\n",
       "      <th>Percentage of deduplicated</th>\n",
       "      <th>Percentage of total</th>\n",
       "    </tr>\n",
       "  </thead>\n",
       "  <tbody>\n",
       "    <tr>\n",
       "      <th>0</th>\n",
       "      <td>1</td>\n",
       "      <td>90.363955</td>\n",
       "      <td>80.008215</td>\n",
       "    </tr>\n",
       "    <tr>\n",
       "      <th>1</th>\n",
       "      <td>2</td>\n",
       "      <td>7.692295</td>\n",
       "      <td>13.621511</td>\n",
       "    </tr>\n",
       "    <tr>\n",
       "      <th>2</th>\n",
       "      <td>3</td>\n",
       "      <td>1.328787</td>\n",
       "      <td>3.529523</td>\n",
       "    </tr>\n",
       "    <tr>\n",
       "      <th>3</th>\n",
       "      <td>4</td>\n",
       "      <td>0.355292</td>\n",
       "      <td>1.258302</td>\n",
       "    </tr>\n",
       "    <tr>\n",
       "      <th>4</th>\n",
       "      <td>5</td>\n",
       "      <td>0.116684</td>\n",
       "      <td>0.516560</td>\n",
       "    </tr>\n",
       "    <tr>\n",
       "      <th>5</th>\n",
       "      <td>6</td>\n",
       "      <td>0.057288</td>\n",
       "      <td>0.304336</td>\n",
       "    </tr>\n",
       "    <tr>\n",
       "      <th>6</th>\n",
       "      <td>7</td>\n",
       "      <td>0.026831</td>\n",
       "      <td>0.166295</td>\n",
       "    </tr>\n",
       "    <tr>\n",
       "      <th>7</th>\n",
       "      <td>8</td>\n",
       "      <td>0.013866</td>\n",
       "      <td>0.098212</td>\n",
       "    </tr>\n",
       "    <tr>\n",
       "      <th>8</th>\n",
       "      <td>9</td>\n",
       "      <td>0.011270</td>\n",
       "      <td>0.089808</td>\n",
       "    </tr>\n",
       "    <tr>\n",
       "      <th>9</th>\n",
       "      <td>&gt;10</td>\n",
       "      <td>0.033732</td>\n",
       "      <td>0.407236</td>\n",
       "    </tr>\n",
       "    <tr>\n",
       "      <th>10</th>\n",
       "      <td>&gt;50</td>\n",
       "      <td>0.000000</td>\n",
       "      <td>0.000000</td>\n",
       "    </tr>\n",
       "    <tr>\n",
       "      <th>11</th>\n",
       "      <td>&gt;100</td>\n",
       "      <td>0.000000</td>\n",
       "      <td>0.000000</td>\n",
       "    </tr>\n",
       "    <tr>\n",
       "      <th>12</th>\n",
       "      <td>&gt;500</td>\n",
       "      <td>0.000000</td>\n",
       "      <td>0.000000</td>\n",
       "    </tr>\n",
       "    <tr>\n",
       "      <th>13</th>\n",
       "      <td>&gt;1k</td>\n",
       "      <td>0.000000</td>\n",
       "      <td>0.000000</td>\n",
       "    </tr>\n",
       "    <tr>\n",
       "      <th>14</th>\n",
       "      <td>&gt;5k</td>\n",
       "      <td>0.000000</td>\n",
       "      <td>0.000000</td>\n",
       "    </tr>\n",
       "    <tr>\n",
       "      <th>15</th>\n",
       "      <td>&gt;10k+</td>\n",
       "      <td>0.000000</td>\n",
       "      <td>0.000000</td>\n",
       "    </tr>\n",
       "  </tbody>\n",
       "</table>\n",
       "</div>"
      ],
      "text/plain": [
       "   Duplication Level  Percentage of deduplicated  Percentage of total\n",
       "0                  1                   90.363955            80.008215\n",
       "1                  2                    7.692295            13.621511\n",
       "2                  3                    1.328787             3.529523\n",
       "3                  4                    0.355292             1.258302\n",
       "4                  5                    0.116684             0.516560\n",
       "5                  6                    0.057288             0.304336\n",
       "6                  7                    0.026831             0.166295\n",
       "7                  8                    0.013866             0.098212\n",
       "8                  9                    0.011270             0.089808\n",
       "9                >10                    0.033732             0.407236\n",
       "10               >50                    0.000000             0.000000\n",
       "11              >100                    0.000000             0.000000\n",
       "12              >500                    0.000000             0.000000\n",
       "13               >1k                    0.000000             0.000000\n",
       "14               >5k                    0.000000             0.000000\n",
       "15             >10k+                    0.000000             0.000000"
      ]
     },
     "execution_count": 54,
     "metadata": {},
     "output_type": "execute_result"
    }
   ],
   "source": [
    "ngs_reads['Sequence Duplication Levels'][1]"
   ]
  },
  {
   "cell_type": "code",
   "execution_count": 55,
   "id": "ab49893f",
   "metadata": {},
   "outputs": [
    {
     "data": {
      "text/plain": [
       "<AxesSubplot:>"
      ]
     },
     "execution_count": 55,
     "metadata": {},
     "output_type": "execute_result"
    },
    {
     "data": {
      "image/png": "[encoded data removed]",
      "text/plain": [
       "<Figure size 432x288 with 1 Axes>"
      ]
     },
     "metadata": {
      "needs_background": "light"
     },
     "output_type": "display_data"
    }
   ],
   "source": [
    "ngs_reads['Sequence Duplication Levels'][0]['Percentage of total'].plot()"
   ]
  },
  {
   "cell_type": "code",
   "execution_count": 56,
   "id": "df21093a",
   "metadata": {},
   "outputs": [
    {
     "data": {
      "text/plain": [
       "<AxesSubplot:>"
      ]
     },
     "execution_count": 56,
     "metadata": {},
     "output_type": "execute_result"
    },
    {
     "data": {
      "image/png": "[encoded data removed]",
      "text/plain": [
       "<Figure size 432x288 with 1 Axes>"
      ]
     },
     "metadata": {
      "needs_background": "light"
     },
     "output_type": "display_data"
    }
   ],
   "source": [
    "ngs_reads['Sequence Duplication Levels'][122]['Percentage of total'].plot()"
   ]
  },
  {
   "cell_type": "markdown",
   "id": "b55f1234",
   "metadata": {},
   "source": [
    "Option A beta.fit:"
   ]
  },
  {
   "cell_type": "code",
   "execution_count": 57,
   "id": "f32db23d",
   "metadata": {},
   "outputs": [
    {
     "name": "stdout",
     "output_type": "stream",
     "text": [
      "1.6523667679975043 5.907683238363123\n"
     ]
    },
    {
     "data": {
      "image/png": "[encoded data removed]",
      "text/plain": [
       "<Figure size 432x288 with 2 Axes>"
      ]
     },
     "metadata": {
      "needs_background": "light"
     },
     "output_type": "display_data"
    }
   ],
   "source": [
    "table = ngs_reads['Sequence Duplication Levels'][15][0:9].copy()\n",
    "x = table.index.to_series().astype(int)\n",
    "x = (x+1)/(x.iloc[-1]+2) #x+1 because beta.fit doesn't allow for x=0 values\n",
    "y = table['Percentage of total']#.apply(np.ceil) #could be added to not lose values between 0 and 1\n",
    "\n",
    "dataset=[]\n",
    "for i in range(len(x)):\n",
    "    if y[i] > 99.0:\n",
    "        dataset.append(x[i+1])\n",
    "    for j in range(int(y[i])):\n",
    "        dataset.append(x[i])\n",
    "\n",
    "data_a = np.array(dataset)\n",
    "\n",
    "a, b, loc, scale  = beta.fit(data_a, floc=0, fscale=1)\n",
    "print(a, b)\n",
    "\n",
    "pdf = beta.pdf(x, a, b)\n",
    "\n",
    "fig, ax1 = plt.subplots()\n",
    "ax1.plot(x, pdf, \"r-\")#, x, y2, \"r--\", x, y3, \"g--\")\n",
    "ax2 = ax1.twinx()\n",
    "ax2.hist(data_a, alpha=0.75, color='green', bins=len(table))\n",
    "fig.tight_layout()\n",
    "plt.show()"
   ]
  },
  {
   "cell_type": "code",
   "execution_count": 58,
   "id": "ff916850",
   "metadata": {},
   "outputs": [
    {
     "data": {
      "text/html": [
       "<div>\n",
       "<style scoped>\n",
       "    .dataframe tbody tr th:only-of-type {\n",
       "        vertical-align: middle;\n",
       "    }\n",
       "\n",
       "    .dataframe tbody tr th {\n",
       "        vertical-align: top;\n",
       "    }\n",
       "\n",
       "    .dataframe thead th {\n",
       "        text-align: right;\n",
       "    }\n",
       "</style>\n",
       "<table border=\"1\" class=\"dataframe\">\n",
       "  <thead>\n",
       "    <tr style=\"text-align: right;\">\n",
       "      <th></th>\n",
       "      <th>Duplication Level</th>\n",
       "      <th>Percentage of deduplicated</th>\n",
       "      <th>Percentage of total</th>\n",
       "    </tr>\n",
       "  </thead>\n",
       "  <tbody>\n",
       "    <tr>\n",
       "      <th>0</th>\n",
       "      <td>1</td>\n",
       "      <td>100.0</td>\n",
       "      <td>100.0</td>\n",
       "    </tr>\n",
       "    <tr>\n",
       "      <th>1</th>\n",
       "      <td>2</td>\n",
       "      <td>0.0</td>\n",
       "      <td>0.0</td>\n",
       "    </tr>\n",
       "    <tr>\n",
       "      <th>2</th>\n",
       "      <td>3</td>\n",
       "      <td>0.0</td>\n",
       "      <td>0.0</td>\n",
       "    </tr>\n",
       "    <tr>\n",
       "      <th>3</th>\n",
       "      <td>4</td>\n",
       "      <td>0.0</td>\n",
       "      <td>0.0</td>\n",
       "    </tr>\n",
       "    <tr>\n",
       "      <th>4</th>\n",
       "      <td>5</td>\n",
       "      <td>0.0</td>\n",
       "      <td>0.0</td>\n",
       "    </tr>\n",
       "    <tr>\n",
       "      <th>5</th>\n",
       "      <td>6</td>\n",
       "      <td>0.0</td>\n",
       "      <td>0.0</td>\n",
       "    </tr>\n",
       "    <tr>\n",
       "      <th>6</th>\n",
       "      <td>7</td>\n",
       "      <td>0.0</td>\n",
       "      <td>0.0</td>\n",
       "    </tr>\n",
       "    <tr>\n",
       "      <th>7</th>\n",
       "      <td>8</td>\n",
       "      <td>0.0</td>\n",
       "      <td>0.0</td>\n",
       "    </tr>\n",
       "    <tr>\n",
       "      <th>8</th>\n",
       "      <td>9</td>\n",
       "      <td>0.0</td>\n",
       "      <td>0.0</td>\n",
       "    </tr>\n",
       "  </tbody>\n",
       "</table>\n",
       "</div>"
      ],
      "text/plain": [
       "  Duplication Level  Percentage of deduplicated  Percentage of total\n",
       "0                 1                       100.0                100.0\n",
       "1                 2                         0.0                  0.0\n",
       "2                 3                         0.0                  0.0\n",
       "3                 4                         0.0                  0.0\n",
       "4                 5                         0.0                  0.0\n",
       "5                 6                         0.0                  0.0\n",
       "6                 7                         0.0                  0.0\n",
       "7                 8                         0.0                  0.0\n",
       "8                 9                         0.0                  0.0"
      ]
     },
     "execution_count": 58,
     "metadata": {},
     "output_type": "execute_result"
    }
   ],
   "source": [
    "ngs_reads['Sequence Duplication Levels'][79][0:9]"
   ]
  },
  {
   "cell_type": "markdown",
   "id": "3d35a58d",
   "metadata": {},
   "source": [
    "Option B curve_fit:"
   ]
  },
  {
   "cell_type": "code",
   "execution_count": 59,
   "id": "80784c4e",
   "metadata": {
    "scrolled": true
   },
   "outputs": [
    {
     "name": "stdout",
     "output_type": "stream",
     "text": [
      "9.0047487193882 162.61961025189626\n"
     ]
    },
    {
     "data": {
      "image/png": "[encoded data removed]",
      "text/plain": [
       "<Figure size 432x288 with 2 Axes>"
      ]
     },
     "metadata": {
      "needs_background": "light"
     },
     "output_type": "display_data"
    }
   ],
   "source": [
    "table = ngs_reads['Sequence Duplication Levels'][8][0:9].copy()\n",
    "x = table.index.to_series().astype(int)\n",
    "x = (x+1)/(x.iloc[-1]+2) #x+1 because beta.fit doesn't allow for x=0 values\n",
    "y = table['Percentage of total']/101\n",
    "a_b, covariance = curve_fit(beta_fit, x, y, maxfev=10000)#, p0=[0.02, 4.0]) #, p0=[1.44, 6.93])\n",
    "\n",
    "print(a_b[0], a_b[1])\n",
    "\n",
    "fig, ax1 = plt.subplots()\n",
    "ax1.plot(x, beta_fit(x, *a_b), \"r-\")#, x, y2, \"r--\", x, y3, \"g--\")\n",
    "ax2 = ax1.twinx()\n",
    "ax2.plot(x, y, \"g--\")\n",
    "fig.tight_layout()\n",
    "plt.show()"
   ]
  },
  {
   "cell_type": "code",
   "execution_count": 60,
   "id": "dd1b644b",
   "metadata": {},
   "outputs": [],
   "source": [
    "def sequence_duplication_levels(row):\n",
    "    table = row['Sequence Duplication Levels'][0:9].copy() #only first 10 rows because original scale not linear\n",
    "    x = table.index.to_series().astype(int)\n",
    "    x = (x+1)/(x.iloc[-1]+2) #x+1 because beta_fit doesn't allow for x=0 values\n",
    "    y = table['Percentage of total']/101 #percentage value as fraction, 101 to avoid 1.0 values which lead to NaN\n",
    "\n",
    "    a_b, covariance = curve_fit(beta_fit, x, y, maxfev=10000)\n",
    "\n",
    "    return a_b[0], a_b[1]"
   ]
  },
  {
   "cell_type": "raw",
   "id": "f70a23b3",
   "metadata": {},
   "source": [
    "def sequence_duplication_levels(row):\n",
    "    table = row['Sequence Duplication Levels'].copy()\n",
    "    x = table.index.to_series().astype(int)\n",
    "    x = (x+1)/(x.iloc[-1]+2) #x+1 because beta.fit doesn't allow for x=0 values\n",
    "    y = table['Percentage of total']\n",
    "\n",
    "    dataset=[]\n",
    "    for i in range(len(x)):\n",
    "        if y[i] > 99: #for tables with all values in one category beta.fit can not perform a fitting\n",
    "            dataset.append(x[i+1]) # impute one fictional data point, maybe better if more points?\n",
    "        for j in range(int(y[i])):\n",
    "            dataset.append(x[i])\n",
    "\n",
    "    data_a = np.array(dataset)\n",
    "\n",
    "    a, b, loc, scale  = beta.fit(data_a, floc=0, fscale=1)\n",
    "\n",
    "    return a, b"
   ]
  },
  {
   "cell_type": "code",
   "execution_count": 61,
   "id": "4c53a03e",
   "metadata": {},
   "outputs": [],
   "source": [
    "ngs_reads[['module_8_alpha', 'module_8_beta'\n",
    "          ]] = ngs_reads.apply(sequence_duplication_levels, axis=1, result_type='expand')"
   ]
  },
  {
   "cell_type": "code",
   "execution_count": 62,
   "id": "200bd9eb",
   "metadata": {},
   "outputs": [
    {
     "data": {
      "text/plain": [
       "<AxesSubplot:>"
      ]
     },
     "execution_count": 62,
     "metadata": {},
     "output_type": "execute_result"
    },
    {
     "data": {
      "image/png": "[encoded data removed]",
      "text/plain": [
       "<Figure size 432x288 with 1 Axes>"
      ]
     },
     "metadata": {
      "needs_background": "light"
     },
     "output_type": "display_data"
    }
   ],
   "source": [
    "ngs_reads['module_8_alpha'].plot(kind='bar')"
   ]
  },
  {
   "cell_type": "code",
   "execution_count": 63,
   "id": "490cc91a",
   "metadata": {},
   "outputs": [
    {
     "data": {
      "text/plain": [
       "<AxesSubplot:>"
      ]
     },
     "execution_count": 63,
     "metadata": {},
     "output_type": "execute_result"
    },
    {
     "data": {
      "image/png": "[encoded data removed]",
      "text/plain": [
       "<Figure size 432x288 with 1 Axes>"
      ]
     },
     "metadata": {
      "needs_background": "light"
     },
     "output_type": "display_data"
    }
   ],
   "source": [
    "ngs_reads['module_8_alpha'].plot(kind='bar')"
   ]
  },
  {
   "cell_type": "code",
   "execution_count": 64,
   "id": "2ce7a52d",
   "metadata": {},
   "outputs": [
    {
     "data": {
      "text/plain": [
       "<AxesSubplot:>"
      ]
     },
     "execution_count": 64,
     "metadata": {},
     "output_type": "execute_result"
    },
    {
     "data": {
      "image/png": "[encoded data removed]",
      "text/plain": [
       "<Figure size 432x288 with 1 Axes>"
      ]
     },
     "metadata": {
      "needs_background": "light"
     },
     "output_type": "display_data"
    }
   ],
   "source": [
    "ngs_reads['module_8_beta'].plot(kind='bar')"
   ]
  },
  {
   "cell_type": "code",
   "execution_count": 65,
   "id": "5ded0ade",
   "metadata": {},
   "outputs": [],
   "source": [
    "#drop original column after feature extraction\n",
    "ngs_reads.drop(columns='Sequence Duplication Levels', inplace=True)"
   ]
  },
  {
   "cell_type": "markdown",
   "id": "aec40821",
   "metadata": {},
   "source": [
    "### Module 9 - Overrepresented sequences\n",
    "[Documentation:](https://www.bioinformatics.babraham.ac.uk/projects/fastqc/Help/3%20Analysis%20Modules/9%20Overrepresented%20Sequences.html)\n",
    ">  A normal high-throughput library will contain a diverse set of sequences, with no individual sequence making up a tiny fraction of the whole. Finding that a single sequence is very overrepresented in the set either means that it is highly biologically significant, or indicates that the library is contaminated, or not as diverse as you expected.  \n",
    "This module lists all of the sequence which make up more than 0.1% of the total. To conserve memory only sequences which appear in the first 100,000 sequences are tracked to the end of the file. It is therefore possible that a sequence which is overrepresented but doesn't appear at the start of the file for some reason could be missed by this module.  \n",
    "For each overrepresented sequence the program will look for matches in a database of common contaminants and will report the best hit it finds. Hits must be at least 20bp in length and have no more than 1 mismatch. Finding a hit doesn't necessarily mean that this is the source of the contamination, but may point you in the right direction. It's also worth pointing out that many adapter sequences are very similar to each other so you may get a hit reported which isn't technically correct, but which has very similar sequence to the actual match.  \n",
    "Because the duplication detection requires an exact sequence match over the whole length of the sequence any reads over 75bp in length are truncated to 50bp for the purposes of this analysis. Even so, longer reads are more likely to contain sequencing errors which will artificially increase the observed diversity and will tend to underrepresent highly duplicated sequences.   "
   ]
  },
  {
   "cell_type": "code",
   "execution_count": 66,
   "id": "72654b11",
   "metadata": {
    "scrolled": false
   },
   "outputs": [
    {
     "data": {
      "text/html": [
       "<div>\n",
       "<style scoped>\n",
       "    .dataframe tbody tr th:only-of-type {\n",
       "        vertical-align: middle;\n",
       "    }\n",
       "\n",
       "    .dataframe tbody tr th {\n",
       "        vertical-align: top;\n",
       "    }\n",
       "\n",
       "    .dataframe thead th {\n",
       "        text-align: right;\n",
       "    }\n",
       "</style>\n",
       "<table border=\"1\" class=\"dataframe\">\n",
       "  <thead>\n",
       "    <tr style=\"text-align: right;\">\n",
       "      <th></th>\n",
       "      <th>Sequence</th>\n",
       "      <th>Count</th>\n",
       "      <th>Percentage</th>\n",
       "      <th>Possible Source</th>\n",
       "    </tr>\n",
       "  </thead>\n",
       "  <tbody>\n",
       "    <tr>\n",
       "      <th>0</th>\n",
       "      <td>GTTTTAAAAGTGTCAAAATTGAATGCAATTATCATGCATATGATTA...</td>\n",
       "      <td>1</td>\n",
       "      <td>0.299401</td>\n",
       "      <td>No Hit</td>\n",
       "    </tr>\n",
       "    <tr>\n",
       "      <th>1</th>\n",
       "      <td>GTATTAATAAATCCATAACCGCATGTTCTGCCACACTAACTGTATT...</td>\n",
       "      <td>1</td>\n",
       "      <td>0.299401</td>\n",
       "      <td>No Hit</td>\n",
       "    </tr>\n",
       "    <tr>\n",
       "      <th>2</th>\n",
       "      <td>GTTTTTCATCACTAAATACAACAAAGCGATCCCCAGCTTGTGGCAC...</td>\n",
       "      <td>1</td>\n",
       "      <td>0.299401</td>\n",
       "      <td>No Hit</td>\n",
       "    </tr>\n",
       "    <tr>\n",
       "      <th>3</th>\n",
       "      <td>GTCTATATCACTTTGACCGTTCATTTCAGTGTGAGAACTTTTATTT...</td>\n",
       "      <td>1</td>\n",
       "      <td>0.299401</td>\n",
       "      <td>No Hit</td>\n",
       "    </tr>\n",
       "    <tr>\n",
       "      <th>4</th>\n",
       "      <td>ATTTAACAATATATGTTATTTGTATATGACTTGTAAAATATCGTCA...</td>\n",
       "      <td>1</td>\n",
       "      <td>0.299401</td>\n",
       "      <td>No Hit</td>\n",
       "    </tr>\n",
       "    <tr>\n",
       "      <th>...</th>\n",
       "      <td>...</td>\n",
       "      <td>...</td>\n",
       "      <td>...</td>\n",
       "      <td>...</td>\n",
       "    </tr>\n",
       "    <tr>\n",
       "      <th>329</th>\n",
       "      <td>GTGATAGATCTTCTATCATATCTAAATCAAGCATATATGTTATATC...</td>\n",
       "      <td>1</td>\n",
       "      <td>0.299401</td>\n",
       "      <td>No Hit</td>\n",
       "    </tr>\n",
       "    <tr>\n",
       "      <th>330</th>\n",
       "      <td>CTTTAACAGTATCGTATGATACTAATTTAATTGGCAACTTTTTGTC...</td>\n",
       "      <td>1</td>\n",
       "      <td>0.299401</td>\n",
       "      <td>No Hit</td>\n",
       "    </tr>\n",
       "    <tr>\n",
       "      <th>331</th>\n",
       "      <td>GTTTAAACCTATGCGATAATGATCATACTTTTGAATCTCTGCCATG...</td>\n",
       "      <td>1</td>\n",
       "      <td>0.299401</td>\n",
       "      <td>No Hit</td>\n",
       "    </tr>\n",
       "    <tr>\n",
       "      <th>332</th>\n",
       "      <td>GCTAATACACCGTATGGCGTTAAACGTAAGACGAACGTCACAATCG...</td>\n",
       "      <td>1</td>\n",
       "      <td>0.299401</td>\n",
       "      <td>No Hit</td>\n",
       "    </tr>\n",
       "    <tr>\n",
       "      <th>333</th>\n",
       "      <td>GCATCTAAATCATCTGATGAAAATGTATCATCAACAACAAAATCAA...</td>\n",
       "      <td>1</td>\n",
       "      <td>0.299401</td>\n",
       "      <td>No Hit</td>\n",
       "    </tr>\n",
       "  </tbody>\n",
       "</table>\n",
       "<p>334 rows × 4 columns</p>\n",
       "</div>"
      ],
      "text/plain": [
       "                                              Sequence  Count  Percentage  \\\n",
       "0    GTTTTAAAAGTGTCAAAATTGAATGCAATTATCATGCATATGATTA...      1    0.299401   \n",
       "1    GTATTAATAAATCCATAACCGCATGTTCTGCCACACTAACTGTATT...      1    0.299401   \n",
       "2    GTTTTTCATCACTAAATACAACAAAGCGATCCCCAGCTTGTGGCAC...      1    0.299401   \n",
       "3    GTCTATATCACTTTGACCGTTCATTTCAGTGTGAGAACTTTTATTT...      1    0.299401   \n",
       "4    ATTTAACAATATATGTTATTTGTATATGACTTGTAAAATATCGTCA...      1    0.299401   \n",
       "..                                                 ...    ...         ...   \n",
       "329  GTGATAGATCTTCTATCATATCTAAATCAAGCATATATGTTATATC...      1    0.299401   \n",
       "330  CTTTAACAGTATCGTATGATACTAATTTAATTGGCAACTTTTTGTC...      1    0.299401   \n",
       "331  GTTTAAACCTATGCGATAATGATCATACTTTTGAATCTCTGCCATG...      1    0.299401   \n",
       "332  GCTAATACACCGTATGGCGTTAAACGTAAGACGAACGTCACAATCG...      1    0.299401   \n",
       "333  GCATCTAAATCATCTGATGAAAATGTATCATCAACAACAAAATCAA...      1    0.299401   \n",
       "\n",
       "    Possible Source  \n",
       "0            No Hit  \n",
       "1            No Hit  \n",
       "2            No Hit  \n",
       "3            No Hit  \n",
       "4            No Hit  \n",
       "..              ...  \n",
       "329          No Hit  \n",
       "330          No Hit  \n",
       "331          No Hit  \n",
       "332          No Hit  \n",
       "333          No Hit  \n",
       "\n",
       "[334 rows x 4 columns]"
      ]
     },
     "execution_count": 66,
     "metadata": {},
     "output_type": "execute_result"
    }
   ],
   "source": [
    "ngs_reads['Overrepresented sequences'][4]"
   ]
  },
  {
   "cell_type": "raw",
   "id": "09bf5a4a",
   "metadata": {},
   "source": [
    "def features_overrepresented_seq(row):\n",
    "    if row['Overrepresented sequences'].shape[0] == 0:\n",
    "        distinct_seq = 0\n",
    "        mean_perc = 0.0\n",
    "        count_sum = 0\n",
    "    else:\n",
    "        distinct_seq = row['Overrepresented sequences'].shape[0]\n",
    "        mean_perc = row['Overrepresented sequences']['Percentage'].mean()\n",
    "        count_sum = row['Overrepresented sequences']['Count'].sum()\n",
    "    return distinct_seq, mean_perc, count_sum\n",
    "\n",
    "#column Possible Source no hits for all datasets, for other data possibly interesting feature"
   ]
  },
  {
   "cell_type": "raw",
   "id": "0a8d175a",
   "metadata": {},
   "source": [
    "ngs_reads[['module_9_distinct_seq', 'module_9_mean_perc', 'module_9_count_sum'\n",
    "          ]] = ngs_reads.apply(features_overrepresented_seq, axis=1, result_type='expand')"
   ]
  },
  {
   "cell_type": "raw",
   "id": "b81eaac7",
   "metadata": {},
   "source": [
    "ngs_reads['module_9_distinct_seq'].plot(kind='bar')"
   ]
  },
  {
   "cell_type": "raw",
   "id": "d902f761",
   "metadata": {},
   "source": [
    "ngs_reads['module_9_mean_perc'].plot(kind='bar')"
   ]
  },
  {
   "cell_type": "raw",
   "id": "7e6c9758",
   "metadata": {},
   "source": [
    "ngs_reads['module_9_count_sum'].plot(kind='bar')"
   ]
  },
  {
   "cell_type": "code",
   "execution_count": 67,
   "id": "927df90f",
   "metadata": {},
   "outputs": [],
   "source": [
    "ngs_reads.drop(columns='Overrepresented sequences', inplace=True) # drop original column after feature extraction"
   ]
  },
  {
   "cell_type": "markdown",
   "id": "c9a4821c",
   "metadata": {},
   "source": [
    "### Module 10 - Adapter Content\n",
    "[Documentation:](https://www.bioinformatics.babraham.ac.uk/projects/fastqc/Help/3%20Analysis%20Modules/10%20Adapter%20Content.html)\n",
    "> The Kmer Content module will do a generic analysis of all of the Kmers in your library to find those which do not have even coverage through the length of your reads. This can find a number of different sources of bias in the library which can include the presence of read-through adapter sequences building up on the end of your sequences.  \n",
    "You can however find that the presence of any overrepresented sequences in your library (such as adapter dimers) will cause the Kmer plot to be dominated by the Kmers these sequences contain, and that it's not always easy to see if there are other biases present in which you might be interested.  \n",
    "One obvious class of sequences which you might want to analyse are adapter sequences. It is useful to know if your library contains a significant amount of adapter in order to be able to assess whether you need to adapter trim or not. Although the Kmer analysis can theoretically spot this kind of contamination it isn't always clear. This module therefore does a specific search for a set of separately defined Kmers and will give you a view of the total proportion of your library which contain these Kmers. A results trace will always be generated for all of the sequences present in the adapter config file so you can see the adapter content of your library, even if it's low.  \n",
    "The plot itself shows a cumulative percentage count of the proportion of your library which has seen each of the adapter sequences at each position. Once a sequence has been seen in a read it is counted as being present right through to the end of the read so the percentages you see will only increase as the read length goes on. "
   ]
  },
  {
   "cell_type": "markdown",
   "id": "dc9ec750",
   "metadata": {},
   "source": [
    "Adapter Content will be ignored for feature engineering."
   ]
  },
  {
   "cell_type": "code",
   "execution_count": 68,
   "id": "153706f3",
   "metadata": {},
   "outputs": [],
   "source": [
    "ngs_reads.drop(columns='Adapter Content', inplace=True)"
   ]
  },
  {
   "cell_type": "markdown",
   "id": "34891bfc",
   "metadata": {},
   "source": [
    "#### Export datasets"
   ]
  },
  {
   "cell_type": "code",
   "execution_count": 69,
   "id": "2ea93b7f",
   "metadata": {},
   "outputs": [
    {
     "data": {
      "text/html": [
       "<div>\n",
       "<style scoped>\n",
       "    .dataframe tbody tr th:only-of-type {\n",
       "        vertical-align: middle;\n",
       "    }\n",
       "\n",
       "    .dataframe tbody tr th {\n",
       "        vertical-align: top;\n",
       "    }\n",
       "\n",
       "    .dataframe thead th {\n",
       "        text-align: right;\n",
       "    }\n",
       "</style>\n",
       "<table border=\"1\" class=\"dataframe\">\n",
       "  <thead>\n",
       "    <tr style=\"text-align: right;\">\n",
       "      <th></th>\n",
       "      <th>organism</th>\n",
       "      <th>technology</th>\n",
       "      <th>read_number</th>\n",
       "      <th>evaluation</th>\n",
       "      <th>total_sequences</th>\n",
       "      <th>percent_gc</th>\n",
       "      <th>min_sequence_length</th>\n",
       "      <th>max_sequence_length</th>\n",
       "      <th>module_1_status</th>\n",
       "      <th>module_2_status</th>\n",
       "      <th>...</th>\n",
       "      <th>module_2_std_neg</th>\n",
       "      <th>module_2_std_pos</th>\n",
       "      <th>module_2_a</th>\n",
       "      <th>module_3_alpha</th>\n",
       "      <th>module_3_beta</th>\n",
       "      <th>module_6_ncount</th>\n",
       "      <th>module_7_alpha</th>\n",
       "      <th>module_7_beta</th>\n",
       "      <th>module_8_alpha</th>\n",
       "      <th>module_8_beta</th>\n",
       "    </tr>\n",
       "  </thead>\n",
       "  <tbody>\n",
       "    <tr>\n",
       "      <th>0</th>\n",
       "      <td>Sau</td>\n",
       "      <td>MS</td>\n",
       "      <td>2</td>\n",
       "      <td>0</td>\n",
       "      <td>511669</td>\n",
       "      <td>34</td>\n",
       "      <td>35</td>\n",
       "      <td>301</td>\n",
       "      <td>0</td>\n",
       "      <td>2</td>\n",
       "      <td>...</td>\n",
       "      <td>0.152436</td>\n",
       "      <td>0.110886</td>\n",
       "      <td>3.476337e-12</td>\n",
       "      <td>166.495429</td>\n",
       "      <td>5.099693</td>\n",
       "      <td>2.284685</td>\n",
       "      <td>170.582444</td>\n",
       "      <td>1.033088</td>\n",
       "      <td>0.126128</td>\n",
       "      <td>6.786162</td>\n",
       "    </tr>\n",
       "    <tr>\n",
       "      <th>1</th>\n",
       "      <td>Sau</td>\n",
       "      <td>MS</td>\n",
       "      <td>1</td>\n",
       "      <td>0</td>\n",
       "      <td>220494</td>\n",
       "      <td>34</td>\n",
       "      <td>35</td>\n",
       "      <td>301</td>\n",
       "      <td>2</td>\n",
       "      <td>1</td>\n",
       "      <td>...</td>\n",
       "      <td>0.638471</td>\n",
       "      <td>0.489727</td>\n",
       "      <td>-1.283318e-12</td>\n",
       "      <td>165.938485</td>\n",
       "      <td>5.605282</td>\n",
       "      <td>3.721629</td>\n",
       "      <td>170.611964</td>\n",
       "      <td>1.011972</td>\n",
       "      <td>0.206852</td>\n",
       "      <td>11.074234</td>\n",
       "    </tr>\n",
       "    <tr>\n",
       "      <th>2</th>\n",
       "      <td>Sau</td>\n",
       "      <td>MS</td>\n",
       "      <td>1</td>\n",
       "      <td>0</td>\n",
       "      <td>6015314</td>\n",
       "      <td>65</td>\n",
       "      <td>35</td>\n",
       "      <td>301</td>\n",
       "      <td>0</td>\n",
       "      <td>1</td>\n",
       "      <td>...</td>\n",
       "      <td>0.588583</td>\n",
       "      <td>0.274379</td>\n",
       "      <td>-2.436250e-12</td>\n",
       "      <td>33.631888</td>\n",
       "      <td>2.069546</td>\n",
       "      <td>1.318690</td>\n",
       "      <td>170.583420</td>\n",
       "      <td>1.003109</td>\n",
       "      <td>0.049906</td>\n",
       "      <td>1.944473</td>\n",
       "    </tr>\n",
       "    <tr>\n",
       "      <th>3</th>\n",
       "      <td>Sau</td>\n",
       "      <td>MS</td>\n",
       "      <td>1</td>\n",
       "      <td>0</td>\n",
       "      <td>1916272</td>\n",
       "      <td>35</td>\n",
       "      <td>35</td>\n",
       "      <td>301</td>\n",
       "      <td>2</td>\n",
       "      <td>2</td>\n",
       "      <td>...</td>\n",
       "      <td>0.191566</td>\n",
       "      <td>0.094444</td>\n",
       "      <td>2.865684e-12</td>\n",
       "      <td>166.506391</td>\n",
       "      <td>5.109851</td>\n",
       "      <td>0.065384</td>\n",
       "      <td>170.540443</td>\n",
       "      <td>1.021960</td>\n",
       "      <td>-0.807414</td>\n",
       "      <td>0.005944</td>\n",
       "    </tr>\n",
       "    <tr>\n",
       "      <th>4</th>\n",
       "      <td>Sau</td>\n",
       "      <td>MS</td>\n",
       "      <td>2</td>\n",
       "      <td>0</td>\n",
       "      <td>334</td>\n",
       "      <td>35</td>\n",
       "      <td>69</td>\n",
       "      <td>301</td>\n",
       "      <td>0</td>\n",
       "      <td>0</td>\n",
       "      <td>...</td>\n",
       "      <td>4.911008</td>\n",
       "      <td>1.864702</td>\n",
       "      <td>2.058200e-12</td>\n",
       "      <td>0.108615</td>\n",
       "      <td>-0.116077</td>\n",
       "      <td>0.000000</td>\n",
       "      <td>170.611536</td>\n",
       "      <td>1.012826</td>\n",
       "      <td>9.004749</td>\n",
       "      <td>162.619610</td>\n",
       "    </tr>\n",
       "  </tbody>\n",
       "</table>\n",
       "<p>5 rows × 28 columns</p>\n",
       "</div>"
      ],
      "text/plain": [
       "  organism technology  read_number  evaluation  total_sequences  percent_gc  \\\n",
       "0      Sau         MS            2           0           511669          34   \n",
       "1      Sau         MS            1           0           220494          34   \n",
       "2      Sau         MS            1           0          6015314          65   \n",
       "3      Sau         MS            1           0          1916272          35   \n",
       "4      Sau         MS            2           0              334          35   \n",
       "\n",
       "   min_sequence_length  max_sequence_length  module_1_status  module_2_status  \\\n",
       "0                   35                  301                0                2   \n",
       "1                   35                  301                2                1   \n",
       "2                   35                  301                0                1   \n",
       "3                   35                  301                2                2   \n",
       "4                   69                  301                0                0   \n",
       "\n",
       "   ...  module_2_std_neg  module_2_std_pos    module_2_a  module_3_alpha  \\\n",
       "0  ...          0.152436          0.110886  3.476337e-12      166.495429   \n",
       "1  ...          0.638471          0.489727 -1.283318e-12      165.938485   \n",
       "2  ...          0.588583          0.274379 -2.436250e-12       33.631888   \n",
       "3  ...          0.191566          0.094444  2.865684e-12      166.506391   \n",
       "4  ...          4.911008          1.864702  2.058200e-12        0.108615   \n",
       "\n",
       "   module_3_beta  module_6_ncount  module_7_alpha  module_7_beta  \\\n",
       "0       5.099693         2.284685      170.582444       1.033088   \n",
       "1       5.605282         3.721629      170.611964       1.011972   \n",
       "2       2.069546         1.318690      170.583420       1.003109   \n",
       "3       5.109851         0.065384      170.540443       1.021960   \n",
       "4      -0.116077         0.000000      170.611536       1.012826   \n",
       "\n",
       "   module_8_alpha  module_8_beta  \n",
       "0        0.126128       6.786162  \n",
       "1        0.206852      11.074234  \n",
       "2        0.049906       1.944473  \n",
       "3       -0.807414       0.005944  \n",
       "4        9.004749     162.619610  \n",
       "\n",
       "[5 rows x 28 columns]"
      ]
     },
     "execution_count": 69,
     "metadata": {},
     "output_type": "execute_result"
    }
   ],
   "source": [
    "ngs_reads.head()"
   ]
  },
  {
   "cell_type": "code",
   "execution_count": 70,
   "id": "88927adf",
   "metadata": {},
   "outputs": [
    {
     "data": {
      "text/plain": [
       "Index(['organism', 'technology', 'read_number', 'evaluation',\n",
       "       'total_sequences', 'percent_gc', 'min_sequence_length',\n",
       "       'max_sequence_length', 'module_1_status', 'module_2_status',\n",
       "       'module_3_status', 'module_4_status', 'module_5_status',\n",
       "       'module_6_status', 'module_7_status', 'module_8_status',\n",
       "       'module_9_status', 'module_10_status', 'module_2_std_neg',\n",
       "       'module_2_std_pos', 'module_2_a', 'module_3_alpha', 'module_3_beta',\n",
       "       'module_6_ncount', 'module_7_alpha', 'module_7_beta', 'module_8_alpha',\n",
       "       'module_8_beta'],\n",
       "      dtype='object')"
      ]
     },
     "execution_count": 70,
     "metadata": {},
     "output_type": "execute_result"
    }
   ],
   "source": [
    "ngs_reads.columns"
   ]
  },
  {
   "cell_type": "code",
   "execution_count": 71,
   "id": "c7a3ce72",
   "metadata": {},
   "outputs": [
    {
     "data": {
      "text/html": [
       "<div>\n",
       "<style scoped>\n",
       "    .dataframe tbody tr th:only-of-type {\n",
       "        vertical-align: middle;\n",
       "    }\n",
       "\n",
       "    .dataframe tbody tr th {\n",
       "        vertical-align: top;\n",
       "    }\n",
       "\n",
       "    .dataframe thead th {\n",
       "        text-align: right;\n",
       "    }\n",
       "</style>\n",
       "<table border=\"1\" class=\"dataframe\">\n",
       "  <thead>\n",
       "    <tr style=\"text-align: right;\">\n",
       "      <th></th>\n",
       "      <th>organism</th>\n",
       "      <th>technology</th>\n",
       "      <th>read_number</th>\n",
       "      <th>evaluation</th>\n",
       "      <th>total_sequences</th>\n",
       "      <th>percent_gc</th>\n",
       "      <th>min_sequence_length</th>\n",
       "      <th>max_sequence_length</th>\n",
       "      <th>module_1_status</th>\n",
       "      <th>module_2_status</th>\n",
       "      <th>...</th>\n",
       "      <th>module_2_std_neg</th>\n",
       "      <th>module_2_std_pos</th>\n",
       "      <th>module_2_a</th>\n",
       "      <th>module_3_alpha</th>\n",
       "      <th>module_3_beta</th>\n",
       "      <th>module_6_ncount</th>\n",
       "      <th>module_7_alpha</th>\n",
       "      <th>module_7_beta</th>\n",
       "      <th>module_8_alpha</th>\n",
       "      <th>module_8_beta</th>\n",
       "    </tr>\n",
       "  </thead>\n",
       "  <tbody>\n",
       "    <tr>\n",
       "      <th>0</th>\n",
       "      <td>Ecoli</td>\n",
       "      <td>MS</td>\n",
       "      <td>2</td>\n",
       "      <td>0</td>\n",
       "      <td>23236</td>\n",
       "      <td>51</td>\n",
       "      <td>35</td>\n",
       "      <td>301</td>\n",
       "      <td>0</td>\n",
       "      <td>0</td>\n",
       "      <td>...</td>\n",
       "      <td>0.536534</td>\n",
       "      <td>0.600679</td>\n",
       "      <td>-2.133224e-12</td>\n",
       "      <td>166.446721</td>\n",
       "      <td>5.177555</td>\n",
       "      <td>4.727717</td>\n",
       "      <td>170.599153</td>\n",
       "      <td>1.024429</td>\n",
       "      <td>0.805834</td>\n",
       "      <td>30.307098</td>\n",
       "    </tr>\n",
       "    <tr>\n",
       "      <th>1</th>\n",
       "      <td>Ecoli</td>\n",
       "      <td>MS</td>\n",
       "      <td>2</td>\n",
       "      <td>0</td>\n",
       "      <td>949</td>\n",
       "      <td>51</td>\n",
       "      <td>35</td>\n",
       "      <td>301</td>\n",
       "      <td>0</td>\n",
       "      <td>0</td>\n",
       "      <td>...</td>\n",
       "      <td>3.164882</td>\n",
       "      <td>2.759530</td>\n",
       "      <td>1.638630e-12</td>\n",
       "      <td>50.897898</td>\n",
       "      <td>5.829349</td>\n",
       "      <td>0.105374</td>\n",
       "      <td>170.623311</td>\n",
       "      <td>1.001050</td>\n",
       "      <td>9.004749</td>\n",
       "      <td>162.619610</td>\n",
       "    </tr>\n",
       "    <tr>\n",
       "      <th>2</th>\n",
       "      <td>Ecoli</td>\n",
       "      <td>MS</td>\n",
       "      <td>1</td>\n",
       "      <td>0</td>\n",
       "      <td>866227</td>\n",
       "      <td>51</td>\n",
       "      <td>35</td>\n",
       "      <td>301</td>\n",
       "      <td>0</td>\n",
       "      <td>2</td>\n",
       "      <td>...</td>\n",
       "      <td>0.555299</td>\n",
       "      <td>0.529091</td>\n",
       "      <td>-1.145235e-13</td>\n",
       "      <td>166.285801</td>\n",
       "      <td>5.331182</td>\n",
       "      <td>0.450809</td>\n",
       "      <td>170.574036</td>\n",
       "      <td>1.002867</td>\n",
       "      <td>0.124651</td>\n",
       "      <td>6.623583</td>\n",
       "    </tr>\n",
       "    <tr>\n",
       "      <th>3</th>\n",
       "      <td>Ecoli</td>\n",
       "      <td>MS</td>\n",
       "      <td>2</td>\n",
       "      <td>0</td>\n",
       "      <td>378359</td>\n",
       "      <td>50</td>\n",
       "      <td>35</td>\n",
       "      <td>301</td>\n",
       "      <td>0</td>\n",
       "      <td>2</td>\n",
       "      <td>...</td>\n",
       "      <td>0.126878</td>\n",
       "      <td>0.286479</td>\n",
       "      <td>3.224775e-12</td>\n",
       "      <td>166.323511</td>\n",
       "      <td>5.248709</td>\n",
       "      <td>0.533028</td>\n",
       "      <td>170.623143</td>\n",
       "      <td>0.990836</td>\n",
       "      <td>0.250376</td>\n",
       "      <td>12.882071</td>\n",
       "    </tr>\n",
       "    <tr>\n",
       "      <th>4</th>\n",
       "      <td>Ecoli</td>\n",
       "      <td>MS</td>\n",
       "      <td>1</td>\n",
       "      <td>0</td>\n",
       "      <td>806181</td>\n",
       "      <td>51</td>\n",
       "      <td>35</td>\n",
       "      <td>301</td>\n",
       "      <td>0</td>\n",
       "      <td>2</td>\n",
       "      <td>...</td>\n",
       "      <td>0.289414</td>\n",
       "      <td>0.363040</td>\n",
       "      <td>-1.177616e-12</td>\n",
       "      <td>166.289359</td>\n",
       "      <td>5.330448</td>\n",
       "      <td>1.298303</td>\n",
       "      <td>170.627624</td>\n",
       "      <td>0.996524</td>\n",
       "      <td>0.138073</td>\n",
       "      <td>7.365748</td>\n",
       "    </tr>\n",
       "    <tr>\n",
       "      <th>5</th>\n",
       "      <td>Ecoli</td>\n",
       "      <td>MS</td>\n",
       "      <td>1</td>\n",
       "      <td>0</td>\n",
       "      <td>23236</td>\n",
       "      <td>51</td>\n",
       "      <td>35</td>\n",
       "      <td>301</td>\n",
       "      <td>2</td>\n",
       "      <td>1</td>\n",
       "      <td>...</td>\n",
       "      <td>0.490731</td>\n",
       "      <td>0.276904</td>\n",
       "      <td>-3.097233e-12</td>\n",
       "      <td>166.520206</td>\n",
       "      <td>5.103635</td>\n",
       "      <td>5.899575</td>\n",
       "      <td>170.602111</td>\n",
       "      <td>1.022078</td>\n",
       "      <td>0.783640</td>\n",
       "      <td>29.753835</td>\n",
       "    </tr>\n",
       "    <tr>\n",
       "      <th>6</th>\n",
       "      <td>Ecoli</td>\n",
       "      <td>MS</td>\n",
       "      <td>2</td>\n",
       "      <td>0</td>\n",
       "      <td>806181</td>\n",
       "      <td>51</td>\n",
       "      <td>35</td>\n",
       "      <td>301</td>\n",
       "      <td>0</td>\n",
       "      <td>1</td>\n",
       "      <td>...</td>\n",
       "      <td>0.922698</td>\n",
       "      <td>0.648328</td>\n",
       "      <td>1.553073e-12</td>\n",
       "      <td>166.322832</td>\n",
       "      <td>5.300275</td>\n",
       "      <td>1.291125</td>\n",
       "      <td>170.618237</td>\n",
       "      <td>0.990017</td>\n",
       "      <td>0.157840</td>\n",
       "      <td>8.482156</td>\n",
       "    </tr>\n",
       "    <tr>\n",
       "      <th>7</th>\n",
       "      <td>Ecoli</td>\n",
       "      <td>MS</td>\n",
       "      <td>1</td>\n",
       "      <td>0</td>\n",
       "      <td>949</td>\n",
       "      <td>51</td>\n",
       "      <td>35</td>\n",
       "      <td>301</td>\n",
       "      <td>1</td>\n",
       "      <td>0</td>\n",
       "      <td>...</td>\n",
       "      <td>6.431962</td>\n",
       "      <td>1.976326</td>\n",
       "      <td>1.610859e-12</td>\n",
       "      <td>166.031108</td>\n",
       "      <td>5.593230</td>\n",
       "      <td>0.914762</td>\n",
       "      <td>170.563995</td>\n",
       "      <td>1.060380</td>\n",
       "      <td>1.812129</td>\n",
       "      <td>52.177326</td>\n",
       "    </tr>\n",
       "    <tr>\n",
       "      <th>8</th>\n",
       "      <td>Ecoli</td>\n",
       "      <td>MS</td>\n",
       "      <td>1</td>\n",
       "      <td>0</td>\n",
       "      <td>378359</td>\n",
       "      <td>50</td>\n",
       "      <td>35</td>\n",
       "      <td>301</td>\n",
       "      <td>0</td>\n",
       "      <td>1</td>\n",
       "      <td>...</td>\n",
       "      <td>0.800536</td>\n",
       "      <td>0.735255</td>\n",
       "      <td>3.814738e-13</td>\n",
       "      <td>166.162084</td>\n",
       "      <td>5.417745</td>\n",
       "      <td>0.514172</td>\n",
       "      <td>170.637715</td>\n",
       "      <td>0.985613</td>\n",
       "      <td>0.247311</td>\n",
       "      <td>12.747891</td>\n",
       "    </tr>\n",
       "    <tr>\n",
       "      <th>9</th>\n",
       "      <td>Ecoli</td>\n",
       "      <td>MS</td>\n",
       "      <td>2</td>\n",
       "      <td>0</td>\n",
       "      <td>866227</td>\n",
       "      <td>51</td>\n",
       "      <td>35</td>\n",
       "      <td>301</td>\n",
       "      <td>0</td>\n",
       "      <td>2</td>\n",
       "      <td>...</td>\n",
       "      <td>0.487011</td>\n",
       "      <td>0.431035</td>\n",
       "      <td>2.285118e-13</td>\n",
       "      <td>166.216455</td>\n",
       "      <td>5.311392</td>\n",
       "      <td>0.450809</td>\n",
       "      <td>170.688141</td>\n",
       "      <td>0.926548</td>\n",
       "      <td>0.135480</td>\n",
       "      <td>7.272862</td>\n",
       "    </tr>\n",
       "    <tr>\n",
       "      <th>10</th>\n",
       "      <td>Ecoli</td>\n",
       "      <td>HS</td>\n",
       "      <td>2</td>\n",
       "      <td>0</td>\n",
       "      <td>671848</td>\n",
       "      <td>49</td>\n",
       "      <td>35</td>\n",
       "      <td>251</td>\n",
       "      <td>0</td>\n",
       "      <td>0</td>\n",
       "      <td>...</td>\n",
       "      <td>1.058632</td>\n",
       "      <td>0.906794</td>\n",
       "      <td>-7.653246e-13</td>\n",
       "      <td>165.746321</td>\n",
       "      <td>5.812614</td>\n",
       "      <td>469.391768</td>\n",
       "      <td>170.492609</td>\n",
       "      <td>1.120198</td>\n",
       "      <td>0.179790</td>\n",
       "      <td>11.037329</td>\n",
       "    </tr>\n",
       "    <tr>\n",
       "      <th>11</th>\n",
       "      <td>Ecoli</td>\n",
       "      <td>HS</td>\n",
       "      <td>2</td>\n",
       "      <td>0</td>\n",
       "      <td>702610</td>\n",
       "      <td>50</td>\n",
       "      <td>35</td>\n",
       "      <td>251</td>\n",
       "      <td>0</td>\n",
       "      <td>0</td>\n",
       "      <td>...</td>\n",
       "      <td>0.960103</td>\n",
       "      <td>0.875250</td>\n",
       "      <td>1.014376e-13</td>\n",
       "      <td>146.183033</td>\n",
       "      <td>25.379298</td>\n",
       "      <td>454.929589</td>\n",
       "      <td>170.492698</td>\n",
       "      <td>1.131373</td>\n",
       "      <td>0.200428</td>\n",
       "      <td>10.864188</td>\n",
       "    </tr>\n",
       "    <tr>\n",
       "      <th>12</th>\n",
       "      <td>Ecoli</td>\n",
       "      <td>HS</td>\n",
       "      <td>2</td>\n",
       "      <td>0</td>\n",
       "      <td>1058837</td>\n",
       "      <td>53</td>\n",
       "      <td>35</td>\n",
       "      <td>251</td>\n",
       "      <td>0</td>\n",
       "      <td>0</td>\n",
       "      <td>...</td>\n",
       "      <td>1.051438</td>\n",
       "      <td>0.949939</td>\n",
       "      <td>-1.359823e-12</td>\n",
       "      <td>164.950796</td>\n",
       "      <td>5.988329</td>\n",
       "      <td>467.910666</td>\n",
       "      <td>170.484824</td>\n",
       "      <td>1.104612</td>\n",
       "      <td>0.168819</td>\n",
       "      <td>9.404653</td>\n",
       "    </tr>\n",
       "    <tr>\n",
       "      <th>13</th>\n",
       "      <td>Ecoli</td>\n",
       "      <td>HS</td>\n",
       "      <td>1</td>\n",
       "      <td>0</td>\n",
       "      <td>1058837</td>\n",
       "      <td>53</td>\n",
       "      <td>35</td>\n",
       "      <td>251</td>\n",
       "      <td>2</td>\n",
       "      <td>1</td>\n",
       "      <td>...</td>\n",
       "      <td>0.217114</td>\n",
       "      <td>0.103518</td>\n",
       "      <td>9.765933e-13</td>\n",
       "      <td>165.837587</td>\n",
       "      <td>5.666831</td>\n",
       "      <td>0.196401</td>\n",
       "      <td>170.469694</td>\n",
       "      <td>1.153488</td>\n",
       "      <td>0.098526</td>\n",
       "      <td>5.147874</td>\n",
       "    </tr>\n",
       "    <tr>\n",
       "      <th>14</th>\n",
       "      <td>Ecoli</td>\n",
       "      <td>HS</td>\n",
       "      <td>1</td>\n",
       "      <td>0</td>\n",
       "      <td>702610</td>\n",
       "      <td>50</td>\n",
       "      <td>35</td>\n",
       "      <td>251</td>\n",
       "      <td>2</td>\n",
       "      <td>1</td>\n",
       "      <td>...</td>\n",
       "      <td>0.199380</td>\n",
       "      <td>0.083719</td>\n",
       "      <td>-3.912383e-13</td>\n",
       "      <td>165.610525</td>\n",
       "      <td>5.946889</td>\n",
       "      <td>0.145651</td>\n",
       "      <td>170.472765</td>\n",
       "      <td>1.129487</td>\n",
       "      <td>0.123211</td>\n",
       "      <td>6.656059</td>\n",
       "    </tr>\n",
       "    <tr>\n",
       "      <th>15</th>\n",
       "      <td>Ecoli</td>\n",
       "      <td>HS</td>\n",
       "      <td>1</td>\n",
       "      <td>0</td>\n",
       "      <td>671848</td>\n",
       "      <td>49</td>\n",
       "      <td>35</td>\n",
       "      <td>251</td>\n",
       "      <td>2</td>\n",
       "      <td>1</td>\n",
       "      <td>...</td>\n",
       "      <td>0.207992</td>\n",
       "      <td>0.093867</td>\n",
       "      <td>2.957554e-13</td>\n",
       "      <td>165.772266</td>\n",
       "      <td>5.836253</td>\n",
       "      <td>0.136179</td>\n",
       "      <td>170.473019</td>\n",
       "      <td>1.131173</td>\n",
       "      <td>0.109668</td>\n",
       "      <td>7.019656</td>\n",
       "    </tr>\n",
       "    <tr>\n",
       "      <th>16</th>\n",
       "      <td>Ecoli</td>\n",
       "      <td>HS</td>\n",
       "      <td>1</td>\n",
       "      <td>1</td>\n",
       "      <td>1308725</td>\n",
       "      <td>50</td>\n",
       "      <td>35</td>\n",
       "      <td>251</td>\n",
       "      <td>2</td>\n",
       "      <td>2</td>\n",
       "      <td>...</td>\n",
       "      <td>0.075926</td>\n",
       "      <td>0.039483</td>\n",
       "      <td>-2.042952e-11</td>\n",
       "      <td>166.649268</td>\n",
       "      <td>4.967171</td>\n",
       "      <td>0.686636</td>\n",
       "      <td>170.369074</td>\n",
       "      <td>1.130717</td>\n",
       "      <td>0.082178</td>\n",
       "      <td>4.244681</td>\n",
       "    </tr>\n",
       "    <tr>\n",
       "      <th>17</th>\n",
       "      <td>Ecoli</td>\n",
       "      <td>HS</td>\n",
       "      <td>2</td>\n",
       "      <td>1</td>\n",
       "      <td>1308725</td>\n",
       "      <td>50</td>\n",
       "      <td>35</td>\n",
       "      <td>251</td>\n",
       "      <td>2</td>\n",
       "      <td>2</td>\n",
       "      <td>...</td>\n",
       "      <td>0.158425</td>\n",
       "      <td>0.117944</td>\n",
       "      <td>7.763896e-12</td>\n",
       "      <td>166.208736</td>\n",
       "      <td>5.346639</td>\n",
       "      <td>7.253588</td>\n",
       "      <td>170.391133</td>\n",
       "      <td>1.140391</td>\n",
       "      <td>0.086839</td>\n",
       "      <td>4.558953</td>\n",
       "    </tr>\n",
       "  </tbody>\n",
       "</table>\n",
       "<p>18 rows × 28 columns</p>\n",
       "</div>"
      ],
      "text/plain": [
       "   organism technology  read_number  evaluation  total_sequences  percent_gc  \\\n",
       "0     Ecoli         MS            2           0            23236          51   \n",
       "1     Ecoli         MS            2           0              949          51   \n",
       "2     Ecoli         MS            1           0           866227          51   \n",
       "3     Ecoli         MS            2           0           378359          50   \n",
       "4     Ecoli         MS            1           0           806181          51   \n",
       "5     Ecoli         MS            1           0            23236          51   \n",
       "6     Ecoli         MS            2           0           806181          51   \n",
       "7     Ecoli         MS            1           0              949          51   \n",
       "8     Ecoli         MS            1           0           378359          50   \n",
       "9     Ecoli         MS            2           0           866227          51   \n",
       "10    Ecoli         HS            2           0           671848          49   \n",
       "11    Ecoli         HS            2           0           702610          50   \n",
       "12    Ecoli         HS            2           0          1058837          53   \n",
       "13    Ecoli         HS            1           0          1058837          53   \n",
       "14    Ecoli         HS            1           0           702610          50   \n",
       "15    Ecoli         HS            1           0           671848          49   \n",
       "16    Ecoli         HS            1           1          1308725          50   \n",
       "17    Ecoli         HS            2           1          1308725          50   \n",
       "\n",
       "    min_sequence_length  max_sequence_length  module_1_status  \\\n",
       "0                    35                  301                0   \n",
       "1                    35                  301                0   \n",
       "2                    35                  301                0   \n",
       "3                    35                  301                0   \n",
       "4                    35                  301                0   \n",
       "5                    35                  301                2   \n",
       "6                    35                  301                0   \n",
       "7                    35                  301                1   \n",
       "8                    35                  301                0   \n",
       "9                    35                  301                0   \n",
       "10                   35                  251                0   \n",
       "11                   35                  251                0   \n",
       "12                   35                  251                0   \n",
       "13                   35                  251                2   \n",
       "14                   35                  251                2   \n",
       "15                   35                  251                2   \n",
       "16                   35                  251                2   \n",
       "17                   35                  251                2   \n",
       "\n",
       "    module_2_status  ...  module_2_std_neg  module_2_std_pos    module_2_a  \\\n",
       "0                 0  ...          0.536534          0.600679 -2.133224e-12   \n",
       "1                 0  ...          3.164882          2.759530  1.638630e-12   \n",
       "2                 2  ...          0.555299          0.529091 -1.145235e-13   \n",
       "3                 2  ...          0.126878          0.286479  3.224775e-12   \n",
       "4                 2  ...          0.289414          0.363040 -1.177616e-12   \n",
       "5                 1  ...          0.490731          0.276904 -3.097233e-12   \n",
       "6                 1  ...          0.922698          0.648328  1.553073e-12   \n",
       "7                 0  ...          6.431962          1.976326  1.610859e-12   \n",
       "8                 1  ...          0.800536          0.735255  3.814738e-13   \n",
       "9                 2  ...          0.487011          0.431035  2.285118e-13   \n",
       "10                0  ...          1.058632          0.906794 -7.653246e-13   \n",
       "11                0  ...          0.960103          0.875250  1.014376e-13   \n",
       "12                0  ...          1.051438          0.949939 -1.359823e-12   \n",
       "13                1  ...          0.217114          0.103518  9.765933e-13   \n",
       "14                1  ...          0.199380          0.083719 -3.912383e-13   \n",
       "15                1  ...          0.207992          0.093867  2.957554e-13   \n",
       "16                2  ...          0.075926          0.039483 -2.042952e-11   \n",
       "17                2  ...          0.158425          0.117944  7.763896e-12   \n",
       "\n",
       "    module_3_alpha  module_3_beta  module_6_ncount  module_7_alpha  \\\n",
       "0       166.446721       5.177555         4.727717      170.599153   \n",
       "1        50.897898       5.829349         0.105374      170.623311   \n",
       "2       166.285801       5.331182         0.450809      170.574036   \n",
       "3       166.323511       5.248709         0.533028      170.623143   \n",
       "4       166.289359       5.330448         1.298303      170.627624   \n",
       "5       166.520206       5.103635         5.899575      170.602111   \n",
       "6       166.322832       5.300275         1.291125      170.618237   \n",
       "7       166.031108       5.593230         0.914762      170.563995   \n",
       "8       166.162084       5.417745         0.514172      170.637715   \n",
       "9       166.216455       5.311392         0.450809      170.688141   \n",
       "10      165.746321       5.812614       469.391768      170.492609   \n",
       "11      146.183033      25.379298       454.929589      170.492698   \n",
       "12      164.950796       5.988329       467.910666      170.484824   \n",
       "13      165.837587       5.666831         0.196401      170.469694   \n",
       "14      165.610525       5.946889         0.145651      170.472765   \n",
       "15      165.772266       5.836253         0.136179      170.473019   \n",
       "16      166.649268       4.967171         0.686636      170.369074   \n",
       "17      166.208736       5.346639         7.253588      170.391133   \n",
       "\n",
       "    module_7_beta  module_8_alpha  module_8_beta  \n",
       "0        1.024429        0.805834      30.307098  \n",
       "1        1.001050        9.004749     162.619610  \n",
       "2        1.002867        0.124651       6.623583  \n",
       "3        0.990836        0.250376      12.882071  \n",
       "4        0.996524        0.138073       7.365748  \n",
       "5        1.022078        0.783640      29.753835  \n",
       "6        0.990017        0.157840       8.482156  \n",
       "7        1.060380        1.812129      52.177326  \n",
       "8        0.985613        0.247311      12.747891  \n",
       "9        0.926548        0.135480       7.272862  \n",
       "10       1.120198        0.179790      11.037329  \n",
       "11       1.131373        0.200428      10.864188  \n",
       "12       1.104612        0.168819       9.404653  \n",
       "13       1.153488        0.098526       5.147874  \n",
       "14       1.129487        0.123211       6.656059  \n",
       "15       1.131173        0.109668       7.019656  \n",
       "16       1.130717        0.082178       4.244681  \n",
       "17       1.140391        0.086839       4.558953  \n",
       "\n",
       "[18 rows x 28 columns]"
      ]
     },
     "execution_count": 71,
     "metadata": {},
     "output_type": "execute_result"
    }
   ],
   "source": [
    "grouped = ngs_reads.groupby(ngs_reads.organism)\n",
    "efcm = grouped.get_group('Efcm')\n",
    "efcm.reset_index(drop=True)\n",
    "sau = grouped.get_group('Sau')\n",
    "sau.reset_index(drop=True)\n",
    "ecoli = grouped.get_group('Ecoli')\n",
    "ecoli.reset_index(drop=True)"
   ]
  },
  {
   "cell_type": "code",
   "execution_count": 72,
   "id": "1542d948",
   "metadata": {},
   "outputs": [
    {
     "name": "stdout",
     "output_type": "stream",
     "text": [
      "exported datasets\n",
      "all - (184, 28)\n",
      "efcm - (88, 28)\n",
      "sau - (78, 28)\n",
      "ecoli - (18, 28)\n"
     ]
    }
   ],
   "source": [
    "print('exported datasets')\n",
    "print('all -', ngs_reads.shape)\n",
    "ngs_reads.to_json('exported_datasets/all_full_features.json')\n",
    "print('efcm -', efcm.shape)\n",
    "efcm.to_json('exported_datasets/efcm_full_features.json')\n",
    "print('sau -', sau.shape)\n",
    "sau.to_json('exported_datasets/sau_full_features.json')\n",
    "print('ecoli -', ecoli.shape)\n",
    "ecoli.to_json('exported_datasets/ecoli_full_features.json')"
   ]
  }
 ],
 "metadata": {
  "kernelspec": {
   "display_name": "Python 3 (ipykernel)",
   "language": "python",
   "name": "python3"
  },
  "language_info": {
   "codemirror_mode": {
    "name": "ipython",
    "version": 3
   },
   "file_extension": ".py",
   "mimetype": "text/x-python",
   "name": "python",
   "nbconvert_exporter": "python",
   "pygments_lexer": "ipython3",
   "version": "3.9.7"
  }
 },
 "nbformat": 4,
 "nbformat_minor": 5
}

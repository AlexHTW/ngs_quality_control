{
 "cells": [
  {
   "cell_type": "markdown",
   "id": "095183b6",
   "metadata": {},
   "source": [
    "## Prepare data for use in machine learning algorithms\n",
    "* extract features from nested dataframes  \n",
    "* convert features to numeric types"
   ]
  },
  {
   "cell_type": "code",
   "execution_count": 1,
   "id": "da369a82",
   "metadata": {},
   "outputs": [],
   "source": [
    "import pandas as pd\n",
    "import numpy as np"
   ]
  },
  {
   "cell_type": "markdown",
   "id": "58945434",
   "metadata": {},
   "source": [
    "#### import dataset"
   ]
  },
  {
   "cell_type": "code",
   "execution_count": 2,
   "id": "17e21a22",
   "metadata": {},
   "outputs": [],
   "source": [
    "ngs_reads = pd.read_json('exported_datasets/complete_set.json')"
   ]
  },
  {
   "cell_type": "code",
   "execution_count": 3,
   "id": "99db9ddd",
   "metadata": {},
   "outputs": [],
   "source": [
    "# convert dict type columns to dataframes\n",
    "for category in ngs_reads:\n",
    "    if type(ngs_reads[category][0]) is dict:\n",
    "        ngs_reads[category] = ngs_reads[category].apply(pd.DataFrame)"
   ]
  },
  {
   "cell_type": "code",
   "execution_count": 4,
   "id": "490ec58e",
   "metadata": {},
   "outputs": [],
   "source": [
    "ngs_reads.reset_index(drop=True, inplace=True)"
   ]
  },
  {
   "cell_type": "markdown",
   "id": "ba1596a3",
   "metadata": {},
   "source": [
    "### Basic Statistics\n",
    "#### extract features from Basic Statistics"
   ]
  },
  {
   "cell_type": "code",
   "execution_count": 5,
   "id": "bb0c588a",
   "metadata": {},
   "outputs": [
    {
     "data": {
      "text/html": [
       "<div>\n",
       "<style scoped>\n",
       "    .dataframe tbody tr th:only-of-type {\n",
       "        vertical-align: middle;\n",
       "    }\n",
       "\n",
       "    .dataframe tbody tr th {\n",
       "        vertical-align: top;\n",
       "    }\n",
       "\n",
       "    .dataframe thead th {\n",
       "        text-align: right;\n",
       "    }\n",
       "</style>\n",
       "<table border=\"1\" class=\"dataframe\">\n",
       "  <thead>\n",
       "    <tr style=\"text-align: right;\">\n",
       "      <th></th>\n",
       "      <th>Measure</th>\n",
       "      <th>Value</th>\n",
       "    </tr>\n",
       "  </thead>\n",
       "  <tbody>\n",
       "    <tr>\n",
       "      <th>0</th>\n",
       "      <td>Filename</td>\n",
       "      <td>200709_20-07968_20-00891_S21_L000_R2_001.fastq.gz</td>\n",
       "    </tr>\n",
       "    <tr>\n",
       "      <th>1</th>\n",
       "      <td>File type</td>\n",
       "      <td>Conventional base calls</td>\n",
       "    </tr>\n",
       "    <tr>\n",
       "      <th>2</th>\n",
       "      <td>Encoding</td>\n",
       "      <td>Sanger / Illumina 1.9</td>\n",
       "    </tr>\n",
       "    <tr>\n",
       "      <th>3</th>\n",
       "      <td>Total Sequences</td>\n",
       "      <td>511669</td>\n",
       "    </tr>\n",
       "    <tr>\n",
       "      <th>4</th>\n",
       "      <td>Sequences flagged as poor quality</td>\n",
       "      <td>0</td>\n",
       "    </tr>\n",
       "    <tr>\n",
       "      <th>5</th>\n",
       "      <td>Sequence length</td>\n",
       "      <td>35-301</td>\n",
       "    </tr>\n",
       "    <tr>\n",
       "      <th>6</th>\n",
       "      <td>%GC</td>\n",
       "      <td>34</td>\n",
       "    </tr>\n",
       "  </tbody>\n",
       "</table>\n",
       "</div>"
      ],
      "text/plain": [
       "                             Measure  \\\n",
       "0                           Filename   \n",
       "1                          File type   \n",
       "2                           Encoding   \n",
       "3                    Total Sequences   \n",
       "4  Sequences flagged as poor quality   \n",
       "5                    Sequence length   \n",
       "6                                %GC   \n",
       "\n",
       "                                               Value  \n",
       "0  200709_20-07968_20-00891_S21_L000_R2_001.fastq.gz  \n",
       "1                            Conventional base calls  \n",
       "2                              Sanger / Illumina 1.9  \n",
       "3                                             511669  \n",
       "4                                                  0  \n",
       "5                                             35-301  \n",
       "6                                                 34  "
      ]
     },
     "execution_count": 5,
     "metadata": {},
     "output_type": "execute_result"
    }
   ],
   "source": [
    "ngs_reads['Basic Statistics'][0]"
   ]
  },
  {
   "cell_type": "code",
   "execution_count": 6,
   "id": "06d85110",
   "metadata": {},
   "outputs": [],
   "source": [
    "# extract features from Basic Statistics\n",
    "\n",
    "total_sequences = []\n",
    "percent_gc = []\n",
    "min_sequence_length = []\n",
    "max_sequence_length = []\n",
    "#(ngs_reads['Basic Statistics'][i]['Value'][4]) # sequences flagged as poor quality - 0 for all data points\n",
    "\n",
    "for i in range(ngs_reads.shape[0]):\n",
    "    total_sequences.append(ngs_reads['Basic Statistics'][i]['Value'][3])\n",
    "    percent_gc.append(ngs_reads['Basic Statistics'][i]['Value'][6])\n",
    "    length_min_max = str(ngs_reads['Basic Statistics'][i]['Value'][5]).split('-')\n",
    "    min_sequence_length.append(length_min_max[0])\n",
    "    max_sequence_length.append(length_min_max[-1])\n",
    "total_sequences = np.asarray(total_sequences, dtype=np.int64)\n",
    "percent_gc = np.asarray(percent_gc, dtype=np.int64)\n",
    "min_sequence_length = np.asarray(min_sequence_length, dtype=np.int64)\n",
    "max_sequence_length = np.asarray(max_sequence_length, dtype=np.int64)\n",
    "ngs_reads['total_sequences'] = total_sequences\n",
    "ngs_reads['percent_gc'] = percent_gc\n",
    "ngs_reads['min_sequence_length'] = min_sequence_length\n",
    "ngs_reads['max_sequence_length'] = max_sequence_length\n",
    "\n",
    "ngs_reads.drop(columns='Basic Statistics', inplace=True)"
   ]
  },
  {
   "cell_type": "markdown",
   "id": "06e813a2",
   "metadata": {},
   "source": [
    "### Evaluation (target variable)\n",
    "#### convert evaluation value to numeric type"
   ]
  },
  {
   "cell_type": "code",
   "execution_count": 7,
   "id": "58f06b19",
   "metadata": {},
   "outputs": [],
   "source": [
    "ngs_reads['evaluation'].replace({'ugly': 0, 'good': 1}, inplace=True)"
   ]
  },
  {
   "cell_type": "markdown",
   "id": "13f8af6a",
   "metadata": {},
   "source": [
    "### Modul Statuses\n",
    "#### convert statuses to numeric type"
   ]
  },
  {
   "cell_type": "markdown",
   "id": "3fadfe04",
   "metadata": {},
   "source": [
    "status_replacements = {'fail':0, 'warn':1, 'pass':2}\n",
    "\n",
    "for i in range(ngs_reads.shape[0]):\n",
    "    statuses_list = [status_replacements.get(n, n) for n in ngs_reads['Module Statuses'].iat[i]]\n",
    "    ngs_reads['Module Statuses'].iat[i] = statuses_list"
   ]
  },
  {
   "cell_type": "markdown",
   "id": "6cbcbc18",
   "metadata": {},
   "source": [
    "#### add inner array data from Module Statuses as df columns"
   ]
  },
  {
   "cell_type": "code",
   "execution_count": 8,
   "id": "271956ea",
   "metadata": {},
   "outputs": [],
   "source": [
    "def create_status_column_name(module_nr):\n",
    "    return 'status_module_' + str(module_nr)\n",
    "\n",
    "column_names_status = list(map(create_status_column_name, range(len(ngs_reads['Module Statuses'][0]))))\n",
    "\n",
    "statuses_df = pd.DataFrame(ngs_reads['Module Statuses'].to_list(), columns=column_names_status)\n",
    "ngs_reads = ngs_reads.join(statuses_df)\n",
    "ngs_reads.drop(columns='Module Statuses', inplace=True)"
   ]
  },
  {
   "cell_type": "markdown",
   "id": "754ac31e",
   "metadata": {},
   "source": [
    "#### show transformed columns"
   ]
  },
  {
   "cell_type": "code",
   "execution_count": 9,
   "id": "cbde8658",
   "metadata": {},
   "outputs": [
    {
     "data": {
      "text/html": [
       "<div>\n",
       "<style scoped>\n",
       "    .dataframe tbody tr th:only-of-type {\n",
       "        vertical-align: middle;\n",
       "    }\n",
       "\n",
       "    .dataframe tbody tr th {\n",
       "        vertical-align: top;\n",
       "    }\n",
       "\n",
       "    .dataframe thead th {\n",
       "        text-align: right;\n",
       "    }\n",
       "</style>\n",
       "<table border=\"1\" class=\"dataframe\">\n",
       "  <thead>\n",
       "    <tr style=\"text-align: right;\">\n",
       "      <th></th>\n",
       "      <th>evaluation</th>\n",
       "      <th>total_sequences</th>\n",
       "      <th>percent_gc</th>\n",
       "      <th>min_sequence_length</th>\n",
       "      <th>max_sequence_length</th>\n",
       "      <th>status_module_0</th>\n",
       "      <th>status_module_1</th>\n",
       "      <th>status_module_2</th>\n",
       "      <th>status_module_3</th>\n",
       "      <th>status_module_4</th>\n",
       "      <th>status_module_5</th>\n",
       "      <th>status_module_6</th>\n",
       "      <th>status_module_7</th>\n",
       "      <th>status_module_8</th>\n",
       "      <th>status_module_9</th>\n",
       "      <th>status_module_10</th>\n",
       "    </tr>\n",
       "  </thead>\n",
       "  <tbody>\n",
       "    <tr>\n",
       "      <th>0</th>\n",
       "      <td>0</td>\n",
       "      <td>511669</td>\n",
       "      <td>34</td>\n",
       "      <td>35</td>\n",
       "      <td>301</td>\n",
       "      <td>pass</td>\n",
       "      <td>fail</td>\n",
       "      <td>pass</td>\n",
       "      <td>pass</td>\n",
       "      <td>fail</td>\n",
       "      <td>pass</td>\n",
       "      <td>pass</td>\n",
       "      <td>warn</td>\n",
       "      <td>pass</td>\n",
       "      <td>pass</td>\n",
       "      <td>pass</td>\n",
       "    </tr>\n",
       "    <tr>\n",
       "      <th>1</th>\n",
       "      <td>0</td>\n",
       "      <td>220494</td>\n",
       "      <td>34</td>\n",
       "      <td>35</td>\n",
       "      <td>301</td>\n",
       "      <td>pass</td>\n",
       "      <td>pass</td>\n",
       "      <td>warn</td>\n",
       "      <td>pass</td>\n",
       "      <td>fail</td>\n",
       "      <td>pass</td>\n",
       "      <td>pass</td>\n",
       "      <td>warn</td>\n",
       "      <td>pass</td>\n",
       "      <td>pass</td>\n",
       "      <td>pass</td>\n",
       "    </tr>\n",
       "    <tr>\n",
       "      <th>2</th>\n",
       "      <td>0</td>\n",
       "      <td>6015314</td>\n",
       "      <td>65</td>\n",
       "      <td>35</td>\n",
       "      <td>301</td>\n",
       "      <td>pass</td>\n",
       "      <td>fail</td>\n",
       "      <td>warn</td>\n",
       "      <td>pass</td>\n",
       "      <td>fail</td>\n",
       "      <td>warn</td>\n",
       "      <td>pass</td>\n",
       "      <td>warn</td>\n",
       "      <td>warn</td>\n",
       "      <td>pass</td>\n",
       "      <td>pass</td>\n",
       "    </tr>\n",
       "    <tr>\n",
       "      <th>3</th>\n",
       "      <td>0</td>\n",
       "      <td>1916272</td>\n",
       "      <td>35</td>\n",
       "      <td>35</td>\n",
       "      <td>301</td>\n",
       "      <td>pass</td>\n",
       "      <td>pass</td>\n",
       "      <td>pass</td>\n",
       "      <td>pass</td>\n",
       "      <td>fail</td>\n",
       "      <td>pass</td>\n",
       "      <td>pass</td>\n",
       "      <td>warn</td>\n",
       "      <td>warn</td>\n",
       "      <td>pass</td>\n",
       "      <td>pass</td>\n",
       "    </tr>\n",
       "    <tr>\n",
       "      <th>4</th>\n",
       "      <td>0</td>\n",
       "      <td>334</td>\n",
       "      <td>35</td>\n",
       "      <td>69</td>\n",
       "      <td>301</td>\n",
       "      <td>pass</td>\n",
       "      <td>fail</td>\n",
       "      <td>fail</td>\n",
       "      <td>pass</td>\n",
       "      <td>fail</td>\n",
       "      <td>fail</td>\n",
       "      <td>pass</td>\n",
       "      <td>warn</td>\n",
       "      <td>pass</td>\n",
       "      <td>warn</td>\n",
       "      <td>pass</td>\n",
       "    </tr>\n",
       "  </tbody>\n",
       "</table>\n",
       "</div>"
      ],
      "text/plain": [
       "   evaluation  total_sequences  percent_gc  min_sequence_length  \\\n",
       "0           0           511669          34                   35   \n",
       "1           0           220494          34                   35   \n",
       "2           0          6015314          65                   35   \n",
       "3           0          1916272          35                   35   \n",
       "4           0              334          35                   69   \n",
       "\n",
       "   max_sequence_length status_module_0 status_module_1 status_module_2  \\\n",
       "0                  301            pass            fail            pass   \n",
       "1                  301            pass            pass            warn   \n",
       "2                  301            pass            fail            warn   \n",
       "3                  301            pass            pass            pass   \n",
       "4                  301            pass            fail            fail   \n",
       "\n",
       "  status_module_3 status_module_4 status_module_5 status_module_6  \\\n",
       "0            pass            fail            pass            pass   \n",
       "1            pass            fail            pass            pass   \n",
       "2            pass            fail            warn            pass   \n",
       "3            pass            fail            pass            pass   \n",
       "4            pass            fail            fail            pass   \n",
       "\n",
       "  status_module_7 status_module_8 status_module_9 status_module_10  \n",
       "0            warn            pass            pass             pass  \n",
       "1            warn            pass            pass             pass  \n",
       "2            warn            warn            pass             pass  \n",
       "3            warn            warn            pass             pass  \n",
       "4            warn            pass            warn             pass  "
      ]
     },
     "execution_count": 9,
     "metadata": {},
     "output_type": "execute_result"
    }
   ],
   "source": [
    "cols = [0, 1, 2, 3, 4, 5, 6, 7, 8, 9, 10, 11, 12]\n",
    "ngs_reads.drop(ngs_reads.columns[cols], axis=1).head()"
   ]
  },
  {
   "cell_type": "markdown",
   "id": "7b77b5b9",
   "metadata": {},
   "source": [
    "#### split dataset by organism and export dataset for each"
   ]
  },
  {
   "cell_type": "code",
   "execution_count": 10,
   "id": "ccd48f0a",
   "metadata": {},
   "outputs": [],
   "source": [
    "grouped = ngs_reads.groupby(ngs_reads.organism)\n",
    "efcm = grouped.get_group('Efcm')\n",
    "sau = grouped.get_group('Sau')\n",
    "ecoli = grouped.get_group('Ecoli')"
   ]
  },
  {
   "cell_type": "code",
   "execution_count": 11,
   "id": "199337ab",
   "metadata": {},
   "outputs": [
    {
     "name": "stdout",
     "output_type": "stream",
     "text": [
      "exported datasets\n",
      "efcm - (88, 29)\n",
      "sau - (78, 29)\n",
      "ecoli - (18, 29)\n"
     ]
    }
   ],
   "source": [
    "print('exported datasets')\n",
    "print('efcm -', efcm.shape)\n",
    "efcm.to_json('exported_datasets/efcm.json')\n",
    "print('sau -', sau.shape)\n",
    "sau.to_json('exported_datasets/sau.json')\n",
    "print('ecoli -', ecoli.shape)\n",
    "ecoli.to_json('exported_datasets/ecoli.json')"
   ]
  }
 ],
 "metadata": {
  "kernelspec": {
   "display_name": "Python 3 (ipykernel)",
   "language": "python",
   "name": "python3"
  },
  "language_info": {
   "codemirror_mode": {
    "name": "ipython",
    "version": 3
   },
   "file_extension": ".py",
   "mimetype": "text/x-python",
   "name": "python",
   "nbconvert_exporter": "python",
   "pygments_lexer": "ipython3",
   "version": "3.9.7"
  }
 },
 "nbformat": 4,
 "nbformat_minor": 5
}

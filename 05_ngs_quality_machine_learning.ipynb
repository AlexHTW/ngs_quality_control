{
 "cells": [
  {
   "cell_type": "markdown",
   "id": "49f4319b",
   "metadata": {},
   "source": [
    "# Machine Learning (SVM & Random Forest)"
   ]
  },
  {
   "cell_type": "code",
   "execution_count": 1,
   "id": "f11dddf3",
   "metadata": {},
   "outputs": [],
   "source": [
    "import pandas as pd\n",
    "import numpy as np\n",
    "from sklearn.model_selection import train_test_split\n",
    "from sklearn import svm\n",
    "from sklearn.ensemble import RandomForestClassifier\n",
    "from sklearn import metrics\n",
    "#pd.set_option('display.max_rows', 500)"
   ]
  },
  {
   "cell_type": "markdown",
   "id": "1a27258b",
   "metadata": {},
   "source": [
    "#### Import dataset"
   ]
  },
  {
   "cell_type": "code",
   "execution_count": 3,
   "id": "3bea9d95",
   "metadata": {},
   "outputs": [],
   "source": [
    "ngs_reads = pd.read_json('exported_datasets/sau.json')"
   ]
  },
  {
   "cell_type": "code",
   "execution_count": 4,
   "id": "65e5d656",
   "metadata": {},
   "outputs": [],
   "source": [
    "ngs_reads.reset_index(drop=True, inplace=True)"
   ]
  },
  {
   "cell_type": "code",
   "execution_count": 5,
   "id": "f9c4ca26",
   "metadata": {},
   "outputs": [],
   "source": [
    "# convert dict type columns to dataframes\n",
    "for category in ngs_reads:\n",
    "    if type(ngs_reads[category][0]) is dict:\n",
    "        ngs_reads[category] = ngs_reads[category].apply(pd.DataFrame)"
   ]
  },
  {
   "cell_type": "markdown",
   "id": "e2296c2d",
   "metadata": {},
   "source": [
    "#### extract target variable"
   ]
  },
  {
   "cell_type": "code",
   "execution_count": 6,
   "id": "2a01b907",
   "metadata": {},
   "outputs": [
    {
     "data": {
      "text/plain": [
       "array([0, 0, 0, 0, 0, 0, 0, 0, 0, 0, 0, 0, 0, 0, 0, 0, 0, 0, 0, 0, 0, 0,\n",
       "       0, 0, 1, 1, 1, 1, 1, 1, 1, 1, 1, 1, 1, 1, 1, 1, 1, 1, 1, 1, 1, 1,\n",
       "       1, 1, 1, 1, 1, 1, 1, 1, 1, 1, 1, 1, 1, 1, 1, 1, 1, 1, 1, 1, 1, 1,\n",
       "       1, 1, 1, 1, 1, 1, 1, 1, 1, 1, 1, 1])"
      ]
     },
     "execution_count": 6,
     "metadata": {},
     "output_type": "execute_result"
    }
   ],
   "source": [
    "target = ngs_reads.evaluation.values\n",
    "ngs_reads.drop(columns='evaluation', inplace=True)\n",
    "target"
   ]
  },
  {
   "cell_type": "markdown",
   "id": "db880590",
   "metadata": {},
   "source": [
    "#### remove unfinished columns from dataset"
   ]
  },
  {
   "cell_type": "code",
   "execution_count": 7,
   "id": "bea5f8a8",
   "metadata": {},
   "outputs": [],
   "source": [
    "cols = [0, 1, 2, 3, 4, 5, 6, 7, 8, 9]\n",
    "ngs_reads.drop(ngs_reads.columns[cols], axis=1, inplace=True)"
   ]
  },
  {
   "cell_type": "code",
   "execution_count": 8,
   "id": "f3b264d6",
   "metadata": {},
   "outputs": [
    {
     "data": {
      "text/html": [
       "<div>\n",
       "<style scoped>\n",
       "    .dataframe tbody tr th:only-of-type {\n",
       "        vertical-align: middle;\n",
       "    }\n",
       "\n",
       "    .dataframe tbody tr th {\n",
       "        vertical-align: top;\n",
       "    }\n",
       "\n",
       "    .dataframe thead th {\n",
       "        text-align: right;\n",
       "    }\n",
       "</style>\n",
       "<table border=\"1\" class=\"dataframe\">\n",
       "  <thead>\n",
       "    <tr style=\"text-align: right;\">\n",
       "      <th></th>\n",
       "      <th>total_sequences</th>\n",
       "      <th>percent_gc</th>\n",
       "      <th>min_sequence_length</th>\n",
       "      <th>max_sequence_length</th>\n",
       "      <th>status_module_0</th>\n",
       "      <th>status_module_1</th>\n",
       "      <th>status_module_2</th>\n",
       "      <th>status_module_3</th>\n",
       "      <th>status_module_4</th>\n",
       "      <th>status_module_5</th>\n",
       "      <th>status_module_6</th>\n",
       "      <th>status_module_7</th>\n",
       "      <th>status_module_8</th>\n",
       "      <th>status_module_9</th>\n",
       "      <th>status_module_10</th>\n",
       "    </tr>\n",
       "  </thead>\n",
       "  <tbody>\n",
       "    <tr>\n",
       "      <th>0</th>\n",
       "      <td>511669</td>\n",
       "      <td>34</td>\n",
       "      <td>35</td>\n",
       "      <td>301</td>\n",
       "      <td>2</td>\n",
       "      <td>0</td>\n",
       "      <td>2</td>\n",
       "      <td>2</td>\n",
       "      <td>0</td>\n",
       "      <td>2</td>\n",
       "      <td>2</td>\n",
       "      <td>1</td>\n",
       "      <td>2</td>\n",
       "      <td>2</td>\n",
       "      <td>2</td>\n",
       "    </tr>\n",
       "    <tr>\n",
       "      <th>1</th>\n",
       "      <td>220494</td>\n",
       "      <td>34</td>\n",
       "      <td>35</td>\n",
       "      <td>301</td>\n",
       "      <td>2</td>\n",
       "      <td>2</td>\n",
       "      <td>1</td>\n",
       "      <td>2</td>\n",
       "      <td>0</td>\n",
       "      <td>2</td>\n",
       "      <td>2</td>\n",
       "      <td>1</td>\n",
       "      <td>2</td>\n",
       "      <td>2</td>\n",
       "      <td>2</td>\n",
       "    </tr>\n",
       "    <tr>\n",
       "      <th>2</th>\n",
       "      <td>6015314</td>\n",
       "      <td>65</td>\n",
       "      <td>35</td>\n",
       "      <td>301</td>\n",
       "      <td>2</td>\n",
       "      <td>0</td>\n",
       "      <td>1</td>\n",
       "      <td>2</td>\n",
       "      <td>0</td>\n",
       "      <td>1</td>\n",
       "      <td>2</td>\n",
       "      <td>1</td>\n",
       "      <td>1</td>\n",
       "      <td>2</td>\n",
       "      <td>2</td>\n",
       "    </tr>\n",
       "    <tr>\n",
       "      <th>3</th>\n",
       "      <td>1916272</td>\n",
       "      <td>35</td>\n",
       "      <td>35</td>\n",
       "      <td>301</td>\n",
       "      <td>2</td>\n",
       "      <td>2</td>\n",
       "      <td>2</td>\n",
       "      <td>2</td>\n",
       "      <td>0</td>\n",
       "      <td>2</td>\n",
       "      <td>2</td>\n",
       "      <td>1</td>\n",
       "      <td>1</td>\n",
       "      <td>2</td>\n",
       "      <td>2</td>\n",
       "    </tr>\n",
       "    <tr>\n",
       "      <th>4</th>\n",
       "      <td>334</td>\n",
       "      <td>35</td>\n",
       "      <td>69</td>\n",
       "      <td>301</td>\n",
       "      <td>2</td>\n",
       "      <td>0</td>\n",
       "      <td>0</td>\n",
       "      <td>2</td>\n",
       "      <td>0</td>\n",
       "      <td>0</td>\n",
       "      <td>2</td>\n",
       "      <td>1</td>\n",
       "      <td>2</td>\n",
       "      <td>1</td>\n",
       "      <td>2</td>\n",
       "    </tr>\n",
       "    <tr>\n",
       "      <th>...</th>\n",
       "      <td>...</td>\n",
       "      <td>...</td>\n",
       "      <td>...</td>\n",
       "      <td>...</td>\n",
       "      <td>...</td>\n",
       "      <td>...</td>\n",
       "      <td>...</td>\n",
       "      <td>...</td>\n",
       "      <td>...</td>\n",
       "      <td>...</td>\n",
       "      <td>...</td>\n",
       "      <td>...</td>\n",
       "      <td>...</td>\n",
       "      <td>...</td>\n",
       "      <td>...</td>\n",
       "    </tr>\n",
       "    <tr>\n",
       "      <th>73</th>\n",
       "      <td>1210750</td>\n",
       "      <td>34</td>\n",
       "      <td>35</td>\n",
       "      <td>251</td>\n",
       "      <td>2</td>\n",
       "      <td>2</td>\n",
       "      <td>2</td>\n",
       "      <td>2</td>\n",
       "      <td>0</td>\n",
       "      <td>2</td>\n",
       "      <td>2</td>\n",
       "      <td>1</td>\n",
       "      <td>1</td>\n",
       "      <td>2</td>\n",
       "      <td>2</td>\n",
       "    </tr>\n",
       "    <tr>\n",
       "      <th>74</th>\n",
       "      <td>1323948</td>\n",
       "      <td>34</td>\n",
       "      <td>35</td>\n",
       "      <td>251</td>\n",
       "      <td>2</td>\n",
       "      <td>2</td>\n",
       "      <td>2</td>\n",
       "      <td>2</td>\n",
       "      <td>0</td>\n",
       "      <td>2</td>\n",
       "      <td>2</td>\n",
       "      <td>1</td>\n",
       "      <td>1</td>\n",
       "      <td>2</td>\n",
       "      <td>2</td>\n",
       "    </tr>\n",
       "    <tr>\n",
       "      <th>75</th>\n",
       "      <td>1269962</td>\n",
       "      <td>34</td>\n",
       "      <td>35</td>\n",
       "      <td>251</td>\n",
       "      <td>2</td>\n",
       "      <td>2</td>\n",
       "      <td>2</td>\n",
       "      <td>2</td>\n",
       "      <td>0</td>\n",
       "      <td>2</td>\n",
       "      <td>2</td>\n",
       "      <td>1</td>\n",
       "      <td>1</td>\n",
       "      <td>2</td>\n",
       "      <td>2</td>\n",
       "    </tr>\n",
       "    <tr>\n",
       "      <th>76</th>\n",
       "      <td>1210750</td>\n",
       "      <td>34</td>\n",
       "      <td>35</td>\n",
       "      <td>251</td>\n",
       "      <td>2</td>\n",
       "      <td>2</td>\n",
       "      <td>2</td>\n",
       "      <td>2</td>\n",
       "      <td>0</td>\n",
       "      <td>2</td>\n",
       "      <td>2</td>\n",
       "      <td>1</td>\n",
       "      <td>1</td>\n",
       "      <td>2</td>\n",
       "      <td>2</td>\n",
       "    </tr>\n",
       "    <tr>\n",
       "      <th>77</th>\n",
       "      <td>1750481</td>\n",
       "      <td>35</td>\n",
       "      <td>35</td>\n",
       "      <td>251</td>\n",
       "      <td>2</td>\n",
       "      <td>2</td>\n",
       "      <td>2</td>\n",
       "      <td>2</td>\n",
       "      <td>0</td>\n",
       "      <td>1</td>\n",
       "      <td>2</td>\n",
       "      <td>1</td>\n",
       "      <td>1</td>\n",
       "      <td>2</td>\n",
       "      <td>2</td>\n",
       "    </tr>\n",
       "  </tbody>\n",
       "</table>\n",
       "<p>78 rows × 15 columns</p>\n",
       "</div>"
      ],
      "text/plain": [
       "    total_sequences  percent_gc  min_sequence_length  max_sequence_length  \\\n",
       "0            511669          34                   35                  301   \n",
       "1            220494          34                   35                  301   \n",
       "2           6015314          65                   35                  301   \n",
       "3           1916272          35                   35                  301   \n",
       "4               334          35                   69                  301   \n",
       "..              ...         ...                  ...                  ...   \n",
       "73          1210750          34                   35                  251   \n",
       "74          1323948          34                   35                  251   \n",
       "75          1269962          34                   35                  251   \n",
       "76          1210750          34                   35                  251   \n",
       "77          1750481          35                   35                  251   \n",
       "\n",
       "    status_module_0  status_module_1  status_module_2  status_module_3  \\\n",
       "0                 2                0                2                2   \n",
       "1                 2                2                1                2   \n",
       "2                 2                0                1                2   \n",
       "3                 2                2                2                2   \n",
       "4                 2                0                0                2   \n",
       "..              ...              ...              ...              ...   \n",
       "73                2                2                2                2   \n",
       "74                2                2                2                2   \n",
       "75                2                2                2                2   \n",
       "76                2                2                2                2   \n",
       "77                2                2                2                2   \n",
       "\n",
       "    status_module_4  status_module_5  status_module_6  status_module_7  \\\n",
       "0                 0                2                2                1   \n",
       "1                 0                2                2                1   \n",
       "2                 0                1                2                1   \n",
       "3                 0                2                2                1   \n",
       "4                 0                0                2                1   \n",
       "..              ...              ...              ...              ...   \n",
       "73                0                2                2                1   \n",
       "74                0                2                2                1   \n",
       "75                0                2                2                1   \n",
       "76                0                2                2                1   \n",
       "77                0                1                2                1   \n",
       "\n",
       "    status_module_8  status_module_9  status_module_10  \n",
       "0                 2                2                 2  \n",
       "1                 2                2                 2  \n",
       "2                 1                2                 2  \n",
       "3                 1                2                 2  \n",
       "4                 2                1                 2  \n",
       "..              ...              ...               ...  \n",
       "73                1                2                 2  \n",
       "74                1                2                 2  \n",
       "75                1                2                 2  \n",
       "76                1                2                 2  \n",
       "77                1                2                 2  \n",
       "\n",
       "[78 rows x 15 columns]"
      ]
     },
     "execution_count": 8,
     "metadata": {},
     "output_type": "execute_result"
    }
   ],
   "source": [
    "ngs_reads.drop(columns=['organism', 'technology', 'read_number'], inplace=True)\n",
    "ngs_reads"
   ]
  },
  {
   "cell_type": "markdown",
   "id": "9acb2ab0",
   "metadata": {},
   "source": [
    "#### train-test split"
   ]
  },
  {
   "cell_type": "code",
   "execution_count": 9,
   "id": "c5dc8e85",
   "metadata": {},
   "outputs": [],
   "source": [
    "X_train, X_test, y_train, y_test = train_test_split(ngs_reads, target, test_size=0.2,random_state=109)"
   ]
  },
  {
   "cell_type": "markdown",
   "id": "e52ce2b9",
   "metadata": {},
   "source": [
    "#### Support Vector Machine Training"
   ]
  },
  {
   "cell_type": "code",
   "execution_count": 12,
   "id": "4736efbb",
   "metadata": {},
   "outputs": [],
   "source": [
    "clf_svc = svm.SVC(kernel='linear')"
   ]
  },
  {
   "cell_type": "code",
   "execution_count": 13,
   "id": "e88b50c7",
   "metadata": {},
   "outputs": [
    {
     "data": {
      "text/plain": [
       "SVC(kernel='linear')"
      ]
     },
     "execution_count": 13,
     "metadata": {},
     "output_type": "execute_result"
    }
   ],
   "source": [
    "clf_svc.fit(X_train, y_train)"
   ]
  },
  {
   "cell_type": "code",
   "execution_count": 14,
   "id": "1cf1b898",
   "metadata": {},
   "outputs": [
    {
     "name": "stdout",
     "output_type": "stream",
     "text": [
      "Accuracy: 0.625\n"
     ]
    }
   ],
   "source": [
    "y_pred=clf_svc.predict(X_test)\n",
    "print(\"Accuracy:\", metrics.accuracy_score(y_test, y_pred))"
   ]
  },
  {
   "cell_type": "markdown",
   "id": "a62d1a79",
   "metadata": {},
   "source": [
    "#### Random Forest Training"
   ]
  },
  {
   "cell_type": "code",
   "execution_count": 15,
   "id": "12f1db19",
   "metadata": {},
   "outputs": [],
   "source": [
    "clf_rf=RandomForestClassifier(n_estimators=100, verbose=True)"
   ]
  },
  {
   "cell_type": "code",
   "execution_count": 16,
   "id": "8bb5d57a",
   "metadata": {},
   "outputs": [
    {
     "name": "stderr",
     "output_type": "stream",
     "text": [
      "[Parallel(n_jobs=1)]: Using backend SequentialBackend with 1 concurrent workers.\n",
      "[Parallel(n_jobs=1)]: Done 100 out of 100 | elapsed:    0.1s finished\n"
     ]
    },
    {
     "data": {
      "text/plain": [
       "RandomForestClassifier(verbose=True)"
      ]
     },
     "execution_count": 16,
     "metadata": {},
     "output_type": "execute_result"
    }
   ],
   "source": [
    "clf_rf.fit(X_train,y_train)"
   ]
  },
  {
   "cell_type": "code",
   "execution_count": 17,
   "id": "b5b6d404",
   "metadata": {},
   "outputs": [
    {
     "name": "stdout",
     "output_type": "stream",
     "text": [
      "Accuracy: 1.0\n"
     ]
    },
    {
     "name": "stderr",
     "output_type": "stream",
     "text": [
      "[Parallel(n_jobs=1)]: Using backend SequentialBackend with 1 concurrent workers.\n",
      "[Parallel(n_jobs=1)]: Done 100 out of 100 | elapsed:    0.0s finished\n"
     ]
    }
   ],
   "source": [
    "y_pred=clf_rf.predict(X_test)\n",
    "print(\"Accuracy:\", metrics.accuracy_score(y_test, y_pred))"
   ]
  }
 ],
 "metadata": {
  "kernelspec": {
   "display_name": "Python 3 (ipykernel)",
   "language": "python",
   "name": "python3"
  },
  "language_info": {
   "codemirror_mode": {
    "name": "ipython",
    "version": 3
   },
   "file_extension": ".py",
   "mimetype": "text/x-python",
   "name": "python",
   "nbconvert_exporter": "python",
   "pygments_lexer": "ipython3",
   "version": "3.9.7"
  }
 },
 "nbformat": 4,
 "nbformat_minor": 5
}

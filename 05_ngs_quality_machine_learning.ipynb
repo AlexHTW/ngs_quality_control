{
 "cells": [
  {
   "cell_type": "markdown",
   "id": "187a74a0",
   "metadata": {},
   "source": [
    "# Machine Learning (SVM & Random Forest)"
   ]
  },
  {
   "cell_type": "code",
   "execution_count": 1,
   "id": "d3d553a1",
   "metadata": {},
   "outputs": [],
   "source": [
    "import pandas as pd\n",
    "import numpy as np\n",
    "from sklearn.model_selection import train_test_split\n",
    "from sklearn import svm\n",
    "from sklearn.ensemble import RandomForestClassifier\n",
    "from sklearn import tree\n",
    "from sklearn import metrics\n",
    "from sklearn.model_selection import cross_validate\n",
    "import seaborn as sn\n",
    "import matplotlib.pyplot as plt\n",
    "import graphviz\n",
    "#pd.set_option('display.max_rows', 500)"
   ]
  },
  {
   "cell_type": "markdown",
   "id": "27139901",
   "metadata": {},
   "source": [
    "#### Import dataset"
   ]
  },
  {
   "cell_type": "code",
   "execution_count": 2,
   "id": "8ced6e3e",
   "metadata": {},
   "outputs": [],
   "source": [
    "ngs_reads = pd.read_json('exported_datasets/efcm.json')"
   ]
  },
  {
   "cell_type": "code",
   "execution_count": 3,
   "id": "f216f4f8",
   "metadata": {},
   "outputs": [],
   "source": [
    "ngs_reads.reset_index(drop=True, inplace=True)"
   ]
  },
  {
   "cell_type": "code",
   "execution_count": 4,
   "id": "6bf865df",
   "metadata": {},
   "outputs": [],
   "source": [
    "# convert dict type columns to dataframes\n",
    "for category in ngs_reads:\n",
    "    if type(ngs_reads[category][0]) is dict:\n",
    "        ngs_reads[category] = ngs_reads[category].apply(pd.DataFrame)"
   ]
  },
  {
   "cell_type": "markdown",
   "id": "d1936e1e",
   "metadata": {},
   "source": [
    "#### extract target variable"
   ]
  },
  {
   "cell_type": "code",
   "execution_count": 5,
   "id": "72defa97",
   "metadata": {},
   "outputs": [
    {
     "data": {
      "text/plain": [
       "array([0, 0, 0, 0, 0, 0, 0, 0, 0, 0, 0, 0, 0, 0, 0, 0, 0, 0, 0, 0, 0, 0,\n",
       "       0, 0, 0, 0, 0, 0, 0, 0, 0, 0, 0, 0, 1, 1, 1, 1, 1, 1, 1, 1, 1, 1,\n",
       "       1, 1, 1, 1, 1, 1, 1, 1, 1, 1, 1, 1, 1, 1, 1, 1, 1, 1, 1, 1, 1, 1,\n",
       "       1, 1, 1, 1, 1, 1, 1, 1, 1, 1, 1, 1, 1, 1, 1, 1, 1, 1, 1, 1, 1, 1],\n",
       "      dtype=int64)"
      ]
     },
     "execution_count": 5,
     "metadata": {},
     "output_type": "execute_result"
    }
   ],
   "source": [
    "target = ngs_reads.evaluation.values\n",
    "ngs_reads.drop(columns='evaluation', inplace=True)\n",
    "target"
   ]
  },
  {
   "cell_type": "markdown",
   "id": "55b64a11",
   "metadata": {},
   "source": [
    "#### remove unfinished columns from dataset"
   ]
  },
  {
   "cell_type": "code",
   "execution_count": 6,
   "id": "c099b159",
   "metadata": {},
   "outputs": [],
   "source": [
    "cols = [0, 1, 2, 3, 4, 5, 6, 7, 8, 9]\n",
    "ngs_reads.drop(ngs_reads.columns[cols], axis=1, inplace=True)"
   ]
  },
  {
   "cell_type": "code",
   "execution_count": 7,
   "id": "9987f723",
   "metadata": {},
   "outputs": [
    {
     "data": {
      "text/html": [
       "<div>\n",
       "<style scoped>\n",
       "    .dataframe tbody tr th:only-of-type {\n",
       "        vertical-align: middle;\n",
       "    }\n",
       "\n",
       "    .dataframe tbody tr th {\n",
       "        vertical-align: top;\n",
       "    }\n",
       "\n",
       "    .dataframe thead th {\n",
       "        text-align: right;\n",
       "    }\n",
       "</style>\n",
       "<table border=\"1\" class=\"dataframe\">\n",
       "  <thead>\n",
       "    <tr style=\"text-align: right;\">\n",
       "      <th></th>\n",
       "      <th>total_sequences</th>\n",
       "      <th>percent_gc</th>\n",
       "      <th>min_sequence_length</th>\n",
       "      <th>max_sequence_length</th>\n",
       "      <th>status_module_0</th>\n",
       "      <th>status_module_1</th>\n",
       "      <th>status_module_2</th>\n",
       "      <th>status_module_3</th>\n",
       "      <th>status_module_4</th>\n",
       "      <th>status_module_5</th>\n",
       "      <th>status_module_6</th>\n",
       "      <th>status_module_7</th>\n",
       "      <th>status_module_8</th>\n",
       "      <th>status_module_9</th>\n",
       "      <th>status_module_10</th>\n",
       "    </tr>\n",
       "  </thead>\n",
       "  <tbody>\n",
       "    <tr>\n",
       "      <th>0</th>\n",
       "      <td>15187</td>\n",
       "      <td>37</td>\n",
       "      <td>35</td>\n",
       "      <td>301</td>\n",
       "      <td>2</td>\n",
       "      <td>2</td>\n",
       "      <td>1</td>\n",
       "      <td>2</td>\n",
       "      <td>0</td>\n",
       "      <td>2</td>\n",
       "      <td>2</td>\n",
       "      <td>1</td>\n",
       "      <td>2</td>\n",
       "      <td>2</td>\n",
       "      <td>2</td>\n",
       "    </tr>\n",
       "    <tr>\n",
       "      <th>1</th>\n",
       "      <td>733019</td>\n",
       "      <td>38</td>\n",
       "      <td>301</td>\n",
       "      <td>301</td>\n",
       "      <td>2</td>\n",
       "      <td>0</td>\n",
       "      <td>2</td>\n",
       "      <td>2</td>\n",
       "      <td>0</td>\n",
       "      <td>2</td>\n",
       "      <td>2</td>\n",
       "      <td>2</td>\n",
       "      <td>1</td>\n",
       "      <td>2</td>\n",
       "      <td>0</td>\n",
       "    </tr>\n",
       "    <tr>\n",
       "      <th>2</th>\n",
       "      <td>269263</td>\n",
       "      <td>38</td>\n",
       "      <td>35</td>\n",
       "      <td>301</td>\n",
       "      <td>2</td>\n",
       "      <td>1</td>\n",
       "      <td>2</td>\n",
       "      <td>2</td>\n",
       "      <td>0</td>\n",
       "      <td>2</td>\n",
       "      <td>2</td>\n",
       "      <td>1</td>\n",
       "      <td>2</td>\n",
       "      <td>2</td>\n",
       "      <td>2</td>\n",
       "    </tr>\n",
       "    <tr>\n",
       "      <th>3</th>\n",
       "      <td>265224</td>\n",
       "      <td>38</td>\n",
       "      <td>35</td>\n",
       "      <td>301</td>\n",
       "      <td>2</td>\n",
       "      <td>0</td>\n",
       "      <td>1</td>\n",
       "      <td>2</td>\n",
       "      <td>0</td>\n",
       "      <td>2</td>\n",
       "      <td>2</td>\n",
       "      <td>1</td>\n",
       "      <td>2</td>\n",
       "      <td>2</td>\n",
       "      <td>2</td>\n",
       "    </tr>\n",
       "    <tr>\n",
       "      <th>4</th>\n",
       "      <td>733019</td>\n",
       "      <td>39</td>\n",
       "      <td>301</td>\n",
       "      <td>301</td>\n",
       "      <td>2</td>\n",
       "      <td>0</td>\n",
       "      <td>2</td>\n",
       "      <td>2</td>\n",
       "      <td>0</td>\n",
       "      <td>2</td>\n",
       "      <td>2</td>\n",
       "      <td>2</td>\n",
       "      <td>1</td>\n",
       "      <td>2</td>\n",
       "      <td>0</td>\n",
       "    </tr>\n",
       "    <tr>\n",
       "      <th>...</th>\n",
       "      <td>...</td>\n",
       "      <td>...</td>\n",
       "      <td>...</td>\n",
       "      <td>...</td>\n",
       "      <td>...</td>\n",
       "      <td>...</td>\n",
       "      <td>...</td>\n",
       "      <td>...</td>\n",
       "      <td>...</td>\n",
       "      <td>...</td>\n",
       "      <td>...</td>\n",
       "      <td>...</td>\n",
       "      <td>...</td>\n",
       "      <td>...</td>\n",
       "      <td>...</td>\n",
       "    </tr>\n",
       "    <tr>\n",
       "      <th>83</th>\n",
       "      <td>1367226</td>\n",
       "      <td>38</td>\n",
       "      <td>35</td>\n",
       "      <td>251</td>\n",
       "      <td>2</td>\n",
       "      <td>2</td>\n",
       "      <td>2</td>\n",
       "      <td>2</td>\n",
       "      <td>0</td>\n",
       "      <td>2</td>\n",
       "      <td>2</td>\n",
       "      <td>1</td>\n",
       "      <td>0</td>\n",
       "      <td>1</td>\n",
       "      <td>2</td>\n",
       "    </tr>\n",
       "    <tr>\n",
       "      <th>84</th>\n",
       "      <td>1836688</td>\n",
       "      <td>39</td>\n",
       "      <td>35</td>\n",
       "      <td>251</td>\n",
       "      <td>2</td>\n",
       "      <td>2</td>\n",
       "      <td>2</td>\n",
       "      <td>2</td>\n",
       "      <td>0</td>\n",
       "      <td>2</td>\n",
       "      <td>2</td>\n",
       "      <td>1</td>\n",
       "      <td>0</td>\n",
       "      <td>2</td>\n",
       "      <td>2</td>\n",
       "    </tr>\n",
       "    <tr>\n",
       "      <th>85</th>\n",
       "      <td>799870</td>\n",
       "      <td>37</td>\n",
       "      <td>35</td>\n",
       "      <td>251</td>\n",
       "      <td>2</td>\n",
       "      <td>2</td>\n",
       "      <td>2</td>\n",
       "      <td>2</td>\n",
       "      <td>0</td>\n",
       "      <td>2</td>\n",
       "      <td>2</td>\n",
       "      <td>1</td>\n",
       "      <td>0</td>\n",
       "      <td>1</td>\n",
       "      <td>2</td>\n",
       "    </tr>\n",
       "    <tr>\n",
       "      <th>86</th>\n",
       "      <td>1369977</td>\n",
       "      <td>39</td>\n",
       "      <td>35</td>\n",
       "      <td>251</td>\n",
       "      <td>2</td>\n",
       "      <td>2</td>\n",
       "      <td>2</td>\n",
       "      <td>2</td>\n",
       "      <td>0</td>\n",
       "      <td>2</td>\n",
       "      <td>2</td>\n",
       "      <td>1</td>\n",
       "      <td>0</td>\n",
       "      <td>2</td>\n",
       "      <td>2</td>\n",
       "    </tr>\n",
       "    <tr>\n",
       "      <th>87</th>\n",
       "      <td>1369977</td>\n",
       "      <td>39</td>\n",
       "      <td>35</td>\n",
       "      <td>251</td>\n",
       "      <td>2</td>\n",
       "      <td>2</td>\n",
       "      <td>2</td>\n",
       "      <td>2</td>\n",
       "      <td>0</td>\n",
       "      <td>2</td>\n",
       "      <td>2</td>\n",
       "      <td>1</td>\n",
       "      <td>0</td>\n",
       "      <td>2</td>\n",
       "      <td>2</td>\n",
       "    </tr>\n",
       "  </tbody>\n",
       "</table>\n",
       "<p>88 rows × 15 columns</p>\n",
       "</div>"
      ],
      "text/plain": [
       "    total_sequences  percent_gc  min_sequence_length  max_sequence_length  \\\n",
       "0             15187          37                   35                  301   \n",
       "1            733019          38                  301                  301   \n",
       "2            269263          38                   35                  301   \n",
       "3            265224          38                   35                  301   \n",
       "4            733019          39                  301                  301   \n",
       "..              ...         ...                  ...                  ...   \n",
       "83          1367226          38                   35                  251   \n",
       "84          1836688          39                   35                  251   \n",
       "85           799870          37                   35                  251   \n",
       "86          1369977          39                   35                  251   \n",
       "87          1369977          39                   35                  251   \n",
       "\n",
       "    status_module_0  status_module_1  status_module_2  status_module_3  \\\n",
       "0                 2                2                1                2   \n",
       "1                 2                0                2                2   \n",
       "2                 2                1                2                2   \n",
       "3                 2                0                1                2   \n",
       "4                 2                0                2                2   \n",
       "..              ...              ...              ...              ...   \n",
       "83                2                2                2                2   \n",
       "84                2                2                2                2   \n",
       "85                2                2                2                2   \n",
       "86                2                2                2                2   \n",
       "87                2                2                2                2   \n",
       "\n",
       "    status_module_4  status_module_5  status_module_6  status_module_7  \\\n",
       "0                 0                2                2                1   \n",
       "1                 0                2                2                2   \n",
       "2                 0                2                2                1   \n",
       "3                 0                2                2                1   \n",
       "4                 0                2                2                2   \n",
       "..              ...              ...              ...              ...   \n",
       "83                0                2                2                1   \n",
       "84                0                2                2                1   \n",
       "85                0                2                2                1   \n",
       "86                0                2                2                1   \n",
       "87                0                2                2                1   \n",
       "\n",
       "    status_module_8  status_module_9  status_module_10  \n",
       "0                 2                2                 2  \n",
       "1                 1                2                 0  \n",
       "2                 2                2                 2  \n",
       "3                 2                2                 2  \n",
       "4                 1                2                 0  \n",
       "..              ...              ...               ...  \n",
       "83                0                1                 2  \n",
       "84                0                2                 2  \n",
       "85                0                1                 2  \n",
       "86                0                2                 2  \n",
       "87                0                2                 2  \n",
       "\n",
       "[88 rows x 15 columns]"
      ]
     },
     "execution_count": 7,
     "metadata": {},
     "output_type": "execute_result"
    }
   ],
   "source": [
    "ngs_reads.drop(columns=['organism', 'technology', 'read_number'], inplace=True)\n",
    "ngs_reads"
   ]
  },
  {
   "cell_type": "markdown",
   "id": "cbc9ad42",
   "metadata": {},
   "source": [
    "#### train-test split"
   ]
  },
  {
   "cell_type": "code",
   "execution_count": 8,
   "id": "93bbaa9f",
   "metadata": {},
   "outputs": [],
   "source": [
    "X_train, X_test, y_train, y_test = train_test_split(ngs_reads, target, test_size=0.3, random_state=109)"
   ]
  },
  {
   "cell_type": "markdown",
   "id": "7c5cf536",
   "metadata": {},
   "source": [
    "#### Confusion Matrix Heatmap Training Set"
   ]
  },
  {
   "cell_type": "code",
   "execution_count": 9,
   "id": "542d36bd",
   "metadata": {},
   "outputs": [
    {
     "data": {
      "text/plain": [
       "<AxesSubplot:>"
      ]
     },
     "execution_count": 9,
     "metadata": {},
     "output_type": "execute_result"
    },
    {
     "data": {
      "image/png": "[encoded data removed]",
      "text/plain": [
       "<Figure size 864x720 with 2 Axes>"
      ]
     },
     "metadata": {
      "needs_background": "light"
     },
     "output_type": "display_data"
    }
   ],
   "source": [
    "train = X_train.copy()\n",
    "train.loc[:, 'target'] = y_train.tolist()\n",
    "train\n",
    "\n",
    "corr_matrix = train.corr()\n",
    "\n",
    "mask = np.zeros_like(corr_matrix, dtype=bool)\n",
    "mask[np.triu_indices_from(mask)] = True\n",
    "\n",
    "f, ax = plt.subplots(figsize=(12, 10))\n",
    "cmap = sn.diverging_palette(220, 10, as_cmap=True)\n",
    "sn.heatmap(corr_matrix, mask=mask, cmap=cmap, center=0, square=True, linewidths=.5, cbar_kws={\"shrink\":.5})"
   ]
  },
  {
   "cell_type": "markdown",
   "id": "d2882b7a",
   "metadata": {},
   "source": [
    "#### Support Vector Machine Training"
   ]
  },
  {
   "cell_type": "code",
   "execution_count": 10,
   "id": "7124c4bd",
   "metadata": {},
   "outputs": [],
   "source": [
    "clf_svc = svm.SVC(kernel='linear')"
   ]
  },
  {
   "cell_type": "code",
   "execution_count": 11,
   "id": "65d211d5",
   "metadata": {},
   "outputs": [
    {
     "data": {
      "text/plain": [
       "SVC(kernel='linear')"
      ]
     },
     "execution_count": 11,
     "metadata": {},
     "output_type": "execute_result"
    }
   ],
   "source": [
    "clf_svc.fit(X_train, y_train)"
   ]
  },
  {
   "cell_type": "markdown",
   "id": "3d3477e6",
   "metadata": {},
   "source": [
    "##### SVM performance"
   ]
  },
  {
   "cell_type": "code",
   "execution_count": 12,
   "id": "054dad45",
   "metadata": {},
   "outputs": [
    {
     "name": "stdout",
     "output_type": "stream",
     "text": [
      "Accuracy: 0.7037037037037037\n",
      "Precision:  0.68\n",
      "Recall:  1.0\n",
      "F1 Score:  0.8095238095238095\n"
     ]
    }
   ],
   "source": [
    "y_pred=clf_svc.predict(X_test)\n",
    "print(\"Accuracy:\", metrics.accuracy_score(y_test, y_pred))\n",
    "print(\"Precision: \", metrics.precision_score(y_test, y_pred))\n",
    "print(\"Recall: \", metrics.recall_score(y_test, y_pred))\n",
    "print(\"F1 Score: \", metrics.f1_score(y_test, y_pred))"
   ]
  },
  {
   "cell_type": "code",
   "execution_count": 13,
   "id": "4d7e1dd5",
   "metadata": {},
   "outputs": [
    {
     "data": {
      "text/plain": [
       "<sklearn.metrics._plot.roc_curve.RocCurveDisplay at 0x20c04b62a48>"
      ]
     },
     "execution_count": 13,
     "metadata": {},
     "output_type": "execute_result"
    },
    {
     "data": {
      "image/png": "[encoded data removed]",
      "text/plain": [
       "<Figure size 432x288 with 1 Axes>"
      ]
     },
     "metadata": {
      "needs_background": "light"
     },
     "output_type": "display_data"
    }
   ],
   "source": [
    "metrics.RocCurveDisplay.from_predictions(y_test, y_pred)"
   ]
  },
  {
   "cell_type": "markdown",
   "id": "0cb2777e",
   "metadata": {},
   "source": [
    "#### SVM with Cross Validation"
   ]
  },
  {
   "cell_type": "code",
   "execution_count": 14,
   "id": "c7b8c359",
   "metadata": {},
   "outputs": [
    {
     "name": "stdout",
     "output_type": "stream",
     "text": [
      "Accuracies:  [0.94444444 1.         1.         0.76470588 0.64705882]\n",
      "F1 Scores:  [0.95238095 1.         1.         0.83333333 0.78571429]\n",
      "Accuracy: 0.87 +/- 0.14\n",
      "F1 Score: 0.91 +/- 0.09\n"
     ]
    }
   ],
   "source": [
    "clf_svm_cv = svm.SVC(kernel='linear')\n",
    "scores = cross_validate(clf_svm_cv, ngs_reads, target, cv=5, \n",
    "                        scoring=('accuracy', 'f1'), return_train_score=True)\n",
    "print(\"Accuracies: \", scores['test_accuracy'])\n",
    "print(\"F1 Scores: \", scores['test_f1'])\n",
    "\n",
    "print(\"Accuracy: %0.2f +/- %0.2f\" % (scores['test_accuracy'].mean(), scores['test_accuracy'].std()))\n",
    "print(\"F1 Score: %0.2f +/- %0.2f\" % (scores['test_f1'].mean(), scores['test_f1'].std()))"
   ]
  },
  {
   "cell_type": "markdown",
   "id": "e920bcce",
   "metadata": {},
   "source": [
    "#### Decision Tree"
   ]
  },
  {
   "cell_type": "code",
   "execution_count": 15,
   "id": "4b39239e",
   "metadata": {},
   "outputs": [],
   "source": [
    "clf_dt = tree.DecisionTreeClassifier()\n",
    "clf_dt = clf_dt.fit(X_train, y_train)"
   ]
  },
  {
   "cell_type": "code",
   "execution_count": 16,
   "id": "6d571505",
   "metadata": {},
   "outputs": [
    {
     "name": "stdout",
     "output_type": "stream",
     "text": [
      "Accuracy: 1.0\n",
      "Precision:  1.0\n",
      "Recall:  1.0\n",
      "F1 Score:  1.0\n"
     ]
    }
   ],
   "source": [
    "y_pred = clf_dt.predict(X_test)\n",
    "print(\"Accuracy:\", metrics.accuracy_score(y_test, y_pred))\n",
    "print(\"Precision: \", metrics.precision_score(y_test, y_pred))\n",
    "print(\"Recall: \", metrics.recall_score(y_test, y_pred))\n",
    "print(\"F1 Score: \", metrics.f1_score(y_test, y_pred))"
   ]
  },
  {
   "cell_type": "code",
   "execution_count": 17,
   "id": "2fc89816",
   "metadata": {},
   "outputs": [
    {
     "data": {
      "image/svg+xml": [
       "<?xml version=\"1.0\" encoding=\"UTF-8\" standalone=\"no\"?>\r\n",
       "<!DOCTYPE svg PUBLIC \"-//W3C//DTD SVG 1.1//EN\"\r\n",
       " \"http://www.w3.org/Graphics/SVG/1.1/DTD/svg11.dtd\">\r\n",
       "<!-- Generated by graphviz version 2.38.0 (20140413.2041)\r\n",
       " -->\r\n",
       "<!-- Title: Tree Pages: 1 -->\r\n",
       "<svg width=\"849pt\" height=\"552pt\"\r\n",
       " viewBox=\"0.00 0.00 849.00 552.00\" xmlns=\"http://www.w3.org/2000/svg\" xmlns:xlink=\"http://www.w3.org/1999/xlink\">\r\n",
       "<g id=\"graph0\" class=\"graph\" transform=\"scale(1 1) rotate(0) translate(4 548)\">\r\n",
       "<title>Tree</title>\r\n",
       "<polygon fill=\"white\" stroke=\"none\" points=\"-4,4 -4,-548 845,-548 845,4 -4,4\"/>\r\n",
       "<!-- 0 -->\r\n",
       "<g id=\"node1\" class=\"node\"><title>0</title>\r\n",
       "<path fill=\"#b9ddf6\" stroke=\"black\" d=\"M613,-544C613,-544 430,-544 430,-544 424,-544 418,-538 418,-532 418,-532 418,-473 418,-473 418,-467 424,-461 430,-461 430,-461 613,-461 613,-461 619,-461 625,-467 625,-473 625,-473 625,-532 625,-532 625,-538 619,-544 613,-544\"/>\r\n",
       "<text text-anchor=\"middle\" x=\"521.5\" y=\"-528.8\" font-family=\"Helvetica,sans-Serif\" font-size=\"14.00\">total_sequences &lt;= 771691.0</text>\r\n",
       "<text text-anchor=\"middle\" x=\"521.5\" y=\"-513.8\" font-family=\"Helvetica,sans-Serif\" font-size=\"14.00\">gini = 0.477</text>\r\n",
       "<text text-anchor=\"middle\" x=\"521.5\" y=\"-498.8\" font-family=\"Helvetica,sans-Serif\" font-size=\"14.00\">samples = 61</text>\r\n",
       "<text text-anchor=\"middle\" x=\"521.5\" y=\"-483.8\" font-family=\"Helvetica,sans-Serif\" font-size=\"14.00\">value = [24, 37]</text>\r\n",
       "<text text-anchor=\"middle\" x=\"521.5\" y=\"-468.8\" font-family=\"Helvetica,sans-Serif\" font-size=\"14.00\">class = good</text>\r\n",
       "</g>\r\n",
       "<!-- 1 -->\r\n",
       "<g id=\"node2\" class=\"node\"><title>1</title>\r\n",
       "<path fill=\"#e88f4f\" stroke=\"black\" d=\"M475.5,-425C475.5,-425 329.5,-425 329.5,-425 323.5,-425 317.5,-419 317.5,-413 317.5,-413 317.5,-354 317.5,-354 317.5,-348 323.5,-342 329.5,-342 329.5,-342 475.5,-342 475.5,-342 481.5,-342 487.5,-348 487.5,-354 487.5,-354 487.5,-413 487.5,-413 487.5,-419 481.5,-425 475.5,-425\"/>\r\n",
       "<text text-anchor=\"middle\" x=\"402.5\" y=\"-409.8\" font-family=\"Helvetica,sans-Serif\" font-size=\"14.00\">status_module_9 &lt;= 1.5</text>\r\n",
       "<text text-anchor=\"middle\" x=\"402.5\" y=\"-394.8\" font-family=\"Helvetica,sans-Serif\" font-size=\"14.00\">gini = 0.18</text>\r\n",
       "<text text-anchor=\"middle\" x=\"402.5\" y=\"-379.8\" font-family=\"Helvetica,sans-Serif\" font-size=\"14.00\">samples = 20</text>\r\n",
       "<text text-anchor=\"middle\" x=\"402.5\" y=\"-364.8\" font-family=\"Helvetica,sans-Serif\" font-size=\"14.00\">value = [18, 2]</text>\r\n",
       "<text text-anchor=\"middle\" x=\"402.5\" y=\"-349.8\" font-family=\"Helvetica,sans-Serif\" font-size=\"14.00\">class = ugly</text>\r\n",
       "</g>\r\n",
       "<!-- 0&#45;&gt;1 -->\r\n",
       "<g id=\"edge1\" class=\"edge\"><title>0&#45;&gt;1</title>\r\n",
       "<path fill=\"none\" stroke=\"black\" d=\"M480.214,-460.907C470.799,-451.651 460.711,-441.732 451.024,-432.209\"/>\r\n",
       "<polygon fill=\"black\" stroke=\"black\" points=\"453.298,-429.536 443.713,-425.021 448.39,-434.527 453.298,-429.536\"/>\r\n",
       "<text text-anchor=\"middle\" x=\"443.925\" y=\"-446.32\" font-family=\"Helvetica,sans-Serif\" font-size=\"14.00\">True</text>\r\n",
       "</g>\r\n",
       "<!-- 10 -->\r\n",
       "<g id=\"node11\" class=\"node\"><title>10</title>\r\n",
       "<path fill=\"#5baee9\" stroke=\"black\" d=\"M737.5,-425C737.5,-425 543.5,-425 543.5,-425 537.5,-425 531.5,-419 531.5,-413 531.5,-413 531.5,-354 531.5,-354 531.5,-348 537.5,-342 543.5,-342 543.5,-342 737.5,-342 737.5,-342 743.5,-342 749.5,-348 749.5,-354 749.5,-354 749.5,-413 749.5,-413 749.5,-419 743.5,-425 737.5,-425\"/>\r\n",
       "<text text-anchor=\"middle\" x=\"640.5\" y=\"-409.8\" font-family=\"Helvetica,sans-Serif\" font-size=\"14.00\">min_sequence_length &lt;= 143.0</text>\r\n",
       "<text text-anchor=\"middle\" x=\"640.5\" y=\"-394.8\" font-family=\"Helvetica,sans-Serif\" font-size=\"14.00\">gini = 0.25</text>\r\n",
       "<text text-anchor=\"middle\" x=\"640.5\" y=\"-379.8\" font-family=\"Helvetica,sans-Serif\" font-size=\"14.00\">samples = 41</text>\r\n",
       "<text text-anchor=\"middle\" x=\"640.5\" y=\"-364.8\" font-family=\"Helvetica,sans-Serif\" font-size=\"14.00\">value = [6, 35]</text>\r\n",
       "<text text-anchor=\"middle\" x=\"640.5\" y=\"-349.8\" font-family=\"Helvetica,sans-Serif\" font-size=\"14.00\">class = good</text>\r\n",
       "</g>\r\n",
       "<!-- 0&#45;&gt;10 -->\r\n",
       "<g id=\"edge10\" class=\"edge\"><title>0&#45;&gt;10</title>\r\n",
       "<path fill=\"none\" stroke=\"black\" d=\"M562.786,-460.907C572.201,-451.651 582.289,-441.732 591.976,-432.209\"/>\r\n",
       "<polygon fill=\"black\" stroke=\"black\" points=\"594.61,-434.527 599.287,-425.021 589.702,-429.536 594.61,-434.527\"/>\r\n",
       "<text text-anchor=\"middle\" x=\"599.075\" y=\"-446.32\" font-family=\"Helvetica,sans-Serif\" font-size=\"14.00\">False</text>\r\n",
       "</g>\r\n",
       "<!-- 2 -->\r\n",
       "<g id=\"node3\" class=\"node\"><title>2</title>\r\n",
       "<path fill=\"#ffffff\" stroke=\"black\" d=\"M242,-306C242,-306 87,-306 87,-306 81,-306 75,-300 75,-294 75,-294 75,-235 75,-235 75,-229 81,-223 87,-223 87,-223 242,-223 242,-223 248,-223 254,-229 254,-235 254,-235 254,-294 254,-294 254,-300 248,-306 242,-306\"/>\r\n",
       "<text text-anchor=\"middle\" x=\"164.5\" y=\"-290.8\" font-family=\"Helvetica,sans-Serif\" font-size=\"14.00\">status_module_10 &lt;= 1.0</text>\r\n",
       "<text text-anchor=\"middle\" x=\"164.5\" y=\"-275.8\" font-family=\"Helvetica,sans-Serif\" font-size=\"14.00\">gini = 0.5</text>\r\n",
       "<text text-anchor=\"middle\" x=\"164.5\" y=\"-260.8\" font-family=\"Helvetica,sans-Serif\" font-size=\"14.00\">samples = 2</text>\r\n",
       "<text text-anchor=\"middle\" x=\"164.5\" y=\"-245.8\" font-family=\"Helvetica,sans-Serif\" font-size=\"14.00\">value = [1, 1]</text>\r\n",
       "<text text-anchor=\"middle\" x=\"164.5\" y=\"-230.8\" font-family=\"Helvetica,sans-Serif\" font-size=\"14.00\">class = ugly</text>\r\n",
       "</g>\r\n",
       "<!-- 1&#45;&gt;2 -->\r\n",
       "<g id=\"edge2\" class=\"edge\"><title>1&#45;&gt;2</title>\r\n",
       "<path fill=\"none\" stroke=\"black\" d=\"M319.927,-341.907C299.344,-331.789 277.151,-320.879 256.159,-310.559\"/>\r\n",
       "<polygon fill=\"black\" stroke=\"black\" points=\"257.445,-307.292 246.927,-306.021 254.357,-313.574 257.445,-307.292\"/>\r\n",
       "</g>\r\n",
       "<!-- 5 -->\r\n",
       "<g id=\"node6\" class=\"node\"><title>5</title>\r\n",
       "<path fill=\"#e78845\" stroke=\"black\" d=\"M494,-306C494,-306 311,-306 311,-306 305,-306 299,-300 299,-294 299,-294 299,-235 299,-235 299,-229 305,-223 311,-223 311,-223 494,-223 494,-223 500,-223 506,-229 506,-235 506,-235 506,-294 506,-294 506,-300 500,-306 494,-306\"/>\r\n",
       "<text text-anchor=\"middle\" x=\"402.5\" y=\"-290.8\" font-family=\"Helvetica,sans-Serif\" font-size=\"14.00\">total_sequences &lt;= 703611.5</text>\r\n",
       "<text text-anchor=\"middle\" x=\"402.5\" y=\"-275.8\" font-family=\"Helvetica,sans-Serif\" font-size=\"14.00\">gini = 0.105</text>\r\n",
       "<text text-anchor=\"middle\" x=\"402.5\" y=\"-260.8\" font-family=\"Helvetica,sans-Serif\" font-size=\"14.00\">samples = 18</text>\r\n",
       "<text text-anchor=\"middle\" x=\"402.5\" y=\"-245.8\" font-family=\"Helvetica,sans-Serif\" font-size=\"14.00\">value = [17, 1]</text>\r\n",
       "<text text-anchor=\"middle\" x=\"402.5\" y=\"-230.8\" font-family=\"Helvetica,sans-Serif\" font-size=\"14.00\">class = ugly</text>\r\n",
       "</g>\r\n",
       "<!-- 1&#45;&gt;5 -->\r\n",
       "<g id=\"edge5\" class=\"edge\"><title>1&#45;&gt;5</title>\r\n",
       "<path fill=\"none\" stroke=\"black\" d=\"M402.5,-341.907C402.5,-333.649 402.5,-324.864 402.5,-316.302\"/>\r\n",
       "<polygon fill=\"black\" stroke=\"black\" points=\"406,-316.021 402.5,-306.021 399,-316.021 406,-316.021\"/>\r\n",
       "</g>\r\n",
       "<!-- 3 -->\r\n",
       "<g id=\"node4\" class=\"node\"><title>3</title>\r\n",
       "<path fill=\"#e58139\" stroke=\"black\" d=\"M85,-179.5C85,-179.5 12,-179.5 12,-179.5 6,-179.5 0,-173.5 0,-167.5 0,-167.5 0,-123.5 0,-123.5 0,-117.5 6,-111.5 12,-111.5 12,-111.5 85,-111.5 85,-111.5 91,-111.5 97,-117.5 97,-123.5 97,-123.5 97,-167.5 97,-167.5 97,-173.5 91,-179.5 85,-179.5\"/>\r\n",
       "<text text-anchor=\"middle\" x=\"48.5\" y=\"-164.3\" font-family=\"Helvetica,sans-Serif\" font-size=\"14.00\">gini = 0.0</text>\r\n",
       "<text text-anchor=\"middle\" x=\"48.5\" y=\"-149.3\" font-family=\"Helvetica,sans-Serif\" font-size=\"14.00\">samples = 1</text>\r\n",
       "<text text-anchor=\"middle\" x=\"48.5\" y=\"-134.3\" font-family=\"Helvetica,sans-Serif\" font-size=\"14.00\">value = [1, 0]</text>\r\n",
       "<text text-anchor=\"middle\" x=\"48.5\" y=\"-119.3\" font-family=\"Helvetica,sans-Serif\" font-size=\"14.00\">class = ugly</text>\r\n",
       "</g>\r\n",
       "<!-- 2&#45;&gt;3 -->\r\n",
       "<g id=\"edge3\" class=\"edge\"><title>2&#45;&gt;3</title>\r\n",
       "<path fill=\"none\" stroke=\"black\" d=\"M124.254,-222.907C112.658,-211.211 100.013,-198.457 88.4355,-186.78\"/>\r\n",
       "<polygon fill=\"black\" stroke=\"black\" points=\"90.9096,-184.304 81.3835,-179.667 85.9387,-189.233 90.9096,-184.304\"/>\r\n",
       "</g>\r\n",
       "<!-- 4 -->\r\n",
       "<g id=\"node5\" class=\"node\"><title>4</title>\r\n",
       "<path fill=\"#399de5\" stroke=\"black\" d=\"M201.5,-179.5C201.5,-179.5 127.5,-179.5 127.5,-179.5 121.5,-179.5 115.5,-173.5 115.5,-167.5 115.5,-167.5 115.5,-123.5 115.5,-123.5 115.5,-117.5 121.5,-111.5 127.5,-111.5 127.5,-111.5 201.5,-111.5 201.5,-111.5 207.5,-111.5 213.5,-117.5 213.5,-123.5 213.5,-123.5 213.5,-167.5 213.5,-167.5 213.5,-173.5 207.5,-179.5 201.5,-179.5\"/>\r\n",
       "<text text-anchor=\"middle\" x=\"164.5\" y=\"-164.3\" font-family=\"Helvetica,sans-Serif\" font-size=\"14.00\">gini = 0.0</text>\r\n",
       "<text text-anchor=\"middle\" x=\"164.5\" y=\"-149.3\" font-family=\"Helvetica,sans-Serif\" font-size=\"14.00\">samples = 1</text>\r\n",
       "<text text-anchor=\"middle\" x=\"164.5\" y=\"-134.3\" font-family=\"Helvetica,sans-Serif\" font-size=\"14.00\">value = [0, 1]</text>\r\n",
       "<text text-anchor=\"middle\" x=\"164.5\" y=\"-119.3\" font-family=\"Helvetica,sans-Serif\" font-size=\"14.00\">class = good</text>\r\n",
       "</g>\r\n",
       "<!-- 2&#45;&gt;4 -->\r\n",
       "<g id=\"edge4\" class=\"edge\"><title>2&#45;&gt;4</title>\r\n",
       "<path fill=\"none\" stroke=\"black\" d=\"M164.5,-222.907C164.5,-212.204 164.5,-200.615 164.5,-189.776\"/>\r\n",
       "<polygon fill=\"black\" stroke=\"black\" points=\"168,-189.667 164.5,-179.667 161,-189.667 168,-189.667\"/>\r\n",
       "</g>\r\n",
       "<!-- 6 -->\r\n",
       "<g id=\"node7\" class=\"node\"><title>6</title>\r\n",
       "<path fill=\"#e58139\" stroke=\"black\" d=\"M325,-179.5C325,-179.5 244,-179.5 244,-179.5 238,-179.5 232,-173.5 232,-167.5 232,-167.5 232,-123.5 232,-123.5 232,-117.5 238,-111.5 244,-111.5 244,-111.5 325,-111.5 325,-111.5 331,-111.5 337,-117.5 337,-123.5 337,-123.5 337,-167.5 337,-167.5 337,-173.5 331,-179.5 325,-179.5\"/>\r\n",
       "<text text-anchor=\"middle\" x=\"284.5\" y=\"-164.3\" font-family=\"Helvetica,sans-Serif\" font-size=\"14.00\">gini = 0.0</text>\r\n",
       "<text text-anchor=\"middle\" x=\"284.5\" y=\"-149.3\" font-family=\"Helvetica,sans-Serif\" font-size=\"14.00\">samples = 13</text>\r\n",
       "<text text-anchor=\"middle\" x=\"284.5\" y=\"-134.3\" font-family=\"Helvetica,sans-Serif\" font-size=\"14.00\">value = [13, 0]</text>\r\n",
       "<text text-anchor=\"middle\" x=\"284.5\" y=\"-119.3\" font-family=\"Helvetica,sans-Serif\" font-size=\"14.00\">class = ugly</text>\r\n",
       "</g>\r\n",
       "<!-- 5&#45;&gt;6 -->\r\n",
       "<g id=\"edge6\" class=\"edge\"><title>5&#45;&gt;6</title>\r\n",
       "<path fill=\"none\" stroke=\"black\" d=\"M361.56,-222.907C349.764,-211.211 336.901,-198.457 325.124,-186.78\"/>\r\n",
       "<polygon fill=\"black\" stroke=\"black\" points=\"327.516,-184.222 317.95,-179.667 322.587,-189.193 327.516,-184.222\"/>\r\n",
       "</g>\r\n",
       "<!-- 7 -->\r\n",
       "<g id=\"node8\" class=\"node\"><title>7</title>\r\n",
       "<path fill=\"#eca06a\" stroke=\"black\" d=\"M561.5,-187C561.5,-187 367.5,-187 367.5,-187 361.5,-187 355.5,-181 355.5,-175 355.5,-175 355.5,-116 355.5,-116 355.5,-110 361.5,-104 367.5,-104 367.5,-104 561.5,-104 561.5,-104 567.5,-104 573.5,-110 573.5,-116 573.5,-116 573.5,-175 573.5,-175 573.5,-181 567.5,-187 561.5,-187\"/>\r\n",
       "<text text-anchor=\"middle\" x=\"464.5\" y=\"-171.8\" font-family=\"Helvetica,sans-Serif\" font-size=\"14.00\">min_sequence_length &lt;= 168.0</text>\r\n",
       "<text text-anchor=\"middle\" x=\"464.5\" y=\"-156.8\" font-family=\"Helvetica,sans-Serif\" font-size=\"14.00\">gini = 0.32</text>\r\n",
       "<text text-anchor=\"middle\" x=\"464.5\" y=\"-141.8\" font-family=\"Helvetica,sans-Serif\" font-size=\"14.00\">samples = 5</text>\r\n",
       "<text text-anchor=\"middle\" x=\"464.5\" y=\"-126.8\" font-family=\"Helvetica,sans-Serif\" font-size=\"14.00\">value = [4, 1]</text>\r\n",
       "<text text-anchor=\"middle\" x=\"464.5\" y=\"-111.8\" font-family=\"Helvetica,sans-Serif\" font-size=\"14.00\">class = ugly</text>\r\n",
       "</g>\r\n",
       "<!-- 5&#45;&gt;7 -->\r\n",
       "<g id=\"edge7\" class=\"edge\"><title>5&#45;&gt;7</title>\r\n",
       "<path fill=\"none\" stroke=\"black\" d=\"M424.011,-222.907C428.627,-214.195 433.555,-204.897 438.326,-195.893\"/>\r\n",
       "<polygon fill=\"black\" stroke=\"black\" points=\"441.438,-197.496 443.027,-187.021 435.252,-194.218 441.438,-197.496\"/>\r\n",
       "</g>\r\n",
       "<!-- 8 -->\r\n",
       "<g id=\"node9\" class=\"node\"><title>8</title>\r\n",
       "<path fill=\"#399de5\" stroke=\"black\" d=\"M443.5,-68C443.5,-68 369.5,-68 369.5,-68 363.5,-68 357.5,-62 357.5,-56 357.5,-56 357.5,-12 357.5,-12 357.5,-6 363.5,-0 369.5,-0 369.5,-0 443.5,-0 443.5,-0 449.5,-0 455.5,-6 455.5,-12 455.5,-12 455.5,-56 455.5,-56 455.5,-62 449.5,-68 443.5,-68\"/>\r\n",
       "<text text-anchor=\"middle\" x=\"406.5\" y=\"-52.8\" font-family=\"Helvetica,sans-Serif\" font-size=\"14.00\">gini = 0.0</text>\r\n",
       "<text text-anchor=\"middle\" x=\"406.5\" y=\"-37.8\" font-family=\"Helvetica,sans-Serif\" font-size=\"14.00\">samples = 1</text>\r\n",
       "<text text-anchor=\"middle\" x=\"406.5\" y=\"-22.8\" font-family=\"Helvetica,sans-Serif\" font-size=\"14.00\">value = [0, 1]</text>\r\n",
       "<text text-anchor=\"middle\" x=\"406.5\" y=\"-7.8\" font-family=\"Helvetica,sans-Serif\" font-size=\"14.00\">class = good</text>\r\n",
       "</g>\r\n",
       "<!-- 7&#45;&gt;8 -->\r\n",
       "<g id=\"edge8\" class=\"edge\"><title>7&#45;&gt;8</title>\r\n",
       "<path fill=\"none\" stroke=\"black\" d=\"M442.903,-103.726C438.313,-95.0615 433.459,-85.8962 428.842,-77.1802\"/>\r\n",
       "<polygon fill=\"black\" stroke=\"black\" points=\"431.912,-75.4982 424.138,-68.2996 425.726,-78.7748 431.912,-75.4982\"/>\r\n",
       "</g>\r\n",
       "<!-- 9 -->\r\n",
       "<g id=\"node10\" class=\"node\"><title>9</title>\r\n",
       "<path fill=\"#e58139\" stroke=\"black\" d=\"M559,-68C559,-68 486,-68 486,-68 480,-68 474,-62 474,-56 474,-56 474,-12 474,-12 474,-6 480,-0 486,-0 486,-0 559,-0 559,-0 565,-0 571,-6 571,-12 571,-12 571,-56 571,-56 571,-62 565,-68 559,-68\"/>\r\n",
       "<text text-anchor=\"middle\" x=\"522.5\" y=\"-52.8\" font-family=\"Helvetica,sans-Serif\" font-size=\"14.00\">gini = 0.0</text>\r\n",
       "<text text-anchor=\"middle\" x=\"522.5\" y=\"-37.8\" font-family=\"Helvetica,sans-Serif\" font-size=\"14.00\">samples = 4</text>\r\n",
       "<text text-anchor=\"middle\" x=\"522.5\" y=\"-22.8\" font-family=\"Helvetica,sans-Serif\" font-size=\"14.00\">value = [4, 0]</text>\r\n",
       "<text text-anchor=\"middle\" x=\"522.5\" y=\"-7.8\" font-family=\"Helvetica,sans-Serif\" font-size=\"14.00\">class = ugly</text>\r\n",
       "</g>\r\n",
       "<!-- 7&#45;&gt;9 -->\r\n",
       "<g id=\"edge9\" class=\"edge\"><title>7&#45;&gt;9</title>\r\n",
       "<path fill=\"none\" stroke=\"black\" d=\"M486.097,-103.726C490.687,-95.0615 495.541,-85.8962 500.158,-77.1802\"/>\r\n",
       "<polygon fill=\"black\" stroke=\"black\" points=\"503.274,-78.7748 504.862,-68.2996 497.088,-75.4982 503.274,-78.7748\"/>\r\n",
       "</g>\r\n",
       "<!-- 11 -->\r\n",
       "<g id=\"node12\" class=\"node\"><title>11</title>\r\n",
       "<path fill=\"#4aa5e7\" stroke=\"black\" d=\"M713.5,-306C713.5,-306 567.5,-306 567.5,-306 561.5,-306 555.5,-300 555.5,-294 555.5,-294 555.5,-235 555.5,-235 555.5,-229 561.5,-223 567.5,-223 567.5,-223 713.5,-223 713.5,-223 719.5,-223 725.5,-229 725.5,-235 725.5,-235 725.5,-294 725.5,-294 725.5,-300 719.5,-306 713.5,-306\"/>\r\n",
       "<text text-anchor=\"middle\" x=\"640.5\" y=\"-290.8\" font-family=\"Helvetica,sans-Serif\" font-size=\"14.00\">status_module_1 &lt;= 0.5</text>\r\n",
       "<text text-anchor=\"middle\" x=\"640.5\" y=\"-275.8\" font-family=\"Helvetica,sans-Serif\" font-size=\"14.00\">gini = 0.145</text>\r\n",
       "<text text-anchor=\"middle\" x=\"640.5\" y=\"-260.8\" font-family=\"Helvetica,sans-Serif\" font-size=\"14.00\">samples = 38</text>\r\n",
       "<text text-anchor=\"middle\" x=\"640.5\" y=\"-245.8\" font-family=\"Helvetica,sans-Serif\" font-size=\"14.00\">value = [3, 35]</text>\r\n",
       "<text text-anchor=\"middle\" x=\"640.5\" y=\"-230.8\" font-family=\"Helvetica,sans-Serif\" font-size=\"14.00\">class = good</text>\r\n",
       "</g>\r\n",
       "<!-- 10&#45;&gt;11 -->\r\n",
       "<g id=\"edge11\" class=\"edge\"><title>10&#45;&gt;11</title>\r\n",
       "<path fill=\"none\" stroke=\"black\" d=\"M640.5,-341.907C640.5,-333.649 640.5,-324.864 640.5,-316.302\"/>\r\n",
       "<polygon fill=\"black\" stroke=\"black\" points=\"644,-316.021 640.5,-306.021 637,-316.021 644,-316.021\"/>\r\n",
       "</g>\r\n",
       "<!-- 14 -->\r\n",
       "<g id=\"node15\" class=\"node\"><title>14</title>\r\n",
       "<path fill=\"#e58139\" stroke=\"black\" d=\"M829,-298.5C829,-298.5 756,-298.5 756,-298.5 750,-298.5 744,-292.5 744,-286.5 744,-286.5 744,-242.5 744,-242.5 744,-236.5 750,-230.5 756,-230.5 756,-230.5 829,-230.5 829,-230.5 835,-230.5 841,-236.5 841,-242.5 841,-242.5 841,-286.5 841,-286.5 841,-292.5 835,-298.5 829,-298.5\"/>\r\n",
       "<text text-anchor=\"middle\" x=\"792.5\" y=\"-283.3\" font-family=\"Helvetica,sans-Serif\" font-size=\"14.00\">gini = 0.0</text>\r\n",
       "<text text-anchor=\"middle\" x=\"792.5\" y=\"-268.3\" font-family=\"Helvetica,sans-Serif\" font-size=\"14.00\">samples = 3</text>\r\n",
       "<text text-anchor=\"middle\" x=\"792.5\" y=\"-253.3\" font-family=\"Helvetica,sans-Serif\" font-size=\"14.00\">value = [3, 0]</text>\r\n",
       "<text text-anchor=\"middle\" x=\"792.5\" y=\"-238.3\" font-family=\"Helvetica,sans-Serif\" font-size=\"14.00\">class = ugly</text>\r\n",
       "</g>\r\n",
       "<!-- 10&#45;&gt;14 -->\r\n",
       "<g id=\"edge14\" class=\"edge\"><title>10&#45;&gt;14</title>\r\n",
       "<path fill=\"none\" stroke=\"black\" d=\"M693.236,-341.907C708.861,-329.88 725.939,-316.735 741.455,-304.791\"/>\r\n",
       "<polygon fill=\"black\" stroke=\"black\" points=\"743.622,-307.54 749.411,-298.667 739.352,-301.993 743.622,-307.54\"/>\r\n",
       "</g>\r\n",
       "<!-- 12 -->\r\n",
       "<g id=\"node13\" class=\"node\"><title>12</title>\r\n",
       "<path fill=\"#e58139\" stroke=\"black\" d=\"M677,-179.5C677,-179.5 604,-179.5 604,-179.5 598,-179.5 592,-173.5 592,-167.5 592,-167.5 592,-123.5 592,-123.5 592,-117.5 598,-111.5 604,-111.5 604,-111.5 677,-111.5 677,-111.5 683,-111.5 689,-117.5 689,-123.5 689,-123.5 689,-167.5 689,-167.5 689,-173.5 683,-179.5 677,-179.5\"/>\r\n",
       "<text text-anchor=\"middle\" x=\"640.5\" y=\"-164.3\" font-family=\"Helvetica,sans-Serif\" font-size=\"14.00\">gini = 0.0</text>\r\n",
       "<text text-anchor=\"middle\" x=\"640.5\" y=\"-149.3\" font-family=\"Helvetica,sans-Serif\" font-size=\"14.00\">samples = 3</text>\r\n",
       "<text text-anchor=\"middle\" x=\"640.5\" y=\"-134.3\" font-family=\"Helvetica,sans-Serif\" font-size=\"14.00\">value = [3, 0]</text>\r\n",
       "<text text-anchor=\"middle\" x=\"640.5\" y=\"-119.3\" font-family=\"Helvetica,sans-Serif\" font-size=\"14.00\">class = ugly</text>\r\n",
       "</g>\r\n",
       "<!-- 11&#45;&gt;12 -->\r\n",
       "<g id=\"edge12\" class=\"edge\"><title>11&#45;&gt;12</title>\r\n",
       "<path fill=\"none\" stroke=\"black\" d=\"M640.5,-222.907C640.5,-212.204 640.5,-200.615 640.5,-189.776\"/>\r\n",
       "<polygon fill=\"black\" stroke=\"black\" points=\"644,-189.667 640.5,-179.667 637,-189.667 644,-189.667\"/>\r\n",
       "</g>\r\n",
       "<!-- 13 -->\r\n",
       "<g id=\"node14\" class=\"node\"><title>13</title>\r\n",
       "<path fill=\"#399de5\" stroke=\"black\" d=\"M800,-179.5C800,-179.5 719,-179.5 719,-179.5 713,-179.5 707,-173.5 707,-167.5 707,-167.5 707,-123.5 707,-123.5 707,-117.5 713,-111.5 719,-111.5 719,-111.5 800,-111.5 800,-111.5 806,-111.5 812,-117.5 812,-123.5 812,-123.5 812,-167.5 812,-167.5 812,-173.5 806,-179.5 800,-179.5\"/>\r\n",
       "<text text-anchor=\"middle\" x=\"759.5\" y=\"-164.3\" font-family=\"Helvetica,sans-Serif\" font-size=\"14.00\">gini = 0.0</text>\r\n",
       "<text text-anchor=\"middle\" x=\"759.5\" y=\"-149.3\" font-family=\"Helvetica,sans-Serif\" font-size=\"14.00\">samples = 35</text>\r\n",
       "<text text-anchor=\"middle\" x=\"759.5\" y=\"-134.3\" font-family=\"Helvetica,sans-Serif\" font-size=\"14.00\">value = [0, 35]</text>\r\n",
       "<text text-anchor=\"middle\" x=\"759.5\" y=\"-119.3\" font-family=\"Helvetica,sans-Serif\" font-size=\"14.00\">class = good</text>\r\n",
       "</g>\r\n",
       "<!-- 11&#45;&gt;13 -->\r\n",
       "<g id=\"edge13\" class=\"edge\"><title>11&#45;&gt;13</title>\r\n",
       "<path fill=\"none\" stroke=\"black\" d=\"M681.786,-222.907C693.683,-211.211 706.655,-198.457 718.532,-186.78\"/>\r\n",
       "<polygon fill=\"black\" stroke=\"black\" points=\"721.089,-189.174 725.766,-179.667 716.182,-184.182 721.089,-189.174\"/>\r\n",
       "</g>\r\n",
       "</g>\r\n",
       "</svg>\r\n"
      ],
      "text/plain": [
       "<graphviz.files.Source at 0x20c1384a248>"
      ]
     },
     "execution_count": 17,
     "metadata": {},
     "output_type": "execute_result"
    }
   ],
   "source": [
    "dot_data = tree.export_graphviz(clf_dt, out_file=None,\n",
    "                               feature_names = X_train.columns,\n",
    "                                class_names = [\"ugly\", \"good\"],\n",
    "                               filled=True, rounded=True) \n",
    "graph = graphviz.Source(dot_data)\n",
    "graph"
   ]
  },
  {
   "cell_type": "markdown",
   "id": "b8f4f35c",
   "metadata": {},
   "source": [
    "#### Random Forest Training"
   ]
  },
  {
   "cell_type": "code",
   "execution_count": 18,
   "id": "0a3217ad",
   "metadata": {},
   "outputs": [],
   "source": [
    "clf_rf=RandomForestClassifier(n_estimators=100, verbose=True)"
   ]
  },
  {
   "cell_type": "code",
   "execution_count": 19,
   "id": "994fd418",
   "metadata": {},
   "outputs": [
    {
     "name": "stderr",
     "output_type": "stream",
     "text": [
      "[Parallel(n_jobs=1)]: Using backend SequentialBackend with 1 concurrent workers.\n",
      "[Parallel(n_jobs=1)]: Done 100 out of 100 | elapsed:    0.0s finished\n"
     ]
    },
    {
     "data": {
      "text/plain": [
       "RandomForestClassifier(verbose=True)"
      ]
     },
     "execution_count": 19,
     "metadata": {},
     "output_type": "execute_result"
    }
   ],
   "source": [
    "clf_rf.fit(X_train,y_train)"
   ]
  },
  {
   "cell_type": "markdown",
   "id": "282760f3",
   "metadata": {},
   "source": [
    "##### Random Forest performance"
   ]
  },
  {
   "cell_type": "code",
   "execution_count": 20,
   "id": "6204d310",
   "metadata": {},
   "outputs": [
    {
     "name": "stdout",
     "output_type": "stream",
     "text": [
      "Accuracy: 1.0\n",
      "Precision:  1.0\n",
      "Recall:  1.0\n",
      "F1 Score:  1.0\n"
     ]
    },
    {
     "name": "stderr",
     "output_type": "stream",
     "text": [
      "[Parallel(n_jobs=1)]: Using backend SequentialBackend with 1 concurrent workers.\n",
      "[Parallel(n_jobs=1)]: Done 100 out of 100 | elapsed:    0.0s finished\n"
     ]
    }
   ],
   "source": [
    "y_pred = clf_rf.predict(X_test)\n",
    "print(\"Accuracy:\", metrics.accuracy_score(y_test, y_pred))\n",
    "print(\"Precision: \", metrics.precision_score(y_test, y_pred))\n",
    "print(\"Recall: \", metrics.recall_score(y_test, y_pred))\n",
    "print(\"F1 Score: \", metrics.f1_score(y_test, y_pred))"
   ]
  },
  {
   "cell_type": "code",
   "execution_count": 21,
   "id": "89d0ad1f",
   "metadata": {},
   "outputs": [
    {
     "data": {
      "text/plain": [
       "<sklearn.metrics._plot.roc_curve.RocCurveDisplay at 0x20c13861388>"
      ]
     },
     "execution_count": 21,
     "metadata": {},
     "output_type": "execute_result"
    },
    {
     "data": {
      "image/png": "[encoded data removed]",
      "text/plain": [
       "<Figure size 432x288 with 1 Axes>"
      ]
     },
     "metadata": {
      "needs_background": "light"
     },
     "output_type": "display_data"
    }
   ],
   "source": [
    "metrics.RocCurveDisplay.from_predictions(y_test, y_pred)"
   ]
  },
  {
   "cell_type": "markdown",
   "id": "f136fa73",
   "metadata": {},
   "source": [
    "#### Feature Importance Random Forest"
   ]
  },
  {
   "cell_type": "code",
   "execution_count": 22,
   "id": "d8fe8abe",
   "metadata": {},
   "outputs": [
    {
     "data": {
      "text/plain": [
       "Text(0.5, 0, 'Relative Importance')"
      ]
     },
     "execution_count": 22,
     "metadata": {},
     "output_type": "execute_result"
    },
    {
     "data": {
      "image/png": "[encoded data removed]",
      "text/plain": [
       "<Figure size 432x288 with 1 Axes>"
      ]
     },
     "metadata": {
      "needs_background": "light"
     },
     "output_type": "display_data"
    }
   ],
   "source": [
    "importances = clf_rf.feature_importances_\n",
    "indices = np.argsort(importances)\n",
    "\n",
    "plt.figure(1)\n",
    "plt.title('Feature Importances')\n",
    "plt.barh(range(len(indices)), importances[indices], color='b', align='center')\n",
    "plt.yticks(range(len(indices)), X_train.columns[indices])\n",
    "plt.xlabel('Relative Importance')"
   ]
  },
  {
   "cell_type": "markdown",
   "id": "44d4f5eb",
   "metadata": {},
   "source": [
    "#### Random Forest with Cross Validation"
   ]
  },
  {
   "cell_type": "code",
   "execution_count": 23,
   "id": "b44634a5",
   "metadata": {},
   "outputs": [
    {
     "name": "stdout",
     "output_type": "stream",
     "text": [
      "Accuracies:  [1.         1.         1.         0.94117647 1.        ]\n",
      "F1 Scores:  [1.         1.         1.         0.95238095 1.        ]\n",
      "Accuracy: 0.99 +/- 0.02\n",
      "F1 Score: 0.99 +/- 0.02\n"
     ]
    }
   ],
   "source": [
    "clf_rf_cv = RandomForestClassifier(n_estimators=100)\n",
    "scores = cross_validate(clf_rf_cv, ngs_reads, target, cv=5, \n",
    "                        scoring=('accuracy', 'f1'), return_train_score=True)\n",
    "print(\"Accuracies: \", scores['test_accuracy'])\n",
    "print(\"F1 Scores: \", scores['test_f1'])\n",
    "\n",
    "# higher cv results in most accuracies = 1.0\n",
    "\n",
    "print(\"Accuracy: %0.2f +/- %0.2f\" % (scores['test_accuracy'].mean(), scores['test_accuracy'].std()))\n",
    "print(\"F1 Score: %0.2f +/- %0.2f\" % (scores['test_f1'].mean(), scores['test_f1'].std()))"
   ]
  },
  {
   "cell_type": "markdown",
   "id": "35608dc0",
   "metadata": {},
   "source": [
    "#### Visualize some trees of the Random Forest"
   ]
  },
  {
   "cell_type": "code",
   "execution_count": 24,
   "id": "80c59e6a",
   "metadata": {},
   "outputs": [
    {
     "data": {
      "image/svg+xml": [
       "<?xml version=\"1.0\" encoding=\"UTF-8\" standalone=\"no\"?>\r\n",
       "<!DOCTYPE svg PUBLIC \"-//W3C//DTD SVG 1.1//EN\"\r\n",
       " \"http://www.w3.org/Graphics/SVG/1.1/DTD/svg11.dtd\">\r\n",
       "<!-- Generated by graphviz version 2.38.0 (20140413.2041)\r\n",
       " -->\r\n",
       "<!-- Title: Tree Pages: 1 -->\r\n",
       "<svg width=\"578pt\" height=\"790pt\"\r\n",
       " viewBox=\"0.00 0.00 577.50 790.00\" xmlns=\"http://www.w3.org/2000/svg\" xmlns:xlink=\"http://www.w3.org/1999/xlink\">\r\n",
       "<g id=\"graph0\" class=\"graph\" transform=\"scale(1 1) rotate(0) translate(4 786)\">\r\n",
       "<title>Tree</title>\r\n",
       "<polygon fill=\"white\" stroke=\"none\" points=\"-4,4 -4,-786 573.5,-786 573.5,4 -4,4\"/>\r\n",
       "<!-- 0 -->\r\n",
       "<g id=\"node1\" class=\"node\"><title>0</title>\r\n",
       "<path fill=\"#e1f0fb\" stroke=\"black\" d=\"M203.5,-782C203.5,-782 57.5,-782 57.5,-782 51.5,-782 45.5,-776 45.5,-770 45.5,-770 45.5,-711 45.5,-711 45.5,-705 51.5,-699 57.5,-699 57.5,-699 203.5,-699 203.5,-699 209.5,-699 215.5,-705 215.5,-711 215.5,-711 215.5,-770 215.5,-770 215.5,-776 209.5,-782 203.5,-782\"/>\r\n",
       "<text text-anchor=\"middle\" x=\"130.5\" y=\"-766.8\" font-family=\"Helvetica,sans-Serif\" font-size=\"14.00\">status_module_1 &lt;= 1.5</text>\r\n",
       "<text text-anchor=\"middle\" x=\"130.5\" y=\"-751.8\" font-family=\"Helvetica,sans-Serif\" font-size=\"14.00\">gini = 0.497</text>\r\n",
       "<text text-anchor=\"middle\" x=\"130.5\" y=\"-736.8\" font-family=\"Helvetica,sans-Serif\" font-size=\"14.00\">samples = 39</text>\r\n",
       "<text text-anchor=\"middle\" x=\"130.5\" y=\"-721.8\" font-family=\"Helvetica,sans-Serif\" font-size=\"14.00\">value = [28, 33]</text>\r\n",
       "<text text-anchor=\"middle\" x=\"130.5\" y=\"-706.8\" font-family=\"Helvetica,sans-Serif\" font-size=\"14.00\">class = good</text>\r\n",
       "</g>\r\n",
       "<!-- 1 -->\r\n",
       "<g id=\"node2\" class=\"node\"><title>1</title>\r\n",
       "<path fill=\"#e58139\" stroke=\"black\" d=\"M93,-655.5C93,-655.5 12,-655.5 12,-655.5 6,-655.5 0,-649.5 0,-643.5 0,-643.5 0,-599.5 0,-599.5 0,-593.5 6,-587.5 12,-587.5 12,-587.5 93,-587.5 93,-587.5 99,-587.5 105,-593.5 105,-599.5 105,-599.5 105,-643.5 105,-643.5 105,-649.5 99,-655.5 93,-655.5\"/>\r\n",
       "<text text-anchor=\"middle\" x=\"52.5\" y=\"-640.3\" font-family=\"Helvetica,sans-Serif\" font-size=\"14.00\">gini = 0.0</text>\r\n",
       "<text text-anchor=\"middle\" x=\"52.5\" y=\"-625.3\" font-family=\"Helvetica,sans-Serif\" font-size=\"14.00\">samples = 11</text>\r\n",
       "<text text-anchor=\"middle\" x=\"52.5\" y=\"-610.3\" font-family=\"Helvetica,sans-Serif\" font-size=\"14.00\">value = [18, 0]</text>\r\n",
       "<text text-anchor=\"middle\" x=\"52.5\" y=\"-595.3\" font-family=\"Helvetica,sans-Serif\" font-size=\"14.00\">class = ugly</text>\r\n",
       "</g>\r\n",
       "<!-- 0&#45;&gt;1 -->\r\n",
       "<g id=\"edge1\" class=\"edge\"><title>0&#45;&gt;1</title>\r\n",
       "<path fill=\"none\" stroke=\"black\" d=\"M103.438,-698.907C95.9348,-687.652 87.7789,-675.418 80.2375,-664.106\"/>\r\n",
       "<polygon fill=\"black\" stroke=\"black\" points=\"83.0705,-662.046 74.6113,-655.667 77.2462,-665.929 83.0705,-662.046\"/>\r\n",
       "<text text-anchor=\"middle\" x=\"69.7084\" y=\"-676.481\" font-family=\"Helvetica,sans-Serif\" font-size=\"14.00\">True</text>\r\n",
       "</g>\r\n",
       "<!-- 2 -->\r\n",
       "<g id=\"node3\" class=\"node\"><title>2</title>\r\n",
       "<path fill=\"#75bbed\" stroke=\"black\" d=\"M281.5,-663C281.5,-663 135.5,-663 135.5,-663 129.5,-663 123.5,-657 123.5,-651 123.5,-651 123.5,-592 123.5,-592 123.5,-586 129.5,-580 135.5,-580 135.5,-580 281.5,-580 281.5,-580 287.5,-580 293.5,-586 293.5,-592 293.5,-592 293.5,-651 293.5,-651 293.5,-657 287.5,-663 281.5,-663\"/>\r\n",
       "<text text-anchor=\"middle\" x=\"208.5\" y=\"-647.8\" font-family=\"Helvetica,sans-Serif\" font-size=\"14.00\">status_module_2 &lt;= 1.5</text>\r\n",
       "<text text-anchor=\"middle\" x=\"208.5\" y=\"-632.8\" font-family=\"Helvetica,sans-Serif\" font-size=\"14.00\">gini = 0.357</text>\r\n",
       "<text text-anchor=\"middle\" x=\"208.5\" y=\"-617.8\" font-family=\"Helvetica,sans-Serif\" font-size=\"14.00\">samples = 28</text>\r\n",
       "<text text-anchor=\"middle\" x=\"208.5\" y=\"-602.8\" font-family=\"Helvetica,sans-Serif\" font-size=\"14.00\">value = [10, 33]</text>\r\n",
       "<text text-anchor=\"middle\" x=\"208.5\" y=\"-587.8\" font-family=\"Helvetica,sans-Serif\" font-size=\"14.00\">class = good</text>\r\n",
       "</g>\r\n",
       "<!-- 0&#45;&gt;2 -->\r\n",
       "<g id=\"edge2\" class=\"edge\"><title>0&#45;&gt;2</title>\r\n",
       "<path fill=\"none\" stroke=\"black\" d=\"M157.562,-698.907C163.43,-690.105 169.698,-680.703 175.759,-671.612\"/>\r\n",
       "<polygon fill=\"black\" stroke=\"black\" points=\"178.851,-673.283 181.486,-663.021 173.027,-669.4 178.851,-673.283\"/>\r\n",
       "<text text-anchor=\"middle\" x=\"186.389\" y=\"-683.835\" font-family=\"Helvetica,sans-Serif\" font-size=\"14.00\">False</text>\r\n",
       "</g>\r\n",
       "<!-- 3 -->\r\n",
       "<g id=\"node4\" class=\"node\"><title>3</title>\r\n",
       "<path fill=\"#e58139\" stroke=\"black\" d=\"M167,-536.5C167,-536.5 94,-536.5 94,-536.5 88,-536.5 82,-530.5 82,-524.5 82,-524.5 82,-480.5 82,-480.5 82,-474.5 88,-468.5 94,-468.5 94,-468.5 167,-468.5 167,-468.5 173,-468.5 179,-474.5 179,-480.5 179,-480.5 179,-524.5 179,-524.5 179,-530.5 173,-536.5 167,-536.5\"/>\r\n",
       "<text text-anchor=\"middle\" x=\"130.5\" y=\"-521.3\" font-family=\"Helvetica,sans-Serif\" font-size=\"14.00\">gini = 0.0</text>\r\n",
       "<text text-anchor=\"middle\" x=\"130.5\" y=\"-506.3\" font-family=\"Helvetica,sans-Serif\" font-size=\"14.00\">samples = 2</text>\r\n",
       "<text text-anchor=\"middle\" x=\"130.5\" y=\"-491.3\" font-family=\"Helvetica,sans-Serif\" font-size=\"14.00\">value = [3, 0]</text>\r\n",
       "<text text-anchor=\"middle\" x=\"130.5\" y=\"-476.3\" font-family=\"Helvetica,sans-Serif\" font-size=\"14.00\">class = ugly</text>\r\n",
       "</g>\r\n",
       "<!-- 2&#45;&gt;3 -->\r\n",
       "<g id=\"edge3\" class=\"edge\"><title>2&#45;&gt;3</title>\r\n",
       "<path fill=\"none\" stroke=\"black\" d=\"M181.438,-579.907C173.935,-568.652 165.779,-556.418 158.237,-545.106\"/>\r\n",
       "<polygon fill=\"black\" stroke=\"black\" points=\"161.071,-543.046 152.611,-536.667 155.246,-546.929 161.071,-543.046\"/>\r\n",
       "</g>\r\n",
       "<!-- 4 -->\r\n",
       "<g id=\"node5\" class=\"node\"><title>4</title>\r\n",
       "<path fill=\"#63b2eb\" stroke=\"black\" d=\"M364,-544C364,-544 209,-544 209,-544 203,-544 197,-538 197,-532 197,-532 197,-473 197,-473 197,-467 203,-461 209,-461 209,-461 364,-461 364,-461 370,-461 376,-467 376,-473 376,-473 376,-532 376,-532 376,-538 370,-544 364,-544\"/>\r\n",
       "<text text-anchor=\"middle\" x=\"286.5\" y=\"-528.8\" font-family=\"Helvetica,sans-Serif\" font-size=\"14.00\">status_module_10 &lt;= 1.0</text>\r\n",
       "<text text-anchor=\"middle\" x=\"286.5\" y=\"-513.8\" font-family=\"Helvetica,sans-Serif\" font-size=\"14.00\">gini = 0.289</text>\r\n",
       "<text text-anchor=\"middle\" x=\"286.5\" y=\"-498.8\" font-family=\"Helvetica,sans-Serif\" font-size=\"14.00\">samples = 26</text>\r\n",
       "<text text-anchor=\"middle\" x=\"286.5\" y=\"-483.8\" font-family=\"Helvetica,sans-Serif\" font-size=\"14.00\">value = [7, 33]</text>\r\n",
       "<text text-anchor=\"middle\" x=\"286.5\" y=\"-468.8\" font-family=\"Helvetica,sans-Serif\" font-size=\"14.00\">class = good</text>\r\n",
       "</g>\r\n",
       "<!-- 2&#45;&gt;4 -->\r\n",
       "<g id=\"edge4\" class=\"edge\"><title>2&#45;&gt;4</title>\r\n",
       "<path fill=\"none\" stroke=\"black\" d=\"M235.562,-579.907C241.43,-571.105 247.698,-561.703 253.759,-552.612\"/>\r\n",
       "<polygon fill=\"black\" stroke=\"black\" points=\"256.851,-554.283 259.486,-544.021 251.027,-550.4 256.851,-554.283\"/>\r\n",
       "</g>\r\n",
       "<!-- 5 -->\r\n",
       "<g id=\"node6\" class=\"node\"><title>5</title>\r\n",
       "<path fill=\"#e58139\" stroke=\"black\" d=\"M247,-417.5C247,-417.5 174,-417.5 174,-417.5 168,-417.5 162,-411.5 162,-405.5 162,-405.5 162,-361.5 162,-361.5 162,-355.5 168,-349.5 174,-349.5 174,-349.5 247,-349.5 247,-349.5 253,-349.5 259,-355.5 259,-361.5 259,-361.5 259,-405.5 259,-405.5 259,-411.5 253,-417.5 247,-417.5\"/>\r\n",
       "<text text-anchor=\"middle\" x=\"210.5\" y=\"-402.3\" font-family=\"Helvetica,sans-Serif\" font-size=\"14.00\">gini = 0.0</text>\r\n",
       "<text text-anchor=\"middle\" x=\"210.5\" y=\"-387.3\" font-family=\"Helvetica,sans-Serif\" font-size=\"14.00\">samples = 2</text>\r\n",
       "<text text-anchor=\"middle\" x=\"210.5\" y=\"-372.3\" font-family=\"Helvetica,sans-Serif\" font-size=\"14.00\">value = [4, 0]</text>\r\n",
       "<text text-anchor=\"middle\" x=\"210.5\" y=\"-357.3\" font-family=\"Helvetica,sans-Serif\" font-size=\"14.00\">class = ugly</text>\r\n",
       "</g>\r\n",
       "<!-- 4&#45;&gt;5 -->\r\n",
       "<g id=\"edge5\" class=\"edge\"><title>4&#45;&gt;5</title>\r\n",
       "<path fill=\"none\" stroke=\"black\" d=\"M260.132,-460.907C252.821,-449.652 244.874,-437.418 237.526,-426.106\"/>\r\n",
       "<polygon fill=\"black\" stroke=\"black\" points=\"240.427,-424.146 232.044,-417.667 234.557,-427.96 240.427,-424.146\"/>\r\n",
       "</g>\r\n",
       "<!-- 6 -->\r\n",
       "<g id=\"node7\" class=\"node\"><title>6</title>\r\n",
       "<path fill=\"#4ba6e7\" stroke=\"black\" d=\"M435.5,-425C435.5,-425 289.5,-425 289.5,-425 283.5,-425 277.5,-419 277.5,-413 277.5,-413 277.5,-354 277.5,-354 277.5,-348 283.5,-342 289.5,-342 289.5,-342 435.5,-342 435.5,-342 441.5,-342 447.5,-348 447.5,-354 447.5,-354 447.5,-413 447.5,-413 447.5,-419 441.5,-425 435.5,-425\"/>\r\n",
       "<text text-anchor=\"middle\" x=\"362.5\" y=\"-409.8\" font-family=\"Helvetica,sans-Serif\" font-size=\"14.00\">status_module_9 &lt;= 1.5</text>\r\n",
       "<text text-anchor=\"middle\" x=\"362.5\" y=\"-394.8\" font-family=\"Helvetica,sans-Serif\" font-size=\"14.00\">gini = 0.153</text>\r\n",
       "<text text-anchor=\"middle\" x=\"362.5\" y=\"-379.8\" font-family=\"Helvetica,sans-Serif\" font-size=\"14.00\">samples = 24</text>\r\n",
       "<text text-anchor=\"middle\" x=\"362.5\" y=\"-364.8\" font-family=\"Helvetica,sans-Serif\" font-size=\"14.00\">value = [3, 33]</text>\r\n",
       "<text text-anchor=\"middle\" x=\"362.5\" y=\"-349.8\" font-family=\"Helvetica,sans-Serif\" font-size=\"14.00\">class = good</text>\r\n",
       "</g>\r\n",
       "<!-- 4&#45;&gt;6 -->\r\n",
       "<g id=\"edge6\" class=\"edge\"><title>4&#45;&gt;6</title>\r\n",
       "<path fill=\"none\" stroke=\"black\" d=\"M312.868,-460.907C318.586,-452.105 324.693,-442.703 330.598,-433.612\"/>\r\n",
       "<polygon fill=\"black\" stroke=\"black\" points=\"333.667,-435.313 336.179,-425.021 327.796,-431.5 333.667,-435.313\"/>\r\n",
       "</g>\r\n",
       "<!-- 7 -->\r\n",
       "<g id=\"node8\" class=\"node\"><title>7</title>\r\n",
       "<path fill=\"#399de5\" stroke=\"black\" d=\"M310.5,-298.5C310.5,-298.5 236.5,-298.5 236.5,-298.5 230.5,-298.5 224.5,-292.5 224.5,-286.5 224.5,-286.5 224.5,-242.5 224.5,-242.5 224.5,-236.5 230.5,-230.5 236.5,-230.5 236.5,-230.5 310.5,-230.5 310.5,-230.5 316.5,-230.5 322.5,-236.5 322.5,-242.5 322.5,-242.5 322.5,-286.5 322.5,-286.5 322.5,-292.5 316.5,-298.5 310.5,-298.5\"/>\r\n",
       "<text text-anchor=\"middle\" x=\"273.5\" y=\"-283.3\" font-family=\"Helvetica,sans-Serif\" font-size=\"14.00\">gini = 0.0</text>\r\n",
       "<text text-anchor=\"middle\" x=\"273.5\" y=\"-268.3\" font-family=\"Helvetica,sans-Serif\" font-size=\"14.00\">samples = 4</text>\r\n",
       "<text text-anchor=\"middle\" x=\"273.5\" y=\"-253.3\" font-family=\"Helvetica,sans-Serif\" font-size=\"14.00\">value = [0, 6]</text>\r\n",
       "<text text-anchor=\"middle\" x=\"273.5\" y=\"-238.3\" font-family=\"Helvetica,sans-Serif\" font-size=\"14.00\">class = good</text>\r\n",
       "</g>\r\n",
       "<!-- 6&#45;&gt;7 -->\r\n",
       "<g id=\"edge7\" class=\"edge\"><title>6&#45;&gt;7</title>\r\n",
       "<path fill=\"none\" stroke=\"black\" d=\"M331.622,-341.907C322.976,-330.542 313.572,-318.178 304.896,-306.774\"/>\r\n",
       "<polygon fill=\"black\" stroke=\"black\" points=\"307.57,-304.507 298.73,-298.667 301.998,-308.745 307.57,-304.507\"/>\r\n",
       "</g>\r\n",
       "<!-- 8 -->\r\n",
       "<g id=\"node9\" class=\"node\"><title>8</title>\r\n",
       "<path fill=\"#4fa8e8\" stroke=\"black\" d=\"M550,-306C550,-306 353,-306 353,-306 347,-306 341,-300 341,-294 341,-294 341,-235 341,-235 341,-229 347,-223 353,-223 353,-223 550,-223 550,-223 556,-223 562,-229 562,-235 562,-235 562,-294 562,-294 562,-300 556,-306 550,-306\"/>\r\n",
       "<text text-anchor=\"middle\" x=\"451.5\" y=\"-290.8\" font-family=\"Helvetica,sans-Serif\" font-size=\"14.00\">max_sequence_length &lt;= 201.0</text>\r\n",
       "<text text-anchor=\"middle\" x=\"451.5\" y=\"-275.8\" font-family=\"Helvetica,sans-Serif\" font-size=\"14.00\">gini = 0.18</text>\r\n",
       "<text text-anchor=\"middle\" x=\"451.5\" y=\"-260.8\" font-family=\"Helvetica,sans-Serif\" font-size=\"14.00\">samples = 20</text>\r\n",
       "<text text-anchor=\"middle\" x=\"451.5\" y=\"-245.8\" font-family=\"Helvetica,sans-Serif\" font-size=\"14.00\">value = [3, 27]</text>\r\n",
       "<text text-anchor=\"middle\" x=\"451.5\" y=\"-230.8\" font-family=\"Helvetica,sans-Serif\" font-size=\"14.00\">class = good</text>\r\n",
       "</g>\r\n",
       "<!-- 6&#45;&gt;8 -->\r\n",
       "<g id=\"edge8\" class=\"edge\"><title>6&#45;&gt;8</title>\r\n",
       "<path fill=\"none\" stroke=\"black\" d=\"M393.378,-341.907C400.212,-332.923 407.521,-323.315 414.569,-314.05\"/>\r\n",
       "<polygon fill=\"black\" stroke=\"black\" points=\"417.408,-316.099 420.676,-306.021 411.836,-311.861 417.408,-316.099\"/>\r\n",
       "</g>\r\n",
       "<!-- 9 -->\r\n",
       "<g id=\"node10\" class=\"node\"><title>9</title>\r\n",
       "<path fill=\"#58ace9\" stroke=\"black\" d=\"M441,-187C441,-187 324,-187 324,-187 318,-187 312,-181 312,-175 312,-175 312,-116 312,-116 312,-110 318,-104 324,-104 324,-104 441,-104 441,-104 447,-104 453,-110 453,-116 453,-116 453,-175 453,-175 453,-181 447,-187 441,-187\"/>\r\n",
       "<text text-anchor=\"middle\" x=\"382.5\" y=\"-171.8\" font-family=\"Helvetica,sans-Serif\" font-size=\"14.00\">percent_gc &lt;= 39.0</text>\r\n",
       "<text text-anchor=\"middle\" x=\"382.5\" y=\"-156.8\" font-family=\"Helvetica,sans-Serif\" font-size=\"14.00\">gini = 0.236</text>\r\n",
       "<text text-anchor=\"middle\" x=\"382.5\" y=\"-141.8\" font-family=\"Helvetica,sans-Serif\" font-size=\"14.00\">samples = 13</text>\r\n",
       "<text text-anchor=\"middle\" x=\"382.5\" y=\"-126.8\" font-family=\"Helvetica,sans-Serif\" font-size=\"14.00\">value = [3, 19]</text>\r\n",
       "<text text-anchor=\"middle\" x=\"382.5\" y=\"-111.8\" font-family=\"Helvetica,sans-Serif\" font-size=\"14.00\">class = good</text>\r\n",
       "</g>\r\n",
       "<!-- 8&#45;&gt;9 -->\r\n",
       "<g id=\"edge9\" class=\"edge\"><title>8&#45;&gt;9</title>\r\n",
       "<path fill=\"none\" stroke=\"black\" d=\"M427.561,-222.907C422.423,-214.195 416.939,-204.897 411.629,-195.893\"/>\r\n",
       "<polygon fill=\"black\" stroke=\"black\" points=\"414.492,-193.857 406.397,-187.021 408.462,-197.412 414.492,-193.857\"/>\r\n",
       "</g>\r\n",
       "<!-- 12 -->\r\n",
       "<g id=\"node13\" class=\"node\"><title>12</title>\r\n",
       "<path fill=\"#399de5\" stroke=\"black\" d=\"M557.5,-179.5C557.5,-179.5 483.5,-179.5 483.5,-179.5 477.5,-179.5 471.5,-173.5 471.5,-167.5 471.5,-167.5 471.5,-123.5 471.5,-123.5 471.5,-117.5 477.5,-111.5 483.5,-111.5 483.5,-111.5 557.5,-111.5 557.5,-111.5 563.5,-111.5 569.5,-117.5 569.5,-123.5 569.5,-123.5 569.5,-167.5 569.5,-167.5 569.5,-173.5 563.5,-179.5 557.5,-179.5\"/>\r\n",
       "<text text-anchor=\"middle\" x=\"520.5\" y=\"-164.3\" font-family=\"Helvetica,sans-Serif\" font-size=\"14.00\">gini = 0.0</text>\r\n",
       "<text text-anchor=\"middle\" x=\"520.5\" y=\"-149.3\" font-family=\"Helvetica,sans-Serif\" font-size=\"14.00\">samples = 7</text>\r\n",
       "<text text-anchor=\"middle\" x=\"520.5\" y=\"-134.3\" font-family=\"Helvetica,sans-Serif\" font-size=\"14.00\">value = [0, 8]</text>\r\n",
       "<text text-anchor=\"middle\" x=\"520.5\" y=\"-119.3\" font-family=\"Helvetica,sans-Serif\" font-size=\"14.00\">class = good</text>\r\n",
       "</g>\r\n",
       "<!-- 8&#45;&gt;12 -->\r\n",
       "<g id=\"edge12\" class=\"edge\"><title>8&#45;&gt;12</title>\r\n",
       "<path fill=\"none\" stroke=\"black\" d=\"M475.439,-222.907C482.012,-211.763 489.15,-199.658 495.767,-188.439\"/>\r\n",
       "<polygon fill=\"black\" stroke=\"black\" points=\"498.875,-190.059 500.94,-179.667 492.845,-186.503 498.875,-190.059\"/>\r\n",
       "</g>\r\n",
       "<!-- 10 -->\r\n",
       "<g id=\"node11\" class=\"node\"><title>10</title>\r\n",
       "<path fill=\"#399de5\" stroke=\"black\" d=\"M364,-68C364,-68 283,-68 283,-68 277,-68 271,-62 271,-56 271,-56 271,-12 271,-12 271,-6 277,-0 283,-0 283,-0 364,-0 364,-0 370,-0 376,-6 376,-12 376,-12 376,-56 376,-56 376,-62 370,-68 364,-68\"/>\r\n",
       "<text text-anchor=\"middle\" x=\"323.5\" y=\"-52.8\" font-family=\"Helvetica,sans-Serif\" font-size=\"14.00\">gini = 0.0</text>\r\n",
       "<text text-anchor=\"middle\" x=\"323.5\" y=\"-37.8\" font-family=\"Helvetica,sans-Serif\" font-size=\"14.00\">samples = 11</text>\r\n",
       "<text text-anchor=\"middle\" x=\"323.5\" y=\"-22.8\" font-family=\"Helvetica,sans-Serif\" font-size=\"14.00\">value = [0, 19]</text>\r\n",
       "<text text-anchor=\"middle\" x=\"323.5\" y=\"-7.8\" font-family=\"Helvetica,sans-Serif\" font-size=\"14.00\">class = good</text>\r\n",
       "</g>\r\n",
       "<!-- 9&#45;&gt;10 -->\r\n",
       "<g id=\"edge10\" class=\"edge\"><title>9&#45;&gt;10</title>\r\n",
       "<path fill=\"none\" stroke=\"black\" d=\"M360.531,-103.726C355.862,-95.0615 350.924,-85.8962 346.227,-77.1802\"/>\r\n",
       "<polygon fill=\"black\" stroke=\"black\" points=\"349.267,-75.4428 341.442,-68.2996 343.104,-78.7632 349.267,-75.4428\"/>\r\n",
       "</g>\r\n",
       "<!-- 11 -->\r\n",
       "<g id=\"node12\" class=\"node\"><title>11</title>\r\n",
       "<path fill=\"#e58139\" stroke=\"black\" d=\"M479,-68C479,-68 406,-68 406,-68 400,-68 394,-62 394,-56 394,-56 394,-12 394,-12 394,-6 400,-0 406,-0 406,-0 479,-0 479,-0 485,-0 491,-6 491,-12 491,-12 491,-56 491,-56 491,-62 485,-68 479,-68\"/>\r\n",
       "<text text-anchor=\"middle\" x=\"442.5\" y=\"-52.8\" font-family=\"Helvetica,sans-Serif\" font-size=\"14.00\">gini = 0.0</text>\r\n",
       "<text text-anchor=\"middle\" x=\"442.5\" y=\"-37.8\" font-family=\"Helvetica,sans-Serif\" font-size=\"14.00\">samples = 2</text>\r\n",
       "<text text-anchor=\"middle\" x=\"442.5\" y=\"-22.8\" font-family=\"Helvetica,sans-Serif\" font-size=\"14.00\">value = [3, 0]</text>\r\n",
       "<text text-anchor=\"middle\" x=\"442.5\" y=\"-7.8\" font-family=\"Helvetica,sans-Serif\" font-size=\"14.00\">class = ugly</text>\r\n",
       "</g>\r\n",
       "<!-- 9&#45;&gt;11 -->\r\n",
       "<g id=\"edge11\" class=\"edge\"><title>9&#45;&gt;11</title>\r\n",
       "<path fill=\"none\" stroke=\"black\" d=\"M404.842,-103.726C409.59,-95.0615 414.612,-85.8962 419.388,-77.1802\"/>\r\n",
       "<polygon fill=\"black\" stroke=\"black\" points=\"422.518,-78.7513 424.254,-68.2996 416.379,-75.3875 422.518,-78.7513\"/>\r\n",
       "</g>\r\n",
       "</g>\r\n",
       "</svg>\r\n"
      ],
      "text/plain": [
       "<graphviz.files.Source at 0x20c13864548>"
      ]
     },
     "execution_count": 24,
     "metadata": {},
     "output_type": "execute_result"
    }
   ],
   "source": [
    "dot_data = tree.export_graphviz(clf_rf.estimators_[0], out_file=None,\n",
    "                               feature_names = X_train.columns,\n",
    "                                class_names = [\"ugly\", \"good\"],\n",
    "                               filled=True, rounded=True) \n",
    "graph = graphviz.Source(dot_data)\n",
    "graph"
   ]
  },
  {
   "cell_type": "code",
   "execution_count": 25,
   "id": "85941398",
   "metadata": {},
   "outputs": [
    {
     "data": {
      "image/svg+xml": [
       "<?xml version=\"1.0\" encoding=\"UTF-8\" standalone=\"no\"?>\r\n",
       "<!DOCTYPE svg PUBLIC \"-//W3C//DTD SVG 1.1//EN\"\r\n",
       " \"http://www.w3.org/Graphics/SVG/1.1/DTD/svg11.dtd\">\r\n",
       "<!-- Generated by graphviz version 2.38.0 (20140413.2041)\r\n",
       " -->\r\n",
       "<!-- Title: Tree Pages: 1 -->\r\n",
       "<svg width=\"694pt\" height=\"552pt\"\r\n",
       " viewBox=\"0.00 0.00 693.50 552.00\" xmlns=\"http://www.w3.org/2000/svg\" xmlns:xlink=\"http://www.w3.org/1999/xlink\">\r\n",
       "<g id=\"graph0\" class=\"graph\" transform=\"scale(1 1) rotate(0) translate(4 548)\">\r\n",
       "<title>Tree</title>\r\n",
       "<polygon fill=\"white\" stroke=\"none\" points=\"-4,4 -4,-548 689.5,-548 689.5,4 -4,4\"/>\r\n",
       "<!-- 0 -->\r\n",
       "<g id=\"node1\" class=\"node\"><title>0</title>\r\n",
       "<path fill=\"#b9ddf6\" stroke=\"black\" d=\"M322.5,-544C322.5,-544 176.5,-544 176.5,-544 170.5,-544 164.5,-538 164.5,-532 164.5,-532 164.5,-473 164.5,-473 164.5,-467 170.5,-461 176.5,-461 176.5,-461 322.5,-461 322.5,-461 328.5,-461 334.5,-467 334.5,-473 334.5,-473 334.5,-532 334.5,-532 334.5,-538 328.5,-544 322.5,-544\"/>\r\n",
       "<text text-anchor=\"middle\" x=\"249.5\" y=\"-528.8\" font-family=\"Helvetica,sans-Serif\" font-size=\"14.00\">status_module_8 &lt;= 0.5</text>\r\n",
       "<text text-anchor=\"middle\" x=\"249.5\" y=\"-513.8\" font-family=\"Helvetica,sans-Serif\" font-size=\"14.00\">gini = 0.477</text>\r\n",
       "<text text-anchor=\"middle\" x=\"249.5\" y=\"-498.8\" font-family=\"Helvetica,sans-Serif\" font-size=\"14.00\">samples = 38</text>\r\n",
       "<text text-anchor=\"middle\" x=\"249.5\" y=\"-483.8\" font-family=\"Helvetica,sans-Serif\" font-size=\"14.00\">value = [24, 37]</text>\r\n",
       "<text text-anchor=\"middle\" x=\"249.5\" y=\"-468.8\" font-family=\"Helvetica,sans-Serif\" font-size=\"14.00\">class = good</text>\r\n",
       "</g>\r\n",
       "<!-- 1 -->\r\n",
       "<g id=\"node2\" class=\"node\"><title>1</title>\r\n",
       "<path fill=\"#4ea7e8\" stroke=\"black\" d=\"M219.5,-425C219.5,-425 73.5,-425 73.5,-425 67.5,-425 61.5,-419 61.5,-413 61.5,-413 61.5,-354 61.5,-354 61.5,-348 67.5,-342 73.5,-342 73.5,-342 219.5,-342 219.5,-342 225.5,-342 231.5,-348 231.5,-354 231.5,-354 231.5,-413 231.5,-413 231.5,-419 225.5,-425 219.5,-425\"/>\r\n",
       "<text text-anchor=\"middle\" x=\"146.5\" y=\"-409.8\" font-family=\"Helvetica,sans-Serif\" font-size=\"14.00\">status_module_1 &lt;= 1.0</text>\r\n",
       "<text text-anchor=\"middle\" x=\"146.5\" y=\"-394.8\" font-family=\"Helvetica,sans-Serif\" font-size=\"14.00\">gini = 0.172</text>\r\n",
       "<text text-anchor=\"middle\" x=\"146.5\" y=\"-379.8\" font-family=\"Helvetica,sans-Serif\" font-size=\"14.00\">samples = 12</text>\r\n",
       "<text text-anchor=\"middle\" x=\"146.5\" y=\"-364.8\" font-family=\"Helvetica,sans-Serif\" font-size=\"14.00\">value = [2, 19]</text>\r\n",
       "<text text-anchor=\"middle\" x=\"146.5\" y=\"-349.8\" font-family=\"Helvetica,sans-Serif\" font-size=\"14.00\">class = good</text>\r\n",
       "</g>\r\n",
       "<!-- 0&#45;&gt;1 -->\r\n",
       "<g id=\"edge1\" class=\"edge\"><title>0&#45;&gt;1</title>\r\n",
       "<path fill=\"none\" stroke=\"black\" d=\"M213.765,-460.907C205.775,-451.832 197.226,-442.121 188.994,-432.769\"/>\r\n",
       "<polygon fill=\"black\" stroke=\"black\" points=\"191.407,-430.214 182.172,-425.021 186.153,-434.839 191.407,-430.214\"/>\r\n",
       "<text text-anchor=\"middle\" x=\"180.584\" y=\"-446.27\" font-family=\"Helvetica,sans-Serif\" font-size=\"14.00\">True</text>\r\n",
       "</g>\r\n",
       "<!-- 4 -->\r\n",
       "<g id=\"node5\" class=\"node\"><title>4</title>\r\n",
       "<path fill=\"#fae8db\" stroke=\"black\" d=\"M445,-425C445,-425 262,-425 262,-425 256,-425 250,-419 250,-413 250,-413 250,-354 250,-354 250,-348 256,-342 262,-342 262,-342 445,-342 445,-342 451,-342 457,-348 457,-354 457,-354 457,-413 457,-413 457,-419 451,-425 445,-425\"/>\r\n",
       "<text text-anchor=\"middle\" x=\"353.5\" y=\"-409.8\" font-family=\"Helvetica,sans-Serif\" font-size=\"14.00\">total_sequences &lt;= 570662.0</text>\r\n",
       "<text text-anchor=\"middle\" x=\"353.5\" y=\"-394.8\" font-family=\"Helvetica,sans-Serif\" font-size=\"14.00\">gini = 0.495</text>\r\n",
       "<text text-anchor=\"middle\" x=\"353.5\" y=\"-379.8\" font-family=\"Helvetica,sans-Serif\" font-size=\"14.00\">samples = 26</text>\r\n",
       "<text text-anchor=\"middle\" x=\"353.5\" y=\"-364.8\" font-family=\"Helvetica,sans-Serif\" font-size=\"14.00\">value = [22, 18]</text>\r\n",
       "<text text-anchor=\"middle\" x=\"353.5\" y=\"-349.8\" font-family=\"Helvetica,sans-Serif\" font-size=\"14.00\">class = ugly</text>\r\n",
       "</g>\r\n",
       "<!-- 0&#45;&gt;4 -->\r\n",
       "<g id=\"edge4\" class=\"edge\"><title>0&#45;&gt;4</title>\r\n",
       "<path fill=\"none\" stroke=\"black\" d=\"M285.582,-460.907C293.649,-451.832 302.281,-442.121 310.594,-432.769\"/>\r\n",
       "<polygon fill=\"black\" stroke=\"black\" points=\"313.454,-434.82 317.482,-425.021 308.222,-430.17 313.454,-434.82\"/>\r\n",
       "<text text-anchor=\"middle\" x=\"318.95\" y=\"-446.278\" font-family=\"Helvetica,sans-Serif\" font-size=\"14.00\">False</text>\r\n",
       "</g>\r\n",
       "<!-- 2 -->\r\n",
       "<g id=\"node3\" class=\"node\"><title>2</title>\r\n",
       "<path fill=\"#e58139\" stroke=\"black\" d=\"M85,-298.5C85,-298.5 12,-298.5 12,-298.5 6,-298.5 0,-292.5 0,-286.5 0,-286.5 0,-242.5 0,-242.5 0,-236.5 6,-230.5 12,-230.5 12,-230.5 85,-230.5 85,-230.5 91,-230.5 97,-236.5 97,-242.5 97,-242.5 97,-286.5 97,-286.5 97,-292.5 91,-298.5 85,-298.5\"/>\r\n",
       "<text text-anchor=\"middle\" x=\"48.5\" y=\"-283.3\" font-family=\"Helvetica,sans-Serif\" font-size=\"14.00\">gini = 0.0</text>\r\n",
       "<text text-anchor=\"middle\" x=\"48.5\" y=\"-268.3\" font-family=\"Helvetica,sans-Serif\" font-size=\"14.00\">samples = 1</text>\r\n",
       "<text text-anchor=\"middle\" x=\"48.5\" y=\"-253.3\" font-family=\"Helvetica,sans-Serif\" font-size=\"14.00\">value = [2, 0]</text>\r\n",
       "<text text-anchor=\"middle\" x=\"48.5\" y=\"-238.3\" font-family=\"Helvetica,sans-Serif\" font-size=\"14.00\">class = ugly</text>\r\n",
       "</g>\r\n",
       "<!-- 1&#45;&gt;2 -->\r\n",
       "<g id=\"edge2\" class=\"edge\"><title>1&#45;&gt;2</title>\r\n",
       "<path fill=\"none\" stroke=\"black\" d=\"M112.499,-341.907C102.887,-330.432 92.4226,-317.938 82.7932,-306.442\"/>\r\n",
       "<polygon fill=\"black\" stroke=\"black\" points=\"85.3852,-304.086 76.2809,-298.667 80.0189,-308.58 85.3852,-304.086\"/>\r\n",
       "</g>\r\n",
       "<!-- 3 -->\r\n",
       "<g id=\"node4\" class=\"node\"><title>3</title>\r\n",
       "<path fill=\"#399de5\" stroke=\"black\" d=\"M208,-298.5C208,-298.5 127,-298.5 127,-298.5 121,-298.5 115,-292.5 115,-286.5 115,-286.5 115,-242.5 115,-242.5 115,-236.5 121,-230.5 127,-230.5 127,-230.5 208,-230.5 208,-230.5 214,-230.5 220,-236.5 220,-242.5 220,-242.5 220,-286.5 220,-286.5 220,-292.5 214,-298.5 208,-298.5\"/>\r\n",
       "<text text-anchor=\"middle\" x=\"167.5\" y=\"-283.3\" font-family=\"Helvetica,sans-Serif\" font-size=\"14.00\">gini = 0.0</text>\r\n",
       "<text text-anchor=\"middle\" x=\"167.5\" y=\"-268.3\" font-family=\"Helvetica,sans-Serif\" font-size=\"14.00\">samples = 11</text>\r\n",
       "<text text-anchor=\"middle\" x=\"167.5\" y=\"-253.3\" font-family=\"Helvetica,sans-Serif\" font-size=\"14.00\">value = [0, 19]</text>\r\n",
       "<text text-anchor=\"middle\" x=\"167.5\" y=\"-238.3\" font-family=\"Helvetica,sans-Serif\" font-size=\"14.00\">class = good</text>\r\n",
       "</g>\r\n",
       "<!-- 1&#45;&gt;3 -->\r\n",
       "<g id=\"edge3\" class=\"edge\"><title>1&#45;&gt;3</title>\r\n",
       "<path fill=\"none\" stroke=\"black\" d=\"M153.786,-341.907C155.707,-331.204 157.787,-319.615 159.732,-308.776\"/>\r\n",
       "<polygon fill=\"black\" stroke=\"black\" points=\"163.225,-309.128 161.547,-298.667 156.335,-307.891 163.225,-309.128\"/>\r\n",
       "</g>\r\n",
       "<!-- 5 -->\r\n",
       "<g id=\"node6\" class=\"node\"><title>5</title>\r\n",
       "<path fill=\"#e58139\" stroke=\"black\" d=\"M373,-298.5C373,-298.5 292,-298.5 292,-298.5 286,-298.5 280,-292.5 280,-286.5 280,-286.5 280,-242.5 280,-242.5 280,-236.5 286,-230.5 292,-230.5 292,-230.5 373,-230.5 373,-230.5 379,-230.5 385,-236.5 385,-242.5 385,-242.5 385,-286.5 385,-286.5 385,-292.5 379,-298.5 373,-298.5\"/>\r\n",
       "<text text-anchor=\"middle\" x=\"332.5\" y=\"-283.3\" font-family=\"Helvetica,sans-Serif\" font-size=\"14.00\">gini = 0.0</text>\r\n",
       "<text text-anchor=\"middle\" x=\"332.5\" y=\"-268.3\" font-family=\"Helvetica,sans-Serif\" font-size=\"14.00\">samples = 9</text>\r\n",
       "<text text-anchor=\"middle\" x=\"332.5\" y=\"-253.3\" font-family=\"Helvetica,sans-Serif\" font-size=\"14.00\">value = [14, 0]</text>\r\n",
       "<text text-anchor=\"middle\" x=\"332.5\" y=\"-238.3\" font-family=\"Helvetica,sans-Serif\" font-size=\"14.00\">class = ugly</text>\r\n",
       "</g>\r\n",
       "<!-- 4&#45;&gt;5 -->\r\n",
       "<g id=\"edge5\" class=\"edge\"><title>4&#45;&gt;5</title>\r\n",
       "<path fill=\"none\" stroke=\"black\" d=\"M346.214,-341.907C344.293,-331.204 342.213,-319.615 340.268,-308.776\"/>\r\n",
       "<polygon fill=\"black\" stroke=\"black\" points=\"343.665,-307.891 338.453,-298.667 336.775,-309.128 343.665,-307.891\"/>\r\n",
       "</g>\r\n",
       "<!-- 6 -->\r\n",
       "<g id=\"node7\" class=\"node\"><title>6</title>\r\n",
       "<path fill=\"#91c9f1\" stroke=\"black\" d=\"M561.5,-306C561.5,-306 415.5,-306 415.5,-306 409.5,-306 403.5,-300 403.5,-294 403.5,-294 403.5,-235 403.5,-235 403.5,-229 409.5,-223 415.5,-223 415.5,-223 561.5,-223 561.5,-223 567.5,-223 573.5,-229 573.5,-235 573.5,-235 573.5,-294 573.5,-294 573.5,-300 567.5,-306 561.5,-306\"/>\r\n",
       "<text text-anchor=\"middle\" x=\"488.5\" y=\"-290.8\" font-family=\"Helvetica,sans-Serif\" font-size=\"14.00\">status_module_1 &lt;= 0.5</text>\r\n",
       "<text text-anchor=\"middle\" x=\"488.5\" y=\"-275.8\" font-family=\"Helvetica,sans-Serif\" font-size=\"14.00\">gini = 0.426</text>\r\n",
       "<text text-anchor=\"middle\" x=\"488.5\" y=\"-260.8\" font-family=\"Helvetica,sans-Serif\" font-size=\"14.00\">samples = 17</text>\r\n",
       "<text text-anchor=\"middle\" x=\"488.5\" y=\"-245.8\" font-family=\"Helvetica,sans-Serif\" font-size=\"14.00\">value = [8, 18]</text>\r\n",
       "<text text-anchor=\"middle\" x=\"488.5\" y=\"-230.8\" font-family=\"Helvetica,sans-Serif\" font-size=\"14.00\">class = good</text>\r\n",
       "</g>\r\n",
       "<!-- 4&#45;&gt;6 -->\r\n",
       "<g id=\"edge6\" class=\"edge\"><title>4&#45;&gt;6</title>\r\n",
       "<path fill=\"none\" stroke=\"black\" d=\"M400.338,-341.907C411.228,-332.469 422.912,-322.343 434.097,-312.649\"/>\r\n",
       "<polygon fill=\"black\" stroke=\"black\" points=\"436.481,-315.215 441.745,-306.021 431.896,-309.925 436.481,-315.215\"/>\r\n",
       "</g>\r\n",
       "<!-- 7 -->\r\n",
       "<g id=\"node8\" class=\"node\"><title>7</title>\r\n",
       "<path fill=\"#e58139\" stroke=\"black\" d=\"M437,-179.5C437,-179.5 364,-179.5 364,-179.5 358,-179.5 352,-173.5 352,-167.5 352,-167.5 352,-123.5 352,-123.5 352,-117.5 358,-111.5 364,-111.5 364,-111.5 437,-111.5 437,-111.5 443,-111.5 449,-117.5 449,-123.5 449,-123.5 449,-167.5 449,-167.5 449,-173.5 443,-179.5 437,-179.5\"/>\r\n",
       "<text text-anchor=\"middle\" x=\"400.5\" y=\"-164.3\" font-family=\"Helvetica,sans-Serif\" font-size=\"14.00\">gini = 0.0</text>\r\n",
       "<text text-anchor=\"middle\" x=\"400.5\" y=\"-149.3\" font-family=\"Helvetica,sans-Serif\" font-size=\"14.00\">samples = 3</text>\r\n",
       "<text text-anchor=\"middle\" x=\"400.5\" y=\"-134.3\" font-family=\"Helvetica,sans-Serif\" font-size=\"14.00\">value = [4, 0]</text>\r\n",
       "<text text-anchor=\"middle\" x=\"400.5\" y=\"-119.3\" font-family=\"Helvetica,sans-Serif\" font-size=\"14.00\">class = ugly</text>\r\n",
       "</g>\r\n",
       "<!-- 6&#45;&gt;7 -->\r\n",
       "<g id=\"edge7\" class=\"edge\"><title>6&#45;&gt;7</title>\r\n",
       "<path fill=\"none\" stroke=\"black\" d=\"M457.969,-222.907C449.42,-211.542 440.121,-199.178 431.544,-187.774\"/>\r\n",
       "<polygon fill=\"black\" stroke=\"black\" points=\"434.254,-185.555 425.446,-179.667 428.66,-189.763 434.254,-185.555\"/>\r\n",
       "</g>\r\n",
       "<!-- 8 -->\r\n",
       "<g id=\"node9\" class=\"node\"><title>8</title>\r\n",
       "<path fill=\"#65b3eb\" stroke=\"black\" d=\"M673.5,-187C673.5,-187 479.5,-187 479.5,-187 473.5,-187 467.5,-181 467.5,-175 467.5,-175 467.5,-116 467.5,-116 467.5,-110 473.5,-104 479.5,-104 479.5,-104 673.5,-104 673.5,-104 679.5,-104 685.5,-110 685.5,-116 685.5,-116 685.5,-175 685.5,-175 685.5,-181 679.5,-187 673.5,-187\"/>\r\n",
       "<text text-anchor=\"middle\" x=\"576.5\" y=\"-171.8\" font-family=\"Helvetica,sans-Serif\" font-size=\"14.00\">min_sequence_length &lt;= 143.0</text>\r\n",
       "<text text-anchor=\"middle\" x=\"576.5\" y=\"-156.8\" font-family=\"Helvetica,sans-Serif\" font-size=\"14.00\">gini = 0.298</text>\r\n",
       "<text text-anchor=\"middle\" x=\"576.5\" y=\"-141.8\" font-family=\"Helvetica,sans-Serif\" font-size=\"14.00\">samples = 14</text>\r\n",
       "<text text-anchor=\"middle\" x=\"576.5\" y=\"-126.8\" font-family=\"Helvetica,sans-Serif\" font-size=\"14.00\">value = [4, 18]</text>\r\n",
       "<text text-anchor=\"middle\" x=\"576.5\" y=\"-111.8\" font-family=\"Helvetica,sans-Serif\" font-size=\"14.00\">class = good</text>\r\n",
       "</g>\r\n",
       "<!-- 6&#45;&gt;8 -->\r\n",
       "<g id=\"edge8\" class=\"edge\"><title>6&#45;&gt;8</title>\r\n",
       "<path fill=\"none\" stroke=\"black\" d=\"M519.031,-222.907C525.789,-213.923 533.015,-204.315 539.984,-195.05\"/>\r\n",
       "<polygon fill=\"black\" stroke=\"black\" points=\"542.809,-197.116 546.023,-187.021 537.215,-192.909 542.809,-197.116\"/>\r\n",
       "</g>\r\n",
       "<!-- 9 -->\r\n",
       "<g id=\"node10\" class=\"node\"><title>9</title>\r\n",
       "<path fill=\"#399de5\" stroke=\"black\" d=\"M557,-68C557,-68 476,-68 476,-68 470,-68 464,-62 464,-56 464,-56 464,-12 464,-12 464,-6 470,-0 476,-0 476,-0 557,-0 557,-0 563,-0 569,-6 569,-12 569,-12 569,-56 569,-56 569,-62 563,-68 557,-68\"/>\r\n",
       "<text text-anchor=\"middle\" x=\"516.5\" y=\"-52.8\" font-family=\"Helvetica,sans-Serif\" font-size=\"14.00\">gini = 0.0</text>\r\n",
       "<text text-anchor=\"middle\" x=\"516.5\" y=\"-37.8\" font-family=\"Helvetica,sans-Serif\" font-size=\"14.00\">samples = 12</text>\r\n",
       "<text text-anchor=\"middle\" x=\"516.5\" y=\"-22.8\" font-family=\"Helvetica,sans-Serif\" font-size=\"14.00\">value = [0, 18]</text>\r\n",
       "<text text-anchor=\"middle\" x=\"516.5\" y=\"-7.8\" font-family=\"Helvetica,sans-Serif\" font-size=\"14.00\">class = good</text>\r\n",
       "</g>\r\n",
       "<!-- 8&#45;&gt;9 -->\r\n",
       "<g id=\"edge9\" class=\"edge\"><title>8&#45;&gt;9</title>\r\n",
       "<path fill=\"none\" stroke=\"black\" d=\"M554.158,-103.726C549.41,-95.0615 544.388,-85.8962 539.612,-77.1802\"/>\r\n",
       "<polygon fill=\"black\" stroke=\"black\" points=\"542.621,-75.3875 534.746,-68.2996 536.482,-78.7513 542.621,-75.3875\"/>\r\n",
       "</g>\r\n",
       "<!-- 10 -->\r\n",
       "<g id=\"node11\" class=\"node\"><title>10</title>\r\n",
       "<path fill=\"#e58139\" stroke=\"black\" d=\"M672,-68C672,-68 599,-68 599,-68 593,-68 587,-62 587,-56 587,-56 587,-12 587,-12 587,-6 593,-0 599,-0 599,-0 672,-0 672,-0 678,-0 684,-6 684,-12 684,-12 684,-56 684,-56 684,-62 678,-68 672,-68\"/>\r\n",
       "<text text-anchor=\"middle\" x=\"635.5\" y=\"-52.8\" font-family=\"Helvetica,sans-Serif\" font-size=\"14.00\">gini = 0.0</text>\r\n",
       "<text text-anchor=\"middle\" x=\"635.5\" y=\"-37.8\" font-family=\"Helvetica,sans-Serif\" font-size=\"14.00\">samples = 2</text>\r\n",
       "<text text-anchor=\"middle\" x=\"635.5\" y=\"-22.8\" font-family=\"Helvetica,sans-Serif\" font-size=\"14.00\">value = [4, 0]</text>\r\n",
       "<text text-anchor=\"middle\" x=\"635.5\" y=\"-7.8\" font-family=\"Helvetica,sans-Serif\" font-size=\"14.00\">class = ugly</text>\r\n",
       "</g>\r\n",
       "<!-- 8&#45;&gt;10 -->\r\n",
       "<g id=\"edge10\" class=\"edge\"><title>8&#45;&gt;10</title>\r\n",
       "<path fill=\"none\" stroke=\"black\" d=\"M598.469,-103.726C603.138,-95.0615 608.076,-85.8962 612.773,-77.1802\"/>\r\n",
       "<polygon fill=\"black\" stroke=\"black\" points=\"615.896,-78.7632 617.558,-68.2996 609.733,-75.4428 615.896,-78.7632\"/>\r\n",
       "</g>\r\n",
       "</g>\r\n",
       "</svg>\r\n"
      ],
      "text/plain": [
       "<graphviz.files.Source at 0x20c1352de48>"
      ]
     },
     "execution_count": 25,
     "metadata": {},
     "output_type": "execute_result"
    }
   ],
   "source": [
    "dot_data = tree.export_graphviz(clf_rf.estimators_[25], out_file=None,\n",
    "                               feature_names = X_train.columns,\n",
    "                                class_names = [\"ugly\", \"good\"],\n",
    "                               filled=True, rounded=True) \n",
    "graph = graphviz.Source(dot_data)\n",
    "graph"
   ]
  },
  {
   "cell_type": "markdown",
   "id": "5ae49395",
   "metadata": {},
   "source": [
    "#### Other Classification Algorithms"
   ]
  },
  {
   "cell_type": "markdown",
   "id": "7eb8bc33",
   "metadata": {},
   "source": [
    "Logistic Regression"
   ]
  },
  {
   "cell_type": "code",
   "execution_count": 26,
   "id": "193081bc",
   "metadata": {},
   "outputs": [],
   "source": [
    "from sklearn.linear_model import LogisticRegression\n",
    "clf_lg = LogisticRegression(random_state=0).fit(X_train, y_train)"
   ]
  },
  {
   "cell_type": "code",
   "execution_count": 27,
   "id": "5cbe04dd",
   "metadata": {},
   "outputs": [
    {
     "name": "stdout",
     "output_type": "stream",
     "text": [
      "Accuracy: 0.8888888888888888\n",
      "Precision:  0.85\n",
      "Recall:  1.0\n",
      "F1 Score:  0.9189189189189189\n"
     ]
    }
   ],
   "source": [
    "y_pred = clf_lg.predict(X_test)\n",
    "print(\"Accuracy:\", metrics.accuracy_score(y_test, y_pred))\n",
    "print(\"Precision: \", metrics.precision_score(y_test, y_pred))\n",
    "print(\"Recall: \", metrics.recall_score(y_test, y_pred))\n",
    "print(\"F1 Score: \", metrics.f1_score(y_test, y_pred))"
   ]
  },
  {
   "cell_type": "markdown",
   "id": "35568701",
   "metadata": {},
   "source": [
    "Naive Bayes"
   ]
  },
  {
   "cell_type": "code",
   "execution_count": 28,
   "id": "f6fcd09c",
   "metadata": {},
   "outputs": [],
   "source": [
    "from sklearn.naive_bayes import GaussianNB\n",
    "clf_gnb = GaussianNB().fit(X_train, y_train)"
   ]
  },
  {
   "cell_type": "code",
   "execution_count": 29,
   "id": "ad27faca",
   "metadata": {},
   "outputs": [
    {
     "name": "stdout",
     "output_type": "stream",
     "text": [
      "Accuracy: 0.7037037037037037\n",
      "Precision:  0.68\n",
      "Recall:  1.0\n",
      "F1 Score:  0.8095238095238095\n"
     ]
    }
   ],
   "source": [
    "y_pred = clf_gnb.predict(X_test)\n",
    "print(\"Accuracy:\", metrics.accuracy_score(y_test, y_pred))\n",
    "print(\"Precision: \", metrics.precision_score(y_test, y_pred))\n",
    "print(\"Recall: \", metrics.recall_score(y_test, y_pred))\n",
    "print(\"F1 Score: \", metrics.f1_score(y_test, y_pred))"
   ]
  },
  {
   "cell_type": "markdown",
   "id": "50f84415",
   "metadata": {},
   "source": [
    "K Nearest Neighbors"
   ]
  },
  {
   "cell_type": "code",
   "execution_count": 30,
   "id": "38d83d3c",
   "metadata": {},
   "outputs": [
    {
     "name": "stdout",
     "output_type": "stream",
     "text": [
      "Accuracy: 0.7037037037037037\n",
      "Precision:  0.7647058823529411\n",
      "Recall:  0.7647058823529411\n",
      "F1 Score:  0.7647058823529412\n"
     ]
    }
   ],
   "source": [
    "from sklearn.neighbors import KNeighborsClassifier\n",
    "neigh = KNeighborsClassifier(n_neighbors=3).fit(X_train, y_train)\n",
    "y_pred = neigh.predict(X_test)\n",
    "print(\"Accuracy:\", metrics.accuracy_score(y_test, y_pred))\n",
    "print(\"Precision: \", metrics.precision_score(y_test, y_pred))\n",
    "print(\"Recall: \", metrics.recall_score(y_test, y_pred))\n",
    "print(\"F1 Score: \", metrics.f1_score(y_test, y_pred))"
   ]
  }
 ],
 "metadata": {
  "kernelspec": {
   "display_name": "Python 3 (ipykernel)",
   "language": "python",
   "name": "python3"
  },
  "language_info": {
   "codemirror_mode": {
    "name": "ipython",
    "version": 3
   },
   "file_extension": ".py",
   "mimetype": "text/x-python",
   "name": "python",
   "nbconvert_exporter": "python",
   "pygments_lexer": "ipython3",
   "version": "3.7.11"
  }
 },
 "nbformat": 4,
 "nbformat_minor": 5
}

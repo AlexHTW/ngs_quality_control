{
 "cells": [
  {
   "cell_type": "markdown",
   "id": "187a74a0",
   "metadata": {},
   "source": [
    "# Machine Learning (SVM & Random Forest)"
   ]
  },
  {
   "cell_type": "code",
   "execution_count": 1,
   "id": "d3d553a1",
   "metadata": {},
   "outputs": [],
   "source": [
    "import pandas as pd\n",
    "import numpy as np\n",
    "from sklearn.model_selection import train_test_split\n",
    "from sklearn import svm\n",
    "from sklearn.ensemble import RandomForestClassifier\n",
    "from sklearn import tree\n",
    "from sklearn import metrics\n",
    "from sklearn.model_selection import cross_validate\n",
    "import seaborn as sn\n",
    "import matplotlib.pyplot as plt\n",
    "import graphviz\n",
    "#pd.set_option('display.max_rows', 500)"
   ]
  },
  {
   "cell_type": "markdown",
   "id": "27139901",
   "metadata": {},
   "source": [
    "#### Import dataset"
   ]
  },
  {
   "cell_type": "code",
   "execution_count": 2,
   "id": "8ced6e3e",
   "metadata": {},
   "outputs": [],
   "source": [
    "ngs_reads = pd.read_json('exported_datasets/efcm.json')"
   ]
  },
  {
   "cell_type": "code",
   "execution_count": 3,
   "id": "f216f4f8",
   "metadata": {},
   "outputs": [],
   "source": [
    "ngs_reads.reset_index(drop=True, inplace=True)"
   ]
  },
  {
   "cell_type": "code",
   "execution_count": 4,
   "id": "6bf865df",
   "metadata": {},
   "outputs": [],
   "source": [
    "# convert dict type columns to dataframes\n",
    "for category in ngs_reads:\n",
    "    if type(ngs_reads[category][0]) is dict:\n",
    "        ngs_reads[category] = ngs_reads[category].apply(pd.DataFrame)"
   ]
  },
  {
   "cell_type": "markdown",
   "id": "d1936e1e",
   "metadata": {},
   "source": [
    "#### extract target variable"
   ]
  },
  {
   "cell_type": "code",
   "execution_count": 5,
   "id": "72defa97",
   "metadata": {},
   "outputs": [
    {
     "data": {
      "text/plain": [
       "array([0, 0, 0, 0, 0, 0, 0, 0, 0, 0, 0, 0, 0, 0, 0, 0, 0, 0, 0, 0, 0, 0,\n",
       "       0, 0, 0, 0, 0, 0, 0, 0, 0, 0, 0, 0, 1, 1, 1, 1, 1, 1, 1, 1, 1, 1,\n",
       "       1, 1, 1, 1, 1, 1, 1, 1, 1, 1, 1, 1, 1, 1, 1, 1, 1, 1, 1, 1, 1, 1,\n",
       "       1, 1, 1, 1, 1, 1, 1, 1, 1, 1, 1, 1, 1, 1, 1, 1, 1, 1, 1, 1, 1, 1],\n",
       "      dtype=int64)"
      ]
     },
     "execution_count": 5,
     "metadata": {},
     "output_type": "execute_result"
    }
   ],
   "source": [
    "target = ngs_reads.evaluation.values\n",
    "ngs_reads.drop(columns='evaluation', inplace=True)\n",
    "target"
   ]
  },
  {
   "cell_type": "markdown",
   "id": "55b64a11",
   "metadata": {},
   "source": [
    "#### remove unfinished columns from dataset"
   ]
  },
  {
   "cell_type": "code",
   "execution_count": 6,
   "id": "c099b159",
   "metadata": {},
   "outputs": [],
   "source": [
    "cols = [0, 1, 2, 3, 4, 5, 6, 7, 8, 9]\n",
    "ngs_reads.drop(ngs_reads.columns[cols], axis=1, inplace=True)"
   ]
  },
  {
   "cell_type": "code",
   "execution_count": 7,
   "id": "9987f723",
   "metadata": {},
   "outputs": [
    {
     "data": {
      "text/html": [
       "<div>\n",
       "<style scoped>\n",
       "    .dataframe tbody tr th:only-of-type {\n",
       "        vertical-align: middle;\n",
       "    }\n",
       "\n",
       "    .dataframe tbody tr th {\n",
       "        vertical-align: top;\n",
       "    }\n",
       "\n",
       "    .dataframe thead th {\n",
       "        text-align: right;\n",
       "    }\n",
       "</style>\n",
       "<table border=\"1\" class=\"dataframe\">\n",
       "  <thead>\n",
       "    <tr style=\"text-align: right;\">\n",
       "      <th></th>\n",
       "      <th>total_sequences</th>\n",
       "      <th>percent_gc</th>\n",
       "      <th>min_sequence_length</th>\n",
       "      <th>max_sequence_length</th>\n",
       "      <th>status_module_0</th>\n",
       "      <th>status_module_1</th>\n",
       "      <th>status_module_2</th>\n",
       "      <th>status_module_3</th>\n",
       "      <th>status_module_4</th>\n",
       "      <th>status_module_5</th>\n",
       "      <th>status_module_6</th>\n",
       "      <th>status_module_7</th>\n",
       "      <th>status_module_8</th>\n",
       "      <th>status_module_9</th>\n",
       "      <th>status_module_10</th>\n",
       "    </tr>\n",
       "  </thead>\n",
       "  <tbody>\n",
       "    <tr>\n",
       "      <th>0</th>\n",
       "      <td>15187</td>\n",
       "      <td>37</td>\n",
       "      <td>35</td>\n",
       "      <td>301</td>\n",
       "      <td>2</td>\n",
       "      <td>2</td>\n",
       "      <td>1</td>\n",
       "      <td>2</td>\n",
       "      <td>0</td>\n",
       "      <td>2</td>\n",
       "      <td>2</td>\n",
       "      <td>1</td>\n",
       "      <td>2</td>\n",
       "      <td>2</td>\n",
       "      <td>2</td>\n",
       "    </tr>\n",
       "    <tr>\n",
       "      <th>1</th>\n",
       "      <td>733019</td>\n",
       "      <td>38</td>\n",
       "      <td>301</td>\n",
       "      <td>301</td>\n",
       "      <td>2</td>\n",
       "      <td>0</td>\n",
       "      <td>2</td>\n",
       "      <td>2</td>\n",
       "      <td>0</td>\n",
       "      <td>2</td>\n",
       "      <td>2</td>\n",
       "      <td>2</td>\n",
       "      <td>1</td>\n",
       "      <td>2</td>\n",
       "      <td>0</td>\n",
       "    </tr>\n",
       "    <tr>\n",
       "      <th>2</th>\n",
       "      <td>269263</td>\n",
       "      <td>38</td>\n",
       "      <td>35</td>\n",
       "      <td>301</td>\n",
       "      <td>2</td>\n",
       "      <td>1</td>\n",
       "      <td>2</td>\n",
       "      <td>2</td>\n",
       "      <td>0</td>\n",
       "      <td>2</td>\n",
       "      <td>2</td>\n",
       "      <td>1</td>\n",
       "      <td>2</td>\n",
       "      <td>2</td>\n",
       "      <td>2</td>\n",
       "    </tr>\n",
       "    <tr>\n",
       "      <th>3</th>\n",
       "      <td>265224</td>\n",
       "      <td>38</td>\n",
       "      <td>35</td>\n",
       "      <td>301</td>\n",
       "      <td>2</td>\n",
       "      <td>0</td>\n",
       "      <td>1</td>\n",
       "      <td>2</td>\n",
       "      <td>0</td>\n",
       "      <td>2</td>\n",
       "      <td>2</td>\n",
       "      <td>1</td>\n",
       "      <td>2</td>\n",
       "      <td>2</td>\n",
       "      <td>2</td>\n",
       "    </tr>\n",
       "    <tr>\n",
       "      <th>4</th>\n",
       "      <td>733019</td>\n",
       "      <td>39</td>\n",
       "      <td>301</td>\n",
       "      <td>301</td>\n",
       "      <td>2</td>\n",
       "      <td>0</td>\n",
       "      <td>2</td>\n",
       "      <td>2</td>\n",
       "      <td>0</td>\n",
       "      <td>2</td>\n",
       "      <td>2</td>\n",
       "      <td>2</td>\n",
       "      <td>1</td>\n",
       "      <td>2</td>\n",
       "      <td>0</td>\n",
       "    </tr>\n",
       "    <tr>\n",
       "      <th>...</th>\n",
       "      <td>...</td>\n",
       "      <td>...</td>\n",
       "      <td>...</td>\n",
       "      <td>...</td>\n",
       "      <td>...</td>\n",
       "      <td>...</td>\n",
       "      <td>...</td>\n",
       "      <td>...</td>\n",
       "      <td>...</td>\n",
       "      <td>...</td>\n",
       "      <td>...</td>\n",
       "      <td>...</td>\n",
       "      <td>...</td>\n",
       "      <td>...</td>\n",
       "      <td>...</td>\n",
       "    </tr>\n",
       "    <tr>\n",
       "      <th>83</th>\n",
       "      <td>1367226</td>\n",
       "      <td>38</td>\n",
       "      <td>35</td>\n",
       "      <td>251</td>\n",
       "      <td>2</td>\n",
       "      <td>2</td>\n",
       "      <td>2</td>\n",
       "      <td>2</td>\n",
       "      <td>0</td>\n",
       "      <td>2</td>\n",
       "      <td>2</td>\n",
       "      <td>1</td>\n",
       "      <td>0</td>\n",
       "      <td>1</td>\n",
       "      <td>2</td>\n",
       "    </tr>\n",
       "    <tr>\n",
       "      <th>84</th>\n",
       "      <td>1836688</td>\n",
       "      <td>39</td>\n",
       "      <td>35</td>\n",
       "      <td>251</td>\n",
       "      <td>2</td>\n",
       "      <td>2</td>\n",
       "      <td>2</td>\n",
       "      <td>2</td>\n",
       "      <td>0</td>\n",
       "      <td>2</td>\n",
       "      <td>2</td>\n",
       "      <td>1</td>\n",
       "      <td>0</td>\n",
       "      <td>2</td>\n",
       "      <td>2</td>\n",
       "    </tr>\n",
       "    <tr>\n",
       "      <th>85</th>\n",
       "      <td>799870</td>\n",
       "      <td>37</td>\n",
       "      <td>35</td>\n",
       "      <td>251</td>\n",
       "      <td>2</td>\n",
       "      <td>2</td>\n",
       "      <td>2</td>\n",
       "      <td>2</td>\n",
       "      <td>0</td>\n",
       "      <td>2</td>\n",
       "      <td>2</td>\n",
       "      <td>1</td>\n",
       "      <td>0</td>\n",
       "      <td>1</td>\n",
       "      <td>2</td>\n",
       "    </tr>\n",
       "    <tr>\n",
       "      <th>86</th>\n",
       "      <td>1369977</td>\n",
       "      <td>39</td>\n",
       "      <td>35</td>\n",
       "      <td>251</td>\n",
       "      <td>2</td>\n",
       "      <td>2</td>\n",
       "      <td>2</td>\n",
       "      <td>2</td>\n",
       "      <td>0</td>\n",
       "      <td>2</td>\n",
       "      <td>2</td>\n",
       "      <td>1</td>\n",
       "      <td>0</td>\n",
       "      <td>2</td>\n",
       "      <td>2</td>\n",
       "    </tr>\n",
       "    <tr>\n",
       "      <th>87</th>\n",
       "      <td>1369977</td>\n",
       "      <td>39</td>\n",
       "      <td>35</td>\n",
       "      <td>251</td>\n",
       "      <td>2</td>\n",
       "      <td>2</td>\n",
       "      <td>2</td>\n",
       "      <td>2</td>\n",
       "      <td>0</td>\n",
       "      <td>2</td>\n",
       "      <td>2</td>\n",
       "      <td>1</td>\n",
       "      <td>0</td>\n",
       "      <td>2</td>\n",
       "      <td>2</td>\n",
       "    </tr>\n",
       "  </tbody>\n",
       "</table>\n",
       "<p>88 rows × 15 columns</p>\n",
       "</div>"
      ],
      "text/plain": [
       "    total_sequences  percent_gc  min_sequence_length  max_sequence_length  \\\n",
       "0             15187          37                   35                  301   \n",
       "1            733019          38                  301                  301   \n",
       "2            269263          38                   35                  301   \n",
       "3            265224          38                   35                  301   \n",
       "4            733019          39                  301                  301   \n",
       "..              ...         ...                  ...                  ...   \n",
       "83          1367226          38                   35                  251   \n",
       "84          1836688          39                   35                  251   \n",
       "85           799870          37                   35                  251   \n",
       "86          1369977          39                   35                  251   \n",
       "87          1369977          39                   35                  251   \n",
       "\n",
       "    status_module_0  status_module_1  status_module_2  status_module_3  \\\n",
       "0                 2                2                1                2   \n",
       "1                 2                0                2                2   \n",
       "2                 2                1                2                2   \n",
       "3                 2                0                1                2   \n",
       "4                 2                0                2                2   \n",
       "..              ...              ...              ...              ...   \n",
       "83                2                2                2                2   \n",
       "84                2                2                2                2   \n",
       "85                2                2                2                2   \n",
       "86                2                2                2                2   \n",
       "87                2                2                2                2   \n",
       "\n",
       "    status_module_4  status_module_5  status_module_6  status_module_7  \\\n",
       "0                 0                2                2                1   \n",
       "1                 0                2                2                2   \n",
       "2                 0                2                2                1   \n",
       "3                 0                2                2                1   \n",
       "4                 0                2                2                2   \n",
       "..              ...              ...              ...              ...   \n",
       "83                0                2                2                1   \n",
       "84                0                2                2                1   \n",
       "85                0                2                2                1   \n",
       "86                0                2                2                1   \n",
       "87                0                2                2                1   \n",
       "\n",
       "    status_module_8  status_module_9  status_module_10  \n",
       "0                 2                2                 2  \n",
       "1                 1                2                 0  \n",
       "2                 2                2                 2  \n",
       "3                 2                2                 2  \n",
       "4                 1                2                 0  \n",
       "..              ...              ...               ...  \n",
       "83                0                1                 2  \n",
       "84                0                2                 2  \n",
       "85                0                1                 2  \n",
       "86                0                2                 2  \n",
       "87                0                2                 2  \n",
       "\n",
       "[88 rows x 15 columns]"
      ]
     },
     "execution_count": 7,
     "metadata": {},
     "output_type": "execute_result"
    }
   ],
   "source": [
    "ngs_reads.drop(columns=['organism', 'technology', 'read_number'], inplace=True)\n",
    "ngs_reads"
   ]
  },
  {
   "cell_type": "markdown",
   "id": "cbc9ad42",
   "metadata": {},
   "source": [
    "#### train-test split"
   ]
  },
  {
   "cell_type": "code",
   "execution_count": 8,
   "id": "93bbaa9f",
   "metadata": {},
   "outputs": [],
   "source": [
    "X_train, X_test, y_train, y_test = train_test_split(ngs_reads, target, test_size=0.3, random_state=109)"
   ]
  },
  {
   "cell_type": "markdown",
   "id": "7c5cf536",
   "metadata": {},
   "source": [
    "#### Confusion Matrix Heatmap Training Set"
   ]
  },
  {
   "cell_type": "code",
   "execution_count": 9,
   "id": "542d36bd",
   "metadata": {},
   "outputs": [
    {
     "data": {
      "text/plain": [
       "<AxesSubplot:>"
      ]
     },
     "execution_count": 9,
     "metadata": {},
     "output_type": "execute_result"
    },
    {
     "data": {
      "image/png": "[encoded data removed]",
      "text/plain": [
       "<Figure size 864x720 with 2 Axes>"
      ]
     },
     "metadata": {
      "needs_background": "light"
     },
     "output_type": "display_data"
    }
   ],
   "source": [
    "train = X_train.copy()\n",
    "train.loc[:, 'target'] = y_train.tolist()\n",
    "train\n",
    "\n",
    "corr_matrix = train.corr()\n",
    "\n",
    "mask = np.zeros_like(corr_matrix, dtype=bool)\n",
    "mask[np.triu_indices_from(mask)] = True\n",
    "\n",
    "f, ax = plt.subplots(figsize=(12, 10))\n",
    "cmap = sn.diverging_palette(220, 10, as_cmap=True)\n",
    "sn.heatmap(corr_matrix, mask=mask, cmap=cmap, center=0, square=True, linewidths=.5, cbar_kws={\"shrink\":.5})"
   ]
  },
  {
   "cell_type": "markdown",
   "id": "d2882b7a",
   "metadata": {},
   "source": [
    "#### Support Vector Machine Training"
   ]
  },
  {
   "cell_type": "code",
   "execution_count": 10,
   "id": "7124c4bd",
   "metadata": {},
   "outputs": [],
   "source": [
    "clf_svc = svm.SVC(kernel='linear')"
   ]
  },
  {
   "cell_type": "code",
   "execution_count": 11,
   "id": "65d211d5",
   "metadata": {},
   "outputs": [
    {
     "data": {
      "text/plain": [
       "SVC(kernel='linear')"
      ]
     },
     "execution_count": 11,
     "metadata": {},
     "output_type": "execute_result"
    }
   ],
   "source": [
    "clf_svc.fit(X_train, y_train)"
   ]
  },
  {
   "cell_type": "markdown",
   "id": "3d3477e6",
   "metadata": {},
   "source": [
    "##### SVM performance"
   ]
  },
  {
   "cell_type": "code",
   "execution_count": 12,
   "id": "054dad45",
   "metadata": {},
   "outputs": [
    {
     "name": "stdout",
     "output_type": "stream",
     "text": [
      "Accuracy: 0.7037037037037037\n",
      "Precision:  0.68\n",
      "Recall:  1.0\n",
      "F1 Score:  0.8095238095238095\n"
     ]
    }
   ],
   "source": [
    "y_pred=clf_svc.predict(X_test)\n",
    "print(\"Accuracy:\", metrics.accuracy_score(y_test, y_pred))\n",
    "print(\"Precision: \", metrics.precision_score(y_test, y_pred))\n",
    "print(\"Recall: \", metrics.recall_score(y_test, y_pred))\n",
    "print(\"F1 Score: \", metrics.f1_score(y_test, y_pred))"
   ]
  },
  {
   "cell_type": "code",
   "execution_count": 13,
   "id": "4d7e1dd5",
   "metadata": {},
   "outputs": [
    {
     "data": {
      "text/plain": [
       "<sklearn.metrics._plot.roc_curve.RocCurveDisplay at 0x21ef7b43c08>"
      ]
     },
     "execution_count": 13,
     "metadata": {},
     "output_type": "execute_result"
    },
    {
     "data": {
      "image/png": "[encoded data removed]",
      "text/plain": [
       "<Figure size 432x288 with 1 Axes>"
      ]
     },
     "metadata": {
      "needs_background": "light"
     },
     "output_type": "display_data"
    }
   ],
   "source": [
    "metrics.RocCurveDisplay.from_predictions(y_test, y_pred)"
   ]
  },
  {
   "cell_type": "markdown",
   "id": "0cb2777e",
   "metadata": {},
   "source": [
    "#### SVM with Cross Validation"
   ]
  },
  {
   "cell_type": "code",
   "execution_count": 14,
   "id": "c7b8c359",
   "metadata": {},
   "outputs": [
    {
     "name": "stdout",
     "output_type": "stream",
     "text": [
      "Accuracies:  [1.         1.         1.         0.94117647 1.        ]\n",
      "F1 Scores:  [1.         1.         1.         0.95238095 1.        ]\n",
      "Accuracy: 0.99 +/- 0.02\n",
      "F1 Score: 0.99 +/- 0.02\n"
     ]
    }
   ],
   "source": [
    "clf_svm_cv = RandomForestClassifier(n_estimators=100)\n",
    "scores = cross_validate(clf_svm_cv, ngs_reads, target, cv=5, \n",
    "                        scoring=('accuracy', 'f1'), return_train_score=True)\n",
    "print(\"Accuracies: \", scores['test_accuracy'])\n",
    "print(\"F1 Scores: \", scores['test_f1'])\n",
    "\n",
    "print(\"Accuracy: %0.2f +/- %0.2f\" % (scores['test_accuracy'].mean(), scores['test_accuracy'].std()))\n",
    "print(\"F1 Score: %0.2f +/- %0.2f\" % (scores['test_f1'].mean(), scores['test_f1'].std()))"
   ]
  },
  {
   "cell_type": "markdown",
   "id": "e920bcce",
   "metadata": {},
   "source": [
    "#### Decision Tree"
   ]
  },
  {
   "cell_type": "code",
   "execution_count": 15,
   "id": "4b39239e",
   "metadata": {},
   "outputs": [],
   "source": [
    "clf_dt = tree.DecisionTreeClassifier()\n",
    "clf_dt = clf_dt.fit(X_train, y_train)"
   ]
  },
  {
   "cell_type": "code",
   "execution_count": 16,
   "id": "6d571505",
   "metadata": {},
   "outputs": [
    {
     "name": "stdout",
     "output_type": "stream",
     "text": [
      "Accuracy: 0.9629629629629629\n",
      "Precision:  1.0\n",
      "Recall:  0.9411764705882353\n",
      "F1 Score:  0.9696969696969697\n"
     ]
    }
   ],
   "source": [
    "y_pred = clf_dt.predict(X_test)\n",
    "print(\"Accuracy:\", metrics.accuracy_score(y_test, y_pred))\n",
    "print(\"Precision: \", metrics.precision_score(y_test, y_pred))\n",
    "print(\"Recall: \", metrics.recall_score(y_test, y_pred))\n",
    "print(\"F1 Score: \", metrics.f1_score(y_test, y_pred))"
   ]
  },
  {
   "cell_type": "code",
   "execution_count": 17,
   "id": "2fc89816",
   "metadata": {},
   "outputs": [
    {
     "data": {
      "image/svg+xml": [
       "<?xml version=\"1.0\" encoding=\"UTF-8\" standalone=\"no\"?>\r\n",
       "<!DOCTYPE svg PUBLIC \"-//W3C//DTD SVG 1.1//EN\"\r\n",
       " \"http://www.w3.org/Graphics/SVG/1.1/DTD/svg11.dtd\">\r\n",
       "<!-- Generated by graphviz version 2.38.0 (20140413.2041)\r\n",
       " -->\r\n",
       "<!-- Title: Tree Pages: 1 -->\r\n",
       "<svg width=\"807pt\" height=\"552pt\"\r\n",
       " viewBox=\"0.00 0.00 806.50 552.00\" xmlns=\"http://www.w3.org/2000/svg\" xmlns:xlink=\"http://www.w3.org/1999/xlink\">\r\n",
       "<g id=\"graph0\" class=\"graph\" transform=\"scale(1 1) rotate(0) translate(4 548)\">\r\n",
       "<title>Tree</title>\r\n",
       "<polygon fill=\"white\" stroke=\"none\" points=\"-4,4 -4,-548 802.5,-548 802.5,4 -4,4\"/>\r\n",
       "<!-- 0 -->\r\n",
       "<g id=\"node1\" class=\"node\"><title>0</title>\r\n",
       "<path fill=\"#b9ddf6\" stroke=\"black\" d=\"M584.5,-544C584.5,-544 401.5,-544 401.5,-544 395.5,-544 389.5,-538 389.5,-532 389.5,-532 389.5,-473 389.5,-473 389.5,-467 395.5,-461 401.5,-461 401.5,-461 584.5,-461 584.5,-461 590.5,-461 596.5,-467 596.5,-473 596.5,-473 596.5,-532 596.5,-532 596.5,-538 590.5,-544 584.5,-544\"/>\r\n",
       "<text text-anchor=\"middle\" x=\"493\" y=\"-528.8\" font-family=\"Helvetica,sans-Serif\" font-size=\"14.00\">total_sequences &lt;= 771691.0</text>\r\n",
       "<text text-anchor=\"middle\" x=\"493\" y=\"-513.8\" font-family=\"Helvetica,sans-Serif\" font-size=\"14.00\">gini = 0.477</text>\r\n",
       "<text text-anchor=\"middle\" x=\"493\" y=\"-498.8\" font-family=\"Helvetica,sans-Serif\" font-size=\"14.00\">samples = 61</text>\r\n",
       "<text text-anchor=\"middle\" x=\"493\" y=\"-483.8\" font-family=\"Helvetica,sans-Serif\" font-size=\"14.00\">value = [24, 37]</text>\r\n",
       "<text text-anchor=\"middle\" x=\"493\" y=\"-468.8\" font-family=\"Helvetica,sans-Serif\" font-size=\"14.00\">class = good</text>\r\n",
       "</g>\r\n",
       "<!-- 1 -->\r\n",
       "<g id=\"node2\" class=\"node\"><title>1</title>\r\n",
       "<path fill=\"#e88f4f\" stroke=\"black\" d=\"M460,-425C460,-425 314,-425 314,-425 308,-425 302,-419 302,-413 302,-413 302,-354 302,-354 302,-348 308,-342 314,-342 314,-342 460,-342 460,-342 466,-342 472,-348 472,-354 472,-354 472,-413 472,-413 472,-419 466,-425 460,-425\"/>\r\n",
       "<text text-anchor=\"middle\" x=\"387\" y=\"-409.8\" font-family=\"Helvetica,sans-Serif\" font-size=\"14.00\">status_module_9 &lt;= 1.5</text>\r\n",
       "<text text-anchor=\"middle\" x=\"387\" y=\"-394.8\" font-family=\"Helvetica,sans-Serif\" font-size=\"14.00\">gini = 0.18</text>\r\n",
       "<text text-anchor=\"middle\" x=\"387\" y=\"-379.8\" font-family=\"Helvetica,sans-Serif\" font-size=\"14.00\">samples = 20</text>\r\n",
       "<text text-anchor=\"middle\" x=\"387\" y=\"-364.8\" font-family=\"Helvetica,sans-Serif\" font-size=\"14.00\">value = [18, 2]</text>\r\n",
       "<text text-anchor=\"middle\" x=\"387\" y=\"-349.8\" font-family=\"Helvetica,sans-Serif\" font-size=\"14.00\">class = ugly</text>\r\n",
       "</g>\r\n",
       "<!-- 0&#45;&gt;1 -->\r\n",
       "<g id=\"edge1\" class=\"edge\"><title>0&#45;&gt;1</title>\r\n",
       "<path fill=\"none\" stroke=\"black\" d=\"M456.224,-460.907C447.92,-451.742 439.028,-441.927 430.477,-432.489\"/>\r\n",
       "<polygon fill=\"black\" stroke=\"black\" points=\"433.019,-430.082 423.711,-425.021 427.831,-434.782 433.019,-430.082\"/>\r\n",
       "<text text-anchor=\"middle\" x=\"422.479\" y=\"-446.29\" font-family=\"Helvetica,sans-Serif\" font-size=\"14.00\">True</text>\r\n",
       "</g>\r\n",
       "<!-- 10 -->\r\n",
       "<g id=\"node11\" class=\"node\"><title>10</title>\r\n",
       "<path fill=\"#5baee9\" stroke=\"black\" d=\"M696,-425C696,-425 502,-425 502,-425 496,-425 490,-419 490,-413 490,-413 490,-354 490,-354 490,-348 496,-342 502,-342 502,-342 696,-342 696,-342 702,-342 708,-348 708,-354 708,-354 708,-413 708,-413 708,-419 702,-425 696,-425\"/>\r\n",
       "<text text-anchor=\"middle\" x=\"599\" y=\"-409.8\" font-family=\"Helvetica,sans-Serif\" font-size=\"14.00\">min_sequence_length &lt;= 143.0</text>\r\n",
       "<text text-anchor=\"middle\" x=\"599\" y=\"-394.8\" font-family=\"Helvetica,sans-Serif\" font-size=\"14.00\">gini = 0.25</text>\r\n",
       "<text text-anchor=\"middle\" x=\"599\" y=\"-379.8\" font-family=\"Helvetica,sans-Serif\" font-size=\"14.00\">samples = 41</text>\r\n",
       "<text text-anchor=\"middle\" x=\"599\" y=\"-364.8\" font-family=\"Helvetica,sans-Serif\" font-size=\"14.00\">value = [6, 35]</text>\r\n",
       "<text text-anchor=\"middle\" x=\"599\" y=\"-349.8\" font-family=\"Helvetica,sans-Serif\" font-size=\"14.00\">class = good</text>\r\n",
       "</g>\r\n",
       "<!-- 0&#45;&gt;10 -->\r\n",
       "<g id=\"edge10\" class=\"edge\"><title>0&#45;&gt;10</title>\r\n",
       "<path fill=\"none\" stroke=\"black\" d=\"M529.776,-460.907C538.08,-451.742 546.972,-441.927 555.523,-432.489\"/>\r\n",
       "<polygon fill=\"black\" stroke=\"black\" points=\"558.169,-434.782 562.289,-425.021 552.981,-430.082 558.169,-434.782\"/>\r\n",
       "<text text-anchor=\"middle\" x=\"563.521\" y=\"-446.29\" font-family=\"Helvetica,sans-Serif\" font-size=\"14.00\">False</text>\r\n",
       "</g>\r\n",
       "<!-- 2 -->\r\n",
       "<g id=\"node3\" class=\"node\"><title>2</title>\r\n",
       "<path fill=\"#ffffff\" stroke=\"black\" d=\"M255.5,-306C255.5,-306 72.5,-306 72.5,-306 66.5,-306 60.5,-300 60.5,-294 60.5,-294 60.5,-235 60.5,-235 60.5,-229 66.5,-223 72.5,-223 72.5,-223 255.5,-223 255.5,-223 261.5,-223 267.5,-229 267.5,-235 267.5,-235 267.5,-294 267.5,-294 267.5,-300 261.5,-306 255.5,-306\"/>\r\n",
       "<text text-anchor=\"middle\" x=\"164\" y=\"-290.8\" font-family=\"Helvetica,sans-Serif\" font-size=\"14.00\">total_sequences &lt;= 677445.5</text>\r\n",
       "<text text-anchor=\"middle\" x=\"164\" y=\"-275.8\" font-family=\"Helvetica,sans-Serif\" font-size=\"14.00\">gini = 0.5</text>\r\n",
       "<text text-anchor=\"middle\" x=\"164\" y=\"-260.8\" font-family=\"Helvetica,sans-Serif\" font-size=\"14.00\">samples = 2</text>\r\n",
       "<text text-anchor=\"middle\" x=\"164\" y=\"-245.8\" font-family=\"Helvetica,sans-Serif\" font-size=\"14.00\">value = [1, 1]</text>\r\n",
       "<text text-anchor=\"middle\" x=\"164\" y=\"-230.8\" font-family=\"Helvetica,sans-Serif\" font-size=\"14.00\">class = ugly</text>\r\n",
       "</g>\r\n",
       "<!-- 1&#45;&gt;2 -->\r\n",
       "<g id=\"edge2\" class=\"edge\"><title>1&#45;&gt;2</title>\r\n",
       "<path fill=\"none\" stroke=\"black\" d=\"M309.631,-341.907C290.432,-331.834 269.738,-320.977 250.146,-310.698\"/>\r\n",
       "<polygon fill=\"black\" stroke=\"black\" points=\"251.713,-307.568 241.232,-306.021 248.461,-313.766 251.713,-307.568\"/>\r\n",
       "</g>\r\n",
       "<!-- 5 -->\r\n",
       "<g id=\"node6\" class=\"node\"><title>5</title>\r\n",
       "<path fill=\"#e78845\" stroke=\"black\" d=\"M480.5,-306C480.5,-306 297.5,-306 297.5,-306 291.5,-306 285.5,-300 285.5,-294 285.5,-294 285.5,-235 285.5,-235 285.5,-229 291.5,-223 297.5,-223 297.5,-223 480.5,-223 480.5,-223 486.5,-223 492.5,-229 492.5,-235 492.5,-235 492.5,-294 492.5,-294 492.5,-300 486.5,-306 480.5,-306\"/>\r\n",
       "<text text-anchor=\"middle\" x=\"389\" y=\"-290.8\" font-family=\"Helvetica,sans-Serif\" font-size=\"14.00\">total_sequences &lt;= 703611.5</text>\r\n",
       "<text text-anchor=\"middle\" x=\"389\" y=\"-275.8\" font-family=\"Helvetica,sans-Serif\" font-size=\"14.00\">gini = 0.105</text>\r\n",
       "<text text-anchor=\"middle\" x=\"389\" y=\"-260.8\" font-family=\"Helvetica,sans-Serif\" font-size=\"14.00\">samples = 18</text>\r\n",
       "<text text-anchor=\"middle\" x=\"389\" y=\"-245.8\" font-family=\"Helvetica,sans-Serif\" font-size=\"14.00\">value = [17, 1]</text>\r\n",
       "<text text-anchor=\"middle\" x=\"389\" y=\"-230.8\" font-family=\"Helvetica,sans-Serif\" font-size=\"14.00\">class = ugly</text>\r\n",
       "</g>\r\n",
       "<!-- 1&#45;&gt;5 -->\r\n",
       "<g id=\"edge5\" class=\"edge\"><title>1&#45;&gt;5</title>\r\n",
       "<path fill=\"none\" stroke=\"black\" d=\"M387.694,-341.907C387.837,-333.558 387.989,-324.671 388.136,-316.02\"/>\r\n",
       "<polygon fill=\"black\" stroke=\"black\" points=\"391.636,-316.079 388.307,-306.021 384.637,-315.959 391.636,-316.079\"/>\r\n",
       "</g>\r\n",
       "<!-- 3 -->\r\n",
       "<g id=\"node4\" class=\"node\"><title>3</title>\r\n",
       "<path fill=\"#399de5\" stroke=\"black\" d=\"M86,-179.5C86,-179.5 12,-179.5 12,-179.5 6,-179.5 0,-173.5 0,-167.5 0,-167.5 0,-123.5 0,-123.5 0,-117.5 6,-111.5 12,-111.5 12,-111.5 86,-111.5 86,-111.5 92,-111.5 98,-117.5 98,-123.5 98,-123.5 98,-167.5 98,-167.5 98,-173.5 92,-179.5 86,-179.5\"/>\r\n",
       "<text text-anchor=\"middle\" x=\"49\" y=\"-164.3\" font-family=\"Helvetica,sans-Serif\" font-size=\"14.00\">gini = 0.0</text>\r\n",
       "<text text-anchor=\"middle\" x=\"49\" y=\"-149.3\" font-family=\"Helvetica,sans-Serif\" font-size=\"14.00\">samples = 1</text>\r\n",
       "<text text-anchor=\"middle\" x=\"49\" y=\"-134.3\" font-family=\"Helvetica,sans-Serif\" font-size=\"14.00\">value = [0, 1]</text>\r\n",
       "<text text-anchor=\"middle\" x=\"49\" y=\"-119.3\" font-family=\"Helvetica,sans-Serif\" font-size=\"14.00\">class = good</text>\r\n",
       "</g>\r\n",
       "<!-- 2&#45;&gt;3 -->\r\n",
       "<g id=\"edge3\" class=\"edge\"><title>2&#45;&gt;3</title>\r\n",
       "<path fill=\"none\" stroke=\"black\" d=\"M124.101,-222.907C112.713,-211.321 100.306,-198.698 88.9163,-187.111\"/>\r\n",
       "<polygon fill=\"black\" stroke=\"black\" points=\"91.106,-184.345 81.6,-179.667 86.1137,-189.252 91.106,-184.345\"/>\r\n",
       "</g>\r\n",
       "<!-- 4 -->\r\n",
       "<g id=\"node5\" class=\"node\"><title>4</title>\r\n",
       "<path fill=\"#e58139\" stroke=\"black\" d=\"M201.5,-179.5C201.5,-179.5 128.5,-179.5 128.5,-179.5 122.5,-179.5 116.5,-173.5 116.5,-167.5 116.5,-167.5 116.5,-123.5 116.5,-123.5 116.5,-117.5 122.5,-111.5 128.5,-111.5 128.5,-111.5 201.5,-111.5 201.5,-111.5 207.5,-111.5 213.5,-117.5 213.5,-123.5 213.5,-123.5 213.5,-167.5 213.5,-167.5 213.5,-173.5 207.5,-179.5 201.5,-179.5\"/>\r\n",
       "<text text-anchor=\"middle\" x=\"165\" y=\"-164.3\" font-family=\"Helvetica,sans-Serif\" font-size=\"14.00\">gini = 0.0</text>\r\n",
       "<text text-anchor=\"middle\" x=\"165\" y=\"-149.3\" font-family=\"Helvetica,sans-Serif\" font-size=\"14.00\">samples = 1</text>\r\n",
       "<text text-anchor=\"middle\" x=\"165\" y=\"-134.3\" font-family=\"Helvetica,sans-Serif\" font-size=\"14.00\">value = [1, 0]</text>\r\n",
       "<text text-anchor=\"middle\" x=\"165\" y=\"-119.3\" font-family=\"Helvetica,sans-Serif\" font-size=\"14.00\">class = ugly</text>\r\n",
       "</g>\r\n",
       "<!-- 2&#45;&gt;4 -->\r\n",
       "<g id=\"edge4\" class=\"edge\"><title>2&#45;&gt;4</title>\r\n",
       "<path fill=\"none\" stroke=\"black\" d=\"M164.347,-222.907C164.438,-212.204 164.537,-200.615 164.63,-189.776\"/>\r\n",
       "<polygon fill=\"black\" stroke=\"black\" points=\"168.131,-189.697 164.717,-179.667 161.131,-189.637 168.131,-189.697\"/>\r\n",
       "</g>\r\n",
       "<!-- 6 -->\r\n",
       "<g id=\"node7\" class=\"node\"><title>6</title>\r\n",
       "<path fill=\"#e58139\" stroke=\"black\" d=\"M327.5,-179.5C327.5,-179.5 246.5,-179.5 246.5,-179.5 240.5,-179.5 234.5,-173.5 234.5,-167.5 234.5,-167.5 234.5,-123.5 234.5,-123.5 234.5,-117.5 240.5,-111.5 246.5,-111.5 246.5,-111.5 327.5,-111.5 327.5,-111.5 333.5,-111.5 339.5,-117.5 339.5,-123.5 339.5,-123.5 339.5,-167.5 339.5,-167.5 339.5,-173.5 333.5,-179.5 327.5,-179.5\"/>\r\n",
       "<text text-anchor=\"middle\" x=\"287\" y=\"-164.3\" font-family=\"Helvetica,sans-Serif\" font-size=\"14.00\">gini = 0.0</text>\r\n",
       "<text text-anchor=\"middle\" x=\"287\" y=\"-149.3\" font-family=\"Helvetica,sans-Serif\" font-size=\"14.00\">samples = 13</text>\r\n",
       "<text text-anchor=\"middle\" x=\"287\" y=\"-134.3\" font-family=\"Helvetica,sans-Serif\" font-size=\"14.00\">value = [13, 0]</text>\r\n",
       "<text text-anchor=\"middle\" x=\"287\" y=\"-119.3\" font-family=\"Helvetica,sans-Serif\" font-size=\"14.00\">class = ugly</text>\r\n",
       "</g>\r\n",
       "<!-- 5&#45;&gt;6 -->\r\n",
       "<g id=\"edge6\" class=\"edge\"><title>5&#45;&gt;6</title>\r\n",
       "<path fill=\"none\" stroke=\"black\" d=\"M353.612,-222.907C343.607,-211.432 332.715,-198.938 322.693,-187.442\"/>\r\n",
       "<polygon fill=\"black\" stroke=\"black\" points=\"325.124,-184.905 315.915,-179.667 319.848,-189.505 325.124,-184.905\"/>\r\n",
       "</g>\r\n",
       "<!-- 7 -->\r\n",
       "<g id=\"node8\" class=\"node\"><title>7</title>\r\n",
       "<path fill=\"#eca06a\" stroke=\"black\" d=\"M516,-187C516,-187 370,-187 370,-187 364,-187 358,-181 358,-175 358,-175 358,-116 358,-116 358,-110 364,-104 370,-104 370,-104 516,-104 516,-104 522,-104 528,-110 528,-116 528,-116 528,-175 528,-175 528,-181 522,-187 516,-187\"/>\r\n",
       "<text text-anchor=\"middle\" x=\"443\" y=\"-171.8\" font-family=\"Helvetica,sans-Serif\" font-size=\"14.00\">status_module_1 &lt;= 1.0</text>\r\n",
       "<text text-anchor=\"middle\" x=\"443\" y=\"-156.8\" font-family=\"Helvetica,sans-Serif\" font-size=\"14.00\">gini = 0.32</text>\r\n",
       "<text text-anchor=\"middle\" x=\"443\" y=\"-141.8\" font-family=\"Helvetica,sans-Serif\" font-size=\"14.00\">samples = 5</text>\r\n",
       "<text text-anchor=\"middle\" x=\"443\" y=\"-126.8\" font-family=\"Helvetica,sans-Serif\" font-size=\"14.00\">value = [4, 1]</text>\r\n",
       "<text text-anchor=\"middle\" x=\"443\" y=\"-111.8\" font-family=\"Helvetica,sans-Serif\" font-size=\"14.00\">class = ugly</text>\r\n",
       "</g>\r\n",
       "<!-- 5&#45;&gt;7 -->\r\n",
       "<g id=\"edge7\" class=\"edge\"><title>5&#45;&gt;7</title>\r\n",
       "<path fill=\"none\" stroke=\"black\" d=\"M407.735,-222.907C411.714,-214.286 415.958,-205.09 420.073,-196.175\"/>\r\n",
       "<polygon fill=\"black\" stroke=\"black\" points=\"423.285,-197.567 424.298,-187.021 416.93,-194.634 423.285,-197.567\"/>\r\n",
       "</g>\r\n",
       "<!-- 8 -->\r\n",
       "<g id=\"node9\" class=\"node\"><title>8</title>\r\n",
       "<path fill=\"#e58139\" stroke=\"black\" d=\"M421.5,-68C421.5,-68 348.5,-68 348.5,-68 342.5,-68 336.5,-62 336.5,-56 336.5,-56 336.5,-12 336.5,-12 336.5,-6 342.5,-0 348.5,-0 348.5,-0 421.5,-0 421.5,-0 427.5,-0 433.5,-6 433.5,-12 433.5,-12 433.5,-56 433.5,-56 433.5,-62 427.5,-68 421.5,-68\"/>\r\n",
       "<text text-anchor=\"middle\" x=\"385\" y=\"-52.8\" font-family=\"Helvetica,sans-Serif\" font-size=\"14.00\">gini = 0.0</text>\r\n",
       "<text text-anchor=\"middle\" x=\"385\" y=\"-37.8\" font-family=\"Helvetica,sans-Serif\" font-size=\"14.00\">samples = 4</text>\r\n",
       "<text text-anchor=\"middle\" x=\"385\" y=\"-22.8\" font-family=\"Helvetica,sans-Serif\" font-size=\"14.00\">value = [4, 0]</text>\r\n",
       "<text text-anchor=\"middle\" x=\"385\" y=\"-7.8\" font-family=\"Helvetica,sans-Serif\" font-size=\"14.00\">class = ugly</text>\r\n",
       "</g>\r\n",
       "<!-- 7&#45;&gt;8 -->\r\n",
       "<g id=\"edge8\" class=\"edge\"><title>7&#45;&gt;8</title>\r\n",
       "<path fill=\"none\" stroke=\"black\" d=\"M421.403,-103.726C416.813,-95.0615 411.959,-85.8962 407.342,-77.1802\"/>\r\n",
       "<polygon fill=\"black\" stroke=\"black\" points=\"410.412,-75.4982 402.638,-68.2996 404.226,-78.7748 410.412,-75.4982\"/>\r\n",
       "</g>\r\n",
       "<!-- 9 -->\r\n",
       "<g id=\"node10\" class=\"node\"><title>9</title>\r\n",
       "<path fill=\"#399de5\" stroke=\"black\" d=\"M538,-68C538,-68 464,-68 464,-68 458,-68 452,-62 452,-56 452,-56 452,-12 452,-12 452,-6 458,-0 464,-0 464,-0 538,-0 538,-0 544,-0 550,-6 550,-12 550,-12 550,-56 550,-56 550,-62 544,-68 538,-68\"/>\r\n",
       "<text text-anchor=\"middle\" x=\"501\" y=\"-52.8\" font-family=\"Helvetica,sans-Serif\" font-size=\"14.00\">gini = 0.0</text>\r\n",
       "<text text-anchor=\"middle\" x=\"501\" y=\"-37.8\" font-family=\"Helvetica,sans-Serif\" font-size=\"14.00\">samples = 1</text>\r\n",
       "<text text-anchor=\"middle\" x=\"501\" y=\"-22.8\" font-family=\"Helvetica,sans-Serif\" font-size=\"14.00\">value = [0, 1]</text>\r\n",
       "<text text-anchor=\"middle\" x=\"501\" y=\"-7.8\" font-family=\"Helvetica,sans-Serif\" font-size=\"14.00\">class = good</text>\r\n",
       "</g>\r\n",
       "<!-- 7&#45;&gt;9 -->\r\n",
       "<g id=\"edge9\" class=\"edge\"><title>7&#45;&gt;9</title>\r\n",
       "<path fill=\"none\" stroke=\"black\" d=\"M464.597,-103.726C469.187,-95.0615 474.041,-85.8962 478.658,-77.1802\"/>\r\n",
       "<polygon fill=\"black\" stroke=\"black\" points=\"481.774,-78.7748 483.362,-68.2996 475.588,-75.4982 481.774,-78.7748\"/>\r\n",
       "</g>\r\n",
       "<!-- 11 -->\r\n",
       "<g id=\"node12\" class=\"node\"><title>11</title>\r\n",
       "<path fill=\"#4aa5e7\" stroke=\"black\" d=\"M671,-306C671,-306 525,-306 525,-306 519,-306 513,-300 513,-294 513,-294 513,-235 513,-235 513,-229 519,-223 525,-223 525,-223 671,-223 671,-223 677,-223 683,-229 683,-235 683,-235 683,-294 683,-294 683,-300 677,-306 671,-306\"/>\r\n",
       "<text text-anchor=\"middle\" x=\"598\" y=\"-290.8\" font-family=\"Helvetica,sans-Serif\" font-size=\"14.00\">status_module_1 &lt;= 0.5</text>\r\n",
       "<text text-anchor=\"middle\" x=\"598\" y=\"-275.8\" font-family=\"Helvetica,sans-Serif\" font-size=\"14.00\">gini = 0.145</text>\r\n",
       "<text text-anchor=\"middle\" x=\"598\" y=\"-260.8\" font-family=\"Helvetica,sans-Serif\" font-size=\"14.00\">samples = 38</text>\r\n",
       "<text text-anchor=\"middle\" x=\"598\" y=\"-245.8\" font-family=\"Helvetica,sans-Serif\" font-size=\"14.00\">value = [3, 35]</text>\r\n",
       "<text text-anchor=\"middle\" x=\"598\" y=\"-230.8\" font-family=\"Helvetica,sans-Serif\" font-size=\"14.00\">class = good</text>\r\n",
       "</g>\r\n",
       "<!-- 10&#45;&gt;11 -->\r\n",
       "<g id=\"edge11\" class=\"edge\"><title>10&#45;&gt;11</title>\r\n",
       "<path fill=\"none\" stroke=\"black\" d=\"M598.653,-341.907C598.582,-333.649 598.507,-324.864 598.434,-316.302\"/>\r\n",
       "<polygon fill=\"black\" stroke=\"black\" points=\"601.932,-315.99 598.346,-306.021 594.932,-316.05 601.932,-315.99\"/>\r\n",
       "</g>\r\n",
       "<!-- 14 -->\r\n",
       "<g id=\"node15\" class=\"node\"><title>14</title>\r\n",
       "<path fill=\"#e58139\" stroke=\"black\" d=\"M786.5,-298.5C786.5,-298.5 713.5,-298.5 713.5,-298.5 707.5,-298.5 701.5,-292.5 701.5,-286.5 701.5,-286.5 701.5,-242.5 701.5,-242.5 701.5,-236.5 707.5,-230.5 713.5,-230.5 713.5,-230.5 786.5,-230.5 786.5,-230.5 792.5,-230.5 798.5,-236.5 798.5,-242.5 798.5,-242.5 798.5,-286.5 798.5,-286.5 798.5,-292.5 792.5,-298.5 786.5,-298.5\"/>\r\n",
       "<text text-anchor=\"middle\" x=\"750\" y=\"-283.3\" font-family=\"Helvetica,sans-Serif\" font-size=\"14.00\">gini = 0.0</text>\r\n",
       "<text text-anchor=\"middle\" x=\"750\" y=\"-268.3\" font-family=\"Helvetica,sans-Serif\" font-size=\"14.00\">samples = 3</text>\r\n",
       "<text text-anchor=\"middle\" x=\"750\" y=\"-253.3\" font-family=\"Helvetica,sans-Serif\" font-size=\"14.00\">value = [3, 0]</text>\r\n",
       "<text text-anchor=\"middle\" x=\"750\" y=\"-238.3\" font-family=\"Helvetica,sans-Serif\" font-size=\"14.00\">class = ugly</text>\r\n",
       "</g>\r\n",
       "<!-- 10&#45;&gt;14 -->\r\n",
       "<g id=\"edge14\" class=\"edge\"><title>10&#45;&gt;14</title>\r\n",
       "<path fill=\"none\" stroke=\"black\" d=\"M651.389,-341.907C666.769,-329.99 683.566,-316.976 698.867,-305.12\"/>\r\n",
       "<polygon fill=\"black\" stroke=\"black\" points=\"701.434,-307.559 707.195,-298.667 697.146,-302.025 701.434,-307.559\"/>\r\n",
       "</g>\r\n",
       "<!-- 12 -->\r\n",
       "<g id=\"node13\" class=\"node\"><title>12</title>\r\n",
       "<path fill=\"#e58139\" stroke=\"black\" d=\"M633.5,-179.5C633.5,-179.5 560.5,-179.5 560.5,-179.5 554.5,-179.5 548.5,-173.5 548.5,-167.5 548.5,-167.5 548.5,-123.5 548.5,-123.5 548.5,-117.5 554.5,-111.5 560.5,-111.5 560.5,-111.5 633.5,-111.5 633.5,-111.5 639.5,-111.5 645.5,-117.5 645.5,-123.5 645.5,-123.5 645.5,-167.5 645.5,-167.5 645.5,-173.5 639.5,-179.5 633.5,-179.5\"/>\r\n",
       "<text text-anchor=\"middle\" x=\"597\" y=\"-164.3\" font-family=\"Helvetica,sans-Serif\" font-size=\"14.00\">gini = 0.0</text>\r\n",
       "<text text-anchor=\"middle\" x=\"597\" y=\"-149.3\" font-family=\"Helvetica,sans-Serif\" font-size=\"14.00\">samples = 3</text>\r\n",
       "<text text-anchor=\"middle\" x=\"597\" y=\"-134.3\" font-family=\"Helvetica,sans-Serif\" font-size=\"14.00\">value = [3, 0]</text>\r\n",
       "<text text-anchor=\"middle\" x=\"597\" y=\"-119.3\" font-family=\"Helvetica,sans-Serif\" font-size=\"14.00\">class = ugly</text>\r\n",
       "</g>\r\n",
       "<!-- 11&#45;&gt;12 -->\r\n",
       "<g id=\"edge12\" class=\"edge\"><title>11&#45;&gt;12</title>\r\n",
       "<path fill=\"none\" stroke=\"black\" d=\"M597.653,-222.907C597.562,-212.204 597.463,-200.615 597.37,-189.776\"/>\r\n",
       "<polygon fill=\"black\" stroke=\"black\" points=\"600.869,-189.637 597.283,-179.667 593.869,-189.697 600.869,-189.637\"/>\r\n",
       "</g>\r\n",
       "<!-- 13 -->\r\n",
       "<g id=\"node14\" class=\"node\"><title>13</title>\r\n",
       "<path fill=\"#399de5\" stroke=\"black\" d=\"M756.5,-179.5C756.5,-179.5 675.5,-179.5 675.5,-179.5 669.5,-179.5 663.5,-173.5 663.5,-167.5 663.5,-167.5 663.5,-123.5 663.5,-123.5 663.5,-117.5 669.5,-111.5 675.5,-111.5 675.5,-111.5 756.5,-111.5 756.5,-111.5 762.5,-111.5 768.5,-117.5 768.5,-123.5 768.5,-123.5 768.5,-167.5 768.5,-167.5 768.5,-173.5 762.5,-179.5 756.5,-179.5\"/>\r\n",
       "<text text-anchor=\"middle\" x=\"716\" y=\"-164.3\" font-family=\"Helvetica,sans-Serif\" font-size=\"14.00\">gini = 0.0</text>\r\n",
       "<text text-anchor=\"middle\" x=\"716\" y=\"-149.3\" font-family=\"Helvetica,sans-Serif\" font-size=\"14.00\">samples = 35</text>\r\n",
       "<text text-anchor=\"middle\" x=\"716\" y=\"-134.3\" font-family=\"Helvetica,sans-Serif\" font-size=\"14.00\">value = [0, 35]</text>\r\n",
       "<text text-anchor=\"middle\" x=\"716\" y=\"-119.3\" font-family=\"Helvetica,sans-Serif\" font-size=\"14.00\">class = good</text>\r\n",
       "</g>\r\n",
       "<!-- 11&#45;&gt;13 -->\r\n",
       "<g id=\"edge13\" class=\"edge\"><title>11&#45;&gt;13</title>\r\n",
       "<path fill=\"none\" stroke=\"black\" d=\"M638.94,-222.907C650.736,-211.211 663.599,-198.457 675.376,-186.78\"/>\r\n",
       "<polygon fill=\"black\" stroke=\"black\" points=\"677.913,-189.193 682.55,-179.667 672.984,-184.222 677.913,-189.193\"/>\r\n",
       "</g>\r\n",
       "</g>\r\n",
       "</svg>\r\n"
      ],
      "text/plain": [
       "<graphviz.files.Source at 0x21ef791f988>"
      ]
     },
     "execution_count": 17,
     "metadata": {},
     "output_type": "execute_result"
    }
   ],
   "source": [
    "dot_data = tree.export_graphviz(clf_dt, out_file=None,\n",
    "                               feature_names = X_train.columns,\n",
    "                                class_names = [\"ugly\", \"good\"],\n",
    "                               filled=True, rounded=True) \n",
    "graph = graphviz.Source(dot_data)\n",
    "graph"
   ]
  },
  {
   "cell_type": "markdown",
   "id": "b8f4f35c",
   "metadata": {},
   "source": [
    "#### Random Forest Training"
   ]
  },
  {
   "cell_type": "code",
   "execution_count": 18,
   "id": "0a3217ad",
   "metadata": {},
   "outputs": [],
   "source": [
    "clf_rf=RandomForestClassifier(n_estimators=100, verbose=True)"
   ]
  },
  {
   "cell_type": "code",
   "execution_count": 19,
   "id": "994fd418",
   "metadata": {},
   "outputs": [
    {
     "name": "stderr",
     "output_type": "stream",
     "text": [
      "[Parallel(n_jobs=1)]: Using backend SequentialBackend with 1 concurrent workers.\n",
      "[Parallel(n_jobs=1)]: Done 100 out of 100 | elapsed:    0.0s finished\n"
     ]
    },
    {
     "data": {
      "text/plain": [
       "RandomForestClassifier(verbose=True)"
      ]
     },
     "execution_count": 19,
     "metadata": {},
     "output_type": "execute_result"
    }
   ],
   "source": [
    "clf_rf.fit(X_train,y_train)"
   ]
  },
  {
   "cell_type": "markdown",
   "id": "282760f3",
   "metadata": {},
   "source": [
    "##### Random Forest performance"
   ]
  },
  {
   "cell_type": "code",
   "execution_count": 20,
   "id": "6204d310",
   "metadata": {},
   "outputs": [
    {
     "name": "stdout",
     "output_type": "stream",
     "text": [
      "Accuracy: 1.0\n",
      "Precision:  1.0\n",
      "Recall:  1.0\n",
      "F1 Score:  1.0\n"
     ]
    },
    {
     "name": "stderr",
     "output_type": "stream",
     "text": [
      "[Parallel(n_jobs=1)]: Using backend SequentialBackend with 1 concurrent workers.\n",
      "[Parallel(n_jobs=1)]: Done 100 out of 100 | elapsed:    0.0s finished\n"
     ]
    }
   ],
   "source": [
    "y_pred = clf_rf.predict(X_test)\n",
    "print(\"Accuracy:\", metrics.accuracy_score(y_test, y_pred))\n",
    "print(\"Precision: \", metrics.precision_score(y_test, y_pred))\n",
    "print(\"Recall: \", metrics.recall_score(y_test, y_pred))\n",
    "print(\"F1 Score: \", metrics.f1_score(y_test, y_pred))"
   ]
  },
  {
   "cell_type": "code",
   "execution_count": 21,
   "id": "89d0ad1f",
   "metadata": {},
   "outputs": [
    {
     "data": {
      "text/plain": [
       "<sklearn.metrics._plot.roc_curve.RocCurveDisplay at 0x21ef79d8d88>"
      ]
     },
     "execution_count": 21,
     "metadata": {},
     "output_type": "execute_result"
    },
    {
     "data": {
      "image/png": "[encoded data removed]",
      "text/plain": [
       "<Figure size 432x288 with 1 Axes>"
      ]
     },
     "metadata": {
      "needs_background": "light"
     },
     "output_type": "display_data"
    }
   ],
   "source": [
    "metrics.RocCurveDisplay.from_predictions(y_test, y_pred)"
   ]
  },
  {
   "cell_type": "markdown",
   "id": "f136fa73",
   "metadata": {},
   "source": [
    "#### Feature Importance Random Forest"
   ]
  },
  {
   "cell_type": "code",
   "execution_count": 22,
   "id": "d8fe8abe",
   "metadata": {},
   "outputs": [
    {
     "data": {
      "text/plain": [
       "Text(0.5, 0, 'Relative Importance')"
      ]
     },
     "execution_count": 22,
     "metadata": {},
     "output_type": "execute_result"
    },
    {
     "data": {
      "image/png": "[encoded data removed]",
      "text/plain": [
       "<Figure size 432x288 with 1 Axes>"
      ]
     },
     "metadata": {
      "needs_background": "light"
     },
     "output_type": "display_data"
    }
   ],
   "source": [
    "importances = clf_rf.feature_importances_\n",
    "indices = np.argsort(importances)\n",
    "\n",
    "plt.figure(1)\n",
    "plt.title('Feature Importances')\n",
    "plt.barh(range(len(indices)), importances[indices], color='b', align='center')\n",
    "plt.yticks(range(len(indices)), X_train.columns[indices])\n",
    "plt.xlabel('Relative Importance')"
   ]
  },
  {
   "cell_type": "markdown",
   "id": "44d4f5eb",
   "metadata": {},
   "source": [
    "#### Random Forest with Cross Validation"
   ]
  },
  {
   "cell_type": "code",
   "execution_count": 23,
   "id": "b44634a5",
   "metadata": {},
   "outputs": [
    {
     "name": "stdout",
     "output_type": "stream",
     "text": [
      "Accuracies:  [1.         1.         1.         1.         0.76470588]\n",
      "F1 Scores:  [1.         1.         1.         1.         0.84615385]\n",
      "Accuracy: 0.95 +/- 0.09\n",
      "F1 Score: 0.97 +/- 0.06\n"
     ]
    }
   ],
   "source": [
    "clf_rf_cv = RandomForestClassifier(n_estimators=100)\n",
    "scores = cross_validate(clf_rf_cv, ngs_reads, target, cv=5, \n",
    "                        scoring=('accuracy', 'f1'), return_train_score=True)\n",
    "print(\"Accuracies: \", scores['test_accuracy'])\n",
    "print(\"F1 Scores: \", scores['test_f1'])\n",
    "\n",
    "# higher cv results in most accuracies = 1.0\n",
    "\n",
    "print(\"Accuracy: %0.2f +/- %0.2f\" % (scores['test_accuracy'].mean(), scores['test_accuracy'].std()))\n",
    "print(\"F1 Score: %0.2f +/- %0.2f\" % (scores['test_f1'].mean(), scores['test_f1'].std()))"
   ]
  },
  {
   "cell_type": "markdown",
   "id": "35608dc0",
   "metadata": {},
   "source": [
    "#### Visualize some trees of the Random Forest"
   ]
  },
  {
   "cell_type": "code",
   "execution_count": 24,
   "id": "80c59e6a",
   "metadata": {},
   "outputs": [
    {
     "data": {
      "image/svg+xml": [
       "<?xml version=\"1.0\" encoding=\"UTF-8\" standalone=\"no\"?>\r\n",
       "<!DOCTYPE svg PUBLIC \"-//W3C//DTD SVG 1.1//EN\"\r\n",
       " \"http://www.w3.org/Graphics/SVG/1.1/DTD/svg11.dtd\">\r\n",
       "<!-- Generated by graphviz version 2.38.0 (20140413.2041)\r\n",
       " -->\r\n",
       "<!-- Title: Tree Pages: 1 -->\r\n",
       "<svg width=\"686pt\" height=\"671pt\"\r\n",
       " viewBox=\"0.00 0.00 686.00 671.00\" xmlns=\"http://www.w3.org/2000/svg\" xmlns:xlink=\"http://www.w3.org/1999/xlink\">\r\n",
       "<g id=\"graph0\" class=\"graph\" transform=\"scale(1 1) rotate(0) translate(4 667)\">\r\n",
       "<title>Tree</title>\r\n",
       "<polygon fill=\"white\" stroke=\"none\" points=\"-4,4 -4,-667 682,-667 682,4 -4,4\"/>\r\n",
       "<!-- 0 -->\r\n",
       "<g id=\"node1\" class=\"node\"><title>0</title>\r\n",
       "<path fill=\"#a9d4f4\" stroke=\"black\" d=\"M394.5,-663C394.5,-663 248.5,-663 248.5,-663 242.5,-663 236.5,-657 236.5,-651 236.5,-651 236.5,-592 236.5,-592 236.5,-586 242.5,-580 248.5,-580 248.5,-580 394.5,-580 394.5,-580 400.5,-580 406.5,-586 406.5,-592 406.5,-592 406.5,-651 406.5,-651 406.5,-657 400.5,-663 394.5,-663\"/>\r\n",
       "<text text-anchor=\"middle\" x=\"321.5\" y=\"-647.8\" font-family=\"Helvetica,sans-Serif\" font-size=\"14.00\">status_module_7 &lt;= 1.5</text>\r\n",
       "<text text-anchor=\"middle\" x=\"321.5\" y=\"-632.8\" font-family=\"Helvetica,sans-Serif\" font-size=\"14.00\">gini = 0.461</text>\r\n",
       "<text text-anchor=\"middle\" x=\"321.5\" y=\"-617.8\" font-family=\"Helvetica,sans-Serif\" font-size=\"14.00\">samples = 39</text>\r\n",
       "<text text-anchor=\"middle\" x=\"321.5\" y=\"-602.8\" font-family=\"Helvetica,sans-Serif\" font-size=\"14.00\">value = [22, 39]</text>\r\n",
       "<text text-anchor=\"middle\" x=\"321.5\" y=\"-587.8\" font-family=\"Helvetica,sans-Serif\" font-size=\"14.00\">class = good</text>\r\n",
       "</g>\r\n",
       "<!-- 1 -->\r\n",
       "<g id=\"node2\" class=\"node\"><title>1</title>\r\n",
       "<path fill=\"#71b9ec\" stroke=\"black\" d=\"M316.5,-544C316.5,-544 170.5,-544 170.5,-544 164.5,-544 158.5,-538 158.5,-532 158.5,-532 158.5,-473 158.5,-473 158.5,-467 164.5,-461 170.5,-461 170.5,-461 316.5,-461 316.5,-461 322.5,-461 328.5,-467 328.5,-473 328.5,-473 328.5,-532 328.5,-532 328.5,-538 322.5,-544 316.5,-544\"/>\r\n",
       "<text text-anchor=\"middle\" x=\"243.5\" y=\"-528.8\" font-family=\"Helvetica,sans-Serif\" font-size=\"14.00\">status_module_8 &lt;= 0.5</text>\r\n",
       "<text text-anchor=\"middle\" x=\"243.5\" y=\"-513.8\" font-family=\"Helvetica,sans-Serif\" font-size=\"14.00\">gini = 0.343</text>\r\n",
       "<text text-anchor=\"middle\" x=\"243.5\" y=\"-498.8\" font-family=\"Helvetica,sans-Serif\" font-size=\"14.00\">samples = 32</text>\r\n",
       "<text text-anchor=\"middle\" x=\"243.5\" y=\"-483.8\" font-family=\"Helvetica,sans-Serif\" font-size=\"14.00\">value = [11, 39]</text>\r\n",
       "<text text-anchor=\"middle\" x=\"243.5\" y=\"-468.8\" font-family=\"Helvetica,sans-Serif\" font-size=\"14.00\">class = good</text>\r\n",
       "</g>\r\n",
       "<!-- 0&#45;&gt;1 -->\r\n",
       "<g id=\"edge1\" class=\"edge\"><title>0&#45;&gt;1</title>\r\n",
       "<path fill=\"none\" stroke=\"black\" d=\"M294.438,-579.907C288.57,-571.105 282.302,-561.703 276.241,-552.612\"/>\r\n",
       "<polygon fill=\"black\" stroke=\"black\" points=\"278.973,-550.4 270.514,-544.021 273.149,-554.283 278.973,-550.4\"/>\r\n",
       "<text text-anchor=\"middle\" x=\"265.611\" y=\"-564.835\" font-family=\"Helvetica,sans-Serif\" font-size=\"14.00\">True</text>\r\n",
       "</g>\r\n",
       "<!-- 12 -->\r\n",
       "<g id=\"node13\" class=\"node\"><title>12</title>\r\n",
       "<path fill=\"#e58139\" stroke=\"black\" d=\"M440,-536.5C440,-536.5 359,-536.5 359,-536.5 353,-536.5 347,-530.5 347,-524.5 347,-524.5 347,-480.5 347,-480.5 347,-474.5 353,-468.5 359,-468.5 359,-468.5 440,-468.5 440,-468.5 446,-468.5 452,-474.5 452,-480.5 452,-480.5 452,-524.5 452,-524.5 452,-530.5 446,-536.5 440,-536.5\"/>\r\n",
       "<text text-anchor=\"middle\" x=\"399.5\" y=\"-521.3\" font-family=\"Helvetica,sans-Serif\" font-size=\"14.00\">gini = 0.0</text>\r\n",
       "<text text-anchor=\"middle\" x=\"399.5\" y=\"-506.3\" font-family=\"Helvetica,sans-Serif\" font-size=\"14.00\">samples = 7</text>\r\n",
       "<text text-anchor=\"middle\" x=\"399.5\" y=\"-491.3\" font-family=\"Helvetica,sans-Serif\" font-size=\"14.00\">value = [11, 0]</text>\r\n",
       "<text text-anchor=\"middle\" x=\"399.5\" y=\"-476.3\" font-family=\"Helvetica,sans-Serif\" font-size=\"14.00\">class = ugly</text>\r\n",
       "</g>\r\n",
       "<!-- 0&#45;&gt;12 -->\r\n",
       "<g id=\"edge12\" class=\"edge\"><title>0&#45;&gt;12</title>\r\n",
       "<path fill=\"none\" stroke=\"black\" d=\"M348.562,-579.907C356.065,-568.652 364.221,-556.418 371.763,-545.106\"/>\r\n",
       "<polygon fill=\"black\" stroke=\"black\" points=\"374.754,-546.929 377.389,-536.667 368.929,-543.046 374.754,-546.929\"/>\r\n",
       "<text text-anchor=\"middle\" x=\"382.292\" y=\"-557.481\" font-family=\"Helvetica,sans-Serif\" font-size=\"14.00\">False</text>\r\n",
       "</g>\r\n",
       "<!-- 2 -->\r\n",
       "<g id=\"node3\" class=\"node\"><title>2</title>\r\n",
       "<path fill=\"#42a2e6\" stroke=\"black\" d=\"M222.5,-425C222.5,-425 76.5,-425 76.5,-425 70.5,-425 64.5,-419 64.5,-413 64.5,-413 64.5,-354 64.5,-354 64.5,-348 70.5,-342 76.5,-342 76.5,-342 222.5,-342 222.5,-342 228.5,-342 234.5,-348 234.5,-354 234.5,-354 234.5,-413 234.5,-413 234.5,-419 228.5,-425 222.5,-425\"/>\r\n",
       "<text text-anchor=\"middle\" x=\"149.5\" y=\"-409.8\" font-family=\"Helvetica,sans-Serif\" font-size=\"14.00\">status_module_2 &lt;= 1.5</text>\r\n",
       "<text text-anchor=\"middle\" x=\"149.5\" y=\"-394.8\" font-family=\"Helvetica,sans-Serif\" font-size=\"14.00\">gini = 0.087</text>\r\n",
       "<text text-anchor=\"middle\" x=\"149.5\" y=\"-379.8\" font-family=\"Helvetica,sans-Serif\" font-size=\"14.00\">samples = 13</text>\r\n",
       "<text text-anchor=\"middle\" x=\"149.5\" y=\"-364.8\" font-family=\"Helvetica,sans-Serif\" font-size=\"14.00\">value = [1, 21]</text>\r\n",
       "<text text-anchor=\"middle\" x=\"149.5\" y=\"-349.8\" font-family=\"Helvetica,sans-Serif\" font-size=\"14.00\">class = good</text>\r\n",
       "</g>\r\n",
       "<!-- 1&#45;&gt;2 -->\r\n",
       "<g id=\"edge2\" class=\"edge\"><title>1&#45;&gt;2</title>\r\n",
       "<path fill=\"none\" stroke=\"black\" d=\"M210.887,-460.907C203.669,-451.923 195.95,-442.315 188.506,-433.05\"/>\r\n",
       "<polygon fill=\"black\" stroke=\"black\" points=\"191.047,-430.624 182.055,-425.021 185.59,-435.009 191.047,-430.624\"/>\r\n",
       "</g>\r\n",
       "<!-- 5 -->\r\n",
       "<g id=\"node6\" class=\"node\"><title>5</title>\r\n",
       "<path fill=\"#a7d3f3\" stroke=\"black\" d=\"M410.5,-425C410.5,-425 264.5,-425 264.5,-425 258.5,-425 252.5,-419 252.5,-413 252.5,-413 252.5,-354 252.5,-354 252.5,-348 258.5,-342 264.5,-342 264.5,-342 410.5,-342 410.5,-342 416.5,-342 422.5,-348 422.5,-354 422.5,-354 422.5,-413 422.5,-413 422.5,-419 416.5,-425 410.5,-425\"/>\r\n",
       "<text text-anchor=\"middle\" x=\"337.5\" y=\"-409.8\" font-family=\"Helvetica,sans-Serif\" font-size=\"14.00\">status_module_2 &lt;= 1.0</text>\r\n",
       "<text text-anchor=\"middle\" x=\"337.5\" y=\"-394.8\" font-family=\"Helvetica,sans-Serif\" font-size=\"14.00\">gini = 0.459</text>\r\n",
       "<text text-anchor=\"middle\" x=\"337.5\" y=\"-379.8\" font-family=\"Helvetica,sans-Serif\" font-size=\"14.00\">samples = 19</text>\r\n",
       "<text text-anchor=\"middle\" x=\"337.5\" y=\"-364.8\" font-family=\"Helvetica,sans-Serif\" font-size=\"14.00\">value = [10, 18]</text>\r\n",
       "<text text-anchor=\"middle\" x=\"337.5\" y=\"-349.8\" font-family=\"Helvetica,sans-Serif\" font-size=\"14.00\">class = good</text>\r\n",
       "</g>\r\n",
       "<!-- 1&#45;&gt;5 -->\r\n",
       "<g id=\"edge5\" class=\"edge\"><title>1&#45;&gt;5</title>\r\n",
       "<path fill=\"none\" stroke=\"black\" d=\"M276.113,-460.907C283.331,-451.923 291.05,-442.315 298.494,-433.05\"/>\r\n",
       "<polygon fill=\"black\" stroke=\"black\" points=\"301.41,-435.009 304.945,-425.021 295.953,-430.624 301.41,-435.009\"/>\r\n",
       "</g>\r\n",
       "<!-- 3 -->\r\n",
       "<g id=\"node4\" class=\"node\"><title>3</title>\r\n",
       "<path fill=\"#e58139\" stroke=\"black\" d=\"M85,-298.5C85,-298.5 12,-298.5 12,-298.5 6,-298.5 0,-292.5 0,-286.5 0,-286.5 0,-242.5 0,-242.5 0,-236.5 6,-230.5 12,-230.5 12,-230.5 85,-230.5 85,-230.5 91,-230.5 97,-236.5 97,-242.5 97,-242.5 97,-286.5 97,-286.5 97,-292.5 91,-298.5 85,-298.5\"/>\r\n",
       "<text text-anchor=\"middle\" x=\"48.5\" y=\"-283.3\" font-family=\"Helvetica,sans-Serif\" font-size=\"14.00\">gini = 0.0</text>\r\n",
       "<text text-anchor=\"middle\" x=\"48.5\" y=\"-268.3\" font-family=\"Helvetica,sans-Serif\" font-size=\"14.00\">samples = 1</text>\r\n",
       "<text text-anchor=\"middle\" x=\"48.5\" y=\"-253.3\" font-family=\"Helvetica,sans-Serif\" font-size=\"14.00\">value = [1, 0]</text>\r\n",
       "<text text-anchor=\"middle\" x=\"48.5\" y=\"-238.3\" font-family=\"Helvetica,sans-Serif\" font-size=\"14.00\">class = ugly</text>\r\n",
       "</g>\r\n",
       "<!-- 2&#45;&gt;3 -->\r\n",
       "<g id=\"edge3\" class=\"edge\"><title>2&#45;&gt;3</title>\r\n",
       "<path fill=\"none\" stroke=\"black\" d=\"M114.459,-341.907C104.552,-330.432 93.7671,-317.938 83.843,-306.442\"/>\r\n",
       "<polygon fill=\"black\" stroke=\"black\" points=\"86.3152,-303.95 77.1313,-298.667 81.0164,-308.524 86.3152,-303.95\"/>\r\n",
       "</g>\r\n",
       "<!-- 4 -->\r\n",
       "<g id=\"node5\" class=\"node\"><title>4</title>\r\n",
       "<path fill=\"#399de5\" stroke=\"black\" d=\"M208,-298.5C208,-298.5 127,-298.5 127,-298.5 121,-298.5 115,-292.5 115,-286.5 115,-286.5 115,-242.5 115,-242.5 115,-236.5 121,-230.5 127,-230.5 127,-230.5 208,-230.5 208,-230.5 214,-230.5 220,-236.5 220,-242.5 220,-242.5 220,-286.5 220,-286.5 220,-292.5 214,-298.5 208,-298.5\"/>\r\n",
       "<text text-anchor=\"middle\" x=\"167.5\" y=\"-283.3\" font-family=\"Helvetica,sans-Serif\" font-size=\"14.00\">gini = 0.0</text>\r\n",
       "<text text-anchor=\"middle\" x=\"167.5\" y=\"-268.3\" font-family=\"Helvetica,sans-Serif\" font-size=\"14.00\">samples = 12</text>\r\n",
       "<text text-anchor=\"middle\" x=\"167.5\" y=\"-253.3\" font-family=\"Helvetica,sans-Serif\" font-size=\"14.00\">value = [0, 21]</text>\r\n",
       "<text text-anchor=\"middle\" x=\"167.5\" y=\"-238.3\" font-family=\"Helvetica,sans-Serif\" font-size=\"14.00\">class = good</text>\r\n",
       "</g>\r\n",
       "<!-- 2&#45;&gt;4 -->\r\n",
       "<g id=\"edge4\" class=\"edge\"><title>2&#45;&gt;4</title>\r\n",
       "<path fill=\"none\" stroke=\"black\" d=\"M155.745,-341.907C157.392,-331.204 159.175,-319.615 160.842,-308.776\"/>\r\n",
       "<polygon fill=\"black\" stroke=\"black\" points=\"164.336,-309.083 162.397,-298.667 157.417,-308.018 164.336,-309.083\"/>\r\n",
       "</g>\r\n",
       "<!-- 6 -->\r\n",
       "<g id=\"node7\" class=\"node\"><title>6</title>\r\n",
       "<path fill=\"#e58139\" stroke=\"black\" d=\"M357,-298.5C357,-298.5 284,-298.5 284,-298.5 278,-298.5 272,-292.5 272,-286.5 272,-286.5 272,-242.5 272,-242.5 272,-236.5 278,-230.5 284,-230.5 284,-230.5 357,-230.5 357,-230.5 363,-230.5 369,-236.5 369,-242.5 369,-242.5 369,-286.5 369,-286.5 369,-292.5 363,-298.5 357,-298.5\"/>\r\n",
       "<text text-anchor=\"middle\" x=\"320.5\" y=\"-283.3\" font-family=\"Helvetica,sans-Serif\" font-size=\"14.00\">gini = 0.0</text>\r\n",
       "<text text-anchor=\"middle\" x=\"320.5\" y=\"-268.3\" font-family=\"Helvetica,sans-Serif\" font-size=\"14.00\">samples = 2</text>\r\n",
       "<text text-anchor=\"middle\" x=\"320.5\" y=\"-253.3\" font-family=\"Helvetica,sans-Serif\" font-size=\"14.00\">value = [3, 0]</text>\r\n",
       "<text text-anchor=\"middle\" x=\"320.5\" y=\"-238.3\" font-family=\"Helvetica,sans-Serif\" font-size=\"14.00\">class = ugly</text>\r\n",
       "</g>\r\n",
       "<!-- 5&#45;&gt;6 -->\r\n",
       "<g id=\"edge6\" class=\"edge\"><title>5&#45;&gt;6</title>\r\n",
       "<path fill=\"none\" stroke=\"black\" d=\"M331.602,-341.907C330.047,-331.204 328.363,-319.615 326.788,-308.776\"/>\r\n",
       "<polygon fill=\"black\" stroke=\"black\" points=\"330.221,-308.06 325.319,-298.667 323.293,-309.066 330.221,-308.06\"/>\r\n",
       "</g>\r\n",
       "<!-- 7 -->\r\n",
       "<g id=\"node8\" class=\"node\"><title>7</title>\r\n",
       "<path fill=\"#86c3ef\" stroke=\"black\" d=\"M582,-306C582,-306 399,-306 399,-306 393,-306 387,-300 387,-294 387,-294 387,-235 387,-235 387,-229 393,-223 399,-223 399,-223 582,-223 582,-223 588,-223 594,-229 594,-235 594,-235 594,-294 594,-294 594,-300 588,-306 582,-306\"/>\r\n",
       "<text text-anchor=\"middle\" x=\"490.5\" y=\"-290.8\" font-family=\"Helvetica,sans-Serif\" font-size=\"14.00\">total_sequences &lt;= 570662.0</text>\r\n",
       "<text text-anchor=\"middle\" x=\"490.5\" y=\"-275.8\" font-family=\"Helvetica,sans-Serif\" font-size=\"14.00\">gini = 0.403</text>\r\n",
       "<text text-anchor=\"middle\" x=\"490.5\" y=\"-260.8\" font-family=\"Helvetica,sans-Serif\" font-size=\"14.00\">samples = 17</text>\r\n",
       "<text text-anchor=\"middle\" x=\"490.5\" y=\"-245.8\" font-family=\"Helvetica,sans-Serif\" font-size=\"14.00\">value = [7, 18]</text>\r\n",
       "<text text-anchor=\"middle\" x=\"490.5\" y=\"-230.8\" font-family=\"Helvetica,sans-Serif\" font-size=\"14.00\">class = good</text>\r\n",
       "</g>\r\n",
       "<!-- 5&#45;&gt;7 -->\r\n",
       "<g id=\"edge7\" class=\"edge\"><title>5&#45;&gt;7</title>\r\n",
       "<path fill=\"none\" stroke=\"black\" d=\"M390.583,-341.907C403.043,-332.379 416.422,-322.148 429.209,-312.37\"/>\r\n",
       "<polygon fill=\"black\" stroke=\"black\" points=\"431.694,-314.876 437.511,-306.021 427.442,-309.315 431.694,-314.876\"/>\r\n",
       "</g>\r\n",
       "<!-- 8 -->\r\n",
       "<g id=\"node9\" class=\"node\"><title>8</title>\r\n",
       "<path fill=\"#e58139\" stroke=\"black\" d=\"M451,-179.5C451,-179.5 378,-179.5 378,-179.5 372,-179.5 366,-173.5 366,-167.5 366,-167.5 366,-123.5 366,-123.5 366,-117.5 372,-111.5 378,-111.5 378,-111.5 451,-111.5 451,-111.5 457,-111.5 463,-117.5 463,-123.5 463,-123.5 463,-167.5 463,-167.5 463,-173.5 457,-179.5 451,-179.5\"/>\r\n",
       "<text text-anchor=\"middle\" x=\"414.5\" y=\"-164.3\" font-family=\"Helvetica,sans-Serif\" font-size=\"14.00\">gini = 0.0</text>\r\n",
       "<text text-anchor=\"middle\" x=\"414.5\" y=\"-149.3\" font-family=\"Helvetica,sans-Serif\" font-size=\"14.00\">samples = 4</text>\r\n",
       "<text text-anchor=\"middle\" x=\"414.5\" y=\"-134.3\" font-family=\"Helvetica,sans-Serif\" font-size=\"14.00\">value = [4, 0]</text>\r\n",
       "<text text-anchor=\"middle\" x=\"414.5\" y=\"-119.3\" font-family=\"Helvetica,sans-Serif\" font-size=\"14.00\">class = ugly</text>\r\n",
       "</g>\r\n",
       "<!-- 7&#45;&gt;8 -->\r\n",
       "<g id=\"edge8\" class=\"edge\"><title>7&#45;&gt;8</title>\r\n",
       "<path fill=\"none\" stroke=\"black\" d=\"M464.132,-222.907C456.821,-211.652 448.874,-199.418 441.526,-188.106\"/>\r\n",
       "<polygon fill=\"black\" stroke=\"black\" points=\"444.427,-186.146 436.044,-179.667 438.557,-189.96 444.427,-186.146\"/>\r\n",
       "</g>\r\n",
       "<!-- 9 -->\r\n",
       "<g id=\"node10\" class=\"node\"><title>9</title>\r\n",
       "<path fill=\"#5aade9\" stroke=\"black\" d=\"M639.5,-187C639.5,-187 493.5,-187 493.5,-187 487.5,-187 481.5,-181 481.5,-175 481.5,-175 481.5,-116 481.5,-116 481.5,-110 487.5,-104 493.5,-104 493.5,-104 639.5,-104 639.5,-104 645.5,-104 651.5,-110 651.5,-116 651.5,-116 651.5,-175 651.5,-175 651.5,-181 645.5,-187 639.5,-187\"/>\r\n",
       "<text text-anchor=\"middle\" x=\"566.5\" y=\"-171.8\" font-family=\"Helvetica,sans-Serif\" font-size=\"14.00\">status_module_1 &lt;= 0.5</text>\r\n",
       "<text text-anchor=\"middle\" x=\"566.5\" y=\"-156.8\" font-family=\"Helvetica,sans-Serif\" font-size=\"14.00\">gini = 0.245</text>\r\n",
       "<text text-anchor=\"middle\" x=\"566.5\" y=\"-141.8\" font-family=\"Helvetica,sans-Serif\" font-size=\"14.00\">samples = 13</text>\r\n",
       "<text text-anchor=\"middle\" x=\"566.5\" y=\"-126.8\" font-family=\"Helvetica,sans-Serif\" font-size=\"14.00\">value = [3, 18]</text>\r\n",
       "<text text-anchor=\"middle\" x=\"566.5\" y=\"-111.8\" font-family=\"Helvetica,sans-Serif\" font-size=\"14.00\">class = good</text>\r\n",
       "</g>\r\n",
       "<!-- 7&#45;&gt;9 -->\r\n",
       "<g id=\"edge9\" class=\"edge\"><title>7&#45;&gt;9</title>\r\n",
       "<path fill=\"none\" stroke=\"black\" d=\"M516.868,-222.907C522.586,-214.105 528.693,-204.703 534.598,-195.612\"/>\r\n",
       "<polygon fill=\"black\" stroke=\"black\" points=\"537.667,-197.313 540.179,-187.021 531.796,-193.5 537.667,-197.313\"/>\r\n",
       "</g>\r\n",
       "<!-- 10 -->\r\n",
       "<g id=\"node11\" class=\"node\"><title>10</title>\r\n",
       "<path fill=\"#e58139\" stroke=\"black\" d=\"M543,-68C543,-68 470,-68 470,-68 464,-68 458,-62 458,-56 458,-56 458,-12 458,-12 458,-6 464,-0 470,-0 470,-0 543,-0 543,-0 549,-0 555,-6 555,-12 555,-12 555,-56 555,-56 555,-62 549,-68 543,-68\"/>\r\n",
       "<text text-anchor=\"middle\" x=\"506.5\" y=\"-52.8\" font-family=\"Helvetica,sans-Serif\" font-size=\"14.00\">gini = 0.0</text>\r\n",
       "<text text-anchor=\"middle\" x=\"506.5\" y=\"-37.8\" font-family=\"Helvetica,sans-Serif\" font-size=\"14.00\">samples = 1</text>\r\n",
       "<text text-anchor=\"middle\" x=\"506.5\" y=\"-22.8\" font-family=\"Helvetica,sans-Serif\" font-size=\"14.00\">value = [3, 0]</text>\r\n",
       "<text text-anchor=\"middle\" x=\"506.5\" y=\"-7.8\" font-family=\"Helvetica,sans-Serif\" font-size=\"14.00\">class = ugly</text>\r\n",
       "</g>\r\n",
       "<!-- 9&#45;&gt;10 -->\r\n",
       "<g id=\"edge10\" class=\"edge\"><title>9&#45;&gt;10</title>\r\n",
       "<path fill=\"none\" stroke=\"black\" d=\"M544.158,-103.726C539.41,-95.0615 534.388,-85.8962 529.612,-77.1802\"/>\r\n",
       "<polygon fill=\"black\" stroke=\"black\" points=\"532.621,-75.3875 524.746,-68.2996 526.482,-78.7513 532.621,-75.3875\"/>\r\n",
       "</g>\r\n",
       "<!-- 11 -->\r\n",
       "<g id=\"node12\" class=\"node\"><title>11</title>\r\n",
       "<path fill=\"#399de5\" stroke=\"black\" d=\"M666,-68C666,-68 585,-68 585,-68 579,-68 573,-62 573,-56 573,-56 573,-12 573,-12 573,-6 579,-0 585,-0 585,-0 666,-0 666,-0 672,-0 678,-6 678,-12 678,-12 678,-56 678,-56 678,-62 672,-68 666,-68\"/>\r\n",
       "<text text-anchor=\"middle\" x=\"625.5\" y=\"-52.8\" font-family=\"Helvetica,sans-Serif\" font-size=\"14.00\">gini = 0.0</text>\r\n",
       "<text text-anchor=\"middle\" x=\"625.5\" y=\"-37.8\" font-family=\"Helvetica,sans-Serif\" font-size=\"14.00\">samples = 12</text>\r\n",
       "<text text-anchor=\"middle\" x=\"625.5\" y=\"-22.8\" font-family=\"Helvetica,sans-Serif\" font-size=\"14.00\">value = [0, 18]</text>\r\n",
       "<text text-anchor=\"middle\" x=\"625.5\" y=\"-7.8\" font-family=\"Helvetica,sans-Serif\" font-size=\"14.00\">class = good</text>\r\n",
       "</g>\r\n",
       "<!-- 9&#45;&gt;11 -->\r\n",
       "<g id=\"edge11\" class=\"edge\"><title>9&#45;&gt;11</title>\r\n",
       "<path fill=\"none\" stroke=\"black\" d=\"M588.469,-103.726C593.138,-95.0615 598.076,-85.8962 602.773,-77.1802\"/>\r\n",
       "<polygon fill=\"black\" stroke=\"black\" points=\"605.896,-78.7632 607.558,-68.2996 599.733,-75.4428 605.896,-78.7632\"/>\r\n",
       "</g>\r\n",
       "</g>\r\n",
       "</svg>\r\n"
      ],
      "text/plain": [
       "<graphviz.files.Source at 0x21ef78d1fc8>"
      ]
     },
     "execution_count": 24,
     "metadata": {},
     "output_type": "execute_result"
    }
   ],
   "source": [
    "dot_data = tree.export_graphviz(clf_rf.estimators_[0], out_file=None,\n",
    "                               feature_names = X_train.columns,\n",
    "                                class_names = [\"ugly\", \"good\"],\n",
    "                               filled=True, rounded=True) \n",
    "graph = graphviz.Source(dot_data)\n",
    "graph"
   ]
  },
  {
   "cell_type": "code",
   "execution_count": 25,
   "id": "85941398",
   "metadata": {},
   "outputs": [
    {
     "data": {
      "image/svg+xml": [
       "<?xml version=\"1.0\" encoding=\"UTF-8\" standalone=\"no\"?>\r\n",
       "<!DOCTYPE svg PUBLIC \"-//W3C//DTD SVG 1.1//EN\"\r\n",
       " \"http://www.w3.org/Graphics/SVG/1.1/DTD/svg11.dtd\">\r\n",
       "<!-- Generated by graphviz version 2.38.0 (20140413.2041)\r\n",
       " -->\r\n",
       "<!-- Title: Tree Pages: 1 -->\r\n",
       "<svg width=\"672pt\" height=\"671pt\"\r\n",
       " viewBox=\"0.00 0.00 671.50 671.00\" xmlns=\"http://www.w3.org/2000/svg\" xmlns:xlink=\"http://www.w3.org/1999/xlink\">\r\n",
       "<g id=\"graph0\" class=\"graph\" transform=\"scale(1 1) rotate(0) translate(4 667)\">\r\n",
       "<title>Tree</title>\r\n",
       "<polygon fill=\"white\" stroke=\"none\" points=\"-4,4 -4,-667 667.5,-667 667.5,4 -4,4\"/>\r\n",
       "<!-- 0 -->\r\n",
       "<g id=\"node1\" class=\"node\"><title>0</title>\r\n",
       "<path fill=\"#c2e1f7\" stroke=\"black\" d=\"M387,-663C387,-663 190,-663 190,-663 184,-663 178,-657 178,-651 178,-651 178,-592 178,-592 178,-586 184,-580 190,-580 190,-580 387,-580 387,-580 393,-580 399,-586 399,-592 399,-592 399,-651 399,-651 399,-657 393,-663 387,-663\"/>\r\n",
       "<text text-anchor=\"middle\" x=\"288.5\" y=\"-647.8\" font-family=\"Helvetica,sans-Serif\" font-size=\"14.00\">max_sequence_length &lt;= 201.0</text>\r\n",
       "<text text-anchor=\"middle\" x=\"288.5\" y=\"-632.8\" font-family=\"Helvetica,sans-Serif\" font-size=\"14.00\">gini = 0.484</text>\r\n",
       "<text text-anchor=\"middle\" x=\"288.5\" y=\"-617.8\" font-family=\"Helvetica,sans-Serif\" font-size=\"14.00\">samples = 43</text>\r\n",
       "<text text-anchor=\"middle\" x=\"288.5\" y=\"-602.8\" font-family=\"Helvetica,sans-Serif\" font-size=\"14.00\">value = [25, 36]</text>\r\n",
       "<text text-anchor=\"middle\" x=\"288.5\" y=\"-587.8\" font-family=\"Helvetica,sans-Serif\" font-size=\"14.00\">class = good</text>\r\n",
       "</g>\r\n",
       "<!-- 1 -->\r\n",
       "<g id=\"node2\" class=\"node\"><title>1</title>\r\n",
       "<path fill=\"#73baed\" stroke=\"black\" d=\"M267.5,-544C267.5,-544 121.5,-544 121.5,-544 115.5,-544 109.5,-538 109.5,-532 109.5,-532 109.5,-473 109.5,-473 109.5,-467 115.5,-461 121.5,-461 121.5,-461 267.5,-461 267.5,-461 273.5,-461 279.5,-467 279.5,-473 279.5,-473 279.5,-532 279.5,-532 279.5,-538 273.5,-544 267.5,-544\"/>\r\n",
       "<text text-anchor=\"middle\" x=\"194.5\" y=\"-528.8\" font-family=\"Helvetica,sans-Serif\" font-size=\"14.00\">status_module_9 &lt;= 1.5</text>\r\n",
       "<text text-anchor=\"middle\" x=\"194.5\" y=\"-513.8\" font-family=\"Helvetica,sans-Serif\" font-size=\"14.00\">gini = 0.35</text>\r\n",
       "<text text-anchor=\"middle\" x=\"194.5\" y=\"-498.8\" font-family=\"Helvetica,sans-Serif\" font-size=\"14.00\">samples = 19</text>\r\n",
       "<text text-anchor=\"middle\" x=\"194.5\" y=\"-483.8\" font-family=\"Helvetica,sans-Serif\" font-size=\"14.00\">value = [7, 24]</text>\r\n",
       "<text text-anchor=\"middle\" x=\"194.5\" y=\"-468.8\" font-family=\"Helvetica,sans-Serif\" font-size=\"14.00\">class = good</text>\r\n",
       "</g>\r\n",
       "<!-- 0&#45;&gt;1 -->\r\n",
       "<g id=\"edge1\" class=\"edge\"><title>0&#45;&gt;1</title>\r\n",
       "<path fill=\"none\" stroke=\"black\" d=\"M255.887,-579.907C248.669,-570.923 240.95,-561.315 233.506,-552.05\"/>\r\n",
       "<polygon fill=\"black\" stroke=\"black\" points=\"236.047,-549.624 227.055,-544.021 230.59,-554.009 236.047,-549.624\"/>\r\n",
       "<text text-anchor=\"middle\" x=\"224.346\" y=\"-565.174\" font-family=\"Helvetica,sans-Serif\" font-size=\"14.00\">True</text>\r\n",
       "</g>\r\n",
       "<!-- 8 -->\r\n",
       "<g id=\"node9\" class=\"node\"><title>8</title>\r\n",
       "<path fill=\"#f6d5bd\" stroke=\"black\" d=\"M455.5,-544C455.5,-544 309.5,-544 309.5,-544 303.5,-544 297.5,-538 297.5,-532 297.5,-532 297.5,-473 297.5,-473 297.5,-467 303.5,-461 309.5,-461 309.5,-461 455.5,-461 455.5,-461 461.5,-461 467.5,-467 467.5,-473 467.5,-473 467.5,-532 467.5,-532 467.5,-538 461.5,-544 455.5,-544\"/>\r\n",
       "<text text-anchor=\"middle\" x=\"382.5\" y=\"-528.8\" font-family=\"Helvetica,sans-Serif\" font-size=\"14.00\">status_module_1 &lt;= 0.5</text>\r\n",
       "<text text-anchor=\"middle\" x=\"382.5\" y=\"-513.8\" font-family=\"Helvetica,sans-Serif\" font-size=\"14.00\">gini = 0.48</text>\r\n",
       "<text text-anchor=\"middle\" x=\"382.5\" y=\"-498.8\" font-family=\"Helvetica,sans-Serif\" font-size=\"14.00\">samples = 24</text>\r\n",
       "<text text-anchor=\"middle\" x=\"382.5\" y=\"-483.8\" font-family=\"Helvetica,sans-Serif\" font-size=\"14.00\">value = [18, 12]</text>\r\n",
       "<text text-anchor=\"middle\" x=\"382.5\" y=\"-468.8\" font-family=\"Helvetica,sans-Serif\" font-size=\"14.00\">class = ugly</text>\r\n",
       "</g>\r\n",
       "<!-- 0&#45;&gt;8 -->\r\n",
       "<g id=\"edge8\" class=\"edge\"><title>0&#45;&gt;8</title>\r\n",
       "<path fill=\"none\" stroke=\"black\" d=\"M321.113,-579.907C328.331,-570.923 336.05,-561.315 343.494,-552.05\"/>\r\n",
       "<polygon fill=\"black\" stroke=\"black\" points=\"346.41,-554.009 349.945,-544.021 340.953,-549.624 346.41,-554.009\"/>\r\n",
       "<text text-anchor=\"middle\" x=\"352.654\" y=\"-565.174\" font-family=\"Helvetica,sans-Serif\" font-size=\"14.00\">False</text>\r\n",
       "</g>\r\n",
       "<!-- 2 -->\r\n",
       "<g id=\"node3\" class=\"node\"><title>2</title>\r\n",
       "<path fill=\"#399de5\" stroke=\"black\" d=\"M87.5,-417.5C87.5,-417.5 13.5,-417.5 13.5,-417.5 7.5,-417.5 1.5,-411.5 1.5,-405.5 1.5,-405.5 1.5,-361.5 1.5,-361.5 1.5,-355.5 7.5,-349.5 13.5,-349.5 13.5,-349.5 87.5,-349.5 87.5,-349.5 93.5,-349.5 99.5,-355.5 99.5,-361.5 99.5,-361.5 99.5,-405.5 99.5,-405.5 99.5,-411.5 93.5,-417.5 87.5,-417.5\"/>\r\n",
       "<text text-anchor=\"middle\" x=\"50.5\" y=\"-402.3\" font-family=\"Helvetica,sans-Serif\" font-size=\"14.00\">gini = 0.0</text>\r\n",
       "<text text-anchor=\"middle\" x=\"50.5\" y=\"-387.3\" font-family=\"Helvetica,sans-Serif\" font-size=\"14.00\">samples = 1</text>\r\n",
       "<text text-anchor=\"middle\" x=\"50.5\" y=\"-372.3\" font-family=\"Helvetica,sans-Serif\" font-size=\"14.00\">value = [0, 2]</text>\r\n",
       "<text text-anchor=\"middle\" x=\"50.5\" y=\"-357.3\" font-family=\"Helvetica,sans-Serif\" font-size=\"14.00\">class = good</text>\r\n",
       "</g>\r\n",
       "<!-- 1&#45;&gt;2 -->\r\n",
       "<g id=\"edge2\" class=\"edge\"><title>1&#45;&gt;2</title>\r\n",
       "<path fill=\"none\" stroke=\"black\" d=\"M144.54,-460.907C129.873,-448.99 113.855,-435.976 99.263,-424.12\"/>\r\n",
       "<polygon fill=\"black\" stroke=\"black\" points=\"101.289,-421.256 91.3208,-417.667 96.8749,-426.689 101.289,-421.256\"/>\r\n",
       "</g>\r\n",
       "<!-- 3 -->\r\n",
       "<g id=\"node4\" class=\"node\"><title>3</title>\r\n",
       "<path fill=\"#78bced\" stroke=\"black\" d=\"M275.5,-425C275.5,-425 129.5,-425 129.5,-425 123.5,-425 117.5,-419 117.5,-413 117.5,-413 117.5,-354 117.5,-354 117.5,-348 123.5,-342 129.5,-342 129.5,-342 275.5,-342 275.5,-342 281.5,-342 287.5,-348 287.5,-354 287.5,-354 287.5,-413 287.5,-413 287.5,-419 281.5,-425 275.5,-425\"/>\r\n",
       "<text text-anchor=\"middle\" x=\"202.5\" y=\"-409.8\" font-family=\"Helvetica,sans-Serif\" font-size=\"14.00\">status_module_8 &lt;= 1.5</text>\r\n",
       "<text text-anchor=\"middle\" x=\"202.5\" y=\"-394.8\" font-family=\"Helvetica,sans-Serif\" font-size=\"14.00\">gini = 0.366</text>\r\n",
       "<text text-anchor=\"middle\" x=\"202.5\" y=\"-379.8\" font-family=\"Helvetica,sans-Serif\" font-size=\"14.00\">samples = 18</text>\r\n",
       "<text text-anchor=\"middle\" x=\"202.5\" y=\"-364.8\" font-family=\"Helvetica,sans-Serif\" font-size=\"14.00\">value = [7, 22]</text>\r\n",
       "<text text-anchor=\"middle\" x=\"202.5\" y=\"-349.8\" font-family=\"Helvetica,sans-Serif\" font-size=\"14.00\">class = good</text>\r\n",
       "</g>\r\n",
       "<!-- 1&#45;&gt;3 -->\r\n",
       "<g id=\"edge3\" class=\"edge\"><title>1&#45;&gt;3</title>\r\n",
       "<path fill=\"none\" stroke=\"black\" d=\"M197.276,-460.907C197.846,-452.558 198.454,-443.671 199.046,-435.02\"/>\r\n",
       "<polygon fill=\"black\" stroke=\"black\" points=\"202.539,-435.236 199.729,-425.021 195.555,-434.759 202.539,-435.236\"/>\r\n",
       "</g>\r\n",
       "<!-- 4 -->\r\n",
       "<g id=\"node5\" class=\"node\"><title>4</title>\r\n",
       "<path fill=\"#4ba6e7\" stroke=\"black\" d=\"M170,-306C170,-306 53,-306 53,-306 47,-306 41,-300 41,-294 41,-294 41,-235 41,-235 41,-229 47,-223 53,-223 53,-223 170,-223 170,-223 176,-223 182,-229 182,-235 182,-235 182,-294 182,-294 182,-300 176,-306 170,-306\"/>\r\n",
       "<text text-anchor=\"middle\" x=\"111.5\" y=\"-290.8\" font-family=\"Helvetica,sans-Serif\" font-size=\"14.00\">percent_gc &lt;= 40.0</text>\r\n",
       "<text text-anchor=\"middle\" x=\"111.5\" y=\"-275.8\" font-family=\"Helvetica,sans-Serif\" font-size=\"14.00\">gini = 0.153</text>\r\n",
       "<text text-anchor=\"middle\" x=\"111.5\" y=\"-260.8\" font-family=\"Helvetica,sans-Serif\" font-size=\"14.00\">samples = 15</text>\r\n",
       "<text text-anchor=\"middle\" x=\"111.5\" y=\"-245.8\" font-family=\"Helvetica,sans-Serif\" font-size=\"14.00\">value = [2, 22]</text>\r\n",
       "<text text-anchor=\"middle\" x=\"111.5\" y=\"-230.8\" font-family=\"Helvetica,sans-Serif\" font-size=\"14.00\">class = good</text>\r\n",
       "</g>\r\n",
       "<!-- 3&#45;&gt;4 -->\r\n",
       "<g id=\"edge4\" class=\"edge\"><title>3&#45;&gt;4</title>\r\n",
       "<path fill=\"none\" stroke=\"black\" d=\"M170.928,-341.907C163.94,-332.923 156.467,-323.315 149.261,-314.05\"/>\r\n",
       "<polygon fill=\"black\" stroke=\"black\" points=\"151.918,-311.766 143.016,-306.021 146.393,-316.063 151.918,-311.766\"/>\r\n",
       "</g>\r\n",
       "<!-- 7 -->\r\n",
       "<g id=\"node8\" class=\"node\"><title>7</title>\r\n",
       "<path fill=\"#e58139\" stroke=\"black\" d=\"M285,-298.5C285,-298.5 212,-298.5 212,-298.5 206,-298.5 200,-292.5 200,-286.5 200,-286.5 200,-242.5 200,-242.5 200,-236.5 206,-230.5 212,-230.5 212,-230.5 285,-230.5 285,-230.5 291,-230.5 297,-236.5 297,-242.5 297,-242.5 297,-286.5 297,-286.5 297,-292.5 291,-298.5 285,-298.5\"/>\r\n",
       "<text text-anchor=\"middle\" x=\"248.5\" y=\"-283.3\" font-family=\"Helvetica,sans-Serif\" font-size=\"14.00\">gini = 0.0</text>\r\n",
       "<text text-anchor=\"middle\" x=\"248.5\" y=\"-268.3\" font-family=\"Helvetica,sans-Serif\" font-size=\"14.00\">samples = 3</text>\r\n",
       "<text text-anchor=\"middle\" x=\"248.5\" y=\"-253.3\" font-family=\"Helvetica,sans-Serif\" font-size=\"14.00\">value = [5, 0]</text>\r\n",
       "<text text-anchor=\"middle\" x=\"248.5\" y=\"-238.3\" font-family=\"Helvetica,sans-Serif\" font-size=\"14.00\">class = ugly</text>\r\n",
       "</g>\r\n",
       "<!-- 3&#45;&gt;7 -->\r\n",
       "<g id=\"edge7\" class=\"edge\"><title>3&#45;&gt;7</title>\r\n",
       "<path fill=\"none\" stroke=\"black\" d=\"M218.459,-341.907C222.754,-330.983 227.412,-319.137 231.749,-308.107\"/>\r\n",
       "<polygon fill=\"black\" stroke=\"black\" points=\"235.058,-309.254 235.46,-298.667 228.544,-306.693 235.058,-309.254\"/>\r\n",
       "</g>\r\n",
       "<!-- 5 -->\r\n",
       "<g id=\"node6\" class=\"node\"><title>5</title>\r\n",
       "<path fill=\"#399de5\" stroke=\"black\" d=\"M93,-179.5C93,-179.5 12,-179.5 12,-179.5 6,-179.5 0,-173.5 0,-167.5 0,-167.5 0,-123.5 0,-123.5 0,-117.5 6,-111.5 12,-111.5 12,-111.5 93,-111.5 93,-111.5 99,-111.5 105,-117.5 105,-123.5 105,-123.5 105,-167.5 105,-167.5 105,-173.5 99,-179.5 93,-179.5\"/>\r\n",
       "<text text-anchor=\"middle\" x=\"52.5\" y=\"-164.3\" font-family=\"Helvetica,sans-Serif\" font-size=\"14.00\">gini = 0.0</text>\r\n",
       "<text text-anchor=\"middle\" x=\"52.5\" y=\"-149.3\" font-family=\"Helvetica,sans-Serif\" font-size=\"14.00\">samples = 14</text>\r\n",
       "<text text-anchor=\"middle\" x=\"52.5\" y=\"-134.3\" font-family=\"Helvetica,sans-Serif\" font-size=\"14.00\">value = [0, 22]</text>\r\n",
       "<text text-anchor=\"middle\" x=\"52.5\" y=\"-119.3\" font-family=\"Helvetica,sans-Serif\" font-size=\"14.00\">class = good</text>\r\n",
       "</g>\r\n",
       "<!-- 4&#45;&gt;5 -->\r\n",
       "<g id=\"edge5\" class=\"edge\"><title>4&#45;&gt;5</title>\r\n",
       "<path fill=\"none\" stroke=\"black\" d=\"M91.0302,-222.907C85.4658,-211.873 79.427,-199.898 73.817,-188.773\"/>\r\n",
       "<polygon fill=\"black\" stroke=\"black\" points=\"76.853,-187.02 69.2252,-179.667 70.6028,-190.172 76.853,-187.02\"/>\r\n",
       "</g>\r\n",
       "<!-- 6 -->\r\n",
       "<g id=\"node7\" class=\"node\"><title>6</title>\r\n",
       "<path fill=\"#e58139\" stroke=\"black\" d=\"M208,-179.5C208,-179.5 135,-179.5 135,-179.5 129,-179.5 123,-173.5 123,-167.5 123,-167.5 123,-123.5 123,-123.5 123,-117.5 129,-111.5 135,-111.5 135,-111.5 208,-111.5 208,-111.5 214,-111.5 220,-117.5 220,-123.5 220,-123.5 220,-167.5 220,-167.5 220,-173.5 214,-179.5 208,-179.5\"/>\r\n",
       "<text text-anchor=\"middle\" x=\"171.5\" y=\"-164.3\" font-family=\"Helvetica,sans-Serif\" font-size=\"14.00\">gini = 0.0</text>\r\n",
       "<text text-anchor=\"middle\" x=\"171.5\" y=\"-149.3\" font-family=\"Helvetica,sans-Serif\" font-size=\"14.00\">samples = 1</text>\r\n",
       "<text text-anchor=\"middle\" x=\"171.5\" y=\"-134.3\" font-family=\"Helvetica,sans-Serif\" font-size=\"14.00\">value = [2, 0]</text>\r\n",
       "<text text-anchor=\"middle\" x=\"171.5\" y=\"-119.3\" font-family=\"Helvetica,sans-Serif\" font-size=\"14.00\">class = ugly</text>\r\n",
       "</g>\r\n",
       "<!-- 4&#45;&gt;6 -->\r\n",
       "<g id=\"edge6\" class=\"edge\"><title>4&#45;&gt;6</title>\r\n",
       "<path fill=\"none\" stroke=\"black\" d=\"M132.317,-222.907C137.975,-211.873 144.117,-199.898 149.822,-188.773\"/>\r\n",
       "<polygon fill=\"black\" stroke=\"black\" points=\"153.042,-190.162 154.491,-179.667 146.814,-186.968 153.042,-190.162\"/>\r\n",
       "</g>\r\n",
       "<!-- 9 -->\r\n",
       "<g id=\"node10\" class=\"node\"><title>9</title>\r\n",
       "<path fill=\"#e58139\" stroke=\"black\" d=\"M415,-417.5C415,-417.5 334,-417.5 334,-417.5 328,-417.5 322,-411.5 322,-405.5 322,-405.5 322,-361.5 322,-361.5 322,-355.5 328,-349.5 334,-349.5 334,-349.5 415,-349.5 415,-349.5 421,-349.5 427,-355.5 427,-361.5 427,-361.5 427,-405.5 427,-405.5 427,-411.5 421,-417.5 415,-417.5\"/>\r\n",
       "<text text-anchor=\"middle\" x=\"374.5\" y=\"-402.3\" font-family=\"Helvetica,sans-Serif\" font-size=\"14.00\">gini = 0.0</text>\r\n",
       "<text text-anchor=\"middle\" x=\"374.5\" y=\"-387.3\" font-family=\"Helvetica,sans-Serif\" font-size=\"14.00\">samples = 8</text>\r\n",
       "<text text-anchor=\"middle\" x=\"374.5\" y=\"-372.3\" font-family=\"Helvetica,sans-Serif\" font-size=\"14.00\">value = [12, 0]</text>\r\n",
       "<text text-anchor=\"middle\" x=\"374.5\" y=\"-357.3\" font-family=\"Helvetica,sans-Serif\" font-size=\"14.00\">class = ugly</text>\r\n",
       "</g>\r\n",
       "<!-- 8&#45;&gt;9 -->\r\n",
       "<g id=\"edge9\" class=\"edge\"><title>8&#45;&gt;9</title>\r\n",
       "<path fill=\"none\" stroke=\"black\" d=\"M379.724,-460.907C378.993,-450.204 378.2,-438.615 377.459,-427.776\"/>\r\n",
       "<polygon fill=\"black\" stroke=\"black\" points=\"380.942,-427.405 376.768,-417.667 373.958,-427.882 380.942,-427.405\"/>\r\n",
       "</g>\r\n",
       "<!-- 10 -->\r\n",
       "<g id=\"node11\" class=\"node\"><title>10</title>\r\n",
       "<path fill=\"#9ccef2\" stroke=\"black\" d=\"M651.5,-425C651.5,-425 457.5,-425 457.5,-425 451.5,-425 445.5,-419 445.5,-413 445.5,-413 445.5,-354 445.5,-354 445.5,-348 451.5,-342 457.5,-342 457.5,-342 651.5,-342 651.5,-342 657.5,-342 663.5,-348 663.5,-354 663.5,-354 663.5,-413 663.5,-413 663.5,-419 657.5,-425 651.5,-425\"/>\r\n",
       "<text text-anchor=\"middle\" x=\"554.5\" y=\"-409.8\" font-family=\"Helvetica,sans-Serif\" font-size=\"14.00\">min_sequence_length &lt;= 143.0</text>\r\n",
       "<text text-anchor=\"middle\" x=\"554.5\" y=\"-394.8\" font-family=\"Helvetica,sans-Serif\" font-size=\"14.00\">gini = 0.444</text>\r\n",
       "<text text-anchor=\"middle\" x=\"554.5\" y=\"-379.8\" font-family=\"Helvetica,sans-Serif\" font-size=\"14.00\">samples = 16</text>\r\n",
       "<text text-anchor=\"middle\" x=\"554.5\" y=\"-364.8\" font-family=\"Helvetica,sans-Serif\" font-size=\"14.00\">value = [6, 12]</text>\r\n",
       "<text text-anchor=\"middle\" x=\"554.5\" y=\"-349.8\" font-family=\"Helvetica,sans-Serif\" font-size=\"14.00\">class = good</text>\r\n",
       "</g>\r\n",
       "<!-- 8&#45;&gt;10 -->\r\n",
       "<g id=\"edge10\" class=\"edge\"><title>8&#45;&gt;10</title>\r\n",
       "<path fill=\"none\" stroke=\"black\" d=\"M442.175,-460.907C456.45,-451.197 471.796,-440.758 486.418,-430.811\"/>\r\n",
       "<polygon fill=\"black\" stroke=\"black\" points=\"488.631,-433.539 494.931,-425.021 484.694,-427.751 488.631,-433.539\"/>\r\n",
       "</g>\r\n",
       "<!-- 11 -->\r\n",
       "<g id=\"node12\" class=\"node\"><title>11</title>\r\n",
       "<path fill=\"#5aade9\" stroke=\"black\" d=\"M506,-306C506,-306 389,-306 389,-306 383,-306 377,-300 377,-294 377,-294 377,-235 377,-235 377,-229 383,-223 389,-223 389,-223 506,-223 506,-223 512,-223 518,-229 518,-235 518,-235 518,-294 518,-294 518,-300 512,-306 506,-306\"/>\r\n",
       "<text text-anchor=\"middle\" x=\"447.5\" y=\"-290.8\" font-family=\"Helvetica,sans-Serif\" font-size=\"14.00\">percent_gc &lt;= 37.5</text>\r\n",
       "<text text-anchor=\"middle\" x=\"447.5\" y=\"-275.8\" font-family=\"Helvetica,sans-Serif\" font-size=\"14.00\">gini = 0.245</text>\r\n",
       "<text text-anchor=\"middle\" x=\"447.5\" y=\"-260.8\" font-family=\"Helvetica,sans-Serif\" font-size=\"14.00\">samples = 13</text>\r\n",
       "<text text-anchor=\"middle\" x=\"447.5\" y=\"-245.8\" font-family=\"Helvetica,sans-Serif\" font-size=\"14.00\">value = [2, 12]</text>\r\n",
       "<text text-anchor=\"middle\" x=\"447.5\" y=\"-230.8\" font-family=\"Helvetica,sans-Serif\" font-size=\"14.00\">class = good</text>\r\n",
       "</g>\r\n",
       "<!-- 10&#45;&gt;11 -->\r\n",
       "<g id=\"edge11\" class=\"edge\"><title>10&#45;&gt;11</title>\r\n",
       "<path fill=\"none\" stroke=\"black\" d=\"M517.377,-341.907C508.994,-332.742 500.018,-322.927 491.387,-313.489\"/>\r\n",
       "<polygon fill=\"black\" stroke=\"black\" points=\"493.889,-311.038 484.557,-306.021 488.723,-315.762 493.889,-311.038\"/>\r\n",
       "</g>\r\n",
       "<!-- 16 -->\r\n",
       "<g id=\"node17\" class=\"node\"><title>16</title>\r\n",
       "<path fill=\"#e58139\" stroke=\"black\" d=\"M621,-298.5C621,-298.5 548,-298.5 548,-298.5 542,-298.5 536,-292.5 536,-286.5 536,-286.5 536,-242.5 536,-242.5 536,-236.5 542,-230.5 548,-230.5 548,-230.5 621,-230.5 621,-230.5 627,-230.5 633,-236.5 633,-242.5 633,-242.5 633,-286.5 633,-286.5 633,-292.5 627,-298.5 621,-298.5\"/>\r\n",
       "<text text-anchor=\"middle\" x=\"584.5\" y=\"-283.3\" font-family=\"Helvetica,sans-Serif\" font-size=\"14.00\">gini = 0.0</text>\r\n",
       "<text text-anchor=\"middle\" x=\"584.5\" y=\"-268.3\" font-family=\"Helvetica,sans-Serif\" font-size=\"14.00\">samples = 3</text>\r\n",
       "<text text-anchor=\"middle\" x=\"584.5\" y=\"-253.3\" font-family=\"Helvetica,sans-Serif\" font-size=\"14.00\">value = [4, 0]</text>\r\n",
       "<text text-anchor=\"middle\" x=\"584.5\" y=\"-238.3\" font-family=\"Helvetica,sans-Serif\" font-size=\"14.00\">class = ugly</text>\r\n",
       "</g>\r\n",
       "<!-- 10&#45;&gt;16 -->\r\n",
       "<g id=\"edge16\" class=\"edge\"><title>10&#45;&gt;16</title>\r\n",
       "<path fill=\"none\" stroke=\"black\" d=\"M564.908,-341.907C567.681,-331.094 570.686,-319.376 573.489,-308.441\"/>\r\n",
       "<polygon fill=\"black\" stroke=\"black\" points=\"576.902,-309.223 575.996,-298.667 570.122,-307.484 576.902,-309.223\"/>\r\n",
       "</g>\r\n",
       "<!-- 12 -->\r\n",
       "<g id=\"node13\" class=\"node\"><title>12</title>\r\n",
       "<path fill=\"#e58139\" stroke=\"black\" d=\"M374,-179.5C374,-179.5 301,-179.5 301,-179.5 295,-179.5 289,-173.5 289,-167.5 289,-167.5 289,-123.5 289,-123.5 289,-117.5 295,-111.5 301,-111.5 301,-111.5 374,-111.5 374,-111.5 380,-111.5 386,-117.5 386,-123.5 386,-123.5 386,-167.5 386,-167.5 386,-173.5 380,-179.5 374,-179.5\"/>\r\n",
       "<text text-anchor=\"middle\" x=\"337.5\" y=\"-164.3\" font-family=\"Helvetica,sans-Serif\" font-size=\"14.00\">gini = 0.0</text>\r\n",
       "<text text-anchor=\"middle\" x=\"337.5\" y=\"-149.3\" font-family=\"Helvetica,sans-Serif\" font-size=\"14.00\">samples = 1</text>\r\n",
       "<text text-anchor=\"middle\" x=\"337.5\" y=\"-134.3\" font-family=\"Helvetica,sans-Serif\" font-size=\"14.00\">value = [1, 0]</text>\r\n",
       "<text text-anchor=\"middle\" x=\"337.5\" y=\"-119.3\" font-family=\"Helvetica,sans-Serif\" font-size=\"14.00\">class = ugly</text>\r\n",
       "</g>\r\n",
       "<!-- 11&#45;&gt;12 -->\r\n",
       "<g id=\"edge12\" class=\"edge\"><title>11&#45;&gt;12</title>\r\n",
       "<path fill=\"none\" stroke=\"black\" d=\"M409.336,-222.907C398.443,-211.321 386.575,-198.698 375.681,-187.111\"/>\r\n",
       "<polygon fill=\"black\" stroke=\"black\" points=\"378.082,-184.555 368.683,-179.667 372.982,-189.35 378.082,-184.555\"/>\r\n",
       "</g>\r\n",
       "<!-- 13 -->\r\n",
       "<g id=\"node14\" class=\"node\"><title>13</title>\r\n",
       "<path fill=\"#49a5e7\" stroke=\"black\" d=\"M599,-187C599,-187 416,-187 416,-187 410,-187 404,-181 404,-175 404,-175 404,-116 404,-116 404,-110 410,-104 416,-104 416,-104 599,-104 599,-104 605,-104 611,-110 611,-116 611,-116 611,-175 611,-175 611,-181 605,-187 599,-187\"/>\r\n",
       "<text text-anchor=\"middle\" x=\"507.5\" y=\"-171.8\" font-family=\"Helvetica,sans-Serif\" font-size=\"14.00\">total_sequences &lt;= 470590.0</text>\r\n",
       "<text text-anchor=\"middle\" x=\"507.5\" y=\"-156.8\" font-family=\"Helvetica,sans-Serif\" font-size=\"14.00\">gini = 0.142</text>\r\n",
       "<text text-anchor=\"middle\" x=\"507.5\" y=\"-141.8\" font-family=\"Helvetica,sans-Serif\" font-size=\"14.00\">samples = 12</text>\r\n",
       "<text text-anchor=\"middle\" x=\"507.5\" y=\"-126.8\" font-family=\"Helvetica,sans-Serif\" font-size=\"14.00\">value = [1, 12]</text>\r\n",
       "<text text-anchor=\"middle\" x=\"507.5\" y=\"-111.8\" font-family=\"Helvetica,sans-Serif\" font-size=\"14.00\">class = good</text>\r\n",
       "</g>\r\n",
       "<!-- 11&#45;&gt;13 -->\r\n",
       "<g id=\"edge13\" class=\"edge\"><title>11&#45;&gt;13</title>\r\n",
       "<path fill=\"none\" stroke=\"black\" d=\"M468.317,-222.907C472.738,-214.286 477.454,-205.09 482.026,-196.175\"/>\r\n",
       "<polygon fill=\"black\" stroke=\"black\" points=\"485.271,-197.516 486.72,-187.021 479.043,-194.322 485.271,-197.516\"/>\r\n",
       "</g>\r\n",
       "<!-- 14 -->\r\n",
       "<g id=\"node15\" class=\"node\"><title>14</title>\r\n",
       "<path fill=\"#e58139\" stroke=\"black\" d=\"M484,-68C484,-68 411,-68 411,-68 405,-68 399,-62 399,-56 399,-56 399,-12 399,-12 399,-6 405,-0 411,-0 411,-0 484,-0 484,-0 490,-0 496,-6 496,-12 496,-12 496,-56 496,-56 496,-62 490,-68 484,-68\"/>\r\n",
       "<text text-anchor=\"middle\" x=\"447.5\" y=\"-52.8\" font-family=\"Helvetica,sans-Serif\" font-size=\"14.00\">gini = 0.0</text>\r\n",
       "<text text-anchor=\"middle\" x=\"447.5\" y=\"-37.8\" font-family=\"Helvetica,sans-Serif\" font-size=\"14.00\">samples = 1</text>\r\n",
       "<text text-anchor=\"middle\" x=\"447.5\" y=\"-22.8\" font-family=\"Helvetica,sans-Serif\" font-size=\"14.00\">value = [1, 0]</text>\r\n",
       "<text text-anchor=\"middle\" x=\"447.5\" y=\"-7.8\" font-family=\"Helvetica,sans-Serif\" font-size=\"14.00\">class = ugly</text>\r\n",
       "</g>\r\n",
       "<!-- 13&#45;&gt;14 -->\r\n",
       "<g id=\"edge14\" class=\"edge\"><title>13&#45;&gt;14</title>\r\n",
       "<path fill=\"none\" stroke=\"black\" d=\"M485.158,-103.726C480.41,-95.0615 475.388,-85.8962 470.612,-77.1802\"/>\r\n",
       "<polygon fill=\"black\" stroke=\"black\" points=\"473.621,-75.3875 465.746,-68.2996 467.482,-78.7513 473.621,-75.3875\"/>\r\n",
       "</g>\r\n",
       "<!-- 15 -->\r\n",
       "<g id=\"node16\" class=\"node\"><title>15</title>\r\n",
       "<path fill=\"#399de5\" stroke=\"black\" d=\"M607,-68C607,-68 526,-68 526,-68 520,-68 514,-62 514,-56 514,-56 514,-12 514,-12 514,-6 520,-0 526,-0 526,-0 607,-0 607,-0 613,-0 619,-6 619,-12 619,-12 619,-56 619,-56 619,-62 613,-68 607,-68\"/>\r\n",
       "<text text-anchor=\"middle\" x=\"566.5\" y=\"-52.8\" font-family=\"Helvetica,sans-Serif\" font-size=\"14.00\">gini = 0.0</text>\r\n",
       "<text text-anchor=\"middle\" x=\"566.5\" y=\"-37.8\" font-family=\"Helvetica,sans-Serif\" font-size=\"14.00\">samples = 11</text>\r\n",
       "<text text-anchor=\"middle\" x=\"566.5\" y=\"-22.8\" font-family=\"Helvetica,sans-Serif\" font-size=\"14.00\">value = [0, 12]</text>\r\n",
       "<text text-anchor=\"middle\" x=\"566.5\" y=\"-7.8\" font-family=\"Helvetica,sans-Serif\" font-size=\"14.00\">class = good</text>\r\n",
       "</g>\r\n",
       "<!-- 13&#45;&gt;15 -->\r\n",
       "<g id=\"edge15\" class=\"edge\"><title>13&#45;&gt;15</title>\r\n",
       "<path fill=\"none\" stroke=\"black\" d=\"M529.469,-103.726C534.138,-95.0615 539.076,-85.8962 543.773,-77.1802\"/>\r\n",
       "<polygon fill=\"black\" stroke=\"black\" points=\"546.896,-78.7632 548.558,-68.2996 540.733,-75.4428 546.896,-78.7632\"/>\r\n",
       "</g>\r\n",
       "</g>\r\n",
       "</svg>\r\n"
      ],
      "text/plain": [
       "<graphviz.files.Source at 0x21ef7615e08>"
      ]
     },
     "execution_count": 25,
     "metadata": {},
     "output_type": "execute_result"
    }
   ],
   "source": [
    "dot_data = tree.export_graphviz(clf_rf.estimators_[25], out_file=None,\n",
    "                               feature_names = X_train.columns,\n",
    "                                class_names = [\"ugly\", \"good\"],\n",
    "                               filled=True, rounded=True) \n",
    "graph = graphviz.Source(dot_data)\n",
    "graph"
   ]
  },
  {
   "cell_type": "markdown",
   "id": "5ae49395",
   "metadata": {},
   "source": [
    "#### Other Classification Algorithms"
   ]
  },
  {
   "cell_type": "markdown",
   "id": "7eb8bc33",
   "metadata": {},
   "source": [
    "Logistic Regression"
   ]
  },
  {
   "cell_type": "code",
   "execution_count": 26,
   "id": "193081bc",
   "metadata": {},
   "outputs": [],
   "source": [
    "from sklearn.linear_model import LogisticRegression\n",
    "clf_lg = LogisticRegression(random_state=0).fit(X_train, y_train)"
   ]
  },
  {
   "cell_type": "code",
   "execution_count": 27,
   "id": "5cbe04dd",
   "metadata": {},
   "outputs": [
    {
     "name": "stdout",
     "output_type": "stream",
     "text": [
      "Accuracy: 0.8888888888888888\n",
      "Precision:  0.85\n",
      "Recall:  1.0\n",
      "F1 Score:  0.9189189189189189\n"
     ]
    }
   ],
   "source": [
    "y_pred = clf_lg.predict(X_test)\n",
    "print(\"Accuracy:\", metrics.accuracy_score(y_test, y_pred))\n",
    "print(\"Precision: \", metrics.precision_score(y_test, y_pred))\n",
    "print(\"Recall: \", metrics.recall_score(y_test, y_pred))\n",
    "print(\"F1 Score: \", metrics.f1_score(y_test, y_pred))"
   ]
  },
  {
   "cell_type": "markdown",
   "id": "35568701",
   "metadata": {},
   "source": [
    "Naive Bayes"
   ]
  },
  {
   "cell_type": "code",
   "execution_count": 28,
   "id": "f6fcd09c",
   "metadata": {},
   "outputs": [],
   "source": [
    "from sklearn.naive_bayes import GaussianNB\n",
    "clf_gnb = GaussianNB().fit(X_train, y_train)"
   ]
  },
  {
   "cell_type": "code",
   "execution_count": 29,
   "id": "ad27faca",
   "metadata": {},
   "outputs": [
    {
     "name": "stdout",
     "output_type": "stream",
     "text": [
      "Accuracy: 0.7037037037037037\n",
      "Precision:  0.68\n",
      "Recall:  1.0\n",
      "F1 Score:  0.8095238095238095\n"
     ]
    }
   ],
   "source": [
    "y_pred = clf_gnb.predict(X_test)\n",
    "print(\"Accuracy:\", metrics.accuracy_score(y_test, y_pred))\n",
    "print(\"Precision: \", metrics.precision_score(y_test, y_pred))\n",
    "print(\"Recall: \", metrics.recall_score(y_test, y_pred))\n",
    "print(\"F1 Score: \", metrics.f1_score(y_test, y_pred))"
   ]
  },
  {
   "cell_type": "markdown",
   "id": "50f84415",
   "metadata": {},
   "source": [
    "K Nearest Neighbors"
   ]
  },
  {
   "cell_type": "code",
   "execution_count": 30,
   "id": "38d83d3c",
   "metadata": {},
   "outputs": [
    {
     "name": "stdout",
     "output_type": "stream",
     "text": [
      "Accuracy: 0.7037037037037037\n",
      "Precision:  0.7647058823529411\n",
      "Recall:  0.7647058823529411\n",
      "F1 Score:  0.7647058823529412\n"
     ]
    }
   ],
   "source": [
    "from sklearn.neighbors import KNeighborsClassifier\n",
    "neigh = KNeighborsClassifier(n_neighbors=3).fit(X_train, y_train)\n",
    "y_pred = neigh.predict(X_test)\n",
    "print(\"Accuracy:\", metrics.accuracy_score(y_test, y_pred))\n",
    "print(\"Precision: \", metrics.precision_score(y_test, y_pred))\n",
    "print(\"Recall: \", metrics.recall_score(y_test, y_pred))\n",
    "print(\"F1 Score: \", metrics.f1_score(y_test, y_pred))"
   ]
  }
 ],
 "metadata": {
  "kernelspec": {
   "display_name": "Python 3 (ipykernel)",
   "language": "python",
   "name": "python3"
  },
  "language_info": {
   "codemirror_mode": {
    "name": "ipython",
    "version": 3
   },
   "file_extension": ".py",
   "mimetype": "text/x-python",
   "name": "python",
   "nbconvert_exporter": "python",
   "pygments_lexer": "ipython3",
   "version": "3.7.11"
  }
 },
 "nbformat": 4,
 "nbformat_minor": 5
}
